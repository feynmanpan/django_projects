{
 "cells": [
  {
   "cell_type": "code",
   "execution_count": 1,
   "metadata": {},
   "outputs": [],
   "source": [
    "#%%writefile get_proxy.py\n",
    "#%load get_bookinfo.py\n",
    "#%run get_bookinfo.py\n",
    "# -*- coding: utf-8 -*-\n",
    "#________________________________________________\n",
    "import os\n",
    "import django\n",
    "from django.utils import timezone\n",
    "#from django.utils.dateparse import parse_datetime\n",
    "from datetime import datetime,date#,timezone\n",
    "import pytz\n",
    "from bs4 import BeautifulSoup\n",
    "from bs4.element import NavigableString\n",
    "from difflib import SequenceMatcher\n",
    "from IPython.display import clear_output, display\n",
    "from time import sleep, time\n",
    "from threading import Thread\n",
    "from concurrent.futures import ThreadPoolExecutor,ProcessPoolExecutor \n",
    "\n",
    "from fake_useragent import UserAgent\n",
    "from fake_headers import Headers\n",
    "from pyquery import PyQuery as pq\n",
    "\n",
    "#\n",
    "import requests\n",
    "import pandas as pd\n",
    "import numpy as np\n",
    "import random\n",
    "import re\n",
    "import json\n",
    "import csv\n",
    "\n",
    "\n",
    "def get_proxy(which='free',now=False):\n",
    "    which_dict={'kuai':\"/home/pan/django_projects/wtb/ips_kuai.txt\",\n",
    "                'ihuan':\"/home/pan/django_projects/wtb/ips_1000_ihuan.txt\",\n",
    "                'free':\"/home/pan/django_projects/wtb/ips_free.txt\",\n",
    "                'OK':\"/home/pan/django_projects/wtb/ips_OKs.txt\"\n",
    "               }\n",
    "    ippos=[]\n",
    "    with open(which_dict[which], 'r') as f:\n",
    "            lines=f.readlines()\n",
    "            for line in lines:\n",
    "                line=line.strip()\n",
    "                if len(line.split(\":\"))>1:\n",
    "                    ippos.append(line)\n",
    "    if now:\n",
    "        return random.choice(ippos)\n",
    "    #ippo\n",
    "    #測試代理_________________________________________\n",
    "    while True:\n",
    "        fake_header = Headers(\n",
    "            browser=\"chrome\",  # Generate only Chrome UA\n",
    "            os=\"win\",  # Generate ony Windows platform\n",
    "            headers=True  # generate misc headers\n",
    "        )    \n",
    "        UA=fake_header.generate()\n",
    "        #UA = {'user-agent': 'Mozilla/5.0 (Windows NT 10.0; Win64; x64) AppleWebKit/537.36 (KHTML, like Gecko) Chrome/63.0.3239.132 Safari/537.36'}\n",
    "        #\n",
    "        ippo=random.choice(ippos)\n",
    "        ip=ippo.split(\":\")[0]\n",
    "        proxies={\"http\": \"http://\"+ippo}  \n",
    "        #print(\"test:\"+ippo)    \n",
    "        #clear_output(wait=True)\n",
    "        try:\n",
    "            r = requests.get(\"http://icanhazip.com/\", \n",
    "                             headers=UA,\n",
    "                             proxies=proxies,\n",
    "                             timeout=4)\n",
    "            r.encoding='utf8'\n",
    "            #\n",
    "            if(r.status_code == 200 and ip in r.text):\n",
    "                print(\"OK:\"+which+\"_\"+ippo)\n",
    "                #print(r.status_code)\n",
    "                #print(r.text)\n",
    "                r.close() \n",
    "                if which!='OK':\n",
    "                    with open('/home/pan/django_projects/wtb/ips_OKs.txt', 'a+') as f:\n",
    "                        f.write(ippo+\"\\r\\n\")                \n",
    "                return ippo            \n",
    "        except Exception as e:\n",
    "            #print(str(e))\n",
    "            #clear_output(wait=True) \n",
    "            sleep(0.5+random.uniform(0, 1))\n",
    "            continue\n",
    "        #else:\n",
    "        #    print(r.text)\n",
    "        #    print(\"OK2:\"+ip)\n",
    "        #    r.close()       \n",
    "        #    break    "
   ]
  },
  {
   "cell_type": "code",
   "execution_count": 13,
   "metadata": {},
   "outputs": [
    {
     "name": "stdout",
     "output_type": "stream",
     "text": [
      "OK:170.244.97.61:80\n",
      "CPU times: user 13.7 ms, sys: 4.17 ms, total: 17.8 ms\n",
      "Wall time: 9.82 s\n"
     ]
    },
    {
     "data": {
      "text/plain": [
       "'170.244.97.61:80'"
      ]
     },
     "execution_count": 13,
     "metadata": {},
     "output_type": "execute_result"
    }
   ],
   "source": [
    "#kuai,ihuan,free\n",
    "#%time get_proxy('free')"
   ]
  },
  {
   "cell_type": "code",
   "execution_count": null,
   "metadata": {},
   "outputs": [
    {
     "name": "stdout",
     "output_type": "stream",
     "text": [
      "0\n",
      "OK:free_200.255.122.170:8080\n",
      "OK:kuai_119.254.94.93:44665\n",
      "1\n",
      "OK:free_177.94.225.218:8080\n",
      "OK:kuai_125.108.83.28:9000\n",
      "2\n",
      "OK:free_200.89.178.231:3128\n",
      "OK:kuai_125.108.83.28:9000\n",
      "3\n",
      "OK:kuai_180.118.128.47:9000\n",
      "OK:free_95.215.240.19:8080\n",
      "4\n",
      "OK:free_157.245.253.81:8080\n",
      "OK:kuai_61.178.149.237:59042\n",
      "5\n",
      "OK:free_77.221.220.133:44331\n",
      "OK:kuai_125.108.83.28:9000\n",
      "6\n",
      "OK:free_152.204.128.46:44335\n"
     ]
    }
   ],
   "source": [
    "if __name__ == '__main__':\n",
    "    which_dict={\n",
    "                'kuai':\"ips_kuai.txt\",\n",
    "                #'ihuan':\"ips_1000_ihuan.txt\",\n",
    "                'free':'ips_free.txt',\n",
    "                #'OK':'ips_OKs.txt'\n",
    "               }\n",
    "    for i in range(20):\n",
    "        print(i)\n",
    "        with ThreadPoolExecutor(max_workers=3) as executor:\n",
    "            executor.map(get_proxy,which_dict.keys())"
   ]
  },
  {
   "cell_type": "code",
   "execution_count": null,
   "metadata": {},
   "outputs": [],
   "source": []
  },
  {
   "cell_type": "code",
   "execution_count": null,
   "metadata": {},
   "outputs": [],
   "source": []
  }
 ],
 "metadata": {
  "kernelspec": {
   "display_name": "Python 3",
   "language": "python",
   "name": "python3"
  },
  "language_info": {
   "codemirror_mode": {
    "name": "ipython",
    "version": 3
   },
   "file_extension": ".py",
   "mimetype": "text/x-python",
   "name": "python",
   "nbconvert_exporter": "python",
   "pygments_lexer": "ipython3",
   "version": "3.6.10"
  }
 },
 "nbformat": 4,
 "nbformat_minor": 4
}
