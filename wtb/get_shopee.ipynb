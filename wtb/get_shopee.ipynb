{
 "cells": [
  {
   "cell_type": "code",
   "execution_count": 4,
   "metadata": {},
   "outputs": [],
   "source": [
    "#%%writefile get_shopee.py\n",
    "#%load get_bookprice.py\n",
    "#%run get_bookprice.py\n",
    "# -*- coding: utf-8 -*-\n",
    "\n",
    "import time\n",
    "import requests\n",
    "from bs4 import BeautifulSoup\n",
    "from bs4.element import NavigableString\n",
    "import pandas as pd\n",
    "import numpy as np\n",
    "from time import sleep, time\n",
    "from threading import Thread\n",
    "import random\n",
    "import re\n",
    "from IPython.display import clear_output, display\n",
    "import json\n",
    "import csv\n",
    "import os\n",
    "from get_proxy import get_proxy\n",
    "#\n",
    "from selenium import webdriver\n",
    "from selenium.webdriver.chrome.options import Options\n",
    "from selenium.common.exceptions import NoSuchElementException\n",
    "from selenium.webdriver.common.keys import Keys\n",
    "from selenium.webdriver.common.action_chains import ActionChains\n",
    "from selenium.webdriver.support.wait import WebDriverWait\n",
    "from selenium.webdriver.support import expected_conditions as EC\n",
    "from selenium.webdriver.support.expected_conditions import visibility_of_element_located\n",
    "from selenium.webdriver.common.by import By   \n",
    "#\n",
    "#https://blog.csdn.net/zhangpeterx/article/details/83502641\n",
    "def get_shopee(isbn):\n",
    "    chrome_options = Options()\n",
    "    chrome_options.add_argument('--no-sandbox')  #让Chrome在root权限下跑\n",
    "    chrome_options.add_argument(\"--window-size=1920,1080\")\n",
    "    chrome_options.add_argument(\"--start-maximized\")\n",
    "    chrome_options.add_argument('--headless') #不用打开图形界面\n",
    "    chrome_options.add_argument('--disable-dev-shm-usage')\n",
    "    chrome_options.add_argument('blink-settings=imagesEnabled=false')\n",
    "    chrome_options.add_argument('--disable-gpu')\n",
    "    #\n",
    "    #ippo=get_proxy('OK',now=True)\n",
    "    ua='Mozilla/5.0 (Windows NT 10.0; Win64; x64) AppleWebKit/537.36 (KHTML, like Gecko) Chrome/63.0.3239.132 Safari/537.36'\n",
    "    #用代理很久，要20s以上\n",
    "    #chrome_options.add_argument(f'--proxy-server={ippo}')#.format(ippo))  \n",
    "    chrome_options.add_argument(\"user-agent={}\".format(ua))  \n",
    "\n",
    "    #0.開chrome_記得查chrome版本，用同版本的driver:google-chrome -version\n",
    "    driver = webdriver.Chrome(\"/home/pan/chromedriver80\",options=chrome_options)\n",
    "    driver.implicitly_wait(10)\n",
    "    url = \"https://shopee.tw/search?order=asc&page=0&sortBy=price&keyword=\"+isbn\n",
    "    driver.get(url)\n",
    "    print(driver.current_url+\"_____\")\n",
    "\n",
    "    try:\n",
    "        price_selector='#main span._341bF0'\n",
    "        url_selector='.shopee-search-item-result__item>div>a'\n",
    "        #\n",
    "        WebDriverWait(driver, 10, 0.5).until(EC.presence_of_element_located((By.CSS_SELECTOR, price_selector))) \n",
    "        #\n",
    "        price_sale=driver.find_element_by_css_selector(price_selector).text.replace(',','')    \n",
    "        url_book=driver.find_element_by_css_selector(url_selector).get_attribute(\"href\")  \n",
    "    \n",
    "        driver.quit()\n",
    "        return [price_sale,url_book]\n",
    "    except Exception as err:\n",
    "        driver.quit()\n",
    "        return 'err_'+str(err)\n"
   ]
  },
  {
   "cell_type": "code",
   "execution_count": 5,
   "metadata": {},
   "outputs": [
    {
     "name": "stdout",
     "output_type": "stream",
     "text": [
      "https://shopee.tw/search?order=asc&page=0&sortBy=price&keyword=9789863125501_____\n",
      "CPU times: user 23.8 ms, sys: 8.41 ms, total: 32.2 ms\n",
      "Wall time: 3.71 s\n"
     ]
    },
    {
     "data": {
      "text/plain": [
       "['778',\n",
       " 'https://shopee.tw/9789863125501%E3%80%903dWoo%E5%A4%A7%E5%AD%B8%E7%B9%81%E9%AB%94%E6%97%97%E6%A8%99%E3%80%91Deep-learning-%E6%B7%B1%E5%BA%A6%E5%AD%B8%E7%BF%92%E5%BF%85%E8%AE%80-Keras-%E5%A4%A7%E7%A5%9E%E5%B8%B6%E4%BD%A0%E7%94%A8-i.14066035.2443003189']"
      ]
     },
     "execution_count": 5,
     "metadata": {},
     "output_type": "execute_result"
    }
   ],
   "source": [
    "isbn='9789863125501'\n",
    "%time get_shopee(isbn)"
   ]
  },
  {
   "cell_type": "code",
   "execution_count": null,
   "metadata": {},
   "outputs": [],
   "source": []
  }
 ],
 "metadata": {
  "kernelspec": {
   "display_name": "Python 3",
   "language": "python",
   "name": "python3"
  },
  "language_info": {
   "codemirror_mode": {
    "name": "ipython",
    "version": 3
   },
   "file_extension": ".py",
   "mimetype": "text/x-python",
   "name": "python",
   "nbconvert_exporter": "python",
   "pygments_lexer": "ipython3",
   "version": "3.6.10"
  }
 },
 "nbformat": 4,
 "nbformat_minor": 4
}
