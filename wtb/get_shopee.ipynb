{
 "cells": [
  {
   "cell_type": "code",
   "execution_count": 1,
   "metadata": {},
   "outputs": [
    {
     "name": "stdout",
     "output_type": "stream",
     "text": [
      "Overwriting get_shopee.py\n"
     ]
    }
   ],
   "source": [
    "#%%writefile get_shopee.py\n",
    "#%load get_bookprice.py\n",
    "#%run get_bookprice.py\n",
    "# -*- coding: utf-8 -*-\n",
    "\n",
    "import time\n",
    "import requests\n",
    "from bs4 import BeautifulSoup\n",
    "from bs4.element import NavigableString\n",
    "import pandas as pd\n",
    "import numpy as np\n",
    "from time import sleep, time\n",
    "from threading import Thread\n",
    "import random\n",
    "import re\n",
    "from IPython.display import clear_output, display\n",
    "import json\n",
    "import csv\n",
    "import os\n",
    "from get_proxy import get_proxy\n",
    "#\n",
    "from selenium import webdriver\n",
    "from selenium.webdriver.chrome.options import Options\n",
    "from selenium.common.exceptions import NoSuchElementException\n",
    "from selenium.webdriver.common.keys import Keys\n",
    "from selenium.webdriver.common.action_chains import ActionChains\n",
    "from selenium.webdriver.support.wait import WebDriverWait\n",
    "from selenium.webdriver.support import expected_conditions as EC\n",
    "from selenium.webdriver.support.expected_conditions import visibility_of_element_located\n",
    "from selenium.webdriver.common.by import By   \n",
    "#\n",
    "#https://blog.csdn.net/zhangpeterx/article/details/83502641\n",
    "def get_shopee(isbn):\n",
    "    chrome_options = Options()\n",
    "    chrome_options.add_argument('--no-sandbox')  #让Chrome在root权限下跑\n",
    "    chrome_options.add_argument(\"--window-size=1920,1080\")\n",
    "    chrome_options.add_argument(\"--start-maximized\")\n",
    "    chrome_options.add_argument('--headless') #不用打开图形界面\n",
    "    chrome_options.add_argument('--disable-dev-shm-usage')\n",
    "    chrome_options.add_argument('blink-settings=imagesEnabled=false')\n",
    "    chrome_options.add_argument('--disable-gpu')\n",
    "    #\n",
    "    #ippo=get_proxy('OK',now=True)\n",
    "    ua='Mozilla/5.0 (Windows NT 10.0; Win64; x64) AppleWebKit/537.36 (KHTML, like Gecko) Chrome/63.0.3239.132 Safari/537.36'\n",
    "    #用代理很久，要20s以上\n",
    "    #chrome_options.add_argument(f'--proxy-server={ippo}')#.format(ippo))  \n",
    "    chrome_options.add_argument(\"user-agent={}\".format(ua))  \n",
    "\n",
    "    #0.開chrome_記得查chrome版本，用同版本的driver:google-chrome -version\n",
    "    driver = webdriver.Chrome(\"/home/pan/chromedriver83\",options=chrome_options)\n",
    "    driver.implicitly_wait(10)\n",
    "\n",
    "    facet={\n",
    "        '75':'娛樂',\n",
    "        '24583':'教科書',\n",
    "        '24584':'教科書',\n",
    "        '24585':'雜誌',\n",
    "        '24587':'文學小說',\n",
    "        '24588':'文學小說',\n",
    "        '24589':'旅遊',\n",
    "        '24593':'漫畫',\n",
    "        '24595':'其他',\n",
    "        '24596':'',\n",
    "        '24597':'輕小說',\n",
    "        '24600':'電腦資訊',\n",
    "        '24601':'宗教命理',\n",
    "        '24609':'科普',\n",
    "        '24611':'文創_社會人文',\n",
    "        '24614':'生活風格',\n",
    "        '24616':'商業',\n",
    "        '24618':'心理勵志',\n",
    "        '24620':'18lock',\n",
    "        '24687':'社會人文',\n",
    "    }\n",
    "    facet='&facet='+'%2C'.join(facet.keys())\n",
    "    url = \"https://shopee.tw/search?order=asc&page=0&sortBy=price\"+facet+\"&keyword=\"+isbn\n",
    "    driver.get(url)\n",
    "    print(driver.current_url+\"_____\")\n",
    "\n",
    "    try:\n",
    "        price_selector='#main span._341bF0'\n",
    "        url_selector='.shopee-search-item-result__item>div>a'\n",
    "        #\n",
    "        WebDriverWait(driver, 10, 0.5).until(EC.presence_of_element_located((By.CSS_SELECTOR, price_selector))) \n",
    "        #\n",
    "        price_sale=driver.find_element_by_css_selector(price_selector).text.replace(',','')    \n",
    "        url_book=driver.find_element_by_css_selector(url_selector).get_attribute(\"href\")  \n",
    "        #\n",
    "        driver.close()\n",
    "        driver.quit()\n",
    "        return [price_sale,url_book]\n",
    "    except Exception as err:\n",
    "        driver.close()\n",
    "        driver.quit()\n",
    "        return 'err_'+str(err)\n"
   ]
  },
  {
   "cell_type": "code",
   "execution_count": 19,
   "metadata": {},
   "outputs": [
    {
     "name": "stdout",
     "output_type": "stream",
     "text": [
      "https://shopee.tw/search?order=asc&page=0&sortBy=price&facet=75%2C24583%2C24584%2C24585%2C24587%2C24588%2C24589%2C24593%2C24595%2C24596%2C24597%2C24600%2C24601%2C24609%2C24611%2C24614%2C24616%2C24618%2C24620%2C24687&keyword=978986630X143_____\n",
      "CPU times: user 19.2 ms, sys: 9.13 ms, total: 28.3 ms\n",
      "Wall time: 2.66 s\n"
     ]
    },
    {
     "data": {
      "text/plain": [
       "['668',\n",
       " 'https://shopee.tw/-%E6%9B%B8%E6%9C%AC%E7%86%8A-%E5%AE%8F%E5%85%B8-%E8%81%B7%E5%AE%89%E6%96%B0%E6%B3%95%EF%BC%8B%E5%B7%A5%E5%AE%89%E6%99%82%E4%BA%8B%EF%BC%8B%E5%85%A8%E6%96%B0%E9%A1%8C%E5%BA%AB-%E6%9C%80%E6%96%B0%E8%81%B7%E6%A5%AD%E5%AE%89%E5%85%A8%E8%A1%9B%E7%94%9F%E7%AE%A1%E7%90%86%E4%B9%99%E7%B4%9A%EF%BC%9A978986630X143-i.25236816.6412410644']"
      ]
     },
     "execution_count": 19,
     "metadata": {},
     "output_type": "execute_result"
    }
   ],
   "source": [
    "isbn='978986630X143'\n",
    "%time get_shopee(isbn)"
   ]
  },
  {
   "cell_type": "code",
   "execution_count": 17,
   "metadata": {},
   "outputs": [
    {
     "data": {
      "text/plain": [
       "'75 24583 24584 24585 24587 24588 24589 24593 24595 24596 24597 24600 24601 24609 24614 24616 24618 24620 24687'"
      ]
     },
     "execution_count": 17,
     "metadata": {},
     "output_type": "execute_result"
    }
   ],
   "source": [
    "facet={\n",
    "        '75':'娛樂',\n",
    "        '24583':'教科書',\n",
    "        '24584':'教科書',\n",
    "        '24585':'雜誌',\n",
    "        '24587':'文學小說',\n",
    "        '24588':'文學小說',\n",
    "        '24589':'旅遊',\n",
    "        '24593':'漫畫',\n",
    "        '24595':'其他',\n",
    "        '24596':'',\n",
    "        '24597':'輕小說',\n",
    "        '24600':'電腦資訊',\n",
    "        '24601':'宗教命理',\n",
    "        '24609':'科普',\n",
    "        '24614':'生活風格',\n",
    "        '24616':'商業',\n",
    "        '24618':'心理勵志',\n",
    "        '24620':'18lock',\n",
    "        '24687':'社會人文',\n",
    "        '24687':'社會人文',\n",
    "    }\n",
    "\n",
    "' '.join(facet.keys())"
   ]
  },
  {
   "cell_type": "code",
   "execution_count": null,
   "metadata": {},
   "outputs": [],
   "source": []
  }
 ],
 "metadata": {
  "kernelspec": {
   "display_name": "Python 3",
   "language": "python",
   "name": "python3"
  },
  "language_info": {
   "codemirror_mode": {
    "name": "ipython",
    "version": 3
   },
   "file_extension": ".py",
   "mimetype": "text/x-python",
   "name": "python",
   "nbconvert_exporter": "python",
   "pygments_lexer": "ipython3",
   "version": "3.6.10"
  }
 },
 "nbformat": 4,
 "nbformat_minor": 4
}
