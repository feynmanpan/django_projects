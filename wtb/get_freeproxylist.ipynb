{
 "cells": [
  {
   "cell_type": "code",
   "execution_count": 1,
   "metadata": {},
   "outputs": [],
   "source": [
    "# -*- coding: utf-8 -*-\n",
    "import requests\n",
    "import pyquery\n",
    "# from get_proxy import get_proxy\n",
    "from selenium import webdriver\n",
    "from selenium.webdriver.chrome.options import Options\n",
    "from selenium.common.exceptions import NoSuchElementException\n",
    "from selenium.webdriver.common.keys import Keys\n",
    "from selenium.webdriver.common.action_chains import ActionChains\n",
    "from selenium.webdriver.support.wait import WebDriverWait\n",
    "from selenium.webdriver.support import expected_conditions as EC\n",
    "from selenium.webdriver.support.expected_conditions import visibility_of_element_located\n",
    "from selenium.webdriver.common.by import By\n",
    "from selenium.webdriver.support.ui import Select #處理下拉\n",
    "from selenium.webdriver.chrome.service import Service #"
   ]
  },
  {
   "cell_type": "code",
   "execution_count": null,
   "metadata": {},
   "outputs": [
    {
     "name": "stdout",
     "output_type": "stream",
     "text": [
      "目前網址: https://free-proxy-list.net/\n",
      "選擇elite proxy: elite proxy\n",
      "總頁碼: 11\n",
      "目前頁碼: 1\n",
      "ippo個數: 20\n",
      "ips_free更新\n"
     ]
    }
   ],
   "source": [
    "# option____________________________________________\n",
    "chrome_options = Options()\n",
    "chrome_options.add_argument('--no-sandbox')  # 让Chrome在root权限下跑\n",
    "chrome_options.add_argument(\"--window-size=500,1024\") #太寬會有chrome的render報錯\n",
    "# chrome_options.add_argument(\"window-size=1024x1024\")\n",
    "chrome_options.add_argument(\"--start-maximized\")\n",
    "chrome_options.add_argument('--headless')  # 不用打开图形界面\n",
    "chrome_options.add_argument('--disable-dev-shm-usage')\n",
    "chrome_options.add_argument('blink-settings=imagesEnabled=false')\n",
    "chrome_options.add_argument('--disable-gpu')\n",
    "# chrome_options.add_argument(\"enable-features=NetworkServiceInProcess\")\n",
    "# chrome_options.add_argument(\"disable-features=NetworkService\")\n",
    "#\n",
    "# ippo=get_proxy(which='free',now=True)\n",
    "# chrome_options.add_argument(f'--proxy-server={ippo}')\n",
    "ua = 'Mozilla/5.0 (Windows NT 10.0; Win64; x64) AppleWebKit/537.36 (KHTML, like Gecko) Chrome/81.0.4044.138 Safari/537.36'\n",
    "chrome_options.add_argument(f\"user-agent={ua}\")\n",
    "\n",
    "# driver____________________________________________\n",
    "# 記得查chrome版本，用同版本的driver:google-chrome -version\n",
    "driver_path='/home/pan/chromedriver81'\n",
    "url_freeproxylist = \"https://free-proxy-list.net/\"\n",
    "fn = 'ips_free_test.txt'\n",
    "\n",
    "try:\n",
    "    c_service = Service(driver_path)\n",
    "    c_service.command_line_args()\n",
    "    c_service.start()    \n",
    "    driver = webdriver.Remote(c_service.service_url,options=chrome_options)    \n",
    "    #driver = webdriver.Chrome(driver_path, options=chrome_options)\n",
    "    driver.implicitly_wait(5)\n",
    "\n",
    "    #\n",
    "    driver.get(url_freeproxylist)\n",
    "    print('目前網址:', driver.current_url)\n",
    "    # print('頁面內容',driver.page_source)\n",
    "\n",
    "    # 選擇 elite =================================================================================\n",
    "    select = \"#proxylisttable > tfoot > tr > th:nth-child(5) > select\"\n",
    "    WebDriverWait(driver, 5).until(EC.presence_of_element_located((By.CSS_SELECTOR, select)))\n",
    "    elite_proxy = Select(driver.find_element_by_css_selector(select))\n",
    "    elite_proxy.select_by_value(\"elite proxy\")\n",
    "    elite_proxy_val = elite_proxy.first_selected_option.text\n",
    "\n",
    "    print('選擇elite proxy:', elite_proxy_val)\n",
    "\n",
    "    # 頁數 =================================================================================\n",
    "    # li_pagenum_last = \"#proxylisttable_paginate > ul > li:last-child\"\n",
    "    li_pagenum_last = '//*[@id=\"proxylisttable_next\"]/preceding-sibling::li[1]'\n",
    "    WebDriverWait(driver, 5).until(EC.presence_of_element_located((By.XPATH, li_pagenum_last)))\n",
    "    li_last = driver.find_element_by_xpath(li_pagenum_last)\n",
    "    pagenum_last = int(li_last.text)\n",
    "\n",
    "    print('總頁碼:', pagenum_last)\n",
    "    pagenum_last=1\n",
    "\n",
    "    # ippo =================================================================================\n",
    "    ippos = []\n",
    "    table_tr = \"#proxylisttable_wrapper tbody tr\"\n",
    "    for pn in range(1, pagenum_last+1):\n",
    "        print('目前頁碼:', pn)\n",
    "        # page_btn=f\"a[data-dt-idx='{pn+1}']\"\n",
    "        page_btn = f'//*[@id=\"proxylisttable_paginate\"]/ul//a[@data-dt-idx and text()=\"{pn}\"]'\n",
    "        button_page = driver.find_element_by_xpath(page_btn)\n",
    "        button_page.click()\n",
    "        # 等表出來\n",
    "        WebDriverWait(driver, 5).until(EC.presence_of_element_located((By.CSS_SELECTOR, table_tr)))\n",
    "        trs = driver.find_elements_by_css_selector(table_tr)\n",
    "        for tr in trs:\n",
    "            ip = tr.find_element_by_xpath(\".//td[1]\").text\n",
    "            po = tr.find_element_by_xpath(\".//td[2]\").text\n",
    "            ippos.append(ip+\":\"+po)\n",
    "    #\n",
    "    print('ippo個數:', len(ippos))\n",
    "\n",
    "    # TXT =================================================================================\n",
    "    with open(fn, 'r+') as f:\n",
    "        new = \"\\n\".join(ippos)\n",
    "        old = \"\".join(f.readlines()[:-len(ippos)])\n",
    "        now = new+'\\n'+old\n",
    "        f.seek(0)  # 從頭寫入\n",
    "        f.write(now)\n",
    "        f.truncate()  # 寫入最後一行之後都不要\n",
    "    print('ips_free更新')\n",
    "\n",
    "except Exception as err:\n",
    "    print('連線問題:', err)\n",
    "finally:\n",
    "    # quit____________________________________________\n",
    "    driver.close()\n",
    "    driver.quit()\n",
    "    c_service.stop()\n",
    "    #os.system('pkill chrome')\n",
    "\n"
   ]
  },
  {
   "cell_type": "code",
   "execution_count": null,
   "metadata": {},
   "outputs": [],
   "source": [
    "ippos"
   ]
  },
  {
   "cell_type": "code",
   "execution_count": null,
   "metadata": {},
   "outputs": [],
   "source": [
    "class ChromeDriver():\n",
    "    def __init__(self, driverpath='/home/pan/chromedriver81'):\n",
    "        chrome_options = Options()\n",
    "        chrome_options.add_argument('--no-sandbox')  # 让Chrome在root权限下跑\n",
    "        chrome_options.add_argument(\"--window-size=500,1024\")  # 太寬會有chrome的render報錯\n",
    "        chrome_options.add_argument(\"--start-maximized\")\n",
    "        chrome_options.add_argument('--headless')  # 不用打开图形界面\n",
    "        chrome_options.add_argument('--disable-dev-shm-usage')\n",
    "        chrome_options.add_argument('blink-settings=imagesEnabled=false')\n",
    "        chrome_options.add_argument('--disable-gpu')\n",
    "        #\n",
    "        ua = 'Mozilla/5.0 (Windows NT 10.0; Win64; x64) AppleWebKit/537.36 (KHTML, like Gecko) Chrome/81.0.4044.138 Safari/537.36'\n",
    "        chrome_options.add_argument(f\"user-agent={ua}\")\n",
    "        # ____________________________________________\n",
    "        self.driverpath = driverpath\n",
    "        self.options = chrome_options\n",
    "\n",
    "    # 進入with\n",
    "    def __enter__(self):\n",
    "        print(\"回傳driver\")\n",
    "        self.driver = webdriver.Chrome(self.driverpath, options=self.options)\n",
    "        return self.driver\n",
    "\n",
    "    # 離開with\n",
    "    def __exit__(self, ex_type, ex_value, ex_traceback):\n",
    "        print(\"關閉driver\")\n",
    "        self.driver.close()\n",
    "        self.driver.quit()                "
   ]
  },
  {
   "cell_type": "code",
   "execution_count": 1,
   "metadata": {},
   "outputs": [
    {
     "data": {
      "text/plain": [
       "'__main__'"
      ]
     },
     "execution_count": 1,
     "metadata": {},
     "output_type": "execute_result"
    }
   ],
   "source": [
    "__name__"
   ]
  },
  {
   "cell_type": "code",
   "execution_count": 1,
   "metadata": {},
   "outputs": [],
   "source": [
    "a={1:{},2:{}}"
   ]
  },
  {
   "cell_type": "code",
   "execution_count": 2,
   "metadata": {},
   "outputs": [],
   "source": [
    "for k,v in a.items():\n",
    "    v[\"@@\"]=2\n",
    "    "
   ]
  },
  {
   "cell_type": "code",
   "execution_count": 3,
   "metadata": {},
   "outputs": [
    {
     "data": {
      "text/plain": [
       "{1: {'@@': 2}, 2: {'@@': 2}}"
      ]
     },
     "execution_count": 3,
     "metadata": {},
     "output_type": "execute_result"
    }
   ],
   "source": [
    "a"
   ]
  },
  {
   "cell_type": "code",
   "execution_count": 1,
   "metadata": {},
   "outputs": [],
   "source": [
    "with open('ips_free_test.txt', 'r+') as f:\n",
    "    a=1\n",
    "    "
   ]
  },
  {
   "cell_type": "code",
   "execution_count": 2,
   "metadata": {},
   "outputs": [
    {
     "data": {
      "text/plain": [
       "1"
      ]
     },
     "execution_count": 2,
     "metadata": {},
     "output_type": "execute_result"
    }
   ],
   "source": [
    "a"
   ]
  },
  {
   "cell_type": "code",
   "execution_count": null,
   "metadata": {},
   "outputs": [],
   "source": []
  }
 ],
 "metadata": {
  "kernelspec": {
   "display_name": "Python 3",
   "language": "python",
   "name": "python3"
  },
  "language_info": {
   "codemirror_mode": {
    "name": "ipython",
    "version": 3
   },
   "file_extension": ".py",
   "mimetype": "text/x-python",
   "name": "python",
   "nbconvert_exporter": "python",
   "pygments_lexer": "ipython3",
   "version": "3.6.10"
  }
 },
 "nbformat": 4,
 "nbformat_minor": 4
}
