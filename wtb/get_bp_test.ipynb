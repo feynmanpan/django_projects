{
 "cells": [
  {
   "cell_type": "code",
   "execution_count": 1,
   "metadata": {},
   "outputs": [],
   "source": [
    "#%%writefile get_ruten.py\n",
    "#%load get_bookprice.py\n",
    "#%run get_bookprice.py\n",
    "# -*- coding: utf-8 -*-\n",
    "#________________________________________________\n",
    "import os\n",
    "import django\n",
    "from django.utils import timezone\n",
    "from django.db.models import Q\n",
    "#from django.utils.dateparse import parse_datetime\n",
    "from datetime import datetime,date#,timezone\n",
    "import pytz\n",
    "from bs4 import BeautifulSoup\n",
    "from bs4.element import NavigableString\n",
    "from difflib import SequenceMatcher\n",
    "from IPython.display import clear_output, display\n",
    "from time import sleep, time\n",
    "from threading import Thread\n",
    "from fake_useragent import UserAgent\n",
    "from fake_headers import Headers\n",
    "from pyquery import PyQuery as pq\n",
    "#\n",
    "from selenium import webdriver\n",
    "from selenium.webdriver.common.action_chains import ActionChains\n",
    "from selenium.webdriver.chrome.options import Options\n",
    "from selenium.common.exceptions import NoSuchElementException\n",
    "from selenium.webdriver.common.keys import Keys\n",
    "#\n",
    "import requests\n",
    "import urllib.parse\n",
    "import pandas as pd\n",
    "import numpy as np\n",
    "import random\n",
    "import re\n",
    "import json\n",
    "import csv\n",
    "#\n",
    "from get_proxy import get_proxy\n",
    "#from get_mollie import get_mollie\n",
    "#\n",
    "os.environ.setdefault('DJANGO_SETTINGS_MODULE', 'wtb.settings')\n",
    "os.environ[\"DJANGO_ALLOW_ASYNC_UNSAFE\"] = \"true\"\n",
    "django.setup()\n",
    "#from mainsite.models import Bookinfo,Bookprice,Store\n",
    "#from dict_stores import url_qs\n",
    "\n",
    "#\n",
    "def get_bp(isbn):\n",
    "    #url_api1=\"https://rtapi.ruten.com.tw/api/search/v2/index.php/core/prod?sort=prc%2Fac&q=\"\n",
    "    #url_api2=\"https://rtapi.ruten.com.tw/api/search/v2/index.php/m/core/prod?sort=prc%2Fac&q=\"\n",
    "    #url_apis=[url_api1,url_api2]\n",
    "    url_q=\"http://www.readingtimes.com.tw/ReadingTimes/site/q__\"+isbn+\"/414/default.aspx\"\n",
    "    #url_q='http://www.readingtimes.com.tw/ReadingTimes/site/q__9789571380049/414/default.aspx'\n",
    "    #(1)先抓價格最低的店內碼______________________\n",
    "    #\n",
    "    fake_header = Headers(\n",
    "        browser=\"chrome\",  # Generate only Chrome UA\n",
    "        os=\"win\",  # Generate ony Windows platform\n",
    "        headers=True  # generate misc headers\n",
    "    )    \n",
    "    UA=fake_header.generate()  \n",
    "    ippo=get_proxy(which=\"OK\",now=True)\n",
    "    proxies={\n",
    "            \"http\": \"http://\"+ippo,\n",
    "            #\"https\": \"http://\"+ippo\n",
    "            }\n",
    "    try:\n",
    "        #requests.packages.urllib3.util.ssl_.DEFAULT_CIPHERS = 'TLS_RSA_WITH_3DES_EDE_CBC_SHA DES-CBC3-SHA'\n",
    "        r = requests.get(url_q, \n",
    "                         headers=UA,\n",
    "                         #proxies=proxies,\n",
    "                         #allow_redirects=False,\n",
    "                         verify=False,\n",
    "                         timeout=60)    \n",
    "        r.encoding='utf8' \n",
    "        doc=pq(r.text)\n",
    "        #print(r.text)\n",
    "        r.close()\n",
    "        table=doc.find(\"div:Contains('商品名稱')\").parent().parent()\n",
    "        if table:\n",
    "            tmp=table.find('td.etext8red')\n",
    "            url_book  =tmp.eq(0).parent().find('a').eq(0).attr('href') or ''\n",
    "            price_sale=tmp.eq(1).text() or ''\n",
    "            #\n",
    "            return url_book,price_sale\n",
    "        return 'notable'\n",
    "    except Exception as err:\n",
    "        return str(err)\n",
    "    \n",
    "        \n"
   ]
  },
  {
   "cell_type": "code",
   "execution_count": 2,
   "metadata": {},
   "outputs": [
    {
     "name": "stdout",
     "output_type": "stream",
     "text": [
      "CPU times: user 12.7 ms, sys: 2.12 ms, total: 14.9 ms\n",
      "Wall time: 1.57 s\n"
     ]
    },
    {
     "data": {
      "text/plain": [
       "('http://www.readingtimes.com.tw/ReadingTimes/ProductPage.aspx?gp=productdetail&cid=mcac(SellItems)&id=1AY1033',\n",
       " '474')"
      ]
     },
     "execution_count": 2,
     "metadata": {},
     "output_type": "execute_result"
    }
   ],
   "source": [
    "isbn='4712966622177'\n",
    "%time get_bp(isbn)"
   ]
  },
  {
   "cell_type": "code",
   "execution_count": null,
   "metadata": {},
   "outputs": [],
   "source": []
  }
 ],
 "metadata": {
  "kernelspec": {
   "display_name": "Python 3",
   "language": "python",
   "name": "python3"
  },
  "language_info": {
   "codemirror_mode": {
    "name": "ipython",
    "version": 3
   },
   "file_extension": ".py",
   "mimetype": "text/x-python",
   "name": "python",
   "nbconvert_exporter": "python",
   "pygments_lexer": "ipython3",
   "version": "3.6.10"
  }
 },
 "nbformat": 4,
 "nbformat_minor": 4
}
