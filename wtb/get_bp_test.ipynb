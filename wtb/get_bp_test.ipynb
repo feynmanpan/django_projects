{
 "cells": [
  {
   "cell_type": "code",
   "execution_count": 6,
   "metadata": {},
   "outputs": [],
   "source": [
    "#%%writefile get_ruten.py\n",
    "#%load get_bookprice.py\n",
    "#%run get_bookprice.py\n",
    "# -*- coding: utf-8 -*-\n",
    "#________________________________________________\n",
    "import os\n",
    "import django\n",
    "from django.utils import timezone\n",
    "from django.db.models import Q\n",
    "#from django.utils.dateparse import parse_datetime\n",
    "from datetime import datetime,date#,timezone\n",
    "import pytz\n",
    "from bs4 import BeautifulSoup\n",
    "from bs4.element import NavigableString\n",
    "from difflib import SequenceMatcher\n",
    "from IPython.display import clear_output, display\n",
    "from time import sleep, time\n",
    "from threading import Thread\n",
    "from fake_useragent import UserAgent\n",
    "from fake_headers import Headers\n",
    "from pyquery import PyQuery as pq\n",
    "#\n",
    "from selenium import webdriver\n",
    "from selenium.webdriver.common.action_chains import ActionChains\n",
    "from selenium.webdriver.chrome.options import Options\n",
    "from selenium.common.exceptions import NoSuchElementException\n",
    "from selenium.webdriver.common.keys import Keys\n",
    "#\n",
    "import requests\n",
    "import urllib.parse\n",
    "import pandas as pd\n",
    "import numpy as np\n",
    "import random\n",
    "import re\n",
    "import json\n",
    "import csv\n",
    "#\n",
    "from get_proxy import get_proxy\n",
    "#from get_mollie import get_mollie\n",
    "#\n",
    "os.environ.setdefault('DJANGO_SETTINGS_MODULE', 'wtb.settings')\n",
    "os.environ[\"DJANGO_ALLOW_ASYNC_UNSAFE\"] = \"true\"\n",
    "django.setup()\n",
    "#from mainsite.models import Bookinfo,Bookprice,Store\n",
    "#from dict_stores import url_qs\n",
    "\n",
    "#\n",
    "def get_ruten(isbn):\n",
    "    url_api1=\"https://rtapi.ruten.com.tw/api/search/v2/index.php/core/prod?sort=prc%2Fac&q=\"\n",
    "    url_api2=\"https://rtapi.ruten.com.tw/api/search/v2/index.php/m/core/prod?sort=prc%2Fac&q=\"\n",
    "    url_apis=[url_api1,url_api2]\n",
    "    url_q=random.choice(url_apis)+isbn\n",
    "    #(1)先抓價格最低的店內碼______________________\n",
    "    #\n",
    "    fake_header = Headers(\n",
    "        browser=\"chrome\",  # Generate only Chrome UA\n",
    "        os=\"win\",  # Generate ony Windows platform\n",
    "        headers=True  # generate misc headers\n",
    "    )    \n",
    "    UA=fake_header.generate()  \n",
    "    ippo=get_proxy(which=\"OK\",now=True)\n",
    "    proxies={\n",
    "            \"http\": \"http://\"+ippo,\n",
    "            #\"https\": \"http://\"+ippo\n",
    "            }\n",
    "    try:\n",
    "        r = requests.get(url_q, \n",
    "                         headers=UA,\n",
    "                         proxies=proxies,\n",
    "                         #allow_redirects=False,\n",
    "                         timeout=20)    \n",
    "        r.encoding='utf8'        \n",
    "        #\n",
    "        ans_dict=json.loads(r.text)\n",
    "        r.close()\n",
    "        #\n",
    "        #print(ans_dict)\n",
    "        TotalRows=ans_dict['TotalRows']\n",
    "        if TotalRows>0:\n",
    "            rt_id=ans_dict['Rows'][0]['Id']\n",
    "        else:\n",
    "            return []\n",
    "        print(rt_id)\n",
    "        #(2)抓商品頁的售價______________________\n",
    "        url_book=\"https://goods.ruten.com.tw/item/show?\"+rt_id  \n",
    "        url_book_m=\"https://m.ruten.com.tw/goods/show.php?g=\"+rt_id\n",
    "        r = requests.get(url_book_m, \n",
    "                         headers=UA,\n",
    "                         proxies=proxies,\n",
    "                         #allow_redirects=False,\n",
    "                         timeout=30) \n",
    "        r.encoding='utf8'\n",
    "        #\n",
    "        doc=pq(r.text)\n",
    "        r.close()\n",
    "        #print(r.text)\n",
    "        #\n",
    "        #desc=doc.find('meta[property=\"og:description\"]').attr('content') #PC版常有亂碼\n",
    "        desc=doc.find(\"script[type='application/ld+json']\").eq(0).text()\n",
    "        price_sale=re.search('直購價：([0-9]+?)元',desc).group(1)\n",
    "        return [price_sale,url_book]\n",
    "    except Exception as err:\n",
    "        return []#'err'+str(err)\n"
   ]
  },
  {
   "cell_type": "code",
   "execution_count": 7,
   "metadata": {},
   "outputs": [
    {
     "name": "stdout",
     "output_type": "stream",
     "text": [
      "21903571291291\n",
      "CPU times: user 33.2 ms, sys: 6.28 ms, total: 39.5 ms\n",
      "Wall time: 2.26 s\n"
     ]
    },
    {
     "data": {
      "text/plain": [
       "['326', 'https://goods.ruten.com.tw/item/show?21903571291291']"
      ]
     },
     "execution_count": 7,
     "metadata": {},
     "output_type": "execute_result"
    }
   ],
   "source": [
    "isbn='9789571371870'\n",
    "%time get_ruten(isbn)"
   ]
  },
  {
   "cell_type": "code",
   "execution_count": null,
   "metadata": {},
   "outputs": [],
   "source": []
  }
 ],
 "metadata": {
  "kernelspec": {
   "display_name": "Python 3",
   "language": "python",
   "name": "python3"
  },
  "language_info": {
   "codemirror_mode": {
    "name": "ipython",
    "version": 3
   },
   "file_extension": ".py",
   "mimetype": "text/x-python",
   "name": "python",
   "nbconvert_exporter": "python",
   "pygments_lexer": "ipython3",
   "version": "3.6.10"
  }
 },
 "nbformat": 4,
 "nbformat_minor": 4
}
