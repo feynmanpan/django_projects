{
 "cells": [
  {
   "cell_type": "code",
   "execution_count": 6,
   "metadata": {},
   "outputs": [],
   "source": [
    "#%%writefile get_ruten.py\n",
    "#%load get_bookprice.py\n",
    "#%run get_bookprice.py\n",
    "# -*- coding: utf-8 -*-\n",
    "#________________________________________________\n",
    "import os\n",
    "import django\n",
    "from django.utils import timezone\n",
    "from django.db.models import Q\n",
    "#from django.utils.dateparse import parse_datetime\n",
    "from datetime import datetime,date#,timezone\n",
    "import pytz\n",
    "from bs4 import BeautifulSoup\n",
    "from bs4.element import NavigableString\n",
    "from difflib import SequenceMatcher\n",
    "from IPython.display import clear_output, display\n",
    "from time import sleep, time\n",
    "from threading import Thread\n",
    "from fake_useragent import UserAgent\n",
    "from fake_headers import Headers\n",
    "from pyquery import PyQuery as pq\n",
    "#\n",
    "from selenium import webdriver\n",
    "from selenium.webdriver.common.action_chains import ActionChains\n",
    "from selenium.webdriver.chrome.options import Options\n",
    "from selenium.common.exceptions import NoSuchElementException\n",
    "from selenium.webdriver.common.keys import Keys\n",
    "#\n",
    "import requests\n",
    "import urllib.parse\n",
    "import pandas as pd\n",
    "import numpy as np\n",
    "import random\n",
    "import re\n",
    "import json\n",
    "import csv\n",
    "#\n",
    "from get_proxy import get_proxy\n",
    "#from get_mollie import get_mollie\n",
    "#\n",
    "os.environ.setdefault('DJANGO_SETTINGS_MODULE', 'wtb.settings')\n",
    "os.environ[\"DJANGO_ALLOW_ASYNC_UNSAFE\"] = \"true\"\n",
    "django.setup()\n",
    "#from mainsite.models import Bookinfo,Bookprice,Store\n",
    "#from dict_stores import url_qs\n",
    "\n",
    "#\n",
    "def get_bp(isbn):\n",
    "    #url_api1=\"https://rtapi.ruten.com.tw/api/search/v2/index.php/core/prod?sort=prc%2Fac&q=\"\n",
    "    #url_api2=\"https://rtapi.ruten.com.tw/api/search/v2/index.php/m/core/prod?sort=prc%2Fac&q=\"\n",
    "    #url_apis=[url_api1,url_api2]\n",
    "    url_q=\"https://tw.bid.yahoo.com/search/auction/product?sort=curp&p=\"+isbn\n",
    "    #(1)先抓價格最低的店內碼______________________\n",
    "    #\n",
    "    fake_header = Headers(\n",
    "        browser=\"chrome\",  # Generate only Chrome UA\n",
    "        os=\"win\",  # Generate ony Windows platform\n",
    "        headers=True  # generate misc headers\n",
    "    )    \n",
    "    UA=fake_header.generate()  \n",
    "    ippo=get_proxy(which=\"OK\",now=True)\n",
    "    proxies={\n",
    "            \"http\": \"http://\"+ippo,\n",
    "            #\"https\": \"http://\"+ippo\n",
    "            }\n",
    "    \n",
    "    r = requests.get(url_q, \n",
    "                     headers=UA,\n",
    "                     proxies=proxies,\n",
    "                     #allow_redirects=False,\n",
    "                     timeout=30)    \n",
    "    r.encoding='utf8' \n",
    "    doc=pq(r.text)\n",
    "    r.close()\n",
    "    price_sale=doc.find(\".gridList span.BaseGridItem__price___31jkj em\").eq(0).text().replace('$','') or ''\n",
    "    url_book=doc.find(\".gridList a.BaseGridItem__content___3LORP\").eq(0).attr(\"href\") or ''\n",
    "    #if url_book:\n",
    "    #    url_book=\"https://www.sanmin.com.tw\"+url_book\n",
    "    \n",
    "    return (price_sale,url_book)\n",
    "    \n",
    "        \n"
   ]
  },
  {
   "cell_type": "code",
   "execution_count": 9,
   "metadata": {},
   "outputs": [
    {
     "name": "stdout",
     "output_type": "stream",
     "text": [
      "CPU times: user 28.3 ms, sys: 1.12 ms, total: 29.4 ms\n",
      "Wall time: 1.65 s\n"
     ]
    },
    {
     "data": {
      "text/plain": [
       "('99', 'https://tw.bid.yahoo.com/item/100559238374')"
      ]
     },
     "execution_count": 9,
     "metadata": {},
     "output_type": "execute_result"
    }
   ],
   "source": [
    "#isbn='4713510946619'\n",
    "%time get_bp('9789571344584+')"
   ]
  },
  {
   "cell_type": "code",
   "execution_count": null,
   "metadata": {},
   "outputs": [],
   "source": []
  }
 ],
 "metadata": {
  "kernelspec": {
   "display_name": "Python 3",
   "language": "python",
   "name": "python3"
  },
  "language_info": {
   "codemirror_mode": {
    "name": "ipython",
    "version": 3
   },
   "file_extension": ".py",
   "mimetype": "text/x-python",
   "name": "python",
   "nbconvert_exporter": "python",
   "pygments_lexer": "ipython3",
   "version": "3.6.10"
  }
 },
 "nbformat": 4,
 "nbformat_minor": 4
}
