{
 "cells": [
  {
   "cell_type": "code",
   "execution_count": 6,
   "metadata": {},
   "outputs": [
    {
     "name": "stdout",
     "output_type": "stream",
     "text": [
      "博客來\n",
      "誠品\n",
      "金石堂\n",
      "讀冊生活\n",
      "灰熊愛讀書\n",
      "茉莉\n",
      "天瓏\n",
      "時報悅讀網\n",
      "露天拍賣\n",
      "Yahoo奇摩拍賣\n",
      "momo摩天商城\n",
      "PChome線上購物\n",
      "kobo樂天\n",
      "蝦皮\n",
      "郵政商城\n",
      "ETMall東森購物\n",
      "三民\n",
      "udn\n",
      "Readmoo讀墨\n",
      "umall森森\n"
     ]
    }
   ],
   "source": [
    "#%%writefile get_bookinfo.py\n",
    "#%load get_bookinfo.py\n",
    "#_____________________\n",
    "import os\n",
    "import django\n",
    "from django.utils import timezone\n",
    "#\n",
    "os.environ.setdefault('DJANGO_SETTINGS_MODULE', 'wtb.settings')\n",
    "os.environ[\"DJANGO_ALLOW_ASYNC_UNSAFE\"] = \"true\"\n",
    "django.setup()\n",
    "from mainsite.models import Store,Post\n",
    "#import mainsite.models\n",
    "\n",
    "\n",
    "#__________________________\n",
    "stores = Store.objects.all().order_by('code')\n",
    "for s in stores:\n",
    "    print(s.name) \n",
    "    \n",
    "#p = Post.objects.create(AA='55',title='dede',slug='S7',body='dede',pub_date=timezone.now())\n",
    "#p.save()"
   ]
  },
  {
   "cell_type": "code",
   "execution_count": null,
   "metadata": {},
   "outputs": [],
   "source": [
    "%run get_bookinfo.py"
   ]
  },
  {
   "cell_type": "code",
   "execution_count": null,
   "metadata": {},
   "outputs": [],
   "source": [
    "1+1"
   ]
  },
  {
   "cell_type": "code",
   "execution_count": null,
   "metadata": {},
   "outputs": [],
   "source": []
  }
 ],
 "metadata": {
  "kernelspec": {
   "display_name": "Python 3",
   "language": "python",
   "name": "python3"
  },
  "language_info": {
   "codemirror_mode": {
    "name": "ipython",
    "version": 3
   },
   "file_extension": ".py",
   "mimetype": "text/x-python",
   "name": "python",
   "nbconvert_exporter": "python",
   "pygments_lexer": "ipython3",
   "version": "3.6.10"
  }
 },
 "nbformat": 4,
 "nbformat_minor": 4
}
