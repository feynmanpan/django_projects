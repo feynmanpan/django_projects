{
 "cells": [
  {
   "cell_type": "code",
   "execution_count": 8,
   "metadata": {},
   "outputs": [
    {
     "name": "stdout",
     "output_type": "stream",
     "text": [
      "Overwriting get_bookinfo.py\n"
     ]
    }
   ],
   "source": [
    "#%%writefile get_bookinfo.py\n",
    "#%load get_bookinfo.py\n",
    "#%run get_bookinfo.py\n",
    "# -*- coding: utf-8 -*-\n",
    "#_____________________\n",
    "import os\n",
    "import django\n",
    "from django.utils import timezone\n",
    "from bs4 import BeautifulSoup\n",
    "from bs4.element import NavigableString\n",
    "from difflib import SequenceMatcher\n",
    "from IPython.display import clear_output, display\n",
    "from time import sleep, time\n",
    "from threading import Thread\n",
    "from fake_useragent import UserAgent\n",
    "from fake_headers import Headers\n",
    "from pyquery import PyQuery as pq\n",
    "#\n",
    "import requests\n",
    "import pandas as pd\n",
    "import numpy as np\n",
    "import random\n",
    "import re\n",
    "import json\n",
    "import csv\n",
    "#\n",
    "os.environ.setdefault('DJANGO_SETTINGS_MODULE', 'wtb.settings')\n",
    "os.environ[\"DJANGO_ALLOW_ASYNC_UNSAFE\"] = \"true\"\n",
    "django.setup()\n",
    "from mainsite.models import Bookinfo,Store,Post\n",
    "#__________________________\n",
    "#stores = Store.objects.all().order_by('code')\n",
    "#for s in stores:\n",
    "#    print(s.name) \n",
    "    \n",
    "#p = Post.objects.create(AA='55',title='dede',slug='S7',body='dede',pub_date=timezone.now())\n",
    "#p.save()\n",
    "#\n",
    "def get_bookinfo(bookid):\n",
    "    bookid=bookid\n",
    "    url_q=\"https://www.books.com.tw/products/\"+bookid\n",
    "    fake_header = Headers(\n",
    "        browser=\"chrome\",  # Generate only Chrome UA\n",
    "        os=\"win\",  # Generate ony Windows platform\n",
    "        headers=True  # generate misc headers\n",
    "    )    \n",
    "    UA=fake_header.generate()\n",
    "    #\n",
    "    try:\n",
    "        r = requests.get(url_q, \n",
    "                         headers=UA,\n",
    "                         #proxies=proxies,\n",
    "                         #cookies=cookies,\n",
    "                         timeout=3)    \n",
    "        r.encoding='utf8'\n",
    "        htmlstr=r.text\n",
    "        #________________________________________________\n",
    "        #result=BeautifulSoup(r.text,\"lxml\")    \n",
    "        #print(htmlstr)\n",
    "        bookinfo={}\n",
    "        doc=pq(htmlstr)\n",
    "        isbn=doc.find(\".mod_b.type02_m058.clearfix .bd\").find(\"ul\").eq(0).find(\"li\").eq(0).text()\n",
    "        #只抓有isbn的\n",
    "        if 'ISBN' not in isbn:\n",
    "            print('noisbn')\n",
    "            return None\n",
    "        else:\n",
    "            isbn=isbn.replace(\"ISBN：\",\"\")\n",
    "        #\n",
    "        title=doc.find(\".mod.type02_p002.clearfix > h1\").text()\n",
    "        tmp=doc.find(\".type02_p003.clearfix\").find(\"ul\").eq(0)\n",
    "        author=tmp.find(\"li\").eq(0).find(\"a[href*='adv_author']\").text()\n",
    "        publisher=tmp.find(\"a[href*='sys_puballb']\").text()\n",
    "        \n",
    "        #________________________________________________\n",
    "        bookinfo['bookid']=bookid\n",
    "        bookinfo['isbn']=isbn\n",
    "        bookinfo['title']=title\n",
    "        bookinfo['author']=author\n",
    "        bookinfo['publisher']=publisher\n",
    "        #\n",
    "        return bookinfo\n",
    "    except:\n",
    "        print('NG')\n",
    "        return None"
   ]
  },
  {
   "cell_type": "code",
   "execution_count": 6,
   "metadata": {},
   "outputs": [
    {
     "data": {
      "text/plain": [
       "{'bookid': '0010840756',\n",
       " 'isbn': '9789571380049',\n",
       " 'title': '動盪：國家如何化解危局、成功轉型？（含32頁珍貴歷史圖片）',\n",
       " 'author': '賈德．戴蒙',\n",
       " 'publisher': '時報出版'}"
      ]
     },
     "execution_count": 6,
     "metadata": {},
     "output_type": "execute_result"
    }
   ],
   "source": [
    "bookinfo=get_bookinfo('0010840756')\n",
    "# \n",
    "if bookinfo:        \n",
    "    row = Bookinfo.objects.create(**bookinfo)\n",
    "    row.save()\n",
    "#    \n",
    "bookinfo "
   ]
  },
  {
   "cell_type": "code",
   "execution_count": null,
   "metadata": {},
   "outputs": [],
   "source": []
  }
 ],
 "metadata": {
  "kernelspec": {
   "display_name": "Python 3",
   "language": "python",
   "name": "python3"
  },
  "language_info": {
   "codemirror_mode": {
    "name": "ipython",
    "version": 3
   },
   "file_extension": ".py",
   "mimetype": "text/x-python",
   "name": "python",
   "nbconvert_exporter": "python",
   "pygments_lexer": "ipython3",
   "version": "3.6.10"
  }
 },
 "nbformat": 4,
 "nbformat_minor": 4
}
