{
 "cells": [
  {
   "cell_type": "code",
   "execution_count": 1,
   "metadata": {},
   "outputs": [],
   "source": [
    "import pandas as pd\n",
    "import numpy as np\n",
    "import requests\n",
    "from pyquery import PyQuery as pq\n",
    "import re\n",
    "import json"
   ]
  },
  {
   "cell_type": "markdown",
   "metadata": {},
   "source": [
    "# 2019+2020"
   ]
  },
  {
   "cell_type": "code",
   "execution_count": 2,
   "metadata": {},
   "outputs": [],
   "source": [
    "headers = {\n",
    "    'User-Agent': 'Mozilla/5.0 (Windows NT 10.0; Win64; x64) AppleWebKit/537.36 (KHTML, like Gecko) Chrome/84.0.4147.135 Safari/537.36',\n",
    "}\n",
    "#\n",
    "url_2019 = 'http://web.archive.org/web/20191203024617/https://www.kobo.com/tw/zh/p/tw-kobo-2019top100'\n",
    "url_2020 = 'https://www.kobo.com/tw/zh/p/tw-kobo-2020top100'\n",
    "urls = {2019: url_2019, 2020: url_2020}"
   ]
  },
  {
   "cell_type": "code",
   "execution_count": 3,
   "metadata": {
    "tags": []
   },
   "outputs": [],
   "source": [
    "if False:\n",
    "    for y, url in urls.items():\n",
    "        r = requests.get(url, headers=headers)\n",
    "        r.encoding = 'utf-8'\n",
    "        doc = pq(r.text)\n",
    "        #\n",
    "        books_data = []\n",
    "        #\n",
    "        books = doc.find('div.item.book.basic-item')\n",
    "        for idx, book in enumerate(books):\n",
    "            book = pq(book)\n",
    "            #\n",
    "            title = book.find('p.title.product-field').eq(0).text()\n",
    "            author = book.find('span.contributor-name').eq(0).text()\n",
    "            try:\n",
    "                star = book.find('div.kobo.star-rating').eq(0).attr('aria-label')\n",
    "                star = float(star.replace(' out of 5 stars', '').replace('Rated ', ''))\n",
    "            except Exception as err:\n",
    "                star = 0\n",
    "            price = int(book.find('p.product-field.price > span > span').eq(0).text().replace('NT$', ''))\n",
    "            #\n",
    "            if y == 2019:\n",
    "                src = book.find('img.cover-image').eq(0).attr('src').replace('//web.archive.org/web/20191203024617im_/', '')\n",
    "            else:\n",
    "                src = book.find('img.cover-image').eq(0).attr('data-lazy')\n",
    "            src = ('https:' not in src) and 'https:'+src or src\n",
    "            #\n",
    "            href = book.find('a.carousel-tab-navigation-target').eq(0).attr('href').replace('/web/20191203024617/', '')\n",
    "            href = ('https:' not in href) and 'https://www.kobo.com'+href or href\n",
    "            #\n",
    "            rank = idx+1\n",
    "            #\n",
    "            data = {\n",
    "                'title': title,\n",
    "                'author': author,\n",
    "                'star': star,\n",
    "                'price': price,\n",
    "                'src': src,\n",
    "                'href': href,\n",
    "                'rank': rank,\n",
    "            }\n",
    "            books_data.append(data)\n",
    "        #\n",
    "        df_books = pd.DataFrame(books_data).assign(year=y)\n",
    "        df_books.to_csv(f'kobo100_{y}.csv', index=False)\n",
    "        print(f'儲存kobo100_{y}.csv')"
   ]
  },
  {
   "cell_type": "markdown",
   "metadata": {},
   "source": [
    "# 2019"
   ]
  },
  {
   "cell_type": "code",
   "execution_count": 4,
   "metadata": {},
   "outputs": [],
   "source": [
    "# url_2019 = 'https://www.kobo.com/tw/zh/list/kobo-2019/cz57jFime8-QbQjXQANmxQ?pageNumber='"
   ]
  },
  {
   "cell_type": "code",
   "execution_count": 5,
   "metadata": {},
   "outputs": [],
   "source": [
    "# books_data_2019 = []\n",
    "# for page in range(1, 5):\n",
    "#     url = url_2019+str(page)\n",
    "#     r = requests.get(url, headers=headers)\n",
    "#     r.encoding = 'utf-8'\n",
    "#     doc = pq(r.text)\n",
    "#     #\n",
    "#     books = doc.find('div.item-detail')\n",
    "#     for book in books:\n",
    "#         book = pq(book)\n",
    "#         #\n",
    "#         title = book.find('p.title.product-field').eq(0).text()\n",
    "#         author = book.find('span.visible-contributors a').eq(0).text()\n",
    "#         tmp = book.find('div.kobo.star-rating').eq(0).attr('aria-label')\n",
    "#         star = float(re.search('^Rated (.+?) out of.+$', tmp).group(1))\n",
    "#         price = int(book.find('p.product-field.price > span > span').eq(0).text().replace('NT$', ''))\n",
    "#         #\n",
    "#         src = book.find('img.cover-image').eq(0).attr('src')\n",
    "#         src = ('https:' not in src) and 'https:'+src or src\n",
    "#         #\n",
    "#         href = book.find('p.title.product-field a').eq(0).attr('href')\n",
    "#         href = ('https:' not in href) and 'https://www.kobo.com'+href or href\n",
    "#         #\n",
    "#         data = {\n",
    "#             'title': title,\n",
    "#             'author': author,\n",
    "#             'star': star,\n",
    "#             'price': price,\n",
    "#             'src': src,\n",
    "#             'href': href,\n",
    "#             # 'rank': rank,\n",
    "#         }\n",
    "#         books_data_2019.append(data)\n",
    "# #         print(href)"
   ]
  },
  {
   "cell_type": "code",
   "execution_count": 6,
   "metadata": {},
   "outputs": [],
   "source": [
    "# df_books_2019 = pd.DataFrame(books_data_2019).reset_index().rename(columns={'index': 'rank'})\n",
    "# df_books_2019['rank'] = df_books_2019['rank'] + 1\n",
    "# df_books_2019 = df_books_2019.reindex(columns=list(df_books_2019.columns[1:]) + ['rank']).assign(year='2019')\n",
    "# df_books_2019"
   ]
  },
  {
   "cell_type": "code",
   "execution_count": 7,
   "metadata": {},
   "outputs": [],
   "source": [
    "# df_books_2019.to_csv('kobo100_2019.csv', index=False)"
   ]
  },
  {
   "cell_type": "code",
   "execution_count": 8,
   "metadata": {},
   "outputs": [],
   "source": [
    "# df_all = df_books.merge(df_books_2019[['title', 'rank']], on='title', how='left')\n",
    "# df_all.rename(columns={'rank_x': '2020_rank', 'rank_y': '2019_rank'}, inplace=True)\n",
    "# df_all.drop(columns='year', inplace=True)\n",
    "# #\n",
    "# df_all = df_all.fillna(0).astype({'2019_rank': 'int'})\n",
    "# #\n",
    "# df_all"
   ]
  },
  {
   "cell_type": "markdown",
   "metadata": {},
   "source": [
    "# JSON"
   ]
  },
  {
   "cell_type": "code",
   "execution_count": 9,
   "metadata": {},
   "outputs": [],
   "source": [
    "# import pandas as pd\n",
    "# import numpy as np\n",
    "# import requests\n",
    "# from pyquery import PyQuery as pq\n",
    "# import re\n",
    "# import json"
   ]
  },
  {
   "cell_type": "code",
   "execution_count": 10,
   "metadata": {},
   "outputs": [
    {
     "data": {
      "text/html": [
       "<div>\n",
       "<style scoped>\n",
       "    .dataframe tbody tr th:only-of-type {\n",
       "        vertical-align: middle;\n",
       "    }\n",
       "\n",
       "    .dataframe tbody tr th {\n",
       "        vertical-align: top;\n",
       "    }\n",
       "\n",
       "    .dataframe thead th {\n",
       "        text-align: right;\n",
       "    }\n",
       "</style>\n",
       "<table border=\"1\" class=\"dataframe\">\n",
       "  <thead>\n",
       "    <tr style=\"text-align: right;\">\n",
       "      <th></th>\n",
       "      <th>idx_x</th>\n",
       "      <th>title</th>\n",
       "      <th>author_x</th>\n",
       "      <th>star_x</th>\n",
       "      <th>price_x</th>\n",
       "      <th>src_x</th>\n",
       "      <th>href_x</th>\n",
       "      <th>rank_x</th>\n",
       "      <th>year_x</th>\n",
       "      <th>idx_y</th>\n",
       "      <th>author_y</th>\n",
       "      <th>star_y</th>\n",
       "      <th>price_y</th>\n",
       "      <th>src_y</th>\n",
       "      <th>href_y</th>\n",
       "      <th>rank_y</th>\n",
       "      <th>year_y</th>\n",
       "    </tr>\n",
       "  </thead>\n",
       "  <tbody>\n",
       "    <tr>\n",
       "      <th>0</th>\n",
       "      <td>0</td>\n",
       "      <td>原子習慣</td>\n",
       "      <td>詹姆斯．克利爾</td>\n",
       "      <td>4.5</td>\n",
       "      <td>196.0</td>\n",
       "      <td>https://kbimages1-a.akamaihd.net/92214e93-fa53...</td>\n",
       "      <td>https://www.kobo.com/tw/zh/ebook/pGo8y2e4ET6pd...</td>\n",
       "      <td>1</td>\n",
       "      <td>2019.0</td>\n",
       "      <td>0</td>\n",
       "      <td>詹姆斯．克利爾</td>\n",
       "      <td>4.5</td>\n",
       "      <td>182.0</td>\n",
       "      <td>https://kbimages1-a.akamaihd.net/92214e93-fa53...</td>\n",
       "      <td>https://www.kobo.com/tw/zh/ebook/pGo8y2e4ET6pd...</td>\n",
       "      <td>1</td>\n",
       "      <td>2020.0</td>\n",
       "    </tr>\n",
       "    <tr>\n",
       "      <th>1</th>\n",
       "      <td>1</td>\n",
       "      <td>真確：扭轉十大直覺偏誤，發現事情比你想的美好</td>\n",
       "      <td>漢斯．羅斯林</td>\n",
       "      <td>4.5</td>\n",
       "      <td>238.0</td>\n",
       "      <td>https://kbimages1-a.akamaihd.net/787950cf-36ca...</td>\n",
       "      <td>https://www.kobo.com/tw/zh/ebook/tG1aCXbY1zG4O...</td>\n",
       "      <td>2</td>\n",
       "      <td>2019.0</td>\n",
       "      <td>5</td>\n",
       "      <td>漢斯．羅斯林</td>\n",
       "      <td>4.5</td>\n",
       "      <td>221.0</td>\n",
       "      <td>https://kbimages1-a.akamaihd.net/787950cf-36ca...</td>\n",
       "      <td>https://www.kobo.com/tw/zh/ebook/tG1aCXbY1zG4O...</td>\n",
       "      <td>6</td>\n",
       "      <td>2020.0</td>\n",
       "    </tr>\n",
       "    <tr>\n",
       "      <th>2</th>\n",
       "      <td>2</td>\n",
       "      <td>人生複本【燒腦神作，零負評！】</td>\n",
       "      <td>布萊克．克勞奇</td>\n",
       "      <td>4.5</td>\n",
       "      <td>232.0</td>\n",
       "      <td>https://kbimages1-a.akamaihd.net/cbcfd485-ac07...</td>\n",
       "      <td>https://www.kobo.com/tw/zh/ebook/ejIfELnxhDyrt...</td>\n",
       "      <td>3</td>\n",
       "      <td>2019.0</td>\n",
       "      <td>8</td>\n",
       "      <td>布萊克．克勞奇</td>\n",
       "      <td>4.5</td>\n",
       "      <td>216.0</td>\n",
       "      <td>https://kbimages1-a.akamaihd.net/cbcfd485-ac07...</td>\n",
       "      <td>https://www.kobo.com/tw/zh/ebook/ejIfELnxhDyrt...</td>\n",
       "      <td>9</td>\n",
       "      <td>2020.0</td>\n",
       "    </tr>\n",
       "  </tbody>\n",
       "</table>\n",
       "</div>"
      ],
      "text/plain": [
       "   idx_x                   title author_x  star_x  price_x  \\\n",
       "0      0                    原子習慣  詹姆斯．克利爾     4.5    196.0   \n",
       "1      1  真確：扭轉十大直覺偏誤，發現事情比你想的美好   漢斯．羅斯林     4.5    238.0   \n",
       "2      2         人生複本【燒腦神作，零負評！】  布萊克．克勞奇     4.5    232.0   \n",
       "\n",
       "                                               src_x  \\\n",
       "0  https://kbimages1-a.akamaihd.net/92214e93-fa53...   \n",
       "1  https://kbimages1-a.akamaihd.net/787950cf-36ca...   \n",
       "2  https://kbimages1-a.akamaihd.net/cbcfd485-ac07...   \n",
       "\n",
       "                                              href_x  rank_x  year_x  idx_y  \\\n",
       "0  https://www.kobo.com/tw/zh/ebook/pGo8y2e4ET6pd...       1  2019.0      0   \n",
       "1  https://www.kobo.com/tw/zh/ebook/tG1aCXbY1zG4O...       2  2019.0      5   \n",
       "2  https://www.kobo.com/tw/zh/ebook/ejIfELnxhDyrt...       3  2019.0      8   \n",
       "\n",
       "  author_y  star_y  price_y  \\\n",
       "0  詹姆斯．克利爾     4.5    182.0   \n",
       "1   漢斯．羅斯林     4.5    221.0   \n",
       "2  布萊克．克勞奇     4.5    216.0   \n",
       "\n",
       "                                               src_y  \\\n",
       "0  https://kbimages1-a.akamaihd.net/92214e93-fa53...   \n",
       "1  https://kbimages1-a.akamaihd.net/787950cf-36ca...   \n",
       "2  https://kbimages1-a.akamaihd.net/cbcfd485-ac07...   \n",
       "\n",
       "                                              href_y  rank_y  year_y  \n",
       "0  https://www.kobo.com/tw/zh/ebook/pGo8y2e4ET6pd...       1  2020.0  \n",
       "1  https://www.kobo.com/tw/zh/ebook/tG1aCXbY1zG4O...       6  2020.0  \n",
       "2  https://www.kobo.com/tw/zh/ebook/ejIfELnxhDyrt...       9  2020.0  "
      ]
     },
     "execution_count": 10,
     "metadata": {},
     "output_type": "execute_result"
    }
   ],
   "source": [
    "n = 100\n",
    "df_2019 = pd.read_csv('kobo100_2019.csv').reset_index().rename(columns={'index': 'idx'})[:n]\n",
    "df_2020 = pd.read_csv('kobo100_2020.csv').reset_index().rename(columns={'index': 'idx'})[:n]\n",
    "#\n",
    "df_all = df_2019.merge(df_2020, on='title', how='outer')\n",
    "df_all = df_all.fillna(300).astype({'rank_x': int, 'rank_y': int, 'idx_x': int, 'idx_y': int})\n",
    "#\n",
    "df_all[:3]"
   ]
  },
  {
   "cell_type": "code",
   "execution_count": 11,
   "metadata": {},
   "outputs": [],
   "source": [
    "where = (df_all['idx_y'] == 300) #| (df_all['idx_x'] == 300)\n",
    "newN = df_all[where].shape[0]"
   ]
  },
  {
   "cell_type": "code",
   "execution_count": 12,
   "metadata": {},
   "outputs": [],
   "source": [
    "cols_map = {\n",
    "    \"idx\": \"node\",\n",
    "    \"title\": \"name\",\n",
    "}\n",
    "#\n",
    "# df_2019_dict = df_2019.rename(columns=cols_map)[cols_map.values()].to_dict('records')\n",
    "df_2019_dict = df_2019.rename(columns=cols_map).to_dict('records')\n",
    "#\n",
    "df_2020['idx'] = df_2020['idx'] + 100\n",
    "# df_2020_dict = df_2020.rename(columns=cols_map)[cols_map.values()].to_dict('records')\n",
    "df_2020_dict = df_2020.rename(columns=cols_map).to_dict('records')"
   ]
  },
  {
   "cell_type": "code",
   "execution_count": 13,
   "metadata": {},
   "outputs": [],
   "source": [
    "nodes = df_2019_dict+df_2020_dict+[{'node': 200, 'name': \"退榜\"}, {'node': 201, 'name': \"新進\"}]\n",
    "# nodes[8]"
   ]
  },
  {
   "cell_type": "code",
   "execution_count": 14,
   "metadata": {},
   "outputs": [
    {
     "data": {
      "text/plain": [
       "202"
      ]
     },
     "execution_count": 14,
     "metadata": {},
     "output_type": "execute_result"
    }
   ],
   "source": [
    "m = len(nodes)\n",
    "m"
   ]
  },
  {
   "cell_type": "code",
   "execution_count": 15,
   "metadata": {},
   "outputs": [
    {
     "name": "stderr",
     "output_type": "stream",
     "text": [
      "/home/pan/anaconda3/envs/django_env/lib/python3.6/site-packages/ipykernel_launcher.py:3: SettingWithCopyWarning: \n",
      "A value is trying to be set on a copy of a slice from a DataFrame.\n",
      "Try using .loc[row_indexer,col_indexer] = value instead\n",
      "\n",
      "See the caveats in the documentation: https://pandas.pydata.org/pandas-docs/stable/user_guide/indexing.html#returning-a-view-versus-a-copy\n",
      "  This is separate from the ipykernel package so we can avoid doing imports until\n",
      "/home/pan/anaconda3/envs/django_env/lib/python3.6/site-packages/ipykernel_launcher.py:6: SettingWithCopyWarning: \n",
      "A value is trying to be set on a copy of a slice from a DataFrame.\n",
      "Try using .loc[row_indexer,col_indexer] = value instead\n",
      "\n",
      "See the caveats in the documentation: https://pandas.pydata.org/pandas-docs/stable/user_guide/indexing.html#returning-a-view-versus-a-copy\n",
      "  \n",
      "/home/pan/anaconda3/envs/django_env/lib/python3.6/site-packages/ipykernel_launcher.py:9: SettingWithCopyWarning: \n",
      "A value is trying to be set on a copy of a slice from a DataFrame.\n",
      "Try using .loc[row_indexer,col_indexer] = value instead\n",
      "\n",
      "See the caveats in the documentation: https://pandas.pydata.org/pandas-docs/stable/user_guide/indexing.html#returning-a-view-versus-a-copy\n",
      "  if __name__ == '__main__':\n",
      "/home/pan/anaconda3/envs/django_env/lib/python3.6/site-packages/ipykernel_launcher.py:10: SettingWithCopyWarning: \n",
      "A value is trying to be set on a copy of a slice from a DataFrame.\n",
      "Try using .loc[row_indexer,col_indexer] = value instead\n",
      "\n",
      "See the caveats in the documentation: https://pandas.pydata.org/pandas-docs/stable/user_guide/indexing.html#returning-a-view-versus-a-copy\n",
      "  # Remove the CWD from sys.path while we load stuff.\n",
      "/home/pan/anaconda3/envs/django_env/lib/python3.6/site-packages/ipykernel_launcher.py:13: SettingWithCopyWarning: \n",
      "A value is trying to be set on a copy of a slice from a DataFrame.\n",
      "Try using .loc[row_indexer,col_indexer] = value instead\n",
      "\n",
      "See the caveats in the documentation: https://pandas.pydata.org/pandas-docs/stable/user_guide/indexing.html#returning-a-view-versus-a-copy\n",
      "  del sys.path[0]\n",
      "/home/pan/anaconda3/envs/django_env/lib/python3.6/site-packages/ipykernel_launcher.py:14: SettingWithCopyWarning: \n",
      "A value is trying to be set on a copy of a slice from a DataFrame.\n",
      "Try using .loc[row_indexer,col_indexer] = value instead\n",
      "\n",
      "See the caveats in the documentation: https://pandas.pydata.org/pandas-docs/stable/user_guide/indexing.html#returning-a-view-versus-a-copy\n",
      "  \n",
      "/home/pan/anaconda3/envs/django_env/lib/python3.6/site-packages/pandas/core/frame.py:4133: SettingWithCopyWarning: \n",
      "A value is trying to be set on a copy of a slice from a DataFrame\n",
      "\n",
      "See the caveats in the documentation: https://pandas.pydata.org/pandas-docs/stable/user_guide/indexing.html#returning-a-view-versus-a-copy\n",
      "  errors=errors,\n"
     ]
    },
    {
     "data": {
      "text/html": [
       "<div>\n",
       "<style scoped>\n",
       "    .dataframe tbody tr th:only-of-type {\n",
       "        vertical-align: middle;\n",
       "    }\n",
       "\n",
       "    .dataframe tbody tr th {\n",
       "        vertical-align: top;\n",
       "    }\n",
       "\n",
       "    .dataframe thead th {\n",
       "        text-align: right;\n",
       "    }\n",
       "</style>\n",
       "<table border=\"1\" class=\"dataframe\">\n",
       "  <thead>\n",
       "    <tr style=\"text-align: right;\">\n",
       "      <th></th>\n",
       "      <th>source</th>\n",
       "      <th>target</th>\n",
       "      <th>value</th>\n",
       "    </tr>\n",
       "  </thead>\n",
       "  <tbody>\n",
       "    <tr>\n",
       "      <th>0</th>\n",
       "      <td>0</td>\n",
       "      <td>100</td>\n",
       "      <td>3.0</td>\n",
       "    </tr>\n",
       "    <tr>\n",
       "      <th>1</th>\n",
       "      <td>1</td>\n",
       "      <td>105</td>\n",
       "      <td>3.0</td>\n",
       "    </tr>\n",
       "    <tr>\n",
       "      <th>2</th>\n",
       "      <td>2</td>\n",
       "      <td>108</td>\n",
       "      <td>3.0</td>\n",
       "    </tr>\n",
       "  </tbody>\n",
       "</table>\n",
       "</div>"
      ],
      "text/plain": [
       "   source  target  value\n",
       "0       0     100    3.0\n",
       "1       1     105    3.0\n",
       "2       2     108    3.0"
      ]
     },
     "execution_count": 15,
     "metadata": {},
     "output_type": "execute_result"
    }
   ],
   "source": [
    "df_tmp = df_all[['idx_x', 'idx_y']]\n",
    "default = 3\n",
    "df_tmp['value'] = default\n",
    "#\n",
    "where = df_tmp['idx_y'] < 300\n",
    "df_tmp['idx_y'] = np.where(where, df_tmp['idx_y'] + 100, df_tmp['idx_y'])\n",
    "# 2020 new\n",
    "where = df_tmp['idx_x'] == 300\n",
    "df_tmp['idx_x'] = np.where(where, m-1, df_tmp['idx_x'])\n",
    "df_tmp['value'] = np.where(where, default*2/newN, df_tmp['value'] )\n",
    "# 2019 stop\n",
    "where = df_tmp['idx_y'] == 300\n",
    "df_tmp['idx_y'] = np.where(where, m-2, df_tmp['idx_y'])\n",
    "df_tmp['value'] = np.where(where, default*2/newN, df_tmp['value'] )\n",
    "#\n",
    "\n",
    "df_tmp.rename(columns={'idx_x': 'source', 'idx_y': 'target'}, inplace=True)\n",
    "#\n",
    "df_tmp[:3]"
   ]
  },
  {
   "cell_type": "code",
   "execution_count": 16,
   "metadata": {},
   "outputs": [
    {
     "data": {
      "text/plain": [
       "[{'source': 0, 'target': 100, 'value': 3.0},\n",
       " {'source': 1, 'target': 105, 'value': 3.0},\n",
       " {'source': 2, 'target': 108, 'value': 3.0}]"
      ]
     },
     "execution_count": 16,
     "metadata": {},
     "output_type": "execute_result"
    }
   ],
   "source": [
    "tmp1 = {'source': 0, 'target': m-1, 'value': 0}\n",
    "tmp2 = {'source': m-2, 'target': m-3, 'value': 0}\n",
    "links = df_tmp.to_dict('records') + [tmp1, tmp2]\n",
    "links[:3]"
   ]
  },
  {
   "cell_type": "code",
   "execution_count": 17,
   "metadata": {},
   "outputs": [],
   "source": [
    "data = {\n",
    "    'nodes': nodes,\n",
    "    'links': links,\n",
    "}\n",
    "with open('kobo_data.json', 'w', encoding='utf-8') as f:\n",
    "    json.dump(data, f, ensure_ascii=False)"
   ]
  },
  {
   "cell_type": "code",
   "execution_count": 18,
   "metadata": {},
   "outputs": [
    {
     "data": {
      "text/plain": [
       "167"
      ]
     },
     "execution_count": 18,
     "metadata": {},
     "output_type": "execute_result"
    }
   ],
   "source": [
    "len(links)"
   ]
  },
  {
   "cell_type": "code",
   "execution_count": null,
   "metadata": {},
   "outputs": [],
   "source": []
  }
 ],
 "metadata": {
  "kernelspec": {
   "display_name": "Python 3",
   "language": "python",
   "name": "python3"
  },
  "language_info": {
   "codemirror_mode": {
    "name": "ipython",
    "version": 3
   },
   "file_extension": ".py",
   "mimetype": "text/x-python",
   "name": "python",
   "nbconvert_exporter": "python",
   "pygments_lexer": "ipython3",
   "version": "3.6.10"
  }
 },
 "nbformat": 4,
 "nbformat_minor": 4
}
