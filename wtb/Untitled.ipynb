{
 "cells": [
  {
   "cell_type": "code",
   "execution_count": 44,
   "metadata": {},
   "outputs": [
    {
     "name": "stdout",
     "output_type": "stream",
     "text": [
      "最貴的是   牛肉麵 金額是100\n",
      "最便宜的是 陽春麵 金額是60\n"
     ]
    }
   ],
   "source": [
    "# ex5\n",
    "# 請使用max()和min()方法設計ch9_21_2.py，列印完noodles字典後，\n",
    "# 直接列印最貴和最便宜的麵\n",
    "\n",
    "# 輸出結果\n",
    "# {'牛肉麵': 100, '肉絲麵': 80, '陽春麵': 60, '大滷麵': 90, '麻醬麵': 70\n",
    "# 最貴的是   牛肉麵 金額是 100\n",
    "# 最便宜的是 陽春麵 金額是 60\n",
    "\n",
    "# ch9_21_2.py\n",
    "noodles = {'牛肉麵': 100, '肉絲麵': 80, '陽春麵': 60, '大滷麵': 90, '麻醬麵': 70}\n",
    "\n",
    "print('最貴的是   %s 金額是%d' % (max(noodles, key=noodles.get), max(noodles.values())))\n",
    "print('最便宜的是 %s 金額是%d' % (min(noodles, key=noodles.get), min(noodles.values())))\n"
   ]
  },
  {
   "cell_type": "code",
   "execution_count": 40,
   "metadata": {},
   "outputs": [
    {
     "data": {
      "text/plain": [
       "'d'"
      ]
     },
     "execution_count": 40,
     "metadata": {},
     "output_type": "execute_result"
    }
   ],
   "source": [
    "import operator\n",
    "stats = {'a':1000, 'd':3000, 'cc': 3000}\n",
    "kmax=max(stats, key=lambda k: stats[k])\n",
    "\n",
    "kmax"
   ]
  },
  {
   "cell_type": "code",
   "execution_count": 52,
   "metadata": {},
   "outputs": [],
   "source": [
    "a = {'a':1000, 'b':3000, 'cc': 3000}\n",
    "b = {'b':1000}"
   ]
  },
  {
   "cell_type": "code",
   "execution_count": 56,
   "metadata": {},
   "outputs": [
    {
     "data": {
      "text/plain": [
       "{'a': 1000, 'b': 3000, 'cc': 3000}"
      ]
     },
     "execution_count": 56,
     "metadata": {},
     "output_type": "execute_result"
    }
   ],
   "source": [
    "{**a}\n"
   ]
  },
  {
   "cell_type": "code",
   "execution_count": 1,
   "metadata": {},
   "outputs": [
    {
     "data": {
      "text/plain": [
       "2"
      ]
     },
     "execution_count": 1,
     "metadata": {},
     "output_type": "execute_result"
    }
   ],
   "source": [
    "1+1"
   ]
  },
  {
   "cell_type": "code",
   "execution_count": 10,
   "metadata": {},
   "outputs": [],
   "source": [
    "a='abc'\n"
   ]
  },
  {
   "cell_type": "code",
   "execution_count": 23,
   "metadata": {},
   "outputs": [
    {
     "data": {
      "text/plain": [
       "94655737734752"
      ]
     },
     "execution_count": 23,
     "metadata": {},
     "output_type": "execute_result"
    }
   ],
   "source": [
    "id(vars()['abc'])\n"
   ]
  },
  {
   "cell_type": "code",
   "execution_count": 22,
   "metadata": {},
   "outputs": [
    {
     "data": {
      "text/plain": [
       "94655737734752"
      ]
     },
     "execution_count": 22,
     "metadata": {},
     "output_type": "execute_result"
    }
   ],
   "source": [
    "id(abc)"
   ]
  },
  {
   "cell_type": "code",
   "execution_count": 29,
   "metadata": {},
   "outputs": [],
   "source": [
    "locals()['abc']=3"
   ]
  },
  {
   "cell_type": "code",
   "execution_count": 30,
   "metadata": {},
   "outputs": [
    {
     "data": {
      "text/plain": [
       "3"
      ]
     },
     "execution_count": 30,
     "metadata": {},
     "output_type": "execute_result"
    }
   ],
   "source": [
    "abc"
   ]
  },
  {
   "cell_type": "code",
   "execution_count": 32,
   "metadata": {},
   "outputs": [
    {
     "name": "stdout",
     "output_type": "stream",
     "text": [
      "Locals:  {'var': 123}\n",
      "Vars:  {'var': 123}\n",
      "Globals:  {'__name__': '__main__', '__doc__': 'Automatically created module for IPython interactive environment', '__package__': None, '__loader__': None, '__spec__': None, '__builtin__': <module 'builtins' (built-in)>, '__builtins__': <module 'builtins' (built-in)>, '_ih': ['', '1+1', \"foo = dict()\\nf'{foo=}'.split('=')[0]\", \"foo = dict()\\nf'{foo}'.split('=')[0]\", \"foo = dict()\\nf'{foo}'#.split('=')[0]\", \"foo = dict()\\nf'{foo}='#.split('=')[0]\", \"foo = dict()\\nf'{foo}='.split('=')[0]\", 'vars()', \"vars()['123']=2\", '123', \"a='abc'\", \"vars()['abc']=2\", 'abc', 'vars', 'vars()', 'abc', \"vars()['abc']\", \"vars()['abc']=333\", \"vars()['abc']\", \"vars()['abc']=333\\nabc=222\", \"vars()['abc']\", \"id(vars()['abc'])\\nabc\", 'id(abc)', \"id(vars()['abc'])\", 'locals()', \"locals()['abc']\", 'abc', \"locals()['abc']\", 'abc', \"locals()['abc']=3\", 'abc', 'def fun():\\n    var = 123\\n    print \"Locals: \", locals()\\n    print \"Vars: \", vars()\\n    print \"Globals: \", globals()\\nfun()', 'def fun():\\n    var = 123\\n    print(\"Locals: \", locals())\\n    print(\"Vars: \", vars())\\n    print(\"Globals: \", globals())\\nfun()'], '_oh': {1: 2, 3: '{}', 4: '{}', 5: '{}=', 6: '{}', 7: {...}, 9: 123, 12: 2, 13: <built-in function vars>, 14: {...}, 15: 2, 16: 2, 18: 333, 20: 222, 21: 222, 22: 94655737734752, 23: 94655737734752, 24: {...}, 25: 222, 26: 222, 27: 222, 28: 222, 30: 3}, '_dh': ['/home/pan/django_projects/wtb'], 'In': ['', '1+1', \"foo = dict()\\nf'{foo=}'.split('=')[0]\", \"foo = dict()\\nf'{foo}'.split('=')[0]\", \"foo = dict()\\nf'{foo}'#.split('=')[0]\", \"foo = dict()\\nf'{foo}='#.split('=')[0]\", \"foo = dict()\\nf'{foo}='.split('=')[0]\", 'vars()', \"vars()['123']=2\", '123', \"a='abc'\", \"vars()['abc']=2\", 'abc', 'vars', 'vars()', 'abc', \"vars()['abc']\", \"vars()['abc']=333\", \"vars()['abc']\", \"vars()['abc']=333\\nabc=222\", \"vars()['abc']\", \"id(vars()['abc'])\\nabc\", 'id(abc)', \"id(vars()['abc'])\", 'locals()', \"locals()['abc']\", 'abc', \"locals()['abc']\", 'abc', \"locals()['abc']=3\", 'abc', 'def fun():\\n    var = 123\\n    print \"Locals: \", locals()\\n    print \"Vars: \", vars()\\n    print \"Globals: \", globals()\\nfun()', 'def fun():\\n    var = 123\\n    print(\"Locals: \", locals())\\n    print(\"Vars: \", vars())\\n    print(\"Globals: \", globals())\\nfun()'], 'Out': {1: 2, 3: '{}', 4: '{}', 5: '{}=', 6: '{}', 7: {...}, 9: 123, 12: 2, 13: <built-in function vars>, 14: {...}, 15: 2, 16: 2, 18: 333, 20: 222, 21: 222, 22: 94655737734752, 23: 94655737734752, 24: {...}, 25: 222, 26: 222, 27: 222, 28: 222, 30: 3}, 'get_ipython': <bound method InteractiveShell.get_ipython of <ipykernel.zmqshell.ZMQInteractiveShell object at 0x7fcdb0f1bc18>>, 'exit': <IPython.core.autocall.ZMQExitAutocall object at 0x7fcdadee7b38>, 'quit': <IPython.core.autocall.ZMQExitAutocall object at 0x7fcdadee7b38>, '_': 3, '__': 222, '___': 222, '_i': 'def fun():\\n    var = 123\\n    print \"Locals: \", locals()\\n    print \"Vars: \", vars()\\n    print \"Globals: \", globals()\\nfun()', '_ii': 'abc', '_iii': \"locals()['abc']=3\", '_i1': '1+1', '_1': 2, '_i2': \"foo = dict()\\nf'{foo=}'.split('=')[0]\", '_i3': \"foo = dict()\\nf'{foo}'.split('=')[0]\", 'foo': {}, '_3': '{}', '_i4': \"foo = dict()\\nf'{foo}'#.split('=')[0]\", '_4': '{}', '_i5': \"foo = dict()\\nf'{foo}='#.split('=')[0]\", '_5': '{}=', '_i6': \"foo = dict()\\nf'{foo}='.split('=')[0]\", '_6': '{}', '_i7': 'vars()', '_7': {...}, '_i8': \"vars()['123']=2\", '123': 2, '_i9': '123', '_9': 123, '_i10': \"a='abc'\", 'a': 'abc', '_i11': \"vars()['abc']=2\", 'abc': 3, '_i12': 'abc', '_12': 2, '_i13': 'vars', '_13': <built-in function vars>, '_i14': 'vars()', '_14': {...}, '_i15': 'abc', '_15': 2, '_i16': \"vars()['abc']\", '_16': 2, '_i17': \"vars()['abc']=333\", '_i18': \"vars()['abc']\", '_18': 333, '_i19': \"vars()['abc']=333\\nabc=222\", '_i20': \"vars()['abc']\", '_20': 222, '_i21': \"id(vars()['abc'])\\nabc\", '_21': 222, '_i22': 'id(abc)', '_22': 94655737734752, '_i23': \"id(vars()['abc'])\", '_23': 94655737734752, '_i24': 'locals()', '_24': {...}, '_i25': \"locals()['abc']\", '_25': 222, '_i26': 'abc', '_26': 222, '_i27': \"locals()['abc']\", '_27': 222, '_i28': 'abc', '_28': 222, '_i29': \"locals()['abc']=3\", '_i30': 'abc', '_30': 3, '_i31': 'def fun():\\n    var = 123\\n    print \"Locals: \", locals()\\n    print \"Vars: \", vars()\\n    print \"Globals: \", globals()\\nfun()', '_i32': 'def fun():\\n    var = 123\\n    print(\"Locals: \", locals())\\n    print(\"Vars: \", vars())\\n    print(\"Globals: \", globals())\\nfun()', 'fun': <function fun at 0x7fcdad6bf0d0>}\n"
     ]
    }
   ],
   "source": [
    "def fun():\n",
    "    var = 123\n",
    "    print(\"Locals: \", locals())\n",
    "    print(\"Vars: \", vars())\n",
    "    print(\"Globals: \", globals())\n",
    "fun()"
   ]
  },
  {
   "cell_type": "code",
   "execution_count": null,
   "metadata": {},
   "outputs": [],
   "source": []
  }
 ],
 "metadata": {
  "kernelspec": {
   "display_name": "Python 3",
   "language": "python",
   "name": "python3"
  },
  "language_info": {
   "codemirror_mode": {
    "name": "ipython",
    "version": 3
   },
   "file_extension": ".py",
   "mimetype": "text/x-python",
   "name": "python",
   "nbconvert_exporter": "python",
   "pygments_lexer": "ipython3",
   "version": "3.6.10"
  }
 },
 "nbformat": 4,
 "nbformat_minor": 4
}
