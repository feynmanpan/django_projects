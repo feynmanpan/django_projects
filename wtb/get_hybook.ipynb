{
 "cells": [
  {
   "cell_type": "code",
   "execution_count": 4,
   "metadata": {},
   "outputs": [
    {
     "name": "stdout",
     "output_type": "stream",
     "text": [
      "Overwriting get_hybook.py\n"
     ]
    }
   ],
   "source": [
    "#%%writefile get_hybook.py\n",
    "# -*- coding: utf-8 -*-\n",
    "#________________________________________________\n",
    "import os\n",
    "import django\n",
    "from django.utils import timezone\n",
    "#from django.utils.dateparse import parse_datetime\n",
    "from datetime import datetime,date#,timezone\n",
    "import pytz\n",
    "from bs4 import BeautifulSoup\n",
    "from bs4.element import NavigableString\n",
    "from difflib import SequenceMatcher\n",
    "from IPython.display import clear_output, display\n",
    "from time import sleep, time\n",
    "from threading import Thread\n",
    "from concurrent.futures import ThreadPoolExecutor,ProcessPoolExecutor \n",
    "\n",
    "from fake_useragent import UserAgent\n",
    "from fake_headers import Headers\n",
    "from pyquery import PyQuery as pq\n",
    "\n",
    "#\n",
    "import requests\n",
    "import pandas as pd\n",
    "import numpy as np\n",
    "import random\n",
    "import re\n",
    "import json\n",
    "import csv\n",
    "#\n",
    "from get_proxy import get_proxy\n",
    "#\n",
    "def get_hybook(page):\n",
    "    url_hybook=\"http://www.hybook.com.tw/search.asp?page=\"+str(page)\n",
    "    #\n",
    "    fake_header = Headers(\n",
    "        browser=\"chrome\",  # Generate only Chrome UA\n",
    "        os=\"win\",  # Generate ony Windows platform\n",
    "        headers=True  # generate misc headers\n",
    "    )    \n",
    "    UA=fake_header.generate()\n",
    "    #UA={'User-agent': 'Mozilla/5.0 (Windows NT 10.0; Win64; x64) AppleWebKit/537.36 (KHTML, like Gecko) Chrome/63.0.3239.132 Safari/537.36'}\n",
    "\n",
    "    \n",
    "    #\n",
    "    while True:\n",
    "        try:\n",
    "            ippo=get_proxy(which='free',now=True)\n",
    "            #print(ippo)\n",
    "            #ippo='103.241.227.107:6666'\n",
    "            proxies={\"http\": \"http://\"+ippo}\n",
    "            #\n",
    "            r = requests.get(url_hybook, \n",
    "                             headers=UA,\n",
    "                             #proxies=proxies,\n",
    "                             timeout=8,\n",
    "                             allow_redirects=False\n",
    "                            )\n",
    "            #r.encoding='utf-8'\n",
    "            r.encoding='big5'\n",
    "            doc=pq(r.text)\n",
    "            #print(r.content) #text有亂碼\n",
    "            r.close()\n",
    "\n",
    "            table=doc.find('table').eq(1)\n",
    "            trs=table.find('tr')\n",
    "            page=[]\n",
    "            for tr in trs:\n",
    "                tr=pq(tr)\n",
    "                row=''\n",
    "                for i in range(9):\n",
    "                    row+=tr.find('td').eq(i).text()+','\n",
    "                    #print(tr.find('td').eq(i).text())\n",
    "                #\n",
    "                row=row.strip(',')\n",
    "                page.append(row)\n",
    "            #\n",
    "            if len(page)==0:\n",
    "                raise Exception('norows')  \n",
    "            #\n",
    "            return page\n",
    "        except Exception as err:\n",
    "            print(str(err))\n",
    "            #page.append['page_'+str(page)+\"_\"+str(err)]\n",
    "            continue\n",
    "            "
   ]
  },
  {
   "cell_type": "code",
   "execution_count": 2,
   "metadata": {},
   "outputs": [
    {
     "name": "stdout",
     "output_type": "stream",
     "text": [
      "CPU times: user 46.8 ms, sys: 4.1 ms, total: 50.9 ms\n",
      "Wall time: 4.81 s\n"
     ]
    },
    {
     "data": {
      "text/plain": [
       "['作者,書名,ISBN編碼,ISBN條碼,廠商書號,建議售價,出版社,儲位,庫存',\n",
       " '曾俊宏,多複變函數論導引(精裝) 1229.D 絕版,,,000101585,250,曉園',\n",
       " 'Hoffman,線性代數問題詳解/上122A 絕版,,,000101592,80,曉園',\n",
       " 'Hoffman,線性代數問題詳解/下122B 絕版,,,000101608,80,曉園',\n",
       " '曾俊宏,解析數論(平裝)1230,,,000101615,300,曉園,40-45,-1',\n",
       " '曾俊宏,解析數論(平裝)1230,,,000101615,300,曉園,,76',\n",
       " '曾俊宏,解析數論(精裝)1230.D 絕版,,,000101622,330,曉園',\n",
       " '楊重駿,常微分方程式論(平裝)1231,,,000101639,380,曉園,40-45,2',\n",
       " '楊重駿,常微分方程式論(平裝)1231,,,000101639,380,曉園,,79',\n",
       " '林燦隆,應用多變數分析(平裝) 1232,,,000101646,380,曉園,40-45,4',\n",
       " '林燦隆,應用多變數分析(平裝) 1232,,,000101646,380,曉園,,79',\n",
       " '蕭欣忠,劇變論的哲學與數學基礎(平裝) 1233,,,000101653,350,曉園,40-45,1',\n",
       " '蕭欣忠,劇變論的哲學與數學基礎(平裝) 1233,,,000101653,350,曉園,,483',\n",
       " '蕭欣忠,劇變論的哲學與數學基礎(精裝) 1233.D,,,000101660,380,曉園',\n",
       " '蔡聰明,古典力學之數學方法 1234 絕版,,,000101677,310,曉園,,0',\n",
       " '蔡聰明,古典力學之數學方法(精裝)1234.D 絕版,,,000101684,350,曉園',\n",
       " '李嘉淦,代數位相學(平裝)1235,,,000101691,200,曉園,40-45,2',\n",
       " '李嘉淦,代數位相學(平裝)1235,,,000101691,200,曉園,,157',\n",
       " '李嘉淦,代數位相學(精裝)1235.D,,,000101707,270,曉園,40-45,0',\n",
       " '李嘉淦,代數位相學(精裝)1235.D,,,000101707,270,曉園,,10',\n",
       " '林聰源,數學與可信推理 POLAY 1236,,,000101714,350,曉園,40-45,2']"
      ]
     },
     "execution_count": 2,
     "metadata": {},
     "output_type": "execute_result"
    }
   ],
   "source": [
    "%time get_hybook(12)"
   ]
  },
  {
   "cell_type": "code",
   "execution_count": null,
   "metadata": {},
   "outputs": [],
   "source": [
    "a=time()\n",
    "b=time()\n",
    "b-a"
   ]
  },
  {
   "cell_type": "code",
   "execution_count": null,
   "metadata": {},
   "outputs": [],
   "source": []
  }
 ],
 "metadata": {
  "kernelspec": {
   "display_name": "Python 3",
   "language": "python",
   "name": "python3"
  },
  "language_info": {
   "codemirror_mode": {
    "name": "ipython",
    "version": 3
   },
   "file_extension": ".py",
   "mimetype": "text/x-python",
   "name": "python",
   "nbconvert_exporter": "python",
   "pygments_lexer": "ipython3",
   "version": "3.6.10"
  }
 },
 "nbformat": 4,
 "nbformat_minor": 4
}
