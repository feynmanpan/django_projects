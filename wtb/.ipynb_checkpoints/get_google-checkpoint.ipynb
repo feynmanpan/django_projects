{
 "cells": [
  {
   "cell_type": "code",
   "execution_count": 6,
   "metadata": {},
   "outputs": [],
   "source": [
    "#%load get_bookinfo.py\n",
    "#%run get_bookinfo.py\n",
    "# -*- coding: utf-8 -*-\n",
    "#________________________________________________\n",
    "import os\n",
    "import django\n",
    "from django.utils import timezone\n",
    "#from django.utils.dateparse import parse_datetime\n",
    "from datetime import datetime,date#,timezone\n",
    "import pytz\n",
    "from bs4 import BeautifulSoup\n",
    "from bs4.element import NavigableString\n",
    "from difflib import SequenceMatcher\n",
    "from IPython.display import clear_output, display\n",
    "from time import sleep, time\n",
    "from threading import Thread\n",
    "from fake_useragent import UserAgent\n",
    "from fake_headers import Headers\n",
    "from pyquery import PyQuery as pq\n",
    "#\n",
    "import requests\n",
    "import pandas as pd\n",
    "import numpy as np\n",
    "import random\n",
    "import re\n",
    "import json\n",
    "import csv"
   ]
  },
  {
   "cell_type": "code",
   "execution_count": 25,
   "metadata": {},
   "outputs": [
    {
     "name": "stdout",
     "output_type": "stream",
     "text": [
      "10\n",
      "10\n",
      "博客來-動盪：國家如何化解危局、成功轉型？（作者燙銀簽名精裝 ...\n",
      "博客來-動盪的日子\n",
      "博客來-動盪的世界：風險、人性與未來的前景\n",
      "博客來-動盪時代的管理\n",
      "博客來-動盪的青春：希特勒青年團寫真(電子書)\n",
      "博客來-動盪時代的企業責任：案例工具書\n",
      "博客來-動盪的亞洲外交：一位外交官的證言\n",
      "博客來-奮鬥吧！系統工程師(15) 大動盪？內部競合\n",
      "博客來-動盪世界的超級陰謀：驚天大謀殺\n",
      "博客來-Upheaval: Turning Points for Nations in Crisis\n",
      "\n",
      "\n",
      "\n",
      "\n",
      "\n",
      "\n",
      "\n",
      "\n",
      "\n",
      "\n"
     ]
    }
   ],
   "source": [
    "url_google=\"https://www.google.com/search?q=\"+\"動盪 博客來 isbn\"\n",
    "fake_header = Headers(\n",
    "    browser=\"chrome\",  # Generate only Chrome UA\n",
    "    os=\"win\",  # Generate ony Windows platform\n",
    "    headers=True  # generate misc headers\n",
    ")    \n",
    "UA=fake_header.generate()\n",
    "\n",
    "\n",
    "\n",
    "#\n",
    "r = requests.get(url_google, headers=UA,timeout=30)\n",
    "r.encoding='utf8'\n",
    "doc=pq(r.text)\n",
    "#print(r.text)\n",
    "r.close()\n",
    "#\n",
    "titles=doc.find(\"h3.LC20lb.DKV0Md\")\n",
    "pages=doc.find(\".csb\")\n",
    "print(titles.size())\n",
    "print(pages.size())\n",
    "for t in titles:\n",
    "    print(pq(t).text())\n",
    "for t in pages:\n",
    "    print(pq(t).text())    "
   ]
  },
  {
   "cell_type": "code",
   "execution_count": null,
   "metadata": {},
   "outputs": [],
   "source": []
  }
 ],
 "metadata": {
  "kernelspec": {
   "display_name": "Python 3",
   "language": "python",
   "name": "python3"
  },
  "language_info": {
   "codemirror_mode": {
    "name": "ipython",
    "version": 3
   },
   "file_extension": ".py",
   "mimetype": "text/x-python",
   "name": "python",
   "nbconvert_exporter": "python",
   "pygments_lexer": "ipython3",
   "version": "3.6.10"
  }
 },
 "nbformat": 4,
 "nbformat_minor": 4
}
