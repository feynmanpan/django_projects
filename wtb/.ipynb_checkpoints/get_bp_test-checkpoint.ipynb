{
 "cells": [
  {
   "cell_type": "code",
   "execution_count": 1,
   "metadata": {},
   "outputs": [],
   "source": [
    "#%%writefile get_bookprice.py\n",
    "#%load get_bookprice.py\n",
    "#%run get_bookprice.py\n",
    "# -*- coding: utf-8 -*-\n",
    "#________________________________________________\n",
    "import os\n",
    "import django\n",
    "from django.utils import timezone\n",
    "from django.db.models import Q\n",
    "#from django.utils.dateparse import parse_datetime\n",
    "from datetime import datetime,date#,timezone\n",
    "import pytz\n",
    "from bs4 import BeautifulSoup\n",
    "from bs4.element import NavigableString\n",
    "from difflib import SequenceMatcher\n",
    "from IPython.display import clear_output, display\n",
    "from time import sleep, time\n",
    "from threading import Thread\n",
    "from fake_useragent import UserAgent\n",
    "from fake_headers import Headers\n",
    "from pyquery import PyQuery as pq\n",
    "#\n",
    "from selenium import webdriver\n",
    "from selenium.webdriver.common.action_chains import ActionChains\n",
    "from selenium.webdriver.chrome.options import Options\n",
    "from selenium.common.exceptions import NoSuchElementException\n",
    "from selenium.webdriver.common.keys import Keys\n",
    "#\n",
    "import requests\n",
    "import urllib.parse\n",
    "import pandas as pd\n",
    "import numpy as np\n",
    "import random\n",
    "import re\n",
    "import json\n",
    "import csv\n",
    "#\n",
    "from get_proxy import get_proxy\n",
    "from get_mollie import get_mollie\n",
    "#\n",
    "os.environ.setdefault('DJANGO_SETTINGS_MODULE', 'wtb.settings')\n",
    "os.environ[\"DJANGO_ALLOW_ASYNC_UNSAFE\"] = \"true\"\n",
    "django.setup()\n",
    "from mainsite.models import Bookinfo,Bookprice,Store\n",
    "from dict_stores import url_qs"
   ]
  },
  {
   "cell_type": "code",
   "execution_count": 4,
   "metadata": {},
   "outputs": [],
   "source": [
    "isbn='9789863125501'\n",
    "isbn13=''\n",
    "#露天_https://rtapi.ruten.com.tw/api/search/v2/index.php/m/core/prod?q=9789571371870\n",
    "url_q='https://www.tenlong.com.tw/search?keyword='+isbn+\"+\"+isbn13\n",
    "#print(url_q)\n",
    "#\n",
    "fake_header = Headers(\n",
    "    browser=\"chrome\",  # Generate only Chrome UA\n",
    "    os=\"win\",  # Generate ony Windows platform\n",
    "    headers=True  # generate misc headers\n",
    ")    \n",
    "UA=fake_header.generate()  \n",
    "ippo=get_proxy(which=\"OK\",now=True)\n",
    "proxies={\n",
    "        \"http\": \"http://\"+ippo,\n",
    "        #\"https\": \"http://\"+ippo\n",
    "        } \n",
    "r = requests.get(url_q, \n",
    "                 headers=UA,\n",
    "                 proxies=proxies,\n",
    "                 #cookies=cookies,\n",
    "                 #allow_redirects=False,\n",
    "                 timeout=20)    \n",
    "r.encoding='utf8'\n",
    "#print(r.text)\n",
    "#\n",
    "doc=pq(r.text)\n",
    "r.close()\n"
   ]
  },
  {
   "cell_type": "code",
   "execution_count": 7,
   "metadata": {},
   "outputs": [
    {
     "data": {
      "text/plain": [
       "('790', 'https://www.tenlong.com.tw/products/9789863125501?list_name=srh')"
      ]
     },
     "execution_count": 7,
     "metadata": {},
     "output_type": "execute_result"
    }
   ],
   "source": [
    "price_sale=doc.find('.pricing .price').text().replace('售價: $','') or ''\n",
    "url_book=doc.find('.cover').attr('href') or ''\n",
    "if url_book:\n",
    "    url_book='https://www.tenlong.com.tw'+url_book    \n",
    "\n",
    "price_sale,url_book"
   ]
  },
  {
   "cell_type": "code",
   "execution_count": null,
   "metadata": {},
   "outputs": [],
   "source": [
    "[1,2,3,]"
   ]
  },
  {
   "cell_type": "code",
   "execution_count": null,
   "metadata": {},
   "outputs": [],
   "source": []
  }
 ],
 "metadata": {
  "kernelspec": {
   "display_name": "Python 3",
   "language": "python",
   "name": "python3"
  },
  "language_info": {
   "codemirror_mode": {
    "name": "ipython",
    "version": 3
   },
   "file_extension": ".py",
   "mimetype": "text/x-python",
   "name": "python",
   "nbconvert_exporter": "python",
   "pygments_lexer": "ipython3",
   "version": "3.6.10"
  }
 },
 "nbformat": 4,
 "nbformat_minor": 4
}
