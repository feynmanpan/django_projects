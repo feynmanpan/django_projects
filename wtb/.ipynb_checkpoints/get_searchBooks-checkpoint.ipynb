{
 "cells": [
  {
   "cell_type": "code",
   "execution_count": 2,
   "metadata": {},
   "outputs": [
    {
     "name": "stdout",
     "output_type": "stream",
     "text": [
      "Overwriting get_searchBooks.py\n"
     ]
    }
   ],
   "source": [
    "#%%writefile get_searchBooks.py\n",
    "# -*- coding: utf-8 -*-\n",
    "#________________________________________________\n",
    "import os\n",
    "import django\n",
    "from django.utils import timezone\n",
    "#from django.utils.dateparse import parse_datetime\n",
    "from datetime import datetime,date#,timezone\n",
    "import pytz\n",
    "from bs4 import BeautifulSoup\n",
    "from bs4.element import NavigableString\n",
    "from difflib import SequenceMatcher\n",
    "from IPython.display import clear_output, display\n",
    "from time import sleep, time\n",
    "from threading import Thread\n",
    "from concurrent.futures import ThreadPoolExecutor,ProcessPoolExecutor \n",
    "\n",
    "from fake_useragent import UserAgent\n",
    "from fake_headers import Headers\n",
    "from pyquery import PyQuery as pq\n",
    "\n",
    "#\n",
    "import requests\n",
    "import pandas as pd\n",
    "import numpy as np\n",
    "import random\n",
    "import re\n",
    "import json\n",
    "import csv\n",
    "#\n",
    "from get_proxy import get_proxy\n",
    "\n",
    "#_________________________________________________\n",
    "def get_searchBooks(kw:str='村上春樹',which='free',now=False):\n",
    "    #kw=\"動盪\"\n",
    "    url_searchbooks=\"https://search.books.com.tw/search/query/cat/BKA/key/\"+kw\n",
    "    #\n",
    "    fake_header = Headers(\n",
    "        browser=\"chrome\",  # Generate only Chrome UA\n",
    "        os=\"win\",  # Generate ony Windows platform\n",
    "        headers=True  # generate misc headers\n",
    "    )    \n",
    "    UA=fake_header.generate()\n",
    "    ippo=get_proxy('OK',now)\n",
    "    proxies={\"http\": \"http://\"+ippo}\n",
    "    #\n",
    "    r = requests.get(url_searchbooks, \n",
    "                     headers=UA,\n",
    "                     proxies=proxies,\n",
    "                     timeout=30)\n",
    "    r.encoding='utf8'\n",
    "    doc=pq(r.text)\n",
    "    r.close()\n",
    "    #\n",
    "    searchbooks=doc.find(\"#searchlist .searchbook\")\n",
    "    items=searchbooks.find(\".item\")\n",
    "    n=items.size()\n",
    "    results=[]    \n",
    "    if n==0:\n",
    "        return json.dumps(results,default=str,ensure_ascii=False)\n",
    "    if n>10:\n",
    "        n=10\n",
    "    #最多取10筆結果________________\n",
    "    for i in range(n):\n",
    "        book={}\n",
    "        item=items.eq(i)\n",
    "        #整理資料====================================\n",
    "        #book['bookid']=item.find(\"div.input_buy input\").attr('value')     \n",
    "        #有些沒checkbox\n",
    "        href=item.find(\"a[rel=mid_name]\").attr('href')                \n",
    "        bookid=re.search('/mid/item/(.+?)/page',href).group(1)\n",
    "        book['bookid']=bookid        \n",
    "        src=item.find(\"img.itemcov\").attr(\"data-original\")\n",
    "        if 'restricted18' in src:\n",
    "            #18禁先不搜\n",
    "            continue\n",
    "        #    \n",
    "        book['src']=src\n",
    "        \n",
    "        book['title']=item.find(\"a[rel=mid_name]\").text()\n",
    "        #\n",
    "        authors=''\n",
    "        for a in item.find(\"a[rel=go_author]\"):\n",
    "            authors+=pq(a).text()+\"/\"\n",
    "        book['author']=authors.strip(\"/\")\n",
    "        #\n",
    "        book['publisher']=item.find(\"a[rel=mid_publish]\").text()\n",
    "        book['pub_dt']=re.search('出版日期[^0-9]+?([0-9\\-]+)',item.text()).group(1)\n",
    "        count_off= item.find('span.price').find(\"b\").eq(0).text().ljust(2,'0')\n",
    "        price_sale=item.find('span.price').find(\"b\").eq(1).text()\n",
    "        if price_sale:\n",
    "            price_list=int(price_sale)*100//int(count_off)\n",
    "        else:\n",
    "            price_list=int(count_off) #沒有折扣\n",
    "        #book['sale']=count_off+\"_\"+price_sale\n",
    "        book['price_list']=price_list\n",
    "        intro=item.find('span.price').next().text()\n",
    "        intro=re.sub('\\.+? *more','',intro)\n",
    "        book['intro']=intro\n",
    "        #\n",
    "        results.append(book)    \n",
    "    \n",
    "    #___________________\n",
    "    results=json.dumps(results,default=str,ensure_ascii=False) \n",
    "    return results"
   ]
  },
  {
   "cell_type": "code",
   "execution_count": 4,
   "metadata": {},
   "outputs": [
    {
     "name": "stdout",
     "output_type": "stream",
     "text": [
      "CPU times: user 26 ms, sys: 2.98 ms, total: 28.9 ms\n",
      "Wall time: 314 ms\n"
     ]
    },
    {
     "data": {
      "text/plain": [
       "'[{\"src\": \"https://im1.book.com.tw/image/getImage?i=https://www.books.com.tw/img/001/047/91/0010479119.jpg&w=85&h=120&v=54bceab9\", \"title\": \"利休之死\", \"bookid\": \"0010479119\", \"author\": \"山本兼一/張智淵\", \"publisher\": \"台灣商務\", \"pub_dt\": \"2010-09-01\", \"price_list\": 360, \"intro\": \"為了茶道和美，連生命也可以拋棄 釜中的水聲宛如吹過松樹的風聲般響起， 利休閉上雙眼，黑暗中清楚地浮現一張凜然的女人臉龐。 那一天，利休讓女人喝了茶。 從此之後，利休的茶道通往了寂寥的另\"}]'"
      ]
     },
     "execution_count": 4,
     "metadata": {},
     "output_type": "execute_result"
    }
   ],
   "source": [
    "kw='0010479119'\n",
    "#%time get_searchBooks(kw)\n",
    "%time get_searchBooks(kw,True)"
   ]
  },
  {
   "cell_type": "markdown",
   "metadata": {},
   "source": [
    "results=[]\n",
    "for i in range(10):\n",
    "    book={}\n",
    "    item=items.eq(i)\n",
    "    #\n",
    "    book['bookid']=item.find(\"div.input_buy input\").attr('value')\n",
    "    book['src']=item.find(\"img.itemcov\").attr(\"data-original\")\n",
    "    book['title']=item.find(\"a[rel=mid_name]\").text()\n",
    "    #\n",
    "    authors=''\n",
    "    for a in item.find(\"a[rel=go_author]\"):\n",
    "        authors+=pq(a).text()+\"/\"\n",
    "    book['author']=authors.strip(\"/\")\n",
    "    #\n",
    "    book['publisher']=item.find(\"a[rel=mid_publish]\").text()\n",
    "    book['pub_dt']=re.search('出版日期[^0-9]+?([0-9\\-]+)',item.text()).group(1)\n",
    "    count_off= item.find('span.price').find(\"b\").eq(0).text().ljust(2,'0')\n",
    "    price_sale=item.find('span.price').find(\"b\").eq(1).text()\n",
    "    price_list=int(price_sale)*100//int(count_off)\n",
    "    #book['sale']=count_off+\"_\"+price_sale\n",
    "    book['price_list']=price_list\n",
    "    #\n",
    "    results.append(book)\n",
    "results \n",
    "json.dumps(results,default=str,ensure_ascii=False) "
   ]
  },
  {
   "cell_type": "code",
   "execution_count": 2,
   "metadata": {},
   "outputs": [
    {
     "data": {
      "text/plain": [
       "'22dd'"
      ]
     },
     "execution_count": 2,
     "metadata": {},
     "output_type": "execute_result"
    }
   ],
   "source": [
    "'22dd'.ljust(2,'0')"
   ]
  },
  {
   "cell_type": "code",
   "execution_count": null,
   "metadata": {},
   "outputs": [],
   "source": []
  }
 ],
 "metadata": {
  "kernelspec": {
   "display_name": "Python 3",
   "language": "python",
   "name": "python3"
  },
  "language_info": {
   "codemirror_mode": {
    "name": "ipython",
    "version": 3
   },
   "file_extension": ".py",
   "mimetype": "text/x-python",
   "name": "python",
   "nbconvert_exporter": "python",
   "pygments_lexer": "ipython3",
   "version": "3.6.10"
  }
 },
 "nbformat": 4,
 "nbformat_minor": 4
}
