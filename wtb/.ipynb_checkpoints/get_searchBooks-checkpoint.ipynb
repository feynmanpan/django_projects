{
 "cells": [
  {
   "cell_type": "code",
   "execution_count": 35,
   "metadata": {},
   "outputs": [],
   "source": [
    "#%%writefile get_searchBooks.py\n",
    "# -*- coding: utf-8 -*-\n",
    "#________________________________________________\n",
    "import os\n",
    "import django\n",
    "from django.utils import timezone\n",
    "#from django.utils.dateparse import parse_datetime\n",
    "from datetime import datetime,date#,timezone\n",
    "import pytz\n",
    "from bs4 import BeautifulSoup\n",
    "from bs4.element import NavigableString\n",
    "from difflib import SequenceMatcher\n",
    "from IPython.display import clear_output, display\n",
    "from time import sleep, time\n",
    "from threading import Thread\n",
    "from concurrent.futures import ThreadPoolExecutor,ProcessPoolExecutor \n",
    "\n",
    "from fake_useragent import UserAgent\n",
    "from fake_headers import Headers\n",
    "from pyquery import PyQuery as pq\n",
    "\n",
    "#\n",
    "import requests\n",
    "import pandas as pd\n",
    "import numpy as np\n",
    "import random\n",
    "import re\n",
    "import json\n",
    "import csv\n",
    "#\n",
    "from get_proxy import get_proxy\n",
    "\n",
    "#_________________________________________________\n",
    "def get_searchBooks(kw:str='村上春樹',which='free',now=False):\n",
    "    #kw=\"動盪\"\n",
    "    url_searchbooks=\"https://search.books.com.tw/search/query/cat/BKA/key/\"+kw\n",
    "    #\n",
    "    fake_header = Headers(\n",
    "        browser=\"chrome\",  # Generate only Chrome UA\n",
    "        os=\"win\",  # Generate ony Windows platform\n",
    "        headers=True  # generate misc headers\n",
    "    )    \n",
    "    UA=fake_header.generate()\n",
    "    #UA= {'user-agent': 'Mozilla/5.0 (Windows NT 10.0; Win64; x64) AppleWebKit/537.36 (KHTML, like Gecko) Chrome/63.0.3239.132 Safari/537.36'}\n",
    "    ippo=get_proxy(which,now)\n",
    "    proxies={\"http\": \"http://\"+ippo}\n",
    "    #\n",
    "    try:\n",
    "        r = requests.get(url_searchbooks, \n",
    "                         headers=UA,\n",
    "                         proxies=proxies,\n",
    "                         timeout=30)\n",
    "        r.encoding='utf8'\n",
    "        #print(r.text)\n",
    "        doc=pq(r.text)\n",
    "        r.close()\n",
    "        #\n",
    "        searchbooks=doc.find(\"#searchlist .searchbook\")\n",
    "        items=searchbooks.find(\".item\")\n",
    "        n=items.size()\n",
    "        results=[]    \n",
    "        if n==0:\n",
    "            return json.dumps(results,default=str,ensure_ascii=False)\n",
    "        if n>10:\n",
    "            n=10\n",
    "        #最多取10筆結果________________\n",
    "        for i in range(n):\n",
    "            book={}\n",
    "            item=items.eq(i)\n",
    "            #整理資料====================================\n",
    "            #book['bookid']=item.find(\"div.input_buy input\").attr('value')     \n",
    "            #有些沒checkbox\n",
    "            href=item.find(\"a[rel=mid_name]\").attr('href')                \n",
    "            bookid=re.search('/mid/item/(.+?)/page',href).group(1)\n",
    "            book['bookid']=bookid        \n",
    "            src=item.find(\"img.itemcov\").attr(\"data-original\")\n",
    "            if 'restricted18' in src:\n",
    "                #18禁先不搜\n",
    "                continue\n",
    "            #    \n",
    "            book['src']=src\n",
    "\n",
    "            book['title']=item.find(\"a[rel=mid_name]\").text()\n",
    "            #\n",
    "            authors=''\n",
    "            for a in item.find(\"a[rel=go_author]\"):\n",
    "                authors+=pq(a).text()+\"/\"\n",
    "            book['author']=authors.strip(\"/\")\n",
    "            #\n",
    "            book['publisher']=item.find(\"a[rel=mid_publish]\").text()\n",
    "            book['pub_dt']=re.search('出版日期[^0-9]+?([0-9\\-]+)',item.text()).group(1)\n",
    "            count_off= item.find('span.price').find(\"b\").eq(0).text().ljust(2,'0')\n",
    "            price_sale=item.find('span.price').find(\"b\").eq(1).text()\n",
    "            if price_sale:\n",
    "                price_list=int(price_sale)*100//int(count_off)\n",
    "            else:\n",
    "                price_list=int(count_off) #沒有折扣\n",
    "            #book['sale']=count_off+\"_\"+price_sale\n",
    "            book['price_list']=price_list\n",
    "            intro=item.find('span.price').next().text()\n",
    "            intro=re.sub('\\.+? *more','',intro)\n",
    "            book['intro']=intro\n",
    "            #\n",
    "            results.append(book)    \n",
    "\n",
    "        #___________________\n",
    "        results=json.dumps(results,default=str,ensure_ascii=False) \n",
    "        return results\n",
    "    except Exception as err:\n",
    "        return ''#str(err)"
   ]
  },
  {
   "cell_type": "code",
   "execution_count": 36,
   "metadata": {},
   "outputs": [
    {
     "name": "stdout",
     "output_type": "stream",
     "text": [
      "CPU times: user 66.5 ms, sys: 1.18 ms, total: 67.6 ms\n",
      "Wall time: 1.83 s\n"
     ]
    },
    {
     "data": {
      "text/plain": [
       "'[{\"bookid\": \"0010771883\", \"src\": \"https://im1.book.com.tw/image/getImage?i=https://www.books.com.tw/img/001/077/18/0010771883.jpg&w=85&h=120&v=5a2531bb\", \"title\": \"新制多益 NEW TOEIC 單字大全：2018起多益更新單字資訊完全掌握!(附13小時8種版本MP3)\", \"author\": \"David Cho/張育菁/許竹瑩\", \"publisher\": \"國際學村\", \"pub_dt\": \"2017-12-15\", \"price_list\": 498, \"intro\": \"十年淬鍊，百萬考生唯一推薦的新制多益單字書! 不管題型如何變化，持續更新內容，準確度最高! 30天激增300分的多益字彙! 看完本書，許多考生考完後驚呼「裡面的重點有考到」! 依2018年最新改版多益\"}, {\"bookid\": \"0010827891\", \"src\": \"https://im1.book.com.tw/image/getImage?i=https://www.books.com.tw/img/001/082/78/0010827891.jpg&w=85&h=120&v=5d231b97\", \"title\": \"新制多益NEW TOEIC聽力/閱讀題庫解析【博客來獨家套書】(附4 MP3)\", \"author\": \"Hackers Academia/劉徽/胡佩萱/莊靜怡/談采薇/陳靖婷\", \"publisher\": \"國際學村\", \"pub_dt\": \"2019-08-08\", \"price_list\": 1760, \"intro\": \"套書內容：《新制多益NEW TOEIC聽力題庫解析》、《新制多益NEW TOEIC閱讀題庫解析》 從舊制跨越新制，永遠精準的多益模擬試題! 不管是短期衝刺高分、長期累積實力，還是老師教學的課堂\"}, {\"bookid\": \"0010848635\", \"src\": \"https://im1.book.com.tw/image/getImage?i=https://www.books.com.tw/img/001/084/86/0010848635.jpg&w=85&h=120&v=5e3401b1\", \"title\": \"新制多益NEW TOEIC單字/閱讀/聽力題庫大全【博客來獨家套書】：最完備、全面的新制多益學習套書(附4 MP3+互動式聽力答題訓練光碟)\", \"author\": \"David Cho/Joung/張育菁/張芳綺/簡郁珮/胡佩萱/許竹瑩/陳靖婷\", \"publisher\": \"國際學村\", \"pub_dt\": \"2020-02-25\", \"price_list\": 2259, \"intro\": \"套書內容：《新制多益 NEW TOEIC 單字大全》、 《新制多益 NEW TOEIC 聽力題庫大全》、《新制多益 NEW TOEIC 閱讀題庫大全》 稱霸12年!多益界唯一巨著! 讓最\"}, {\"bookid\": \"0010771576\", \"src\": \"https://im1.book.com.tw/image/getImage?i=https://www.books.com.tw/img/001/077/15/0010771576.jpg&w=85&h=120&v=5a26836c\", \"title\": \"新制多益 NEW TOEIC 閱讀題庫大全：2018起多益題型更新完全剖析!(雙書裝+1MP3)\", \"author\": \"David Cho/簡郁珮/胡佩萱\", \"publisher\": \"國際學村\", \"pub_dt\": \"2017-12-15\", \"price_list\": 880, \"intro\": \"新制多益考題難度翻倍提高、題型多變，你準備好了嗎? 最具權威David Cho博士，掌握新制多益的最新趨勢， 率先掌握全面改版的多益題型，最能反映多益現況! 十年制霸，唯一聖經級多益參考書! 百萬考生\"}, {\"bookid\": \"0010474434\", \"src\": \"https://im1.book.com.tw/image/getImage?i=https://www.books.com.tw/img/001/047/44/0010474434.jpg&w=85&h=120&v=56793439\", \"title\": \"我的第一本韓語課本(附MP3)\", \"author\": \"吳承恩/夏曉敏\", \"publisher\": \"國際學村\", \"pub_dt\": \"2010-07-08\", \"price_list\": 398, \"intro\": \"寫給外國人自學的韓語入門書 完全為初學者量身打造 本書適用完全初學、從零開始的韓文學習者! 一次同時學會「發音、句型、文法、會話」的韓語課本 分解式 & 圖解式發音規則介紹 20個實用生活場景 \"}, {\"bookid\": \"0010771691\", \"src\": \"https://im1.book.com.tw/image/getImage?i=https://www.books.com.tw/img/001/077/16/0010771691.jpg&w=85&h=120&v=5a26836c\", \"title\": \"新制多益 NEW TOEIC 聽力題庫大全：2018起多益題型更新完全剖析!(雙書裝+2 MP3+互動式聽力答題訓練光碟)\", \"author\": \"David Cho/Joung/張芳綺/陳靖婷\", \"publisher\": \"國際學村\", \"pub_dt\": \"2017-12-15\", \"price_list\": 880, \"intro\": \"新制多益，考題難度翻倍提高、題型多變，你準備好了嗎? 最具權威David Cho博士，掌握新制多益的最新趨勢， 率先掌握全面改版的多益題型，最能反映多益現況! 十年制霸，唯一聖經級多益參考書! 百萬考\"}, {\"bookid\": \"0010827901\", \"src\": \"https://im1.book.com.tw/image/getImage?i=https://www.books.com.tw/img/001/082/79/0010827901.jpg&w=85&h=120&v=5d4410d3\", \"title\": \"新制多益TOEIC聽力+閱讀全方位指南：第一次考多益就高分!一本搞定「聽力+閱讀+文法+單字+模擬試題」(附MP3)\", \"author\": \"Hackers Academia/Tina\", \"publisher\": \"國際學村\", \"pub_dt\": \"2019-08-16\", \"price_list\": 798, \"intro\": \"考生們口耳相傳、考多益必備!!! 新制多益「閱讀題庫大全+聽力題庫大全」之解題精華濃縮版 為忙碌現代人設計的「短期速效集中特訓」 一本搞定「聽力+閱讀+文法+單字+模擬試題」! 關鍵單\"}, {\"bookid\": \"0010781263\", \"src\": \"https://im1.book.com.tw/image/getImage?i=https://www.books.com.tw/img/001/078/12/0010781263.jpg&w=85&h=120&v=5a9d1c39\", \"title\": \"新制多益 NEW TOEIC 閱讀題庫解析：2018起多益更新試題完全解密!(雙書裝+1 MP3)\", \"author\": \"Hackers Academia/莊靜怡/談采薇/陳靖婷\", \"publisher\": \"國際學村\", \"pub_dt\": \"2018-03-30\", \"price_list\": 880, \"intro\": \"最新閱讀10回試題，教你完全征服新制題型! 領先全亞洲!「新制多益」第一手實測分析! 韓國最強多益破解機構， 堅持每月入場應考，剖析真實出題傾向， 全新編寫10回模擬試題! 最逼真的考題+最詳盡的解說\"}, {\"bookid\": \"0010792645\", \"src\": \"https://im1.book.com.tw/image/getImage?i=https://www.books.com.tw/img/001/079/26/0010792645.jpg&w=85&h=120&v=5b4dd33c\", \"title\": \"新制多益TOEIC題庫解析：狠準5回聽力+閱讀模擬試題，完全反映最新命題趨勢、全方位建立新制多益實戰能力!(雙書裝+2MP3)\", \"author\": \"Hackers Academia/Joung/莊靜怡/許竹瑩/談采薇\", \"publisher\": \"國際學村\", \"pub_dt\": \"2018-08-07\", \"price_list\": 798, \"intro\": \"抓題狠、準度高、解題詳盡清楚! 聽力+閱讀 5 回全真試題陪你進考場! 從舊制到新制，韓國 13 年來永遠第一的多益試題書! David Cho 老師領軍，最強多益破解機構 Hackers Acade\"}, {\"bookid\": \"0010505609\", \"src\": \"https://im1.book.com.tw/image/getImage?i=https://www.books.com.tw/img/001/050/56/0010505609.jpg&w=85&h=120&v=56813960\", \"title\": \"我的第一本韓語文法：輕鬆圖解一看就懂的韓語文法入門書(附MP3)\", \"author\": \"安辰明、李炅雅、韓厚英/李郁雯\", \"publisher\": \"國際學村\", \"pub_dt\": \"2011-05-19\", \"price_list\": 450, \"intro\": \"全國第一本韓語文法學習書!輕鬆圖解讓你一看就懂! 只學會40音也能快速打好韓語文法基礎 專門寫給學韓語的外國人使用的韓語文法課本! 內含24個實用單元、107項韓語文法一本書就學會 根據實用目\"}]'"
      ]
     },
     "execution_count": 36,
     "metadata": {},
     "output_type": "execute_result"
    }
   ],
   "source": [
    "kw='村'\n",
    "#%time get_searchBooks(kw)\n",
    "%time get_searchBooks(kw,'OK',True)"
   ]
  },
  {
   "cell_type": "markdown",
   "metadata": {},
   "source": [
    "results=[]\n",
    "for i in range(10):\n",
    "    book={}\n",
    "    item=items.eq(i)\n",
    "    #\n",
    "    book['bookid']=item.find(\"div.input_buy input\").attr('value')\n",
    "    book['src']=item.find(\"img.itemcov\").attr(\"data-original\")\n",
    "    book['title']=item.find(\"a[rel=mid_name]\").text()\n",
    "    #\n",
    "    authors=''\n",
    "    for a in item.find(\"a[rel=go_author]\"):\n",
    "        authors+=pq(a).text()+\"/\"\n",
    "    book['author']=authors.strip(\"/\")\n",
    "    #\n",
    "    book['publisher']=item.find(\"a[rel=mid_publish]\").text()\n",
    "    book['pub_dt']=re.search('出版日期[^0-9]+?([0-9\\-]+)',item.text()).group(1)\n",
    "    count_off= item.find('span.price').find(\"b\").eq(0).text().ljust(2,'0')\n",
    "    price_sale=item.find('span.price').find(\"b\").eq(1).text()\n",
    "    price_list=int(price_sale)*100//int(count_off)\n",
    "    #book['sale']=count_off+\"_\"+price_sale\n",
    "    book['price_list']=price_list\n",
    "    #\n",
    "    results.append(book)\n",
    "results \n",
    "json.dumps(results,default=str,ensure_ascii=False) "
   ]
  },
  {
   "cell_type": "code",
   "execution_count": 2,
   "metadata": {},
   "outputs": [
    {
     "data": {
      "text/plain": [
       "'22dd'"
      ]
     },
     "execution_count": 2,
     "metadata": {},
     "output_type": "execute_result"
    }
   ],
   "source": [
    "'22dd'.ljust(2,'0')"
   ]
  },
  {
   "cell_type": "code",
   "execution_count": null,
   "metadata": {},
   "outputs": [],
   "source": []
  }
 ],
 "metadata": {
  "kernelspec": {
   "display_name": "Python 3",
   "language": "python",
   "name": "python3"
  },
  "language_info": {
   "codemirror_mode": {
    "name": "ipython",
    "version": 3
   },
   "file_extension": ".py",
   "mimetype": "text/x-python",
   "name": "python",
   "nbconvert_exporter": "python",
   "pygments_lexer": "ipython3",
   "version": "3.6.10"
  }
 },
 "nbformat": 4,
 "nbformat_minor": 4
}
