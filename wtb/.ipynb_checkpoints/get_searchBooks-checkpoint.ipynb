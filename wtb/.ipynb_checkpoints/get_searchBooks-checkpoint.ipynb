{
 "cells": [
  {
   "cell_type": "code",
   "execution_count": 74,
   "metadata": {},
   "outputs": [
    {
     "name": "stdout",
     "output_type": "stream",
     "text": [
      "Overwriting get_searchBooks.py\n"
     ]
    }
   ],
   "source": [
    "%%writefile get_searchBooks.py\n",
    "# -*- coding: utf-8 -*-\n",
    "#________________________________________________\n",
    "import os\n",
    "import django\n",
    "from django.utils import timezone\n",
    "#from django.utils.dateparse import parse_datetime\n",
    "from datetime import datetime,date#,timezone\n",
    "import pytz\n",
    "from bs4 import BeautifulSoup\n",
    "from bs4.element import NavigableString\n",
    "from difflib import SequenceMatcher\n",
    "from IPython.display import clear_output, display\n",
    "from time import sleep, time\n",
    "from threading import Thread\n",
    "from concurrent.futures import ThreadPoolExecutor,ProcessPoolExecutor \n",
    "\n",
    "from fake_useragent import UserAgent\n",
    "from fake_headers import Headers\n",
    "from pyquery import PyQuery as pq\n",
    "\n",
    "#\n",
    "import requests\n",
    "import pandas as pd\n",
    "import numpy as np\n",
    "import random\n",
    "import re\n",
    "import json\n",
    "import csv\n",
    "#\n",
    "from get_proxy import get_proxy\n",
    "\n",
    "\n",
    "def get_searchBooks(kw:str='村上春樹'):\n",
    "    #kw=\"動盪\"\n",
    "    url_searchbooks=\"https://search.books.com.tw/search/query/cat/BKA/key/\"+kw\n",
    "    #\n",
    "    fake_header = Headers(\n",
    "        browser=\"chrome\",  # Generate only Chrome UA\n",
    "        os=\"win\",  # Generate ony Windows platform\n",
    "        headers=True  # generate misc headers\n",
    "    )    \n",
    "    UA=fake_header.generate()\n",
    "    proxies={\"http\": \"http://\"+get_proxy('OK')}\n",
    "    #\n",
    "    r = requests.get(url_searchbooks, \n",
    "                     headers=UA,\n",
    "                     proxies=proxies,\n",
    "                     timeout=30)\n",
    "    r.encoding='utf8'\n",
    "    doc=pq(r.text)\n",
    "    #print(r.text)\n",
    "    r.close()\n",
    "    #\n",
    "    searchbooks=doc.find(\"#searchlist .searchbook\")\n",
    "    items=searchbooks.find(\".item\")\n",
    "    n=items.size()\n",
    "    if n==0:\n",
    "        return 'noitems'\n",
    "    if n>10:\n",
    "        n=10\n",
    "    #\n",
    "    results=[]\n",
    "    for i in range(n):\n",
    "        book={}\n",
    "        item=items.eq(i)\n",
    "        #\n",
    "        book['bookid']=item.find(\"div.input_buy input\").attr('value')\n",
    "        book['src']=item.find(\"img.itemcov\").attr(\"data-original\")\n",
    "        book['title']=item.find(\"a[rel=mid_name]\").text()\n",
    "        #\n",
    "        authors=''\n",
    "        for a in item.find(\"a[rel=go_author]\"):\n",
    "            authors+=pq(a).text()+\"/\"\n",
    "        book['author']=authors.strip(\"/\")\n",
    "        #\n",
    "        book['publisher']=item.find(\"a[rel=mid_publish]\").text()\n",
    "        book['pub_dt']=re.search('出版日期[^0-9]+?([0-9\\-]+)',item.text()).group(1)\n",
    "        count_off= item.find('span.price').find(\"b\").eq(0).text().ljust(2,'0')\n",
    "        price_sale=item.find('span.price').find(\"b\").eq(1).text()\n",
    "        price_list=int(price_sale)*100//int(count_off)\n",
    "        #book['sale']=count_off+\"_\"+price_sale\n",
    "        book['price_list']=price_list\n",
    "        #\n",
    "        results.append(book)    \n",
    "    \n",
    "    #\n",
    "    results=json.dumps(results,default=str,ensure_ascii=False) \n",
    "    return results"
   ]
  },
  {
   "cell_type": "code",
   "execution_count": 73,
   "metadata": {},
   "outputs": [
    {
     "name": "stdout",
     "output_type": "stream",
     "text": [
      "OK:118.99.94.225:8080\n"
     ]
    },
    {
     "data": {
      "text/plain": [
       "'[{\"bookid\": \"0010840756\", \"src\": \"https://im1.book.com.tw/image/getImage?i=https://www.books.com.tw/img/001/084/07/0010840756.jpg&w=85&h=120&v=5dcd2cbe\", \"title\": \"動盪：國家如何化解危局、成功轉型?(含32頁珍貴歷史圖片)\", \"author\": \"賈德．戴蒙/莊安祺\", \"publisher\": \"時報出版\", \"pub_dt\": \"2019-12-03\", \"price_list\": 550}, {\"bookid\": \"0010840759\", \"src\": \"https://im1.book.com.tw/image/getImage?i=https://www.books.com.tw/img/001/084/07/0010840759.jpg&w=85&h=120&v=5dcd2cbe\", \"title\": \"動盪：國家如何化解危局、成功轉型?(作者燙銀簽名精裝版，含32頁珍貴歷史圖片)\", \"author\": \"賈德．戴蒙/莊安祺\", \"publisher\": \"時報出版\", \"pub_dt\": \"2019-12-03\", \"price_list\": 650}, {\"bookid\": \"0010824123\", \"src\": \"https://im1.book.com.tw/image/getImage?i=https://www.books.com.tw/img/001/082/41/0010824123.jpg&w=85&h=120&v=5cefb0ac\", \"title\": \"BIBI：以色列總理納坦雅胡的動盪歲月\", \"author\": \"安謝爾．帕菲佛爾/呂志翔\", \"publisher\": \"好優文化\", \"pub_dt\": \"2019-06-07\", \"price_list\": 480}, {\"bookid\": \"0010818130\", \"src\": \"https://im1.book.com.tw/image/getImage?i=https://www.books.com.tw/img/001/081/81/0010818130.jpg&w=85&h=120&v=5c9b50e8\", \"title\": \"動盪的亞洲外交：一位外交官的證言\", \"author\": \"池田 維/楊明珠\", \"publisher\": \"允晨文化\", \"pub_dt\": \"2019-04-01\", \"price_list\": 380}, {\"bookid\": \"0010744206\", \"src\": \"https://im1.book.com.tw/image/getImage?i=https://www.books.com.tw/img/001/074/42/0010744206.jpg&w=85&h=120&v=58a2dc33\", \"title\": \"動盪的青春：希特勒青年團寫真\", \"author\": \"王佐榮\", \"publisher\": \"蒼璧出版有限公司\", \"pub_dt\": \"2017-02-10\", \"price_list\": 520}, {\"bookid\": \"0010753677\", \"src\": \"https://im1.book.com.tw/image/getImage?i=https://www.books.com.tw/img/001/075/36/0010753677.jpg&w=85&h=120&v=591ec944\", \"title\": \"虎媽對全球化的預言：輸出自由市場與民主政治會換來種族仇恨和世界動盪\", \"author\": \"蔡美兒 Amy Chua/劉懷昭\", \"publisher\": \"五南\", \"pub_dt\": \"2017-05-25\", \"price_list\": 480}, {\"bookid\": \"0010847579\", \"src\": \"https://im1.book.com.tw/image/getImage?i=https://www.books.com.tw/img/001/084/75/0010847579.jpg&w=85&h=120&v=5e1ee9ae\", \"title\": \"絲綢之路續篇：霸權移轉的動盪時代，當今的世界與未來文明新史\", \"author\": \"彼德‧梵科潘/苑默文\", \"publisher\": \"聯經出版公司\", \"pub_dt\": \"2020-01-22\", \"price_list\": 489}, {\"bookid\": \"0010834109\", \"src\": \"https://im1.book.com.tw/image/getImage?i=https://www.books.com.tw/img/001/083/41/0010834109.jpg&w=85&h=120&v=5d7629ac\", \"title\": \"跟著Winny勇闖中美洲：從墨西哥、古巴到巴拿馬，深入動盪又動人的神祕國度\", \"author\": \"Winny\", \"publisher\": \"山岳\", \"pub_dt\": \"2019-10-03\", \"price_list\": 379}, {\"bookid\": \"0010849428\", \"src\": \"https://im1.book.com.tw/image/getImage?i=https://www.books.com.tw/img/001/084/94/0010849428.jpg&w=85&h=120&v=5e4130d7\", \"title\": \"2020年全球經濟展望：動盪走緩 風險與契機並存\", \"author\": \"彭素玲\", \"publisher\": \"中華經濟研究院\", \"pub_dt\": \"2020-01-31\", \"price_list\": 500}, {\"bookid\": \"0010781281\", \"src\": \"https://im1.book.com.tw/image/getImage?i=https://www.books.com.tw/img/001/078/12/0010781281.jpg&w=85&h=120&v=5aa915ca\", \"title\": \"遠方之鏡：動盪不安的十四世紀\", \"author\": \"芭芭拉‧塔克曼/邵文實\", \"publisher\": \"廣場出版\", \"pub_dt\": \"2018-03-21\", \"price_list\": 800}]'"
      ]
     },
     "execution_count": 73,
     "metadata": {},
     "output_type": "execute_result"
    }
   ],
   "source": [
    "kw='動盪'\n",
    "get_searchBooks(kw)"
   ]
  },
  {
   "cell_type": "code",
   "execution_count": 70,
   "metadata": {},
   "outputs": [
    {
     "data": {
      "text/plain": [
       "'[{\"bookid\": \"0010840756\", \"src\": \"https://im1.book.com.tw/image/getImage?i=https://www.books.com.tw/img/001/084/07/0010840756.jpg&w=85&h=120&v=5dcd2cbe\", \"title\": \"動盪：國家如何化解危局、成功轉型?(含32頁珍貴歷史圖片)\", \"author\": \"賈德．戴蒙/莊安祺\", \"publisher\": \"時報出版\", \"pub_dt\": \"2019-12-03\", \"price_list\": 550}, {\"bookid\": \"0010840759\", \"src\": \"https://im1.book.com.tw/image/getImage?i=https://www.books.com.tw/img/001/084/07/0010840759.jpg&w=85&h=120&v=5dcd2cbe\", \"title\": \"動盪：國家如何化解危局、成功轉型?(作者燙銀簽名精裝版，含32頁珍貴歷史圖片)\", \"author\": \"賈德．戴蒙/莊安祺\", \"publisher\": \"時報出版\", \"pub_dt\": \"2019-12-03\", \"price_list\": 650}, {\"bookid\": \"0010824123\", \"src\": \"https://im1.book.com.tw/image/getImage?i=https://www.books.com.tw/img/001/082/41/0010824123.jpg&w=85&h=120&v=5cefb0ac\", \"title\": \"BIBI：以色列總理納坦雅胡的動盪歲月\", \"author\": \"安謝爾．帕菲佛爾/呂志翔\", \"publisher\": \"好優文化\", \"pub_dt\": \"2019-06-07\", \"price_list\": 480}, {\"bookid\": \"0010818130\", \"src\": \"https://im1.book.com.tw/image/getImage?i=https://www.books.com.tw/img/001/081/81/0010818130.jpg&w=85&h=120&v=5c9b50e8\", \"title\": \"動盪的亞洲外交：一位外交官的證言\", \"author\": \"池田 維/楊明珠\", \"publisher\": \"允晨文化\", \"pub_dt\": \"2019-04-01\", \"price_list\": 380}, {\"bookid\": \"0010744206\", \"src\": \"https://im1.book.com.tw/image/getImage?i=https://www.books.com.tw/img/001/074/42/0010744206.jpg&w=85&h=120&v=58a2dc33\", \"title\": \"動盪的青春：希特勒青年團寫真\", \"author\": \"王佐榮\", \"publisher\": \"蒼璧出版有限公司\", \"pub_dt\": \"2017-02-10\", \"price_list\": 520}, {\"bookid\": \"0010753677\", \"src\": \"https://im1.book.com.tw/image/getImage?i=https://www.books.com.tw/img/001/075/36/0010753677.jpg&w=85&h=120&v=591ec944\", \"title\": \"虎媽對全球化的預言：輸出自由市場與民主政治會換來種族仇恨和世界動盪\", \"author\": \"蔡美兒 Amy Chua/劉懷昭\", \"publisher\": \"五南\", \"pub_dt\": \"2017-05-25\", \"price_list\": 480}, {\"bookid\": \"0010847579\", \"src\": \"https://im1.book.com.tw/image/getImage?i=https://www.books.com.tw/img/001/084/75/0010847579.jpg&w=85&h=120&v=5e1ee9ae\", \"title\": \"絲綢之路續篇：霸權移轉的動盪時代，當今的世界與未來文明新史\", \"author\": \"彼德‧梵科潘/苑默文\", \"publisher\": \"聯經出版公司\", \"pub_dt\": \"2020-01-22\", \"price_list\": 489}, {\"bookid\": \"0010834109\", \"src\": \"https://im1.book.com.tw/image/getImage?i=https://www.books.com.tw/img/001/083/41/0010834109.jpg&w=85&h=120&v=5d7629ac\", \"title\": \"跟著Winny勇闖中美洲：從墨西哥、古巴到巴拿馬，深入動盪又動人的神祕國度\", \"author\": \"Winny\", \"publisher\": \"山岳\", \"pub_dt\": \"2019-10-03\", \"price_list\": 379}, {\"bookid\": \"0010849428\", \"src\": \"https://im1.book.com.tw/image/getImage?i=https://www.books.com.tw/img/001/084/94/0010849428.jpg&w=85&h=120&v=5e4130d7\", \"title\": \"2020年全球經濟展望：動盪走緩 風險與契機並存\", \"author\": \"彭素玲\", \"publisher\": \"中華經濟研究院\", \"pub_dt\": \"2020-01-31\", \"price_list\": 500}, {\"bookid\": \"0010781281\", \"src\": \"https://im1.book.com.tw/image/getImage?i=https://www.books.com.tw/img/001/078/12/0010781281.jpg&w=85&h=120&v=5aa915ca\", \"title\": \"遠方之鏡：動盪不安的十四世紀\", \"author\": \"芭芭拉‧塔克曼/邵文實\", \"publisher\": \"廣場出版\", \"pub_dt\": \"2018-03-21\", \"price_list\": 800}]'"
      ]
     },
     "execution_count": 70,
     "metadata": {},
     "output_type": "execute_result"
    }
   ],
   "source": [
    "results=[]\n",
    "for i in range(10):\n",
    "    book={}\n",
    "    item=items.eq(i)\n",
    "    #\n",
    "    book['bookid']=item.find(\"div.input_buy input\").attr('value')\n",
    "    book['src']=item.find(\"img.itemcov\").attr(\"data-original\")\n",
    "    book['title']=item.find(\"a[rel=mid_name]\").text()\n",
    "    #\n",
    "    authors=''\n",
    "    for a in item.find(\"a[rel=go_author]\"):\n",
    "        authors+=pq(a).text()+\"/\"\n",
    "    book['author']=authors.strip(\"/\")\n",
    "    #\n",
    "    book['publisher']=item.find(\"a[rel=mid_publish]\").text()\n",
    "    book['pub_dt']=re.search('出版日期[^0-9]+?([0-9\\-]+)',item.text()).group(1)\n",
    "    count_off= item.find('span.price').find(\"b\").eq(0).text().ljust(2,'0')\n",
    "    price_sale=item.find('span.price').find(\"b\").eq(1).text()\n",
    "    price_list=int(price_sale)*100//int(count_off)\n",
    "    #book['sale']=count_off+\"_\"+price_sale\n",
    "    book['price_list']=price_list\n",
    "    #\n",
    "    results.append(book)\n",
    "results \n",
    "json.dumps(results,default=str,ensure_ascii=False) "
   ]
  },
  {
   "cell_type": "code",
   "execution_count": 71,
   "metadata": {},
   "outputs": [
    {
     "name": "stdout",
     "output_type": "stream",
     "text": [
      "1\n",
      "2\n"
     ]
    },
    {
     "ename": "IndexError",
     "evalue": "list index out of range",
     "output_type": "error",
     "traceback": [
      "\u001b[0;31m---------------------------------------------------------------------------\u001b[0m",
      "\u001b[0;31mIndexError\u001b[0m                                Traceback (most recent call last)",
      "\u001b[0;32m<ipython-input-71-084dc9544f87>\u001b[0m in \u001b[0;36m<module>\u001b[0;34m\u001b[0m\n\u001b[1;32m      1\u001b[0m \u001b[0ma\u001b[0m\u001b[0;34m=\u001b[0m\u001b[0;34m[\u001b[0m\u001b[0;36m1\u001b[0m\u001b[0;34m,\u001b[0m\u001b[0;36m2\u001b[0m\u001b[0;34m]\u001b[0m\u001b[0;34m\u001b[0m\u001b[0;34m\u001b[0m\u001b[0m\n\u001b[1;32m      2\u001b[0m \u001b[0;32mfor\u001b[0m \u001b[0mi\u001b[0m \u001b[0;32min\u001b[0m \u001b[0mrange\u001b[0m\u001b[0;34m(\u001b[0m\u001b[0;36m10\u001b[0m\u001b[0;34m)\u001b[0m\u001b[0;34m:\u001b[0m\u001b[0;34m\u001b[0m\u001b[0;34m\u001b[0m\u001b[0m\n\u001b[0;32m----> 3\u001b[0;31m     \u001b[0mprint\u001b[0m\u001b[0;34m(\u001b[0m\u001b[0ma\u001b[0m\u001b[0;34m[\u001b[0m\u001b[0mi\u001b[0m\u001b[0;34m]\u001b[0m\u001b[0;34m)\u001b[0m\u001b[0;34m\u001b[0m\u001b[0;34m\u001b[0m\u001b[0m\n\u001b[0m",
      "\u001b[0;31mIndexError\u001b[0m: list index out of range"
     ]
    }
   ],
   "source": [
    "a=[1,2]\n",
    "for i in range(10):\n",
    "    print(a[i])"
   ]
  },
  {
   "cell_type": "code",
   "execution_count": null,
   "metadata": {},
   "outputs": [],
   "source": []
  }
 ],
 "metadata": {
  "kernelspec": {
   "display_name": "Python 3",
   "language": "python",
   "name": "python3"
  },
  "language_info": {
   "codemirror_mode": {
    "name": "ipython",
    "version": 3
   },
   "file_extension": ".py",
   "mimetype": "text/x-python",
   "name": "python",
   "nbconvert_exporter": "python",
   "pygments_lexer": "ipython3",
   "version": "3.6.10"
  }
 },
 "nbformat": 4,
 "nbformat_minor": 4
}
