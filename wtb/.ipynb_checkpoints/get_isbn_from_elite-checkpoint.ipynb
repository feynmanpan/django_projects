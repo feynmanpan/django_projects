{
 "cells": [
  {
   "cell_type": "code",
   "execution_count": 5,
   "metadata": {},
   "outputs": [
    {
     "name": "stdout",
     "output_type": "stream",
     "text": [
      "Writing get_isbn_from_elite.py\n"
     ]
    }
   ],
   "source": [
    "%%writefile get_isbn_from_elite.py\n",
    "# -*- coding: utf-8 -*-\n",
    "#________________________________________________\n",
    "import os\n",
    "import django\n",
    "from django.utils import timezone\n",
    "from django.db.models import Q\n",
    "#from django.utils.dateparse import parse_datetime\n",
    "from datetime import datetime,date#,timezone\n",
    "import pytz\n",
    "from bs4 import BeautifulSoup\n",
    "from bs4.element import NavigableString\n",
    "from difflib import SequenceMatcher\n",
    "from IPython.display import clear_output, display\n",
    "from time import sleep, time\n",
    "from threading import Thread\n",
    "from fake_useragent import UserAgent\n",
    "from fake_headers import Headers\n",
    "from pyquery import PyQuery as pq\n",
    "#\n",
    "from selenium import webdriver\n",
    "from selenium.webdriver.common.action_chains import ActionChains\n",
    "from selenium.webdriver.chrome.options import Options\n",
    "from selenium.common.exceptions import NoSuchElementException\n",
    "from selenium.webdriver.common.keys import Keys\n",
    "#\n",
    "import requests\n",
    "import urllib.parse\n",
    "import pandas as pd\n",
    "import numpy as np\n",
    "import random\n",
    "import re\n",
    "import json\n",
    "import csv\n",
    "#\n",
    "from get_proxy import get_proxy\n",
    "#\n",
    "os.environ.setdefault('DJANGO_SETTINGS_MODULE', 'wtb.settings')\n",
    "os.environ[\"DJANGO_ALLOW_ASYNC_UNSAFE\"] = \"true\"\n",
    "django.setup()\n",
    "from mainsite.models import Bookinfo,Bookprice,Store\n",
    "from dict_stores import url_qs\n",
    "\n",
    "\n",
    "def get_isbn_from_elite(title):\n",
    "    #(1)先查搜尋頁________________________________\n",
    "    #title='刺蝟的優雅（十週年暢銷紀念書衣版）'\n",
    "    url_q='http://www.eslite.com/Search_BW.aspx?searchType=&query='+title\n",
    "    #\n",
    "    fake_header = Headers(\n",
    "        browser=\"chrome\",  # Generate only Chrome UA\n",
    "        os=\"win\",  # Generate ony Windows platform\n",
    "        headers=True  # generate misc headers\n",
    "    )    \n",
    "    UA=fake_header.generate()  \n",
    "    ippo=get_proxy(which=\"OK\",now=True)\n",
    "    proxies={\n",
    "            \"http\": \"http://\"+ippo,\n",
    "            #\"https\": \"http://\"+ippo\n",
    "            } \n",
    "    r = requests.get(url_q, \n",
    "                     headers=UA,\n",
    "                     #proxies=proxies,\n",
    "                     #cookies=cookies,\n",
    "                     #allow_redirects=False,\n",
    "                     timeout=30)    \n",
    "    r.encoding='utf8'\n",
    "    #print(r.text)\n",
    "    #\n",
    "    doc=pq(r.text)\n",
    "    r.close()\n",
    "    \n",
    "    count=doc.find(\"#ctl00_ContentPlaceHolder1_lbTotalResultCount\").text()\n",
    "    if int(count)<1:\n",
    "        return []\n",
    "    \n",
    "    #(2)查單書頁________________________________\n",
    "    url_book=doc.find(\".box_list td.name a[title]\").eq(0).attr(\"href\")    \n",
    "    m=re.search('pgid=([0-9]+)',url_book)\n",
    "    pgid=m.group(1)\n",
    "    url_book=\"http://www.eslite.com/product.aspx?pgid=\"+pgid\n",
    "    #print(url_book)\n",
    "    fake_header = Headers(\n",
    "        browser=\"chrome\",  # Generate only Chrome UA\n",
    "        os=\"win\",  # Generate ony Windows platform\n",
    "        headers=True  # generate misc headers\n",
    "    )    \n",
    "    UA=fake_header.generate()  \n",
    "    ippo=get_proxy(which=\"OK\",now=True)\n",
    "    proxies={\n",
    "            \"http\": \"http://\"+ippo,\n",
    "            #\"https\": \"http://\"+ippo\n",
    "            } \n",
    "    r = requests.get(url_book, \n",
    "                     headers=UA,\n",
    "                     #proxies=proxies,\n",
    "                     #cookies=cookies,\n",
    "                     #allow_redirects=False,\n",
    "                     timeout=30)    \n",
    "    r.encoding='utf8' \n",
    "    doc_book=pq(r.text)\n",
    "    r.close()    \n",
    "    #\n",
    "    tmp=doc_book.find(\".C_box:Contains('誠品26碼')\").find('p').eq(0).text()\n",
    "    isbn13=re.search('ISBN 13 ／([0-9]+)',tmp).group(1)\n",
    "    isbn10=re.search('ISBN 10 ／([0-9]+)',tmp).group(1)    \n",
    "    #\n",
    "    return [isbn10,isbn13]"
   ]
  },
  {
   "cell_type": "code",
   "execution_count": 2,
   "metadata": {},
   "outputs": [
    {
     "name": "stdout",
     "output_type": "stream",
     "text": [
      "CPU times: user 34.1 ms, sys: 6.03 ms, total: 40.2 ms\n",
      "Wall time: 5.89 s\n"
     ]
    },
    {
     "data": {
      "text/plain": [
       "['7702902132', '4717702902131']"
      ]
     },
     "execution_count": 2,
     "metadata": {},
     "output_type": "execute_result"
    }
   ],
   "source": [
    "title='刺蝟的優雅（十週年暢銷紀念書衣版）'\n",
    "%time get_isbn_from_elite(title)"
   ]
  },
  {
   "cell_type": "code",
   "execution_count": null,
   "metadata": {},
   "outputs": [],
   "source": []
  }
 ],
 "metadata": {
  "kernelspec": {
   "display_name": "Python 3",
   "language": "python",
   "name": "python3"
  },
  "language_info": {
   "codemirror_mode": {
    "name": "ipython",
    "version": 3
   },
   "file_extension": ".py",
   "mimetype": "text/x-python",
   "name": "python",
   "nbconvert_exporter": "python",
   "pygments_lexer": "ipython3",
   "version": "3.6.10"
  }
 },
 "nbformat": 4,
 "nbformat_minor": 4
}
