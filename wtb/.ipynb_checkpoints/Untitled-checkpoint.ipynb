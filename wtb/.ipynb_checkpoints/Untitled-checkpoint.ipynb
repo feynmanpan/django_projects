{
 "cells": [
  {
   "cell_type": "code",
   "execution_count": 26,
   "metadata": {},
   "outputs": [],
   "source": [
    "#%load get_bookinfo.py\n",
    "#%run get_bookinfo.py\n",
    "# -*- coding: utf-8 -*-\n",
    "#________________________________________________\n",
    "import os\n",
    "import django\n",
    "from django.utils import timezone\n",
    "#from django.utils.dateparse import parse_datetime\n",
    "from datetime import datetime,date#,timezone\n",
    "import pytz\n",
    "from bs4 import BeautifulSoup\n",
    "from bs4.element import NavigableString\n",
    "from difflib import SequenceMatcher\n",
    "from IPython.display import clear_output, display\n",
    "from time import sleep, time\n",
    "from threading import Thread\n",
    "from fake_useragent import UserAgent\n",
    "from fake_headers import Headers\n",
    "from pyquery import PyQuery as pq\n",
    "#\n",
    "import isbnlib\n",
    "import requests\n",
    "import pandas as pd\n",
    "import numpy as np\n",
    "import random\n",
    "import re\n",
    "import json\n",
    "import csv\n",
    "#\n",
    "from get_proxy import get_proxy\n",
    "#\n",
    "os.environ.setdefault('DJANGO_SETTINGS_MODULE', 'wtb.settings')\n",
    "os.environ[\"DJANGO_ALLOW_ASYNC_UNSAFE\"] = \"true\"\n",
    "django.setup()\n",
    "from mainsite.models import Bookinfo,Bookprice,Store"
   ]
  },
  {
   "cell_type": "code",
   "execution_count": 82,
   "metadata": {},
   "outputs": [
    {
     "data": {
      "text/plain": [
       "{'suggestions': ['村上春樹-沒有女人的男人們', '村上春樹']}"
      ]
     },
     "execution_count": 82,
     "metadata": {},
     "output_type": "execute_result"
    }
   ],
   "source": [
    "kw='村上春'\n",
    "url_q='https://biggo.com.tw/api/suggestion.php?query='+kw\n",
    "#url_q='https://searchapi.biggo.com/taaze/suggestion.php?query='+kw\n",
    "#E:\\00_Taaze\\01_Taaze\\doc\\eclipse-workspace\\taaze\\src\\new-service\\com\\xsx\\ec\\service\\impl\\EcSearchResultImp.java\n",
    "#\n",
    "fake_header = Headers(\n",
    "    browser=\"chrome\",  # Generate only Chrome UA\n",
    "    os=\"win\",  # Generate ony Windows platform\n",
    "    headers=True  # generate misc headers\n",
    ")    \n",
    "UA=fake_header.generate()\n",
    "ippo=get_proxy(which=\"OK\",now=True)\n",
    "#ippo=\"94.205.140.158:34561\"\n",
    "proxies={\n",
    "        \"http\": \"http://\"+ippo,\n",
    "        #\"https\": \"http://\"+ippo\n",
    "        }\n",
    "r = requests.get(url_q, \n",
    "                \n",
    "                 headers=UA,\n",
    "                 proxies=proxies,\n",
    "                 #cookies=cookies,\n",
    "                 timeout=5)    \n",
    "r.encoding='utf8'\n",
    "r.text\n",
    "json.loads(r.text)"
   ]
  },
  {
   "cell_type": "markdown",
   "metadata": {},
   "source": [
    "$(\"#kw_input\").autocomplete({\n",
    "\tsource: function( request, response ) {\n",
    "\t\t$.ajax({\n",
    "\t\t\ttype: \"get\",\n",
    "\t\t\tasync: true,\n",
    "\t\t\turl: \"https://biggo.com.tw/api/suggestion.php\",\n",
    "\t\t\tdata: \"query=\" + \"動盪\",\n",
    "\t\t\t//data: \"k=\" + request.term,\n",
    "\t\t\tdataType: \"json\",\n",
    "\t\t\tsuccess: function(data) {\n",
    "\t\t\t\tresponse(data);\n",
    "\t\t\t}\n",
    "\t\t});\n",
    "\t}\n",
    "});\t"
   ]
  }
 ],
 "metadata": {
  "kernelspec": {
   "display_name": "Python 3",
   "language": "python",
   "name": "python3"
  },
  "language_info": {
   "codemirror_mode": {
    "name": "ipython",
    "version": 3
   },
   "file_extension": ".py",
   "mimetype": "text/x-python",
   "name": "python",
   "nbconvert_exporter": "python",
   "pygments_lexer": "ipython3",
   "version": "3.6.10"
  }
 },
 "nbformat": 4,
 "nbformat_minor": 4
}
