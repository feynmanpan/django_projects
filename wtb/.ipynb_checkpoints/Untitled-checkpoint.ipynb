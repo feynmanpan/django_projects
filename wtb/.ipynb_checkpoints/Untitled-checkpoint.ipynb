{
 "cells": [
  {
   "cell_type": "code",
   "execution_count": 1,
   "metadata": {},
   "outputs": [],
   "source": [
    "#%load get_bookinfo.py\n",
    "#%run get_bookinfo.py\n",
    "# -*- coding: utf-8 -*-\n",
    "#________________________________________________\n",
    "import os\n",
    "import django\n",
    "from django.utils import timezone\n",
    "#from django.utils.dateparse import parse_datetime\n",
    "from datetime import datetime,date#,timezone\n",
    "import pytz\n",
    "from bs4 import BeautifulSoup\n",
    "from bs4.element import NavigableString\n",
    "from difflib import SequenceMatcher\n",
    "from IPython.display import clear_output, display\n",
    "from time import sleep, time\n",
    "from threading import Thread\n",
    "from fake_useragent import UserAgent\n",
    "from fake_headers import Headers\n",
    "from pyquery import PyQuery as pq\n",
    "#\n",
    "import isbnlib\n",
    "import requests\n",
    "import pandas as pd\n",
    "import numpy as np\n",
    "import random\n",
    "import re\n",
    "import json\n",
    "import csv\n",
    "#\n",
    "from get_proxy import get_proxy\n",
    "#\n",
    "os.environ.setdefault('DJANGO_SETTINGS_MODULE', 'wtb.settings')\n",
    "os.environ[\"DJANGO_ALLOW_ASYNC_UNSAFE\"] = \"true\"\n",
    "django.setup()\n",
    "from mainsite.models import Bookinfo,Bookprice,Store"
   ]
  },
  {
   "cell_type": "code",
   "execution_count": 11,
   "metadata": {},
   "outputs": [
    {
     "data": {
      "text/plain": [
       "'<!DOCTYPE HTML PUBLIC \"-//W3C//DTD HTML 4.01//EN\" \"https://www.w3.org/TR/html4/strict.dtd\">\\r\\n<html>\\r\\n<head>\\r\\n    <meta http-equiv=\"content-type\" content=\"text/html; charset=utf-8\">\\r\\n    <!--<meta HTTP-EQUIV=\"Refresh\" CONTENT=\"3; URL=http://www.books.com.tw/\">-->\\r\\n    <title>歡迎光臨博客來</title>\\r\\n    <meta name=\"keywords\" content=\"博客來,網路書店,書店,百貨,書,簡體,外文,CD,DVD,雜誌,MOOK,美妝保健,服飾配件,美食飲品,創意生活,玩藝玩具,3C,家電\">\\r\\n    <meta name=\"description\" content=\"歡迎光臨博客來\">\\r\\n    <link rel=\"stylesheet\" href=\"/csss/css.css\">\\r\\n    <link rel=\"stylesheet\" href=\"/csss/404page.css\">\\r\\n\\r\\n    <script language=\"JavaScript\" src=\"//jci.book.com.tw/jss/jquery/jquery-1.6.4.min.js \"></script>\\r\\n    <script language=\"JavaScript\" type=\"text/javascript\" src=\"//www.books.com.tw/jss/web/header/header.js\"></script>\\r\\n    <script type=\"text/javascript\" src=\"//jci.book.com.tw/jss/books/head.min.js\"></script>\\r\\n    <script language=javascript>\\r\\n        <!-- hide me from non-JavaScript-enabled browsers\\r\\n        window.name = \"parentWin\";\\r\\n        // open new window\\r\\n        function openWin(file, name) {\\r\\n            popupWin = window.open(file, name, \\'scrollbars,resizable=0,status,width=320,height=450\\');\\r\\n            // focus window (only for > Navigator 3.0)\\r\\n            if ((navigator.appName != \"Microsoft Internet Explorer\") && (navigator.appVersion.substring(0, 1) == \"3\"))\\r\\n                popupWin.focus();\\r\\n        }\\r\\n        // done hiding -->\\r\\n    </script>\\r\\n</head>\\r\\n<body class=\"color_public\">\\r\\n    <!--Header-->\\r\\n    <div class=\"container_24 type04_header_simplify  clearfix\" id=\"header_id\" data-attr=\"simple\">\\r\\n        <div class=\"grid_24 clearfix\">\\r\\n            <div class=\"mod header_box clearfix\" style=\"background-image:url(//www.books.com.tw/G/header/2008/new_header/images/books_logo_a.gif)\">\\r\\n                <div class=\"books_logo\"><a href=\"//www.books.com.tw\" title=\"回博客來首頁\"><span>回博客來首頁</span></a></div>\\r\\n                <div class=\"search clearfix\">\\r\\n                    <h2 class=\"hide\">網站搜尋</h2>\\r\\n                    <form action=\"//search.books.com.tw/exep/prod_search.php\" id=\"search\" name=\"search\" method=\"GET\" target=\"_blank\" onsubmit=\"if(typeof go_search == \\'function\\'){go_search();return false;}\" >\\r\\n                        <input class=\"search_key\" accesskey=\"S\" name=\"key\" id=\"key\" value=\"\" message =\"請輸入關鍵字\">\\r\\n                        <div class=\"search_set\" id=\"search_box\">\\r\\n                          <div class=\"top_search_tip\">\\r\\n                                <a href=\"javascript:;\">\\r\\n                                    <span id=\"search_name\">全館</span>\\r\\n                                    <span class=\"icon\" title=\"展開\">展開</span></a>\\r\\n                                <input type=\"hidden\" name=\"cat\" id=\"cat\" value =\"all\">\\r\\n                          </div>\\r\\n                          <ul class=\"search_popup\">\\r\\n                                <li><a href=\"javascript:;\" cat=\"all\" id=\"default_search_key\">全館</a></li>\\r\\n                                <li><a href=\"javascript:;\" cat=\"BKA\" >圖書</a></li>\\r\\n                                <li><a href=\"javascript:;\" cat=\"AVA\" >影音</a></li>\\r\\n                                <li><a href=\"javascript:;\" cat=\"DPA\" >百貨</a></li>\\r\\n                                <li><a href=\"javascript:;\" cat=\"MGA\" >雜誌</a></li>\\r\\n                                <li><a href=\"javascript:;\" cat=\"TKA\" >售票</a></li>\\r\\n                          </ul>\\r\\n                        </div>\\r\\n                        <button type=\"submit\" title=\"搜尋\"><span class=\"icon\">搜尋</span></button>\\r\\n                    </form>\\r\\n                </div>\\r\\n            </div>\\r\\n        </div>\\r\\n    </div><!--End Header-->\\r\\n    <div class=\"container_24 main_wrap clearfix\">\\r\\n        <h1 class=\"msg_title\">錯誤頁面訊息提示</h1>\\r\\n        <div class=\"msg_count\">\\r\\n            <div class=\"msg\">\\r\\n                <!--標題-->\\r\\n                <h2 class=\"msg_info\">頁面連結錯誤</h2>\\r\\n                \\r\\n                <h3 style=\"font-size:120%\"><a href=\"//www.books.com.tw/\">回博客來首頁</a></h3>\\r\\n                <br>\\r\\n                <!--內文-->\\r\\n                <p>很抱歉！您所要進入的頁面連結可能有誤，您可到其他網頁瀏覽或是使用搜尋功能查詢其他商品資訊。</p>\\r\\n               \\r\\n            </div>\\r\\n            <span class=\"msg_pic\"></span>\\r\\n        </div>\\r\\n        <div class=\"msg_end\"></div>\\r\\n<div id=\"br_v2o44buw\"></div><script>$(\"#br_v2o44buw\").load(\"//www.books.com.tw/br/r/br_v2o44buw\");</script>\\r\\n    </div>\\r\\n    <!--footer-->\\r\\n    <div class=\"container_24 type04_footer_simplify clearfix\">\\r\\n        <div class=\"grid_24 wrap clearfix\">\\r\\n            <div class=\"bd\">\\r\\n                <ul class=\"service_message\">\\r\\n                    <li><p><span>客戶服務專線：02-26535588</span><span>傳真：02-27885008</span><span>服務時間：週一~六 8:00~19:00，週日、例假日 9:00~18:00，365天全年無休</span></p></li>\\r\\n                    <li><p><span>博客來數位科技股份有限公司</span><span>地址：115 台北市南港區八德路四段768巷1弄18號B1之1</span></p></li>\\r\\n                    <li><p>Copyright &copy; since 1995 books.com.tw All Rights Reserved.</p></li>\\r\\n                </ul>\\r\\n            </div>\\r\\n        </div>\\r\\n    </div><!--End footer-->\\r\\n</body>\\r\\n</html>'"
      ]
     },
     "execution_count": 11,
     "metadata": {},
     "output_type": "execute_result"
    }
   ],
   "source": [
    "url_q='https://www.books.com.tw/searchauto/query'\n",
    "#\n",
    "fake_header = Headers(\n",
    "    browser=\"chrome\",  # Generate only Chrome UA\n",
    "    os=\"win\",  # Generate ony Windows platform\n",
    "    headers=True  # generate misc headers\n",
    ")    \n",
    "UA=fake_header.generate()\n",
    "ippo=get_proxy(which=\"OK\",now=True)\n",
    "#ippo=\"94.205.140.158:34561\"\n",
    "proxies={\n",
    "        \"http\": \"http://\"+ippo,\n",
    "        \"https\": \"http://\"+ippo\n",
    "        }\n",
    "r = requests.post(url_q, \n",
    "                  data={'k':'動盪'},\n",
    "                 headers=UA,\n",
    "                 #proxies=proxies,\n",
    "                 #cookies=cookies,\n",
    "                 timeout=5)    \n",
    "r.encoding='utf8'\n",
    "\n",
    "r.text"
   ]
  },
  {
   "cell_type": "code",
   "execution_count": null,
   "metadata": {},
   "outputs": [],
   "source": []
  }
 ],
 "metadata": {
  "kernelspec": {
   "display_name": "Python 3",
   "language": "python",
   "name": "python3"
  },
  "language_info": {
   "codemirror_mode": {
    "name": "ipython",
    "version": 3
   },
   "file_extension": ".py",
   "mimetype": "text/x-python",
   "name": "python",
   "nbconvert_exporter": "python",
   "pygments_lexer": "ipython3",
   "version": "3.6.10"
  }
 },
 "nbformat": 4,
 "nbformat_minor": 4
}
