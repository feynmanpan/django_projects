{
 "cells": [
  {
   "cell_type": "code",
   "execution_count": 1,
   "metadata": {},
   "outputs": [
    {
     "name": "stdout",
     "output_type": "stream",
     "text": [
      "Overwriting get_biggoKW.py\n"
     ]
    }
   ],
   "source": [
    "#%%writefile get_biggoKW.py\n",
    "# -*- coding: utf-8 -*-\n",
    "#________________________________________________\n",
    "import os\n",
    "import django\n",
    "from django.utils import timezone\n",
    "#from django.utils.dateparse import parse_datetime\n",
    "from datetime import datetime,date#,timezone\n",
    "import pytz\n",
    "from bs4 import BeautifulSoup\n",
    "from bs4.element import NavigableString\n",
    "from difflib import SequenceMatcher\n",
    "from IPython.display import clear_output, display\n",
    "from time import sleep, time\n",
    "from threading import Thread\n",
    "from fake_useragent import UserAgent\n",
    "from fake_headers import Headers\n",
    "from pyquery import PyQuery as pq\n",
    "#\n",
    "import isbnlib\n",
    "import requests\n",
    "import pandas as pd\n",
    "import numpy as np\n",
    "import random\n",
    "import re\n",
    "import json\n",
    "import csv\n",
    "#\n",
    "from get_proxy import get_proxy\n",
    "#\n",
    "os.environ.setdefault('DJANGO_SETTINGS_MODULE', 'wtb.settings')\n",
    "os.environ[\"DJANGO_ALLOW_ASYNC_UNSAFE\"] = \"true\"\n",
    "django.setup()\n",
    "#from mainsite.models import Bookinfo,Bookprice,Store\n",
    "\n",
    "def get_biggoKW(kw:str='村上春樹',which='free',now=False):    \n",
    "    #E:\\00_Taaze\\01_Taaze\\doc\\eclipse-workspace\\taaze\\src\\new-service\\com\\xsx\\ec\\service\\impl\\EcSearchResultImp.java\n",
    "    #注意ajax response格式\n",
    "    url_q='https://searchapi.biggo.com/taaze/suggestion.php?query='+kw    \n",
    "    #url_q='https://biggo.com.tw/api/suggestion.php?query='+kw\n",
    "    fake_header = Headers(\n",
    "        browser=\"chrome\",  # Generate only Chrome UA\n",
    "        os=\"win\",  # Generate ony Windows platform\n",
    "        headers=True  # generate misc headers\n",
    "    )    \n",
    "    UA=fake_header.generate()\n",
    "    UA= {'user-agent': 'Mozilla/5.0 (Windows NT 10.0; Win64; x64) AppleWebKit/537.36 (KHTML, like Gecko) Chrome/63.0.3239.132 Safari/537.36'}\n",
    "    #不代理，太慢了\n",
    "    #ippo=get_proxy(which,now)\n",
    "    #ippo=\"94.205.140.158:34561\"\n",
    "    #proxies={\n",
    "            #\"http\": \"http://\"+ippo,\n",
    "            ##\"https\": \"http://\"+ippo\n",
    "            #}\n",
    "    try:\n",
    "        r = requests.get(url_q,                 \n",
    "                         headers=UA,\n",
    "                         #proxies=proxies,\n",
    "                         #cookies=cookies,\n",
    "                         timeout=15)    \n",
    "        r.encoding='utf8'\n",
    "        #r.text\n",
    "        #json.loads(r.text)        \n",
    "        return r.text\n",
    "    except Exception as err:\n",
    "        return ''#str(err)\n",
    "    "
   ]
  },
  {
   "cell_type": "code",
   "execution_count": 69,
   "metadata": {},
   "outputs": [
    {
     "name": "stdout",
     "output_type": "stream",
     "text": [
      "CPU times: user 17.1 ms, sys: 309 µs, total: 17.4 ms\n",
      "Wall time: 72.2 ms\n"
     ]
    },
    {
     "data": {
      "text/plain": [
       "'[\"\\\\u52d5\\\\u76ea\\\\uff1a\\\\u570b\\\\u5bb6\\\\u5982\\\\u4f55\\\\u5316\\\\u89e3\\\\u5371\\\\u5c40\\\\u3001\\\\u6210\\\\u529f\\\\u8f49\\\\u578b\",\"\\\\u52d5\\\\u76ea\\\\uff1a\\\\u570b\\\\u5bb6\\\\u5982\\\\u4f55\\\\u5316\\\\u89e3\\\\u5371\\\\u5c40\\\\u3001\\\\u6210\\\\u529f\\\\u8f49\\\\u578b\\\\uff1f\",\"\\\\u52d5\\\\u76ea\\\\uff1a\\\\u570b\\\\u5bb6\\\\u5982\\\\u4f55\\\\u5316\\\\u89e3\\\\u5371\\\\u5c40\\\\u3001\\\\u6210\\\\u529f\\\\u8f49\\\\u578b\\\\uff1f\\\\uff08\\\\u542b32\\\\u9801\\\\u73cd\\\\u8cb4\\\\u6b77\\\\u53f2\\\\u5716\\\\u7247\\\\uff09\",\"\\\\u6fc0\\\\u76ea \\\\u53cd\\\\u5c0d\\\\u904b\\\\u52d5\",\"BIBI\\\\uff1a\\\\u4ee5\\\\u8272\\\\u5217\\\\u7e3d\\\\u7406\\\\u7d0d\\\\u5766\\\\u96c5\\\\u80e1\\\\u7684\\\\u52d5\\\\u76ea\\\\u6b72\\\\u6708\",\"\\\\u570b\\\\u969b\\\\u91d1\\\\u878d\\\\u52d5\\\\u76ea\\\\u5c0d\\\\u53f0\\\\u7063\\\\u7684\\\\u5f71\\\\u97ff\",\"\\\\u52d5\\\\u76ea\\\\uff1a\\\\u570b\\\\u5bb6\\\\u5982\\\\u4f55\\\\u5316\\\\u89e3\\\\u5371\\\\u5c40\",\"\\\\u4ee5\\\\u8272\\\\u5217\\\\u7e3d\\\\u7406\\\\u7d0d\\\\u5766\\\\u96c5\\\\u80e1\\\\u7684\\\\u52d5\\\\u76ea\\\\u6b72\\\\u6708\",\"\\\\u91ce\\\\u883b\\\\u904a\\\\u6232\\\\uff1a\\\\u52d5\\\\u76ea\"]'"
      ]
     },
     "execution_count": 69,
     "metadata": {},
     "output_type": "execute_result"
    }
   ],
   "source": [
    "kw='動盪'\n",
    "%time get_biggoKW(kw,which='OK',now=True)"
   ]
  },
  {
   "cell_type": "markdown",
   "metadata": {},
   "source": [
    "$(\"#kw_input\").autocomplete({\n",
    "\tsource: function( request, response ) {\n",
    "\t\t$.ajax({   \n",
    "\t\t\ttype: \"get\",\n",
    "\t\t\turl: \"/autocom/\",\n",
    "\t\t\ttimeout:1000*30,\n",
    "\t\t\tdata:{kw:request.term},//\"kw=\"+kw,\n",
    "\t\t\tdataType: \"json\", \n",
    "\t\t\tasync:true,\n",
    "\t\t})\n",
    "        .done(function(data){\n",
    "           response($.map(data.suggestions, function (item)\n",
    "                                {   alert(item)\n",
    "                                    return item\n",
    "                                }\n",
    "                        )\n",
    "                    );\n",
    "        })\n",
    "\t}\n",
    "});\t\n",
    "\n",
    "\t\t$.ajax({   \n",
    "\t\t\ttype: \"get\",\n",
    "\t\t\turl: \"/autocom/\",\n",
    "\t\t\ttimeout:1000*30,\n",
    "\t\t\tdata: {kw:kw},//\"kw=\"+kw,\n",
    "\t\t\tdataType: \"json\", \n",
    "\t\t\tasync:true,\n",
    "\t\t})\n",
    "        .done(fucntion(){\n",
    "            response(data);\n",
    "        })"
   ]
  }
 ],
 "metadata": {
  "kernelspec": {
   "display_name": "Python 3",
   "language": "python",
   "name": "python3"
  },
  "language_info": {
   "codemirror_mode": {
    "name": "ipython",
    "version": 3
   },
   "file_extension": ".py",
   "mimetype": "text/x-python",
   "name": "python",
   "nbconvert_exporter": "python",
   "pygments_lexer": "ipython3",
   "version": "3.6.10"
  }
 },
 "nbformat": 4,
 "nbformat_minor": 4
}
