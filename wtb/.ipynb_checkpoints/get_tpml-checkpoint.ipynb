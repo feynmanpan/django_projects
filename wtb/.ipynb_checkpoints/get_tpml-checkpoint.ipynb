{
 "cells": [
  {
   "cell_type": "code",
   "execution_count": 1,
   "metadata": {},
   "outputs": [],
   "source": [
    "#%%writefile get_tpml.py\n",
    "# -*- coding: utf-8 -*-\n",
    "#________________________________________________\n",
    "import os\n",
    "import django\n",
    "from django.utils import timezone\n",
    "from django.db.models import Q\n",
    "#from django.utils.dateparse import parse_datetime\n",
    "from datetime import datetime,date#,timezone\n",
    "import pytz\n",
    "from bs4 import BeautifulSoup\n",
    "from bs4.element import NavigableString\n",
    "from difflib import SequenceMatcher\n",
    "from IPython.display import clear_output, display\n",
    "from time import sleep, time\n",
    "from threading import Thread\n",
    "from fake_useragent import UserAgent\n",
    "from fake_headers import Headers\n",
    "from pyquery import PyQuery as pq\n",
    "#\n",
    "from selenium import webdriver\n",
    "from selenium.webdriver.common.action_chains import ActionChains\n",
    "from selenium.webdriver.chrome.options import Options\n",
    "from selenium.common.exceptions import NoSuchElementException\n",
    "from selenium.webdriver.common.keys import Keys\n",
    "#\n",
    "import requests\n",
    "import urllib.parse\n",
    "import pandas as pd\n",
    "import numpy as np\n",
    "import random\n",
    "import re\n",
    "import json\n",
    "import csv\n",
    "#\n",
    "from get_proxy import get_proxy\n",
    "\n",
    "\n",
    "#\n",
    "def get_tpml(isbn):\n",
    "    url_q=\"http://book.tpml.edu.tw/webpac/booksearch.do?searchtype=simplesearch&search_field=ISBN&search_input=\"+isbn\n",
    "    fake_header = Headers(\n",
    "        browser=\"chrome\",  # Generate only Chrome UA\n",
    "        os=\"win\",  # Generate ony Windows platform\n",
    "        headers=True  # generate misc headers\n",
    "    )    \n",
    "    UA=fake_header.generate()  \n",
    "    ippo=get_proxy(which=\"free\",now=True)\n",
    "    proxies={\n",
    "            \"http\": \"http://\"+ippo,\n",
    "            #\"https\": \"http://\"+ippo\n",
    "            }\n",
    "    try:\n",
    "        r = requests.get(url_q, \n",
    "                         headers=UA,\n",
    "                         #proxies=proxies,\n",
    "                         #allow_redirects=False,\n",
    "                         timeout=30)    \n",
    "        r.encoding='utf8'        \n",
    "        r.close()\n",
    "        book_href=re.findall('bookDetail.+id=[0-9]+',r.text)\n",
    "        #print(book_href)\n",
    "        if len(book_href)!=1:\n",
    "            return ''\n",
    "        else:\n",
    "            return 'http://book.tpml.edu.tw/webpac/'+book_href[0]\n",
    "    except Exception as err:\n",
    "        return ''\n",
    "        \n"
   ]
  },
  {
   "cell_type": "code",
   "execution_count": 2,
   "metadata": {},
   "outputs": [
    {
     "name": "stdout",
     "output_type": "stream",
     "text": [
      "['bookDetail.do?id=796183&resid=188969245&nowid=1', 'bookDetail.do?id=796183&resid=188969245&nowid=1', 'bookDetail.do?id=814226&resid=188969245&nowid=2', 'bookDetail.do?id=814226&resid=188969245&nowid=2', 'bookDetail.do?id=629529&resid=188969245&nowid=3', 'bookDetail.do?id=629529&resid=188969245&nowid=3']\n",
      "CPU times: user 12.7 ms, sys: 464 µs, total: 13.2 ms\n",
      "Wall time: 1.94 s\n"
     ]
    },
    {
     "data": {
      "text/plain": [
       "''"
      ]
     },
     "execution_count": 2,
     "metadata": {},
     "output_type": "execute_result"
    }
   ],
   "source": [
    "isbn='9789863205449'#'4713510946619'\n",
    "%time get_tpml(isbn)"
   ]
  }
 ],
 "metadata": {
  "kernelspec": {
   "display_name": "Python 3",
   "language": "python",
   "name": "python3"
  },
  "language_info": {
   "codemirror_mode": {
    "name": "ipython",
    "version": 3
   },
   "file_extension": ".py",
   "mimetype": "text/x-python",
   "name": "python",
   "nbconvert_exporter": "python",
   "pygments_lexer": "ipython3",
   "version": "3.6.10"
  }
 },
 "nbformat": 4,
 "nbformat_minor": 4
}
