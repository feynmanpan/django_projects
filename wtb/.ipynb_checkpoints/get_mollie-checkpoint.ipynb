{
 "cells": [
  {
   "cell_type": "code",
   "execution_count": 1,
   "metadata": {},
   "outputs": [
    {
     "name": "stdout",
     "output_type": "stream",
     "text": [
      "Overwriting get_mollie.py\n"
     ]
    }
   ],
   "source": [
    "#%%writefile get_mollie.py\n",
    "#%load get_bookprice.py\n",
    "#%run get_bookprice.py\n",
    "# -*- coding: utf-8 -*-\n",
    "\n",
    "import time\n",
    "import requests\n",
    "from bs4 import BeautifulSoup\n",
    "from bs4.element import NavigableString\n",
    "import pandas as pd\n",
    "import numpy as np\n",
    "from time import sleep, time\n",
    "from threading import Thread\n",
    "import random\n",
    "import re\n",
    "from IPython.display import clear_output, display\n",
    "import json\n",
    "import csv\n",
    "import os\n",
    "from get_proxy import get_proxy\n",
    "#\n",
    "from selenium import webdriver\n",
    "from selenium.webdriver.chrome.options import Options\n",
    "from selenium.common.exceptions import NoSuchElementException\n",
    "from selenium.webdriver.common.keys import Keys\n",
    "from selenium.webdriver.common.action_chains import ActionChains\n",
    "from selenium.webdriver.support.wait import WebDriverWait\n",
    "from selenium.webdriver.support import expected_conditions as EC\n",
    "from selenium.webdriver.support.expected_conditions import visibility_of_element_located\n",
    "from selenium.webdriver.common.by import By   \n",
    "#\n",
    "#https://blog.csdn.net/zhangpeterx/article/details/83502641\n",
    "def get_mollie(isbn):\n",
    "    chrome_options = Options()\n",
    "    chrome_options.add_argument('--no-sandbox')  #让Chrome在root权限下跑\n",
    "    chrome_options.add_argument(\"--window-size=1920,1080\")\n",
    "    chrome_options.add_argument(\"--start-maximized\")\n",
    "    chrome_options.add_argument('--headless') #不用打开图形界面\n",
    "    chrome_options.add_argument('--disable-dev-shm-usage')\n",
    "    chrome_options.add_argument('blink-settings=imagesEnabled=false')\n",
    "    chrome_options.add_argument('--disable-gpu')\n",
    "    #\n",
    "    #ippo=get_proxy('OK',now=True)\n",
    "    ua='Mozilla/5.0 (Windows NT 10.0; Win64; x64) AppleWebKit/537.36 (KHTML, like Gecko) Chrome/63.0.3239.132 Safari/537.36'\n",
    "    #用代理很久，要20s以上\n",
    "    #chrome_options.add_argument(f'--proxy-server={ippo}')#.format(ippo))  \n",
    "    chrome_options.add_argument(\"user-agent={}\".format(ua))  \n",
    "\n",
    "    #0.開chrome_記得查chrome版本，用同版本的driver:google-chrome -version\n",
    "    driver = webdriver.Chrome(\"/home/pan/chromedriver80\",options=chrome_options)\n",
    "    driver.implicitly_wait(10)\n",
    "    url = \"http://www.mollie.com.tw/Mobile/Books.asp\"\n",
    "    driver.get(url)\n",
    "    print(driver.current_url+\"_____\")\n",
    "\n",
    "    #1.輸入isbn_________________\n",
    "    #isbn='9789571345826'\n",
    "    isbn_selector=\"#FM > table > tbody > tr:nth-child(4) > td.text > input[type=text]\"\n",
    "    isbn_input = driver.find_element_by_css_selector(isbn_selector)\n",
    "    driver.execute_script(\"document.querySelector('\"+isbn_selector+\"').value='\"+isbn+\"'\")\n",
    "    #driver.execute_script(\"document.getElementsByTagName('input[name=BarCode]').setAttribute('value','9789864791446')\")\n",
    "    print(isbn_input.get_attribute(\"value\"))\n",
    "\n",
    "    #2.按查詢_________________\n",
    "    button = driver.find_element_by_css_selector(\"#FM > div > input[type=submit]:nth-child(2)\")\n",
    "    button.click()\n",
    "\n",
    "    #3.alert\n",
    "    try:\n",
    "        WebDriverWait(driver, 5, 0.5).until(EC.alert_is_present())\n",
    "        driver.switch_to.alert.accept()\n",
    "    except:\n",
    "        #沒有庫存\n",
    "        nobook_selector='#main > div > p'\n",
    "        WebDriverWait(driver, 5, 0.5).until(EC.presence_of_element_located((By.CSS_SELECTOR, nobook_selector)))\n",
    "        p=driver.find_element_by_css_selector(nobook_selector)\n",
    "        if '很抱歉' in p.text:\n",
    "            driver.quit()\n",
    "            return 'nobook'\n",
    "\n",
    "    print(driver.current_url+\"==========\")  \n",
    "\n",
    "    #4.有庫存\n",
    "    try:\n",
    "        td_selector='#A > table > tbody > tr:nth-child(2) > td'\n",
    "        WebDriverWait(driver, 5, 0.5).until(EC.presence_of_element_located((By.CSS_SELECTOR, td_selector)))\n",
    "        td=driver.find_element_by_css_selector(\"#A > table > tbody > tr:nth-child(2) > td\")\n",
    "        m=re.findall(r'\\[(.+?)\\]',td.text)\n",
    "        stores='/'.join(list(set(m)))\n",
    "        driver.quit()\n",
    "        return stores\n",
    "    except Exception as err:\n",
    "        driver.quit()\n",
    "        return 'err_'+str(err)\n"
   ]
  },
  {
   "cell_type": "code",
   "execution_count": 2,
   "metadata": {},
   "outputs": [
    {
     "name": "stdout",
     "output_type": "stream",
     "text": [
      "http://www.mollie.com.tw/Mobile/Books.asp_____\n",
      "9789571345826\n",
      "http://www.mollie.com.tw/Mobile/Books.asp==========\n",
      "CPU times: user 27.7 ms, sys: 9.17 ms, total: 36.9 ms\n",
      "Wall time: 8.26 s\n"
     ]
    },
    {
     "data": {
      "text/plain": [
       "'台大店/台中店'"
      ]
     },
     "execution_count": 2,
     "metadata": {},
     "output_type": "execute_result"
    }
   ],
   "source": [
    "isbn='9789571345826'\n",
    "%time get_mollie(isbn)"
   ]
  },
  {
   "cell_type": "code",
   "execution_count": null,
   "metadata": {},
   "outputs": [],
   "source": []
  }
 ],
 "metadata": {
  "kernelspec": {
   "display_name": "Python 3",
   "language": "python",
   "name": "python3"
  },
  "language_info": {
   "codemirror_mode": {
    "name": "ipython",
    "version": 3
   },
   "file_extension": ".py",
   "mimetype": "text/x-python",
   "name": "python",
   "nbconvert_exporter": "python",
   "pygments_lexer": "ipython3",
   "version": "3.6.10"
  }
 },
 "nbformat": 4,
 "nbformat_minor": 4
}
