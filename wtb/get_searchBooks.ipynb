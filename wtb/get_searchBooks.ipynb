{
 "cells": [
  {
   "cell_type": "code",
   "execution_count": 1,
   "metadata": {},
   "outputs": [],
   "source": [
    "#%%writefile get_searchBooks.py\n",
    "# -*- coding: utf-8 -*-\n",
    "#________________________________________________\n",
    "import os\n",
    "import django\n",
    "from django.utils import timezone\n",
    "#from django.utils.dateparse import parse_datetime\n",
    "from datetime import datetime,date#,timezone\n",
    "import pytz\n",
    "from bs4 import BeautifulSoup\n",
    "from bs4.element import NavigableString\n",
    "from difflib import SequenceMatcher\n",
    "from IPython.display import clear_output, display\n",
    "from time import sleep, time\n",
    "from threading import Thread\n",
    "from concurrent.futures import ThreadPoolExecutor,ProcessPoolExecutor \n",
    "\n",
    "from fake_useragent import UserAgent\n",
    "from fake_headers import Headers\n",
    "from pyquery import PyQuery as pq\n",
    "\n",
    "#\n",
    "import requests\n",
    "import pandas as pd\n",
    "import numpy as np\n",
    "import random\n",
    "import re\n",
    "import json\n",
    "import csv\n",
    "#\n",
    "from get_proxy import get_proxy\n",
    "\n",
    "#_________________________________________________\n",
    "def get_searchBooks(kw:str='村上春樹',which='free',now=False):\n",
    "    #kw=\"動盪\"\n",
    "    url_searchbooks=\"https://search.books.com.tw/search/query/cat/BKA/key/\"+kw\n",
    "    #\n",
    "    fake_header = Headers(\n",
    "        browser=\"chrome\",  # Generate only Chrome UA\n",
    "        os=\"win\",  # Generate ony Windows platform\n",
    "        headers=True  # generate misc headers\n",
    "    )    \n",
    "    UA=fake_header.generate()\n",
    "    ippo=get_proxy(which,now)\n",
    "    proxies={\"http\": \"http://\"+ippo}\n",
    "    #\n",
    "    r = requests.get(url_searchbooks, \n",
    "                     headers=UA,\n",
    "                     proxies=proxies,\n",
    "                     timeout=30)\n",
    "    r.encoding='utf8'\n",
    "    doc=pq(r.text)\n",
    "    r.close()\n",
    "    #\n",
    "    searchbooks=doc.find(\"#searchlist .searchbook\")\n",
    "    items=searchbooks.find(\".item\")\n",
    "    n=items.size()\n",
    "    results=[]    \n",
    "    if n==0:\n",
    "        return json.dumps(results,default=str,ensure_ascii=False)\n",
    "    if n>10:\n",
    "        n=10\n",
    "    #最多取10筆結果________________\n",
    "    for i in range(n):\n",
    "        book={}\n",
    "        item=items.eq(i)\n",
    "        #整理資料====================================\n",
    "        #book['bookid']=item.find(\"div.input_buy input\").attr('value')     \n",
    "        #有些沒checkbox\n",
    "        href=item.find(\"a[rel=mid_name]\").attr('href')                \n",
    "        bookid=re.search('/mid/item/(.+?)/page',href).group(1)\n",
    "        book['bookid']=bookid        \n",
    "        src=item.find(\"img.itemcov\").attr(\"data-original\")\n",
    "        if 'restricted18' in src:\n",
    "            #18禁先不搜\n",
    "            continue\n",
    "        #    \n",
    "        book['src']=src\n",
    "        \n",
    "        book['title']=item.find(\"a[rel=mid_name]\").text()\n",
    "        #\n",
    "        authors=''\n",
    "        for a in item.find(\"a[rel=go_author]\"):\n",
    "            authors+=pq(a).text()+\"/\"\n",
    "        book['author']=authors.strip(\"/\")\n",
    "        #\n",
    "        book['publisher']=item.find(\"a[rel=mid_publish]\").text()\n",
    "        book['pub_dt']=re.search('出版日期[^0-9]+?([0-9\\-]+)',item.text()).group(1)\n",
    "        count_off= item.find('span.price').find(\"b\").eq(0).text().ljust(2,'0')\n",
    "        price_sale=item.find('span.price').find(\"b\").eq(1).text()\n",
    "        if price_sale:\n",
    "            price_list=int(price_sale)*100//int(count_off)\n",
    "        else:\n",
    "            price_list=int(count_off) #沒有折扣\n",
    "        #book['sale']=count_off+\"_\"+price_sale\n",
    "        book['price_list']=price_list\n",
    "        intro=item.find('span.price').next().text()\n",
    "        intro=re.sub('\\.+? *more','',intro)\n",
    "        book['intro']=intro\n",
    "        #\n",
    "        results.append(book)    \n",
    "    \n",
    "    #___________________\n",
    "    results=json.dumps(results,default=str,ensure_ascii=False) \n",
    "    return results"
   ]
  },
  {
   "cell_type": "code",
   "execution_count": 4,
   "metadata": {},
   "outputs": [
    {
     "name": "stdout",
     "output_type": "stream",
     "text": [
      "CPU times: user 61.4 ms, sys: 5.68 ms, total: 67 ms\n",
      "Wall time: 1.88 s\n"
     ]
    },
    {
     "data": {
      "text/plain": [
       "'[{\"bookid\": \"F016393358\", \"src\": \"https://im1.book.com.tw/image/getImage?i=https://www.books.com.tw/img/F01/639/33/F016393358.jpg&w=85&h=120&v=5e620a3c\", \"title\": \"Heart of Reality: Essays on Beauty, Love, and Ethics by V. S. Soloviev\", \"author\": \"Soloviev/Vladimir Sergeyevich/Vladimir/Wozniuk\", \"publisher\": \"Ingram\", \"pub_dt\": \"2020-09-15\", \"price_list\": 1750, \"intro\": \"\"}, {\"bookid\": \"0010810240\", \"src\": \"https://im1.book.com.tw/image/getImage?i=https://www.books.com.tw/img/001/081/02/0010810240.jpg&w=85&h=120&v=5c24a9aa\", \"title\": \"貓頭鷹在黃昏飛翔 川上未映子V.S村上春樹訪談集\", \"author\": \"川上未映子/村上春樹\", \"publisher\": \"時報出版\", \"pub_dt\": \"2019-01-15\", \"price_list\": 380, \"intro\": \"作家間的頂尖對決 村上春樹V.S 川上未映子 《刺殺騎士團長》的誕生祕密、《身為職業小說家》的創作奧義、自身寫作歷程與生命的回顧、對於作品中女性所扮演的角色疑問、關於死亡與名聲的事。 那些你想知道的與你不可不知道的村上春樹\"}, {\"bookid\": \"0010636538\", \"src\": \"https://im1.book.com.tw/image/getImage?i=https://www.books.com.tw/img/001/063/65/0010636538.jpg&w=85&h=120&v=5e4130d4\", \"title\": \"民法含民法概要精修(申論題型v.s選擇題型)(增修版)\", \"author\": \"蔡裕樹\", \"publisher\": \"大東海\", \"pub_dt\": \"2019-12-31\", \"price_list\": 500, \"intro\": \"民法為常令考生頭痛的科目，法條繁多讓考生不易全部熟讀，但若能將基本工準備好，將能隨機應變，無往不利!本書由大東海名師蔡裕樹精心編授，內容分為重點整理和精選試題，編排條理清晰、分門別類，並利用表格幫助考\"}, {\"bookid\": \"F015677387\", \"src\": \"https://im1.book.com.tw/image/getImage?i=https://addons.books.com.tw/G/prod/comingsoon_rec.gif&w=85&h=120\", \"title\": \"V. S. Naipaul’’s Journeys: From Periphery to Center\", \"author\": \"Krishnan/Sanjay\", \"publisher\": \"Ingram\", \"pub_dt\": \"2020-02-04\", \"price_list\": 1750, \"intro\": \"The author of more than thirty books of fiction and nonfiction and winner of the Nobel Prize in Literature, V. S\"}, {\"bookid\": \"F015406395\", \"src\": \"https://im1.book.com.tw/image/getImage?i=https://addons.books.com.tw/G/prod/comingsoon_rec.gif&w=85&h=120\", \"title\": \"7 V’’S Strategy to Your Full Impact\", \"author\": \"Muzah/Tarupiwa\", \"publisher\": \"Ingram\", \"pub_dt\": \"2019-12-09\", \"price_list\": 810, \"intro\": \"\"}, {\"bookid\": \"F015273649\", \"src\": \"https://im1.book.com.tw/image/getImage?i=https://www.books.com.tw/img/F01/527/36/F015273649.jpg&w=85&h=120&v=5e55f471\", \"title\": \"The Five V’’s: A Guide to Empowerment & Happiness; Written with Love by A Modern Day Spiritual Warrior\", \"author\": \"Franki/Olinger\", \"publisher\": \"Ingram\", \"pub_dt\": \"2019-11-04\", \"price_list\": 762, \"intro\": \"\"}, {\"bookid\": \"F016103667\", \"src\": \"https://im1.book.com.tw/image/getImage?i=https://addons.books.com.tw/G/prod/comingsoon_rec.gif&w=85&h=120\", \"title\": \"Summary of A House for Mr. Biswas: A Novel (Vintage International) by V. S. Naipaul: Conversation Starters\", \"author\": \"Bookhabits/Paul Adams /.\", \"publisher\": \"Ingram\", \"pub_dt\": \"2019-10-02\", \"price_list\": 599, \"intro\": \"\"}, {\"bookid\": \"0010746202\", \"src\": \"https://im1.book.com.tw/image/getImage?i=https://www.books.com.tw/img/001/074/62/0010746202.jpg&w=85&h=120&v=58b7f43c\", \"title\": \"V.S.奈波爾 黑色幽默三部曲(艾薇拉投票記×史東先生與他的騎士夥伴×島上的旗幟)\", \"author\": \"V.S.奈波爾/劉韻韶/葉佳怡\", \"publisher\": \"時報出版\", \"pub_dt\": \"2017-03-21\", \"price_list\": 970, \"intro\": \"╣ 張錦忠(中山大學外文系副教授) 導讀 ╠ 二十一世紀第一位諾貝爾文學獎得主、當代文壇大師V.S.奈波爾早年代表作， 以尖酸犀利之筆，開啟後殖民小說創作巔峰 ◤ 艾薇拉投票記 ◢ 在加勒比海地區千里達的小鎮艾薇拉，即將舉行\"}, {\"bookid\": \"0010615625\", \"src\": \"https://im1.book.com.tw/image/getImage?i=https://www.books.com.tw/img/001/061/56/0010615625.jpg&w=85&h=120&v=5cfe31a6\", \"title\": \"行政學含行政學概要(大意)精修(申論題型V.S選擇題型)\", \"author\": \"王立明\", \"publisher\": \"大東海\", \"pub_dt\": \"2019-04-25\", \"price_list\": 550, \"intro\": \"本書由公職名師王立明依其多年研讀及授課經驗編撰而成，通書共十一章，涵蓋行政學精華內容，依序漸進奠定考生基本行政學觀念，從其概念意涵、理論變革、行政運作到熱門議題，於相關理論方法皆有精闢論述，讓考生一次\"}, {\"bookid\": \"F015914323\", \"src\": \"https://im1.book.com.tw/image/getImage?i=https://addons.books.com.tw/G/prod/comingsoon_rec.gif&w=85&h=120\", \"title\": \"Scientific Analysis of Hinduism v/s Christianity\", \"author\": \"Dharam Vir/Mangla\", \"publisher\": \"Ingram\", \"pub_dt\": \"2019-02-24\", \"price_list\": 675, \"intro\": \"\"}]'"
      ]
     },
     "execution_count": 4,
     "metadata": {},
     "output_type": "execute_result"
    }
   ],
   "source": [
    "kw='V.S'\n",
    "#%time get_searchBooks(kw)\n",
    "%time get_searchBooks(kw,'OK',True)"
   ]
  },
  {
   "cell_type": "markdown",
   "metadata": {},
   "source": [
    "results=[]\n",
    "for i in range(10):\n",
    "    book={}\n",
    "    item=items.eq(i)\n",
    "    #\n",
    "    book['bookid']=item.find(\"div.input_buy input\").attr('value')\n",
    "    book['src']=item.find(\"img.itemcov\").attr(\"data-original\")\n",
    "    book['title']=item.find(\"a[rel=mid_name]\").text()\n",
    "    #\n",
    "    authors=''\n",
    "    for a in item.find(\"a[rel=go_author]\"):\n",
    "        authors+=pq(a).text()+\"/\"\n",
    "    book['author']=authors.strip(\"/\")\n",
    "    #\n",
    "    book['publisher']=item.find(\"a[rel=mid_publish]\").text()\n",
    "    book['pub_dt']=re.search('出版日期[^0-9]+?([0-9\\-]+)',item.text()).group(1)\n",
    "    count_off= item.find('span.price').find(\"b\").eq(0).text().ljust(2,'0')\n",
    "    price_sale=item.find('span.price').find(\"b\").eq(1).text()\n",
    "    price_list=int(price_sale)*100//int(count_off)\n",
    "    #book['sale']=count_off+\"_\"+price_sale\n",
    "    book['price_list']=price_list\n",
    "    #\n",
    "    results.append(book)\n",
    "results \n",
    "json.dumps(results,default=str,ensure_ascii=False) "
   ]
  },
  {
   "cell_type": "code",
   "execution_count": 2,
   "metadata": {},
   "outputs": [
    {
     "data": {
      "text/plain": [
       "'22dd'"
      ]
     },
     "execution_count": 2,
     "metadata": {},
     "output_type": "execute_result"
    }
   ],
   "source": [
    "'22dd'.ljust(2,'0')"
   ]
  },
  {
   "cell_type": "code",
   "execution_count": null,
   "metadata": {},
   "outputs": [],
   "source": []
  }
 ],
 "metadata": {
  "kernelspec": {
   "display_name": "Python 3",
   "language": "python",
   "name": "python3"
  },
  "language_info": {
   "codemirror_mode": {
    "name": "ipython",
    "version": 3
   },
   "file_extension": ".py",
   "mimetype": "text/x-python",
   "name": "python",
   "nbconvert_exporter": "python",
   "pygments_lexer": "ipython3",
   "version": "3.6.10"
  }
 },
 "nbformat": 4,
 "nbformat_minor": 4
}
