{
 "cells": [
  {
   "cell_type": "code",
   "execution_count": 23,
   "metadata": {},
   "outputs": [
    {
     "name": "stdout",
     "output_type": "stream",
     "text": [
      "Overwriting get_searchBooks.py\n"
     ]
    }
   ],
   "source": [
    "# %%writefile get_searchBooks.py\n",
    "# -*- coding: utf-8 -*-\n",
    "#________________________________________________\n",
    "import os\n",
    "import django\n",
    "from django.utils import timezone\n",
    "#from django.utils.dateparse import parse_datetime\n",
    "from datetime import datetime,date#,timezone\n",
    "import pytz\n",
    "from bs4 import BeautifulSoup\n",
    "from bs4.element import NavigableString\n",
    "from difflib import SequenceMatcher\n",
    "from IPython.display import clear_output, display\n",
    "from time import sleep, time\n",
    "from threading import Thread\n",
    "from concurrent.futures import ThreadPoolExecutor,ProcessPoolExecutor \n",
    "\n",
    "from fake_useragent import UserAgent\n",
    "from fake_headers import Headers\n",
    "from pyquery import PyQuery as pq\n",
    "\n",
    "#\n",
    "import requests\n",
    "import pandas as pd\n",
    "import numpy as np\n",
    "import random\n",
    "import re\n",
    "import json\n",
    "import csv\n",
    "#\n",
    "from get_proxy import get_proxy\n",
    "\n",
    "#_________________________________________________\n",
    "def get_searchBooks(kw:str='村上春樹',which='free',now=False):\n",
    "    #kw=\"動盪\"\n",
    "    url_searchbooks=\"https://search.books.com.tw/search/query/cat/BKA/key/\"+kw\n",
    "    \n",
    "    #1. UA__________________\n",
    "    fake_header = Headers(\n",
    "        browser=\"chrome\",  # Generate only Chrome UA\n",
    "        os=\"win\",  # Generate ony Windows platform\n",
    "        headers=True  # generate misc headers\n",
    "    )    \n",
    "    #ua = UserAgent()  #20200412_突然掛了\n",
    "    UA={\n",
    "            'Accept':'text/html,application/xhtml+xml,application/xml;q=0.9,image/webp,image/apng,*/*;q=0.8,application/signed-exchange;v=b3;q=0.9',\n",
    "            'Accept-Encoding':'gzip, deflate, br',\n",
    "            'Accept-Language':'zh-TW,zh;q=0.9,en-US;q=0.8,en;q=0.7,ja;q=0.6,zh-CN;q=0.5,fr;q=0.4,nl;q=0.3',\n",
    "            'Connection':'keep-alive',\n",
    "            #'Cookie':'bid=5e6c707e6c0b6; _gcl_au=1.1.107924002.1584165002; _fbp=fb.2.1584165006803.1736193256; _ga=GA1.3.412690052.1584165010; _gid=GA1.3.1308642955.1584165010; __gads=ID=51bf519d611621e6':'T=1584165012':'S=ALNI_MY8XQcRb1LkFIbgMraUAQceRgccNQ; s_session=Xm0LpwomC28AAXEquPAAAAAi; home_tbanner=0; ssid=5e6c707e6c0b6.1584553407; BIGipServerpool_nsearch_http=1863001610.20480.0000; key_history=%7B%221584554411%22%3A%22%25E7%2599%25BD%25E9%25AF%25A8%25E8%25A8%2598%22%2C%221584516646%22%3A%22%25E5%25B0%258B%25E7%25BE%258A%25E5%2586%2592%25E9%259A%25AA%25E8%25A8%2598%22%2C%221584426616%22%3A%22%25E5%258B%2595%25E7%259B%25AA%22%2C%221584283952%22%3A%22%25E5%25A4%25A7%25E9%25A8%2599%25E5%25B1%2580%22%2C%221584283926%22%3A%22%25E6%258C%25AA%25E5%25A8%2581%25E7%259A%2584%25E6%25A3%25AE%25E6%259E%2597%2520%2520%25E4%25B8%258A%2520%22%2C%221584283835%22%3A%2282%25E5%25B9%25B4%25E7%2594%259F%25E7%259A%2584%25E9%2587%2591%25E6%2599%25BA%25E8%258B%25B1%22%2C%221584254136%22%3A%22%25E6%25A7%258D%25E7%25A0%25B2%25E7%2597%2585%25E8%258F%258C%25E8%2588%2587%25E9%258B%25BC%25E9%2590%25B5%22%2C%221584208117%22%3A%220010379034%22%2C%221584204707%22%3A%22F016393358%22%2C%221584204696%22%3A%220010844123%22%2C%221584202375%22%3A%22V.S%22%2C%221584201909%22%3A%22%25E8%25B2%2593%25E9%25A0%25AD%25E9%25B7%25B9%25E5%259C%25A8%25E9%25BB%2583%25E6%2598%258F%25E9%25A3%259B%25E7%25BF%2594%25EF%25BC%259A%25E5%25B7%259D%25E4%25B8%258A%25E6%259C%25AA%25E6%2598%25A0%25E5%25AD%2590V.S%25E6%259D%2591%25E4%25B8%258A%25E6%2598%25A5%25E6%25A8%25B9%25E8%25A8%25AA%25E8%25AB%2587%25E9%259B%2586%22%2C%221584201802%22%3A%22%25E8%25B2%2593%25E9%25A0%25AD%25E9%25B7%25B9%25E5%259C%25A8%25E9%25BB%2583%25E6%2598%258F%25E9%25A3%259B%25E7%25BF%2594%2520%25E5%25B7%259D%25E4%25B8%258A%25E6%259C%25AA%25E6%2598%25A0%25E5%25AD%2590V.S%25E6%259D%2591%25E4%25B8%258A%25E6%2598%25A5%25E6%25A8%25B9%25E8%25A8%25AA%25E8%25AB%2587%25E9%259B%2586%22%2C%221584195796%22%3A%22%25E4%25BB%258A%25E5%25A4%25A9%25E7%259A%2584%25E6%2588%2591%25E8%25A6%2581%25E5%2592%258C%25E6%2598%258E%25E5%25A4%25A9%25E7%259A%2584%25E4%25BD%25A0%25E7%25B4%2584%25E6%259C%2583%22%7D',\n",
    "            'Host':'search.books.com.tw',\n",
    "            'Sec-Fetch-Dest':'document',\n",
    "            'Sec-Fetch-Mode':'navigatev',\n",
    "            'Sec-Fetch-Site':'nonev',\n",
    "            'Sec-Fetch-User':'?1',\n",
    "            'Upgrade-Insecure-Requests':'1',\n",
    "            #'User-Agent':ua.random,  \n",
    "            'User-Agent':'Mozilla/5.0 (Windows NT 10.0; Win64; x64) AppleWebKit/537.36 (KHTML, like Gecko) Chrome/80.0.3987.132 Safari/537.36',\n",
    "        }\n",
    "    UA=fake_header.generate()\n",
    "    #UA= {'User-agent': 'Mozilla/5.0 (Windows NT 10.0; Win64; x64) AppleWebKit/537.36 (KHTML, like Gecko) Chrome/63.0.3239.132 Safari/537.36'}\n",
    "    #UA= {'user-agent':'Mozilla/5.0 (X11; Linux x86_64) AppleWebKit/537.36 (KHTML, like Gecko) Chrome/56.0.2924.87 Safari/537.36'}\n",
    "\n",
    "    \n",
    "    #2. Proxy______________________________________\n",
    "    ippo=get_proxy(which,now)\n",
    "    proxies={\"http\": \"http://\"+ippo}\n",
    "    #\n",
    "    try:\n",
    "        r = requests.get(url_searchbooks, \n",
    "                         headers=UA,\n",
    "                         proxies=proxies,\n",
    "                         timeout=30)\n",
    "        r.encoding='utf8'\n",
    "        doc=pq(r.text, parser='html')\n",
    "        r.close()\n",
    "        #\n",
    "        n=int(doc.find('.search-listbox .search_results span').eq(0).text().strip())\n",
    "        itemlist_table = doc.find(\"#itemlist_table\")\n",
    "        items=itemlist_table.find(\"tbody\")\n",
    "        results=[]  \n",
    "        #                 \n",
    "        if n==0:\n",
    "            return json.dumps(results,default=str,ensure_ascii=False)\n",
    "        elif n>10:\n",
    "            n=10\n",
    "        print('n=',n)\n",
    "        #最多取10筆結果________________\n",
    "        for i in range(n):            \n",
    "            book={}\n",
    "            item=items.eq(i)\n",
    "#             print(i)\n",
    "            #整理資料====================================\n",
    "            bookid = item.attr('id').split('_')[1]              \n",
    "            href = 'https://www.books.com.tw/products/'+bookid\n",
    "            book['bookid']=bookid   \n",
    "            src = item.find(\"img.b-lazy\").eq(0).attr(\"data-srcset\")\n",
    "#             src = src.split('?i=')[1][:-3].replace('374','187')\n",
    "            src = src.replace('w=374','w=100').replace('h=374','h=120')\n",
    "            #18禁先不搜\n",
    "            if 'restricted18' in src:\n",
    "                continue\n",
    "            #    \n",
    "            book['src']=src                    \n",
    "            book['title']=item.find(\"a[rel=mid_name]\").eq(0).text()\n",
    "            \n",
    "            #\n",
    "            authors=''\n",
    "            for a in item.find(\"a[rel=go_author]\"):\n",
    "                authors+=pq(a).text()+\"/\"\n",
    "            book['author']=authors.strip(\"/\")\n",
    "            #\n",
    "            book['publisher']=item.find(\"a[rel=mid_publish]\").text() or ''\n",
    "            #白鯨記沒有出版日期\n",
    "            m=re.search('出版日期[^0-9]+?([0-9\\-]+)',item.text())\n",
    "            if m:\n",
    "                book['pub_dt']=m.group(1)\n",
    "            else:\n",
    "                book['pub_dt']=''\n",
    "            #             \n",
    "            tmp=item.find('ul.list-nav.clearfix li').eq(0).find('strong')\n",
    "            count_off= tmp.eq(0).text().ljust(2,'0')\n",
    "            price_sale= tmp.eq(1).text().strip()\n",
    "            if price_sale:\n",
    "                price_list=int(price_sale)*100//int(count_off)\n",
    "            else:\n",
    "                price_list=int(count_off) #沒有折扣\n",
    "            book['sale']=count_off+\"_\"+price_sale\n",
    "            book['price_list']=price_list\n",
    "            intro=item.find('div.txt_cont p').text()\n",
    "            intro=re.sub('\\.+? *more','',intro)\n",
    "            book['intro']=intro\n",
    "            #\n",
    "            results.append(book)    \n",
    "        #___________________\n",
    "        results=json.dumps(results,default=str,ensure_ascii=False) \n",
    "        return results\n",
    "    except Exception as err:\n",
    "        return ''#str(err)"
   ]
  },
  {
   "cell_type": "code",
   "execution_count": 7,
   "metadata": {},
   "outputs": [
    {
     "name": "stdout",
     "output_type": "stream",
     "text": [
      "n= 10\n",
      "CPU times: user 45.7 ms, sys: 2.26 ms, total: 47.9 ms\n",
      "Wall time: 1.11 s\n"
     ]
    },
    {
     "data": {
      "text/plain": [
       "'[{\"bookid\": \"0010859951\", \"src\": \"https://im1.book.com.tw/image/getImage?i=https://www.books.com.tw/img/001/085/99/0010859951.jpg&w=187&h=187&v=5ed4d8b7 2x\", \"title\": \"村上春樹超短篇小說100%解謎\", \"author\": \"原善/賴明珠\", \"publisher\": \"聯合文學\", \"pub_dt\": \"2020-06-11\", \"sale\": \"70_245\", \"price_list\": 350, \"intro\": \"明朗的村上春樹，黑暗的村上春樹 解密村上文學之鑰就在超短篇小說 村上春樹超短篇小說隱藏之謎── ◆《發條鳥年代記》、《1Q84》創作源起 ◆「沒意思的話」隱含的謎語 ◆曲名變成書名的關鍵 ◆如何描述和文壇的訣別\"}, {\"bookid\": \"0010810240\", \"src\": \"https://im1.book.com.tw/image/getImage?i=https://www.books.com.tw/img/001/081/02/0010810240.jpg&w=187&h=187&v=5c24a9aa 2x\", \"title\": \"貓頭鷹在黃昏飛翔 川上未映子V.S村上春樹訪談集\", \"author\": \"川上未映子/村上春樹\", \"publisher\": \"時報出版\", \"pub_dt\": \"2019-01-15\", \"sale\": \"79_300\", \"price_list\": 379, \"intro\": \"作家間的頂尖對決 村上春樹V.S 川上未映子 《刺殺騎士團長》的誕生祕密、《身為職業小說家》的創作奧義、自身寫作歷程與生命的回顧、對於作品中女性所扮演的角色疑問、關於死亡與名聲的事。 那些你想\"}, {\"bookid\": \"0010535867\", \"src\": \"https://im1.book.com.tw/image/getImage?i=https://www.books.com.tw/img/001/053/58/0010535867.jpg&w=187&h=187&v=4f3cde18 2x\", \"title\": \"村上春樹雜文集\", \"author\": \"村上春樹/賴明珠\", \"publisher\": \"時報出版\", \"pub_dt\": \"2012-02-26\", \"sale\": \"79_284\", \"price_list\": 359, \"intro\": \"致辭。本書並附錄多幀安西水丸及和田誠先生的插畫。 《村上春樹雜文集》是村上春樹創作生涯最具分量的雜文集結，是了解村上春樹的重要資料，喜愛村上的讀者千萬不可錯過! 作者簡介 村上春樹 一九四九年生於日本兵庫縣，日本早稻田大學戲劇系畢業\"}, {\"bookid\": \"0010844730\", \"src\": \"https://im1.book.com.tw/image/getImage?i=https://www.books.com.tw/img/001/084/47/0010844730.jpg&w=187&h=187&v=5e0dd43d 2x\", \"title\": \"村上春樹詞典：一本書讀懂村上春樹世界\", \"author\": \"中村邦夫/道前宏子\", \"publisher\": \"大風文創\", \"pub_dt\": \"2020-01-02\", \"sale\": \"70_266\", \"price_list\": 380, \"intro\": \"★日本亞馬遜讀者五顆星推薦★ 給我村上，其餘免談! 第一本村上春樹【詞典+插畫】入門導讀書 完整收錄|全作品、創作角色、關鍵字等詞彙， 享受圖解閱讀村上春樹的無限魅力! 1979年，村上春樹以《聽風的歌》踏入日本文壇\"}, {\"bookid\": \"0010564481\", \"src\": \"https://im1.book.com.tw/image/getImage?i=https://www.books.com.tw/img/001/056/44/0010564481.jpg&w=187&h=187&v=508fb0fe 2x\", \"title\": \"村上收音機\", \"author\": \"村上春樹/賴明珠/大橋步\", \"publisher\": \"時報出版\", \"pub_dt\": \"2012-11-12\", \"sale\": \"79_221\", \"price_list\": 279, \"intro\": \"十年紀念.復刻改版 32開精裝本 《anan》雜誌超人氣連載 首度完整收錄大橋步美麗版畫 攜手合奏四季樂章 輕抓起貓背般的文字，明燦如點點星光， 唯有村上捕捉得到的，生活中的吉光片羽， 都教人想要納入掌中，呵護收藏。 收錄\"}, {\"bookid\": \"0010728241\", \"src\": \"https://im1.book.com.tw/image/getImage?i=https://www.books.com.tw/img/001/072/82/0010728241.jpg&w=187&h=187&v=57c80339 2x\", \"title\": \"村上春樹去見河合隼雄(新版)\", \"author\": \"村上春樹/河合隼雄/賴明珠\", \"publisher\": \"時報出版\", \"pub_dt\": \"2016-09-20\", \"sale\": \"79_174\", \"price_list\": 220, \"intro\": \"東西，也就是在人的靈魂深處存在的東西……我能有這種共鳴的對象，過去除了河合先生以外，一個人都沒有過……。」--村上春樹，《身為職業小說家》 這是一場日本小說名家與臨床心理學家前所未見的對話，為日本現代生活及社會現象把脈。對談之初，村上便\"}, {\"bookid\": \"0010572013\", \"src\": \"https://im1.book.com.tw/image/getImage?i=https://www.books.com.tw/img/001/057/20/0010572013.jpg&w=187&h=187&v=50dd74c2 2x\", \"title\": \"村上收音機 3：喜歡吃沙拉的獅子\", \"author\": \"村上春樹/賴明珠/大橋步\", \"publisher\": \"時報出版\", \"pub_dt\": \"2013-01-21\", \"sale\": \"79_221\", \"price_list\": 279, \"intro\": \"滿載村上春樹最新情報 收錄2011年3月 ~ 2012年4月，52篇隨筆，一次享用! 最令人肩膀放鬆的系列，「村上收音機」第三部到齊 全年開機塵囂一片安寧 隨心所欲、輕鬆愉快、乾脆豁出去- 不設想共通話題寫成的超人氣專欄。 村上獨特的世界\"}, {\"bookid\": \"0010564485\", \"src\": \"https://im1.book.com.tw/image/getImage?i=https://www.books.com.tw/img/001/056/44/0010564485.jpg&w=187&h=187&v=508fcd15 2x\", \"title\": \"村上收音機 2：大蕪菁、難挑的酪梨\", \"author\": \"村上春樹/賴明珠/大橋步\", \"publisher\": \"時報出版\", \"pub_dt\": \"2012-11-12\", \"sale\": \"79_221\", \"price_list\": 279, \"intro\": \"《達文西》雜誌2011年散文類選書第一名 32開 精裝本 兩大名家相隔十年再度完美合作 村上《anan》52篇連載隨筆，大橋步女士美麗的版畫 村上放鬆肩膀寫下的美好時光── 一些小小插曲、細微知識、片段記憶。 閱讀中不知不覺也\"}, {\"bookid\": \"0010801971\", \"src\": \"https://im1.book.com.tw/image/getImage?i=https://www.books.com.tw/img/001/080/19/0010801971.jpg&w=187&h=187&v=5bdbcff9 2x\", \"title\": \"But Beautiful然而，很美：論爵士樂與創造爵士樂的天才(村上春樹專文評述版)\", \"author\": \"傑夫．代爾/韓良憶\", \"publisher\": \"麥田\", \"pub_dt\": \"2018-11-03\", \"sale\": \"79_300\", \"price_list\": 379, \"intro\": \"在爵士樂裡，他們是天才，沒有了爵士樂，他們什麼也不是。 八位音樂人的生命旅程，帶著寂寞上路的靈魂故事。 毛姆文學獎、美國藝術文學院E. M. 福斯特獎、美國ICP國際攝影中心年度獎項得主 《持續進行的\"}, {\"bookid\": \"0010770985\", \"src\": \"https://im1.book.com.tw/image/getImage?i=https://www.books.com.tw/img/001/077/09/0010770985.jpg&w=187&h=187&v=5a096622 2x\", \"title\": \"1Q84(村上春樹長篇小說盒裝典藏套書-5)\", \"author\": \"村上春樹\", \"publisher\": \"時報出版\", \"pub_dt\": \"2017-12-12\", \"sale\": \"75_810\", \"price_list\": 1080, \"intro\": \"又一本不讓讀者失望之作，並在他寫作邁向三十週年之際推出了重量級作品《1Q84》，今年三月在巴賽隆納領獎時，村上自己提到這部作品：「歐威爾寫《1984》是向前看，但在我這本小說裡剛好反過來。我看過去，但仍然會看到未來。這是我最具企圖心的作品\"}]'"
      ]
     },
     "execution_count": 7,
     "metadata": {},
     "output_type": "execute_result"
    }
   ],
   "source": [
    "kw='村上'\n",
    "#%time get_searchBooks(kw)\n",
    "%time get_searchBooks(kw,'OK',True)"
   ]
  },
  {
   "cell_type": "code",
   "execution_count": 21,
   "metadata": {},
   "outputs": [
    {
     "data": {
      "text/plain": [
       "'https://im1.book.com.tw/image/getImage?i=https://www.books.com.tw/img/001/085/99/0010859951.jpg&w=187&h=187&v=5ed4d8b7'"
      ]
     },
     "execution_count": 21,
     "metadata": {},
     "output_type": "execute_result"
    }
   ],
   "source": [
    "a='https://im1.book.com.tw/image/getImage?i=https://www.books.com.tw/img/001/085/99/0010859951.jpg&w=187&h=187&v=5ed4d8b7'\n",
    "a.replace('&','&')"
   ]
  },
  {
   "cell_type": "code",
   "execution_count": null,
   "metadata": {},
   "outputs": [],
   "source": []
  }
 ],
 "metadata": {
  "kernelspec": {
   "display_name": "Python 3",
   "language": "python",
   "name": "python3"
  },
  "language_info": {
   "codemirror_mode": {
    "name": "ipython",
    "version": 3
   },
   "file_extension": ".py",
   "mimetype": "text/x-python",
   "name": "python",
   "nbconvert_exporter": "python",
   "pygments_lexer": "ipython3",
   "version": "3.6.10"
  }
 },
 "nbformat": 4,
 "nbformat_minor": 4
}
