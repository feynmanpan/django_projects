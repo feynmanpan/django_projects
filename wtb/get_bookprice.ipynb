{
 "cells": [
  {
   "cell_type": "code",
   "execution_count": 15,
   "metadata": {},
   "outputs": [],
   "source": [
    "#%%writefile get_bookprice.py\n",
    "#%load get_bookprice.py\n",
    "#%run get_bookprice.py\n",
    "# -*- coding: utf-8 -*-\n",
    "#________________________________________________\n",
    "import os\n",
    "import django\n",
    "from django.utils import timezone\n",
    "from django.db.models import Q\n",
    "#from django.utils.dateparse import parse_datetime\n",
    "from datetime import datetime,date#,timezone\n",
    "import pytz\n",
    "from bs4 import BeautifulSoup\n",
    "from bs4.element import NavigableString\n",
    "from difflib import SequenceMatcher\n",
    "from IPython.display import clear_output, display\n",
    "from time import sleep, time\n",
    "from threading import Thread\n",
    "from fake_useragent import UserAgent\n",
    "from fake_headers import Headers\n",
    "from pyquery import PyQuery as pq\n",
    "#\n",
    "import requests\n",
    "import pandas as pd\n",
    "import numpy as np\n",
    "import random\n",
    "import re\n",
    "import json\n",
    "import csv\n",
    "#\n",
    "os.environ.setdefault('DJANGO_SETTINGS_MODULE', 'wtb.settings')\n",
    "os.environ[\"DJANGO_ALLOW_ASYNC_UNSAFE\"] = \"true\"\n",
    "django.setup()\n",
    "from mainsite.models import Bookinfo,Bookprice,Store,Post\n",
    "\n",
    "#________________________________________________\n",
    "\n",
    "def get_bookprice(bookid:str='',isbn:str='',store:str='',tryDB=True)->dict:\n",
    "    \n",
    "    bookprice={'err':'','bookid':bookid,'isbn':isbn,'store':store}\n",
    "    \n",
    "    #1.確認====================================\n",
    "    #(1)bookid跟isbn至少要有一個\n",
    "    if not bookid and not isbn:\n",
    "        bookprice['err']='nobookidisbn'\n",
    "        return bookprice\n",
    "    #(2)有bookid的話\n",
    "    if bookid:\n",
    "        if type(bookid) is not str or len(bookid)!=10:\n",
    "            bookprice['err']='wrongbookid'\n",
    "            return bookprice \n",
    "        #以重查的isbn為準\n",
    "        row=Bookinfo.objects.filter(bookid=bookid)\n",
    "        if row.count()==1:\n",
    "            bookprice['isbn']=row.first().isbn\n",
    "        else:\n",
    "            bookprice['err']='nosuchbookid'\n",
    "            return bookprice \n",
    "    else:\n",
    "        #沒bookid，就一定要用isbn重查\n",
    "        row=Bookinfo.objects.filter(isbn=isbn)\n",
    "        if row.count()==1:        \n",
    "            bookprice['bookid']=row.first().bookid\n",
    "        else:\n",
    "            bookprice['err']='nosuchisbn'\n",
    "            return bookprice        \n",
    "\n",
    "    #2.開始抓====================================\n",
    "    #搜尋類型用isbn會找不到，用全站\n",
    "    url_q=\"http://www.eslite.com/Search_BW.aspx?searchType=&query=\"+isbn\n",
    "    fake_header = Headers(\n",
    "        browser=\"chrome\",  # Generate only Chrome UA\n",
    "        os=\"win\",  # Generate ony Windows platform\n",
    "        headers=True  # generate misc headers\n",
    "    )    \n",
    "    UA=fake_header.generate()\n",
    "    \n",
    "    #try    \n",
    "    r = requests.get(url_q, \n",
    "                     headers=UA,\n",
    "                     #proxies=proxies,\n",
    "                     #cookies=cookies,\n",
    "                     timeout=3)    \n",
    "    r.encoding='utf8'\n",
    "    #print(r.text)\n",
    "    #\n",
    "    doc=pq(r.text)    \n",
    "        \n",
    "    count=doc.find(\"#ctl00_ContentPlaceHolder1_lbTotalResultCount\").text()\n",
    "    \n",
    "    if count=='1':\n",
    "        price_sale=doc.find(\".summary\").eq(0).find(\".price_sale font\").text()\n",
    "        bookprice['price_sale']=price_sale\n",
    "    #\n",
    "    return bookprice\n",
    "    \n"
   ]
  },
  {
   "cell_type": "code",
   "execution_count": 16,
   "metadata": {},
   "outputs": [
    {
     "name": "stdout",
     "output_type": "stream",
     "text": [
      "<class 'django.db.models.query.QuerySet'>\n"
     ]
    },
    {
     "data": {
      "text/plain": [
       "{'err': '',\n",
       " 'bookid': '0010840756',\n",
       " 'isbn': '9789571380049',\n",
       " 'store': 'QQ',\n",
       " 'price_sale': '429'}"
      ]
     },
     "execution_count": 16,
     "metadata": {},
     "output_type": "execute_result"
    }
   ],
   "source": [
    "bookprice=get_bookprice(bookid='',isbn='9789571380049',store='QQ')\n",
    "#\n",
    "bookprice"
   ]
  },
  {
   "cell_type": "code",
   "execution_count": null,
   "metadata": {},
   "outputs": [],
   "source": []
  },
  {
   "cell_type": "code",
   "execution_count": null,
   "metadata": {},
   "outputs": [],
   "source": []
  }
 ],
 "metadata": {
  "kernelspec": {
   "display_name": "Python 3",
   "language": "python",
   "name": "python3"
  },
  "language_info": {
   "codemirror_mode": {
    "name": "ipython",
    "version": 3
   },
   "file_extension": ".py",
   "mimetype": "text/x-python",
   "name": "python",
   "nbconvert_exporter": "python",
   "pygments_lexer": "ipython3",
   "version": "3.6.10"
  }
 },
 "nbformat": 4,
 "nbformat_minor": 4
}
