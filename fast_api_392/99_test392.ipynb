{
 "cells": [
  {
   "cell_type": "code",
   "execution_count": null,
   "metadata": {},
   "outputs": [],
   "source": [
    "#################### import ################################\n",
    "from fastapi import Request\n",
    "import config\n",
    "import re\n",
    "from views import maintenance\n",
    "#  \n",
    "\n",
    "\n",
    "async def check_isMT(request: Request, call_next):\n",
    "    print(request.url.path)\n",
    "    print(request.url)\n",
    "    if isMT := (config.now_mode.name == 'maintenance'):\n",
    "        for pattern in config.maintenance_allow_patterns:\n",
    "            if re.match(pattern, request.url.path):   # DNS以後到?以前\n",
    "                isMT = False\n",
    "                break\n",
    "    #\n",
    "    if isMT:\n",
    "        return maintenance()\n",
    "    else:\n",
    "        return await call_next(request)"
   ]
  }
 ],
 "metadata": {
  "kernelspec": {
   "display_name": "Python 3",
   "language": "python",
   "name": "python3"
  },
  "language_info": {
   "codemirror_mode": {
    "name": "ipython",
    "version": 3
   },
   "file_extension": ".py",
   "mimetype": "text/x-python",
   "name": "python",
   "nbconvert_exporter": "python",
   "pygments_lexer": "ipython3",
   "version": "3.9.2"
  }
 },
 "nbformat": 4,
 "nbformat_minor": 4
}
