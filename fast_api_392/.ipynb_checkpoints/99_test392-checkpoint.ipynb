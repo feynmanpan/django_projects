{
 "cells": [
  {
   "cell_type": "code",
   "execution_count": 9,
   "metadata": {},
   "outputs": [],
   "source": [
    "import asyncio\n",
    "import time\n",
    "#\n",
    "async def say_after(delay, what):\n",
    "    await asyncio.sleep(delay)\n",
    "    print(what)\n",
    "    return what\n",
    "#\n",
    "async def main():\n",
    "#     task1 = asyncio.create_task(say_after(3, 'A'))\n",
    "#     task2 = asyncio.create_task(say_after(1, 'B'))\n",
    "#     task3 = asyncio.create_task(say_after(2, 'C'))\n",
    "#     task4 = asyncio.create_task(say_after(0.5, 'D'))\n",
    "\n",
    "    print(f\"started at {time.strftime('%X')}\")\n",
    "    a = await asyncio.gather(*[say_after(3, 'A'), say_after(1, 'B')])\n",
    "    b = await asyncio.gather(*[say_after(2, 'C'), say_after(0.5, 'D')])\n",
    "#     a = await asyncio.gather(*[task1, task2])\n",
    "#     b = await asyncio.gather(*[task3, task4])\n",
    "    print(f\"finished at {time.strftime('%X')}\")\n",
    "    return a, b\n",
    "#     await asyncio.gather(say_after(3, 'A'), say_after(1, 'B'))\n",
    "#     await asyncio.gather(say_after(2, 'C'), say_after(0.5, 'D'))\n",
    "#     await asyncio.wait([say_after(2, 'A2'), say_after(0.5, 'H2')])"
   ]
  },
  {
   "cell_type": "code",
   "execution_count": 10,
   "metadata": {},
   "outputs": [
    {
     "name": "stdout",
     "output_type": "stream",
     "text": [
      "started at 23:45:35\n",
      "D\n",
      "B\n",
      "B\n",
      "C\n",
      "A\n",
      "A\n",
      "D\n",
      "C\n",
      "finished at 23:45:40\n"
     ]
    },
    {
     "data": {
      "text/plain": [
       "(['A', 'B'], ['C', 'D'])"
      ]
     },
     "execution_count": 10,
     "metadata": {},
     "output_type": "execute_result"
    }
   ],
   "source": [
    "await main()"
   ]
  },
  {
   "cell_type": "code",
   "execution_count": null,
   "metadata": {},
   "outputs": [],
   "source": []
  }
 ],
 "metadata": {
  "kernelspec": {
   "display_name": "Python 3",
   "language": "python",
   "name": "python3"
  },
  "language_info": {
   "codemirror_mode": {
    "name": "ipython",
    "version": 3
   },
   "file_extension": ".py",
   "mimetype": "text/x-python",
   "name": "python",
   "nbconvert_exporter": "python",
   "pygments_lexer": "ipython3",
   "version": "3.9.2"
  }
 },
 "nbformat": 4,
 "nbformat_minor": 4
}
