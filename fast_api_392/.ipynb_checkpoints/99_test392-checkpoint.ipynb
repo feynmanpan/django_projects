{
 "cells": [
  {
   "cell_type": "code",
   "execution_count": 40,
   "metadata": {},
   "outputs": [
    {
     "name": "stdout",
     "output_type": "stream",
     "text": [
      "main1 140141458466128\n"
     ]
    },
    {
     "data": {
      "text/plain": [
       "<Task pending name='Task-38' coro=<main() running at <ipython-input-40-0028d04b5b11>:10>>"
      ]
     },
     "execution_count": 40,
     "metadata": {},
     "output_type": "execute_result"
    },
    {
     "name": "stdout",
     "output_type": "stream",
     "text": [
      "main2 140141458466128\n",
      "started at 21:23:15\n",
      "finished at 21:23:15\n",
      "world\n",
      "hello\n"
     ]
    }
   ],
   "source": [
    "import asyncio\n",
    "import nest_asyncio\n",
    "import time\n",
    "from time import sleep\n",
    "\n",
    "async def say_after(delay, what):\n",
    "    await asyncio.sleep(delay)\n",
    "    print(what)\n",
    "\n",
    "async def main():\n",
    "    print('main2', id(asyncio.get_running_loop()))\n",
    "    task1 = asyncio.create_task(\n",
    "        say_after(3, 'hello'))\n",
    "\n",
    "    task2 = asyncio.create_task(\n",
    "        say_after(1, 'world'))\n",
    "\n",
    "    print(f\"started at {time.strftime('%X')}\")\n",
    "\n",
    "    # Wait until both tasks are completed (should take\n",
    "    # around 2 seconds.)\n",
    "#     await task2\n",
    "#     await task1\n",
    "\n",
    "    print(f\"finished at {time.strftime('%X')}\")\n",
    "\n",
    "\n",
    "# asyncio.run(main())\n",
    "print('main1', id(asyncio.get_event_loop()))\n",
    "loop = asyncio.get_event_loop()\n",
    "loop.create_task(main())\n",
    "# await main()"
   ]
  },
  {
   "cell_type": "code",
   "execution_count": null,
   "metadata": {},
   "outputs": [],
   "source": [
    "# nest_asyncio.apply()\n",
    "loop = asyncio.get_event_loop()\n",
    "loop2 = asyncio.get_running_loop()\n",
    "# asyncio.create_task(say_after(3, 'hello'))\n",
    "# asyncio.create_task(say_after(1, 'world'))\n",
    "t = asyncio.create_task(main())\n",
    "print(t)"
   ]
  },
  {
   "cell_type": "code",
   "execution_count": null,
   "metadata": {},
   "outputs": [],
   "source": [
    "print(t)"
   ]
  },
  {
   "cell_type": "code",
   "execution_count": 3,
   "metadata": {},
   "outputs": [
    {
     "ename": "SyntaxError",
     "evalue": "'await' outside async function (<ipython-input-3-d90441e263be>, line 2)",
     "output_type": "error",
     "traceback": [
      "\u001b[0;36m  File \u001b[0;32m\"<ipython-input-3-d90441e263be>\"\u001b[0;36m, line \u001b[0;32m2\u001b[0m\n\u001b[0;31m    await asyncio.sleep(1)\u001b[0m\n\u001b[0m    ^\u001b[0m\n\u001b[0;31mSyntaxError\u001b[0m\u001b[0;31m:\u001b[0m 'await' outside async function\n"
     ]
    }
   ],
   "source": [
    "def nested():\n",
    "    await asyncio.sleep(1)\n",
    "    return 42"
   ]
  },
  {
   "cell_type": "code",
   "execution_count": null,
   "metadata": {},
   "outputs": [],
   "source": [
    "await nested()"
   ]
  },
  {
   "cell_type": "code",
   "execution_count": 25,
   "metadata": {},
   "outputs": [],
   "source": [
    "async def loopme(t):\n",
    "    for i in range(2):\n",
    "        #         await asyncio.sleep(t)\n",
    "        sleep(t)\n",
    "        t += 1\n",
    "        print(f'現在時間 = ')\n",
    "\n",
    "\n",
    "def loopme2(t):\n",
    "    for i in range(2):\n",
    "        #         await asyncio.sleep(t)\n",
    "        sleep(t)\n",
    "        print(f'loopme2')"
   ]
  },
  {
   "cell_type": "code",
   "execution_count": 28,
   "metadata": {},
   "outputs": [
    {
     "data": {
      "text/plain": [
       "<Task pending name='Task-22' coro=<loopme2() running at <ipython-input-25-1575a1f33a36>:9>>"
      ]
     },
     "execution_count": 28,
     "metadata": {},
     "output_type": "execute_result"
    },
    {
     "name": "stdout",
     "output_type": "stream",
     "text": [
      "loopme2\n",
      "loopme2\n"
     ]
    }
   ],
   "source": [
    "# await loopme(1)\n",
    "# await loopme2(2)\n",
    "# asyncio.create_task(loopme(1))\n",
    "asyncio.create_task(loopme2(1))"
   ]
  },
  {
   "cell_type": "code",
   "execution_count": 10,
   "metadata": {},
   "outputs": [
    {
     "data": {
      "text/plain": [
       "2"
      ]
     },
     "execution_count": 10,
     "metadata": {},
     "output_type": "execute_result"
    }
   ],
   "source": [
    "from datetime import datetime\n",
    "import asyncio\n",
    "from time import sleep\n",
    "# import nest_asyncio\n",
    "\n",
    "\n",
    "async def loopme(t):\n",
    "    while 1:\n",
    "        await asyncio.sleep(t)\n",
    "        # sleep(t)\n",
    "        t += 1\n",
    "        print(f'現在時間 = {datetime.now()}')\n",
    "\n",
    "\n",
    "async def loopme2(t):\n",
    "    while 1:\n",
    "        await asyncio.sleep(t)\n",
    "        # sleep(t)\n",
    "        print(f'loopme2')\n",
    "\n",
    "#################### tasks_list ################################\n",
    "\n",
    "tasks_list = [\n",
    "    (loopme, 1),\n",
    "    (loopme2, 1),\n",
    "]\n",
    "\n",
    "\n",
    "# async def runtasks():\n",
    "#     print('開始tasks')\n",
    "#     print(id(asyncio.get_event_loop()))\n",
    "#     print(id(asyncio.get_running_loop()))\n",
    "#     for task, t in tasks_list:\n",
    "#         # 都是無限loop，不要await\n",
    "#         # 如果是def runtasks，沒有async，get_event_loop不會running\n",
    "#         # asyncio.create_task會在get_running_loop()中註冊task == loop.create_task(task(t))\n",
    "#         asyncio.create_task(task(t))\n",
    "# async def runtasks():\n",
    "#     loop = asyncio.get_event_loop()  # loop.is_running() == True\n",
    "#     for task, t in tasks_list:\n",
    "#         loop.create_task(task(t))\n",
    "def runtasks():\n",
    "    #沒有async時，也沒有current loop\n",
    "    loop = asyncio.new_event_loop()  #     loop.is_running()) == False\n",
    "    for task, t in tasks_list:\n",
    "        loop.create_task(task(t))\n",
    "    loop.run_forever()        "
   ]
  }
 ],
 "metadata": {
  "kernelspec": {
   "display_name": "Python 3",
   "language": "python",
   "name": "python3"
  },
  "language_info": {
   "codemirror_mode": {
    "name": "ipython",
    "version": 3
   },
   "file_extension": ".py",
   "mimetype": "text/x-python",
   "name": "python",
   "nbconvert_exporter": "python",
   "pygments_lexer": "ipython3",
   "version": "3.9.2"
  }
 },
 "nbformat": 4,
 "nbformat_minor": 4
}
