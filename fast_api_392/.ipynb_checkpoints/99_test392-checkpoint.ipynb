{
 "cells": [
  {
   "cell_type": "code",
   "execution_count": 6,
   "metadata": {},
   "outputs": [
    {
     "data": {
      "text/plain": [
       "<coroutine object main at 0x7f7539ddb9c0>"
      ]
     },
     "execution_count": 6,
     "metadata": {},
     "output_type": "execute_result"
    }
   ],
   "source": [
    "import asyncio\n",
    "import nest_asyncio\n",
    "import time\n",
    "from time import sleep\n",
    "\n",
    "async def say_after(delay, what):\n",
    "    await asyncio.sleep(delay)\n",
    "    print(what)\n",
    "\n",
    "async def main():\n",
    "    task1 = asyncio.create_task(\n",
    "        say_after(3, 'hello'))\n",
    "\n",
    "    task2 = asyncio.create_task(\n",
    "        say_after(1, 'world'))\n",
    "\n",
    "    print(f\"started at {time.strftime('%X')}\")\n",
    "\n",
    "    # Wait until both tasks are completed (should take\n",
    "    # around 2 seconds.)\n",
    "#     await task2\n",
    "#     await task1\n",
    "\n",
    "    print(f\"finished at {time.strftime('%X')}\")\n",
    "\n",
    "\n",
    "main()"
   ]
  },
  {
   "cell_type": "code",
   "execution_count": null,
   "metadata": {},
   "outputs": [],
   "source": [
    "# nest_asyncio.apply()\n",
    "loop = asyncio.get_event_loop()\n",
    "loop2 = asyncio.get_running_loop()\n",
    "# asyncio.create_task(say_after(3, 'hello'))\n",
    "# asyncio.create_task(say_after(1, 'world'))\n",
    "t = asyncio.create_task(main())\n",
    "print(t)"
   ]
  },
  {
   "cell_type": "code",
   "execution_count": null,
   "metadata": {},
   "outputs": [],
   "source": [
    "print(t)"
   ]
  },
  {
   "cell_type": "code",
   "execution_count": 3,
   "metadata": {},
   "outputs": [
    {
     "ename": "SyntaxError",
     "evalue": "'await' outside async function (<ipython-input-3-d90441e263be>, line 2)",
     "output_type": "error",
     "traceback": [
      "\u001b[0;36m  File \u001b[0;32m\"<ipython-input-3-d90441e263be>\"\u001b[0;36m, line \u001b[0;32m2\u001b[0m\n\u001b[0;31m    await asyncio.sleep(1)\u001b[0m\n\u001b[0m    ^\u001b[0m\n\u001b[0;31mSyntaxError\u001b[0m\u001b[0;31m:\u001b[0m 'await' outside async function\n"
     ]
    }
   ],
   "source": [
    "def nested():\n",
    "    await asyncio.sleep(1)\n",
    "    return 42"
   ]
  },
  {
   "cell_type": "code",
   "execution_count": null,
   "metadata": {},
   "outputs": [],
   "source": [
    "await nested()"
   ]
  },
  {
   "cell_type": "code",
   "execution_count": 25,
   "metadata": {},
   "outputs": [],
   "source": [
    "async def loopme(t):\n",
    "    for i in range(2):\n",
    "        #         await asyncio.sleep(t)\n",
    "        sleep(t)\n",
    "        t += 1\n",
    "        print(f'現在時間 = ')\n",
    "\n",
    "\n",
    "def loopme2(t):\n",
    "    for i in range(2):\n",
    "        #         await asyncio.sleep(t)\n",
    "        sleep(t)\n",
    "        print(f'loopme2')"
   ]
  },
  {
   "cell_type": "code",
   "execution_count": 26,
   "metadata": {},
   "outputs": [
    {
     "data": {
      "text/plain": [
       "<Task pending name='Task-19' coro=<loopme2() running at <ipython-input-25-1575a1f33a36>:9>>"
      ]
     },
     "execution_count": 26,
     "metadata": {},
     "output_type": "execute_result"
    },
    {
     "name": "stdout",
     "output_type": "stream",
     "text": [
      "現在時間 = \n",
      "現在時間 = \n",
      "loopme2\n",
      "loopme2\n"
     ]
    }
   ],
   "source": [
    "# await loopme(1)\n",
    "# await loopme2(2)\n",
    "asyncio.create_task(loopme(1))\n",
    "asyncio.create_task(loopme2(1))"
   ]
  },
  {
   "cell_type": "code",
   "execution_count": 10,
   "metadata": {},
   "outputs": [
    {
     "data": {
      "text/plain": [
       "2"
      ]
     },
     "execution_count": 10,
     "metadata": {},
     "output_type": "execute_result"
    }
   ],
   "source": [
    "1+1"
   ]
  },
  {
   "cell_type": "code",
   "execution_count": null,
   "metadata": {},
   "outputs": [],
   "source": []
  }
 ],
 "metadata": {
  "kernelspec": {
   "display_name": "Python 3",
   "language": "python",
   "name": "python3"
  },
  "language_info": {
   "codemirror_mode": {
    "name": "ipython",
    "version": 3
   },
   "file_extension": ".py",
   "mimetype": "text/x-python",
   "name": "python",
   "nbconvert_exporter": "python",
   "pygments_lexer": "ipython3",
   "version": "3.9.2"
  }
 },
 "nbformat": 4,
 "nbformat_minor": 4
}
