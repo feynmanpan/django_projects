{
 "cells": [
  {
   "cell_type": "code",
   "execution_count": null,
   "metadata": {},
   "outputs": [],
   "source": [
    "# netstat -ltnp | grep 6001\n",
    "# 顯示第一個監聽6001的process\n",
    "# ps -aux | grep main\n",
    "# 顯示一共連續三個process，都要kill\n",
    "#################### import ################################\n",
    "from typing import Optional, Callable\n",
    "from typing import get_type_hints\n",
    "from time import sleep\n",
    "import asyncio\n",
    "import re\n",
    "# import nest_asyncio\n",
    "#\n",
    "from fastapi import FastAPI, Request\n",
    "from fastapi.responses import HTMLResponse, ORJSONResponse\n",
    "from fastapi.staticfiles import StaticFiles\n",
    "from fastapi.templating import Jinja2Templates\n",
    "from starlette.templating import _TemplateResponse\n",
    "#\n",
    "import config\n",
    "from views import test\n",
    "from middlewares import check_isMT\n",
    "\n",
    "\n",
    "#################### app ################################\n",
    "app = FastAPI()\n",
    "app.mount(\"/static\", StaticFiles(directory=\"static\"), name=\"static\")\n",
    "#\n",
    "def path_get(url: str, func: Callable):\n",
    "    return app.get(url)(func)\n",
    "def path_MW(func: Callable):\n",
    "    return app.middleware(\"http\")(func)\n",
    "\n",
    "\n",
    "#################### maintenance ################################\n",
    "print(f'進入【{config.now_mode}】模式')\n",
    "# 維護模式時，所有url都先一律匹配\n",
    "# if now_mode == 'maintenance':\n",
    "#     path_get(\"/{allurl:path}\", maintenance)\n",
    "path_MW(check_isMT)\n",
    "\n",
    "#################### urlpattern ################################\n",
    "path_get(\"/test/{p}\", test)"
   ]
  }
 ],
 "metadata": {
  "kernelspec": {
   "display_name": "Python 3",
   "language": "python",
   "name": "python3"
  },
  "language_info": {
   "codemirror_mode": {
    "name": "ipython",
    "version": 3
   },
   "file_extension": ".py",
   "mimetype": "text/x-python",
   "name": "python",
   "nbconvert_exporter": "python",
   "pygments_lexer": "ipython3",
   "version": "3.9.2"
  }
 },
 "nbformat": 4,
 "nbformat_minor": 4
}
