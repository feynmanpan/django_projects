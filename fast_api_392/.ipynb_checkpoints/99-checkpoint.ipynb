{
 "cells": [
  {
   "cell_type": "code",
   "execution_count": 1,
   "metadata": {},
   "outputs": [],
   "source": [
    "class A:\n",
    "    objs = {}\n",
    "    info_default = {\n",
    "        \"bid\": \"0010770978\",  # 刺殺騎士團長\n",
    "        'x': 1111111119,\n",
    "    }\n",
    "\n",
    "    def __new__(cls, *args, **kwargs):\n",
    "        bid = kwargs.get('bid') or cls.info_default['bid'] or '0010770978'\n",
    "        print(bid)\n",
    "        if obj := cls.objs.get(bid):\n",
    "            return obj\n",
    "        else:\n",
    "            obj = super().__new__(cls)\n",
    "            print(obj)\n",
    "            cls.objs[bid] = obj\n",
    "            return obj\n",
    "\n",
    "    def __init__(self, **init):\n",
    "        init = init or type(self).info_default\n",
    "        self.bid = init['bid']\n",
    "        self.x = init['x']"
   ]
  },
  {
   "cell_type": "code",
   "execution_count": 3,
   "metadata": {},
   "outputs": [
    {
     "name": "stdout",
     "output_type": "stream",
     "text": [
      "12345\n",
      "<__main__.A object at 0x7f95fc155340>\n"
     ]
    },
    {
     "data": {
      "text/plain": [
       "('12345', 321)"
      ]
     },
     "execution_count": 3,
     "metadata": {},
     "output_type": "execute_result"
    }
   ],
   "source": [
    "init = {\n",
    "    'bid': '12345',\n",
    "    'x': 321\n",
    "}\n",
    "a = A(**init)\n",
    "a.bid, a.x"
   ]
  },
  {
   "cell_type": "code",
   "execution_count": 2,
   "metadata": {},
   "outputs": [
    {
     "name": "stdout",
     "output_type": "stream",
     "text": [
      "0010770978\n",
      "<__main__.A object at 0x7f95fc1557f0>\n"
     ]
    },
    {
     "data": {
      "text/plain": [
       "('0010770978', 1111111119)"
      ]
     },
     "execution_count": 2,
     "metadata": {},
     "output_type": "execute_result"
    }
   ],
   "source": [
    "b = A()\n",
    "b.bid, b.x"
   ]
  },
  {
   "cell_type": "code",
   "execution_count": 4,
   "metadata": {},
   "outputs": [
    {
     "name": "stdout",
     "output_type": "stream",
     "text": [
      "0010770978\n"
     ]
    },
    {
     "data": {
      "text/plain": [
       "('0010770978', 1111111119)"
      ]
     },
     "execution_count": 4,
     "metadata": {},
     "output_type": "execute_result"
    }
   ],
   "source": [
    "c = A()\n",
    "c.bid, c.x"
   ]
  },
  {
   "cell_type": "code",
   "execution_count": 5,
   "metadata": {},
   "outputs": [
    {
     "data": {
      "text/plain": [
       "True"
      ]
     },
     "execution_count": 5,
     "metadata": {},
     "output_type": "execute_result"
    }
   ],
   "source": [
    "b is c"
   ]
  },
  {
   "cell_type": "code",
   "execution_count": 6,
   "metadata": {},
   "outputs": [
    {
     "data": {
      "text/plain": [
       "{'0010770978': <__main__.A at 0x7f95fc1557f0>,\n",
       " '12345': <__main__.A at 0x7f95fc155340>}"
      ]
     },
     "execution_count": 6,
     "metadata": {},
     "output_type": "execute_result"
    }
   ],
   "source": [
    "A.objs"
   ]
  },
  {
   "cell_type": "code",
   "execution_count": null,
   "metadata": {},
   "outputs": [],
   "source": []
  }
 ],
 "metadata": {
  "kernelspec": {
   "display_name": "Python 3",
   "language": "python",
   "name": "python3"
  },
  "language_info": {
   "codemirror_mode": {
    "name": "ipython",
    "version": 3
   },
   "file_extension": ".py",
   "mimetype": "text/x-python",
   "name": "python",
   "nbconvert_exporter": "python",
   "pygments_lexer": "ipython3",
   "version": "3.9.2"
  }
 },
 "nbformat": 4,
 "nbformat_minor": 4
}
