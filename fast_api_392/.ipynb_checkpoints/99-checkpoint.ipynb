{
 "cells": [
  {
   "cell_type": "code",
   "execution_count": null,
   "metadata": {},
   "outputs": [],
   "source": [
    "class TraceMeta(type):\n",
    "    def __new__(meta, name, bases, class_dict):\n",
    "        klass = super().__new__(meta, name, bases, class_dict)\n",
    "        print(111)\n",
    "        return klass\n",
    "\n",
    "def k(cls):\n",
    "    print(222)\n",
    "    fun = cls.a\n",
    "    #\n",
    "\n",
    "    def w(*args, **kwargs):\n",
    "        print(333)\n",
    "        fun(*args, **kwargs)\n",
    "    #\n",
    "    cls.a = w\n",
    "    return cls\n",
    "\n",
    "@k\n",
    "class A(metaclass=TraceMeta):\n",
    "    def a(self):\n",
    "        print(444)\n",
    "#\n",
    "A().a()"
   ]
  },
  {
   "cell_type": "code",
   "execution_count": null,
   "metadata": {},
   "outputs": [],
   "source": []
  },
  {
   "cell_type": "code",
   "execution_count": null,
   "metadata": {},
   "outputs": [],
   "source": []
  },
  {
   "cell_type": "code",
   "execution_count": null,
   "metadata": {},
   "outputs": [],
   "source": []
  }
 ],
 "metadata": {
  "kernelspec": {
   "display_name": "Python 3",
   "language": "python",
   "name": "python3"
  },
  "language_info": {
   "codemirror_mode": {
    "name": "ipython",
    "version": 3
   },
   "file_extension": ".py",
   "mimetype": "text/x-python",
   "name": "python",
   "nbconvert_exporter": "python",
   "pygments_lexer": "ipython3",
   "version": "3.9.2"
  }
 },
 "nbformat": 4,
 "nbformat_minor": 4
}
