{
 "cells": [
  {
   "cell_type": "code",
   "execution_count": 26,
   "metadata": {},
   "outputs": [],
   "source": []
  },
  {
   "cell_type": "code",
   "execution_count": 30,
   "metadata": {},
   "outputs": [
    {
     "name": "stdout",
     "output_type": "stream",
     "text": [
      "9999 Exception in thread Thread-6:\n",
      "Traceback (most recent call last):\n",
      "  File \"/home/pan/anaconda3/envs/fast_env/lib/python3.9/threading.py\", line 954, in _bootstrap_inner\n",
      "    self.run()\n",
      "  File \"/home/pan/anaconda3/envs/fast_env/lib/python3.9/threading.py\", line 892, in run\n",
      "    self._target(*self._args, **self._kwargs)\n",
      "  File \"<ipython-input-30-51b7290f74f5>\", line 2, in A\n",
      "ValueError: 123\n",
      "\n",
      "123444\n"
     ]
    }
   ],
   "source": [
    "import contextlib\n",
    "import io\n",
    "from threading import Thread\n",
    "# \n",
    "def A():\n",
    "    raise ValueError(123)\n",
    "\n",
    "\n",
    "#\n",
    "fake_stderr = io.StringIO()\n",
    "#\n",
    "with contextlib.redirect_stderr(fake_stderr):\n",
    "    th = Thread(target=A)\n",
    "    th.start()\n",
    "    th.join()\n",
    "#\n",
    "print(9999, fake_stderr.getvalue())\n",
    "print(123444)"
   ]
  },
  {
   "cell_type": "code",
   "execution_count": null,
   "metadata": {},
   "outputs": [],
   "source": []
  }
 ],
 "metadata": {
  "kernelspec": {
   "display_name": "Python 3",
   "language": "python",
   "name": "python3"
  },
  "language_info": {
   "codemirror_mode": {
    "name": "ipython",
    "version": 3
   },
   "file_extension": ".py",
   "mimetype": "text/x-python",
   "name": "python",
   "nbconvert_exporter": "python",
   "pygments_lexer": "ipython3",
   "version": "3.9.2"
  },
  "toc-autonumbering": false,
  "toc-showmarkdowntxt": false,
  "toc-showtags": false
 },
 "nbformat": 4,
 "nbformat_minor": 4
}
