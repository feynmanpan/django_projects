{
 "cells": [
  {
   "cell_type": "code",
   "execution_count": 8,
   "metadata": {},
   "outputs": [],
   "source": [
    "import json"
   ]
  },
  {
   "cell_type": "code",
   "execution_count": 9,
   "metadata": {},
   "outputs": [
    {
     "data": {
      "text/plain": [
       "'{\"A\": [1, 2]}'"
      ]
     },
     "execution_count": 9,
     "metadata": {},
     "output_type": "execute_result"
    }
   ],
   "source": [
    "json.dumps({\"A\": (1, 2)})"
   ]
  },
  {
   "cell_type": "code",
   "execution_count": 16,
   "metadata": {},
   "outputs": [
    {
     "name": "stdout",
     "output_type": "stream",
     "text": [
      "222 ['BOOKS', 'TAAZE']\n"
     ]
    }
   ],
   "source": [
    "\n",
    "import apps.sql.config as sqlcfg\n",
    "from apps.sql.views import dbwtb_isconnected\n",
    "from typing import Optional, Callable\n",
    "import asyncio\n",
    "import os\n",
    "#\n",
    "from fastapi import FastAPI, Request, Depends, HTTPException\n",
    "from fastapi.staticfiles import StaticFiles\n",
    "from fastapi.middleware.trustedhost import TrustedHostMiddleware\n",
    "from fastapi.responses import HTMLResponse, ORJSONResponse\n",
    "#\n",
    "import config\n",
    "from views import test, startBGT\n",
    "from middlewares import mw_list\n",
    "from utils import MSG\n",
    "# apps\n",
    "from apps.pig.views import pig_d\n",
    "from apps.ips.views import show_freeproxy, get_next_ip, check_proxy\n",
    "from apps.ips.config import get_freeproxy_delta\n",
    "from apps.book.classes import zimportall\n",
    "from apps.book.classes.abookbase import BOOKBASE\n",
    "from apps.book.views import show_books, show_register_subclasses"
   ]
  },
  {
   "cell_type": "code",
   "execution_count": 11,
   "metadata": {},
   "outputs": [
    {
     "data": {
      "text/plain": [
       "3"
      ]
     },
     "execution_count": 11,
     "metadata": {},
     "output_type": "execute_result"
    }
   ],
   "source": [
    "a+2"
   ]
  },
  {
   "cell_type": "code",
   "execution_count": 12,
   "metadata": {},
   "outputs": [],
   "source": [
    "class A:\n",
    "    a = 1\n",
    "class B(A):\n",
    "    pass"
   ]
  },
  {
   "cell_type": "code",
   "execution_count": 15,
   "metadata": {},
   "outputs": [
    {
     "data": {
      "text/plain": [
       "dict_keys(['__module__', 'a', '__dict__', '__weakref__', '__doc__'])"
      ]
     },
     "execution_count": 15,
     "metadata": {},
     "output_type": "execute_result"
    }
   ],
   "source": [
    "A.__dict__.keys()"
   ]
  },
  {
   "cell_type": "code",
   "execution_count": null,
   "metadata": {},
   "outputs": [],
   "source": []
  }
 ],
 "metadata": {
  "kernelspec": {
   "display_name": "Python 3",
   "language": "python",
   "name": "python3"
  },
  "language_info": {
   "codemirror_mode": {
    "name": "ipython",
    "version": 3
   },
   "file_extension": ".py",
   "mimetype": "text/x-python",
   "name": "python",
   "nbconvert_exporter": "python",
   "pygments_lexer": "ipython3",
   "version": "3.9.2"
  }
 },
 "nbformat": 4,
 "nbformat_minor": 4
}
