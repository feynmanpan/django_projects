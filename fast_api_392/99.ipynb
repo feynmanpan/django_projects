{
 "cells": [
  {
   "cell_type": "code",
   "execution_count": null,
   "metadata": {},
   "outputs": [],
   "source": [
    "from apps.ips.config import ips_csv\n",
    "ips_csv"
   ]
  },
  {
   "cell_type": "code",
   "execution_count": 1,
   "metadata": {},
   "outputs": [
    {
     "data": {
      "text/plain": [
       "['/home/pan/django_projects/fast_api_392',\n",
       " '/home/pan/anaconda3/envs/fast_env/lib/python39.zip',\n",
       " '/home/pan/anaconda3/envs/fast_env/lib/python3.9',\n",
       " '/home/pan/anaconda3/envs/fast_env/lib/python3.9/lib-dynload',\n",
       " '',\n",
       " '/home/pan/anaconda3/envs/fast_env/lib/python3.9/site-packages',\n",
       " '/home/pan/anaconda3/envs/fast_env/lib/python3.9/site-packages/IPython/extensions',\n",
       " '/home/pan/.ipython']"
      ]
     },
     "execution_count": 1,
     "metadata": {},
     "output_type": "execute_result"
    }
   ],
   "source": [
    "import sys\n",
    "sys.path\n",
    "# mydir = '/home/pan/django_projects/fast_api_392'\n",
    "# mydir = '/home/pan/django_projects/fast_api_392/apps'\n",
    "# sys.path.append(mydir)"
   ]
  },
  {
   "cell_type": "code",
   "execution_count": 1,
   "metadata": {},
   "outputs": [
    {
     "name": "stdout",
     "output_type": "stream",
     "text": [
      "2 4\n"
     ]
    }
   ],
   "source": [
    "if (a:=1+1) and (b:=2+2):\n",
    "    print(a,b)"
   ]
  },
  {
   "cell_type": "code",
   "execution_count": null,
   "metadata": {},
   "outputs": [],
   "source": []
  }
 ],
 "metadata": {
  "kernelspec": {
   "display_name": "Python 3",
   "language": "python",
   "name": "python3"
  },
  "language_info": {
   "codemirror_mode": {
    "name": "ipython",
    "version": 3
   },
   "file_extension": ".py",
   "mimetype": "text/x-python",
   "name": "python",
   "nbconvert_exporter": "python",
   "pygments_lexer": "ipython3",
   "version": "3.9.2"
  }
 },
 "nbformat": 4,
 "nbformat_minor": 4
}
