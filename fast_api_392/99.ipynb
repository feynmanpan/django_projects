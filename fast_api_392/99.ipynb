{
 "cells": [
  {
   "cell_type": "code",
   "execution_count": 7,
   "metadata": {},
   "outputs": [
    {
     "name": "stdout",
     "output_type": "stream",
     "text": [
      "__get__\n",
      "Before: '' {}\n"
     ]
    }
   ],
   "source": [
    "class Field:\n",
    "    def __init__(self):\n",
    "        #         print(111)\n",
    "        #         self.name = None\n",
    "        self.internal_name = None\n",
    "\n",
    "    def __set_name__(self, owner, name):\n",
    "        #         print('__set_name__', owner, name)\n",
    "        # Called on class creation for each descriptor\n",
    "        #         self.name = name\n",
    "        self.internal_name = '_' + name\n",
    "\n",
    "    def __get__(self, instance, instance_type):\n",
    "        print('__get__')\n",
    "        if instance is None:\n",
    "            return self\n",
    "        return getattr(instance, self.internal_name, '')\n",
    "\n",
    "    def __set__(self, instance, value):\n",
    "        print('__set__')\n",
    "        setattr(instance, self.internal_name, value)\n",
    "\n",
    "\n",
    "# Example 12\n",
    "class FixedCustomer:\n",
    "    #     _first_name = 'test'\n",
    "    first_name = Field()\n",
    "    last_name = Field()\n",
    "    prefix = Field()\n",
    "    suffix = Field()\n",
    "\n",
    "\n",
    "cust = FixedCustomer()\n",
    "print(f'Before: {cust.first_name!r} {cust.__dict__}')\n",
    "# cust.first_name = 'Mersenne'\n",
    "# print(f'After:  {cust.first_name!r} {cust.__dict__}')\n",
    "\n",
    "# cust2 = FixedCustomer()\n",
    "# cust2.first_name = 'Mersenne222'"
   ]
  },
  {
   "cell_type": "code",
   "execution_count": 2,
   "metadata": {},
   "outputs": [
    {
     "data": {
      "text/plain": [
       "{'_first_name': 'Mersenne'}"
      ]
     },
     "execution_count": 2,
     "metadata": {},
     "output_type": "execute_result"
    }
   ],
   "source": [
    "cust.__dict__"
   ]
  },
  {
   "cell_type": "code",
   "execution_count": 3,
   "metadata": {},
   "outputs": [
    {
     "name": "stdout",
     "output_type": "stream",
     "text": [
      "__get__\n"
     ]
    },
    {
     "data": {
      "text/plain": [
       "'Mersenne222'"
      ]
     },
     "execution_count": 3,
     "metadata": {},
     "output_type": "execute_result"
    }
   ],
   "source": [
    "cust2.first_name"
   ]
  },
  {
   "cell_type": "code",
   "execution_count": 15,
   "metadata": {},
   "outputs": [],
   "source": [
    "class A:\n",
    "    def __setattr__(self,name,val):\n",
    "        print(222,name,val)"
   ]
  },
  {
   "cell_type": "code",
   "execution_count": 16,
   "metadata": {},
   "outputs": [],
   "source": [
    "a=A()"
   ]
  },
  {
   "cell_type": "code",
   "execution_count": 19,
   "metadata": {},
   "outputs": [
    {
     "name": "stdout",
     "output_type": "stream",
     "text": [
      "222 a2222 23452\n"
     ]
    }
   ],
   "source": [
    "setattr(a,'a2222',23452)"
   ]
  },
  {
   "cell_type": "code",
   "execution_count": null,
   "metadata": {},
   "outputs": [],
   "source": []
  }
 ],
 "metadata": {
  "kernelspec": {
   "display_name": "Python 3",
   "language": "python",
   "name": "python3"
  },
  "language_info": {
   "codemirror_mode": {
    "name": "ipython",
    "version": 3
   },
   "file_extension": ".py",
   "mimetype": "text/x-python",
   "name": "python",
   "nbconvert_exporter": "python",
   "pygments_lexer": "ipython3",
   "version": "3.9.2"
  }
 },
 "nbformat": 4,
 "nbformat_minor": 4
}
