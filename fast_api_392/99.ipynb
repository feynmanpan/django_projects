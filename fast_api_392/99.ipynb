{
 "cells": [
  {
   "cell_type": "code",
   "execution_count": 1,
   "metadata": {},
   "outputs": [
    {
     "name": "stdout",
     "output_type": "stream",
     "text": [
      "/magic/11320\n",
      "/magic/11320aaa\n",
      "/magic/11320bbb\n"
     ]
    }
   ],
   "source": [
    "from pyquery import PyQuery as pq\n",
    "#\n",
    "html = '''\n",
    "    <html>\n",
    "        <a data-v-54b96320=\"\" href=\"/magic/11320\" target=\"_blank\" class=\"m-card-s\">\n",
    "        <a data-v-54b96320=\"\" href=\"/magic/11320aaa\" target=\"_blank\" class=\"m-card-s\">\n",
    "        <a data-v-54b96320=\"\" href=\"/magic/11320bbb\" target=\"_blank\" class=\"m-card-s\">\n",
    "    </html>\n",
    "'''\n",
    "doc = pq(html)\n",
    "all_a = doc.find('a')\n",
    "for a in all_a:\n",
    "    a = pq(a)\n",
    "    href = a.attr('href')\n",
    "    print(href)"
   ]
  },
  {
   "cell_type": "code",
   "execution_count": null,
   "metadata": {},
   "outputs": [],
   "source": []
  },
  {
   "cell_type": "code",
   "execution_count": null,
   "metadata": {},
   "outputs": [],
   "source": []
  }
 ],
 "metadata": {
  "kernelspec": {
   "display_name": "Python 3",
   "language": "python",
   "name": "python3"
  },
  "language_info": {
   "codemirror_mode": {
    "name": "ipython",
    "version": 3
   },
   "file_extension": ".py",
   "mimetype": "text/x-python",
   "name": "python",
   "nbconvert_exporter": "python",
   "pygments_lexer": "ipython3",
   "version": "3.9.2"
  }
 },
 "nbformat": 4,
 "nbformat_minor": 4
}
