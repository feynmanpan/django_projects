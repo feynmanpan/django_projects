{
 "cells": [
  {
   "cell_type": "code",
   "execution_count": 1,
   "metadata": {},
   "outputs": [],
   "source": [
    "import sys\n",
    "import os\n",
    "# sys.path.append(top) 把392頂層目錄加到最前面 '/home/pan/django_projects/fast_api_392'\n",
    "top = os.path.dirname(os.path.dirname(os.path.dirname(os.getcwd())))\n",
    "sys.path.insert(0, top)\n",
    "# sys.path"
   ]
  },
  {
   "cell_type": "code",
   "execution_count": 12,
   "metadata": {},
   "outputs": [],
   "source": [
    "import aiohttp\n",
    "from pyquery import PyQuery as pq\n",
    "import pandas as pd"
   ]
  },
  {
   "cell_type": "code",
   "execution_count": 8,
   "metadata": {},
   "outputs": [],
   "source": [
    "\n",
    "# \n",
    "headers = {\n",
    "    'User-Agent': 'Mozilla/5.0 (Windows NT 10.0; Win64; x64) AppleWebKit/537.36 (KHTML, like Gecko) Chrome/84.0.4147.135 Safari/537.36',\n",
    "}\n",
    "\n",
    "url = 'https://www.cac.edu.tw/CacLink/apply110/110apply_pgSieve_22sd8rga/html_sieve_110swk5m/ColPost/collegeList.htm'\n",
    "\n",
    "#\n",
    "connector = aiohttp.TCPConnector(ssl=True)\n",
    "TO = aiohttp.ClientTimeout(total=10)\n",
    "# \n",
    "async with aiohttp.ClientSession(connector=connector, timeout=TO) as session:\n",
    "    async with session.get(url, headers=headers) as r:\n",
    "        status = r.status\n",
    "        rtext = await r.text(encoding='utf8')\n",
    "        doc = pq(rtext, parser='html')"
   ]
  },
  {
   "cell_type": "code",
   "execution_count": 13,
   "metadata": {},
   "outputs": [
    {
     "output_type": "execute_result",
     "data": {
      "text/plain": [
       "   schno   schname\n",
       "0    001    國立臺灣大學\n",
       "1    003    國立中興大學\n",
       "2    002  國立臺灣師範大學\n",
       "3    004    國立成功大學\n",
       "4    006    國立政治大學\n",
       "..   ...       ...\n",
       "64   151    國立聯合大學\n",
       "65   150    國立宜蘭大學\n",
       "66   152     馬偕醫學院\n",
       "67   154    臺北基督學院\n",
       "68   153    國立金門大學\n",
       "\n",
       "[69 rows x 2 columns]"
      ],
      "text/html": "<div>\n<style scoped>\n    .dataframe tbody tr th:only-of-type {\n        vertical-align: middle;\n    }\n\n    .dataframe tbody tr th {\n        vertical-align: top;\n    }\n\n    .dataframe thead th {\n        text-align: right;\n    }\n</style>\n<table border=\"1\" class=\"dataframe\">\n  <thead>\n    <tr style=\"text-align: right;\">\n      <th></th>\n      <th>schno</th>\n      <th>schname</th>\n    </tr>\n  </thead>\n  <tbody>\n    <tr>\n      <th>0</th>\n      <td>001</td>\n      <td>國立臺灣大學</td>\n    </tr>\n    <tr>\n      <th>1</th>\n      <td>003</td>\n      <td>國立中興大學</td>\n    </tr>\n    <tr>\n      <th>2</th>\n      <td>002</td>\n      <td>國立臺灣師範大學</td>\n    </tr>\n    <tr>\n      <th>3</th>\n      <td>004</td>\n      <td>國立成功大學</td>\n    </tr>\n    <tr>\n      <th>4</th>\n      <td>006</td>\n      <td>國立政治大學</td>\n    </tr>\n    <tr>\n      <th>...</th>\n      <td>...</td>\n      <td>...</td>\n    </tr>\n    <tr>\n      <th>64</th>\n      <td>151</td>\n      <td>國立聯合大學</td>\n    </tr>\n    <tr>\n      <th>65</th>\n      <td>150</td>\n      <td>國立宜蘭大學</td>\n    </tr>\n    <tr>\n      <th>66</th>\n      <td>152</td>\n      <td>馬偕醫學院</td>\n    </tr>\n    <tr>\n      <th>67</th>\n      <td>154</td>\n      <td>臺北基督學院</td>\n    </tr>\n    <tr>\n      <th>68</th>\n      <td>153</td>\n      <td>國立金門大學</td>\n    </tr>\n  </tbody>\n</table>\n<p>69 rows × 2 columns</p>\n</div>"
     },
     "metadata": {},
     "execution_count": 13
    }
   ],
   "source": [
    "schools = doc.find('.htmldw1C')\n",
    "tmp = []\n",
    "for sch in schools:\n",
    "    schname = pq(sch).text().strip()\n",
    "    no, name = schname.split(\")\")\n",
    "    tmp.append({'schno':no.strip('('),'schname':name})\n",
    "df_sch = pd.DataFrame(tmp)\n",
    "df_sch"
   ]
  },
  {
   "cell_type": "code",
   "execution_count": 33,
   "metadata": {},
   "outputs": [
    {
     "output_type": "execute_result",
     "data": {
      "text/plain": [
       "   schno    type\n",
       "1    001  common\n",
       "2    002  common\n",
       "0    003  common\n",
       "4    004  common\n",
       "5    005  common\n",
       "..   ...     ...\n",
       "65   150  common\n",
       "63   151  common\n",
       "67   152  common\n",
       "68   153  common\n",
       "66   154  common\n",
       "\n",
       "[69 rows x 2 columns]"
      ],
      "text/html": "<div>\n<style scoped>\n    .dataframe tbody tr th:only-of-type {\n        vertical-align: middle;\n    }\n\n    .dataframe tbody tr th {\n        vertical-align: top;\n    }\n\n    .dataframe thead th {\n        text-align: right;\n    }\n</style>\n<table border=\"1\" class=\"dataframe\">\n  <thead>\n    <tr style=\"text-align: right;\">\n      <th></th>\n      <th>schno</th>\n      <th>type</th>\n    </tr>\n  </thead>\n  <tbody>\n    <tr>\n      <th>1</th>\n      <td>001</td>\n      <td>common</td>\n    </tr>\n    <tr>\n      <th>2</th>\n      <td>002</td>\n      <td>common</td>\n    </tr>\n    <tr>\n      <th>0</th>\n      <td>003</td>\n      <td>common</td>\n    </tr>\n    <tr>\n      <th>4</th>\n      <td>004</td>\n      <td>common</td>\n    </tr>\n    <tr>\n      <th>5</th>\n      <td>005</td>\n      <td>common</td>\n    </tr>\n    <tr>\n      <th>...</th>\n      <td>...</td>\n      <td>...</td>\n    </tr>\n    <tr>\n      <th>65</th>\n      <td>150</td>\n      <td>common</td>\n    </tr>\n    <tr>\n      <th>63</th>\n      <td>151</td>\n      <td>common</td>\n    </tr>\n    <tr>\n      <th>67</th>\n      <td>152</td>\n      <td>common</td>\n    </tr>\n    <tr>\n      <th>68</th>\n      <td>153</td>\n      <td>common</td>\n    </tr>\n    <tr>\n      <th>66</th>\n      <td>154</td>\n      <td>common</td>\n    </tr>\n  </tbody>\n</table>\n<p>69 rows × 2 columns</p>\n</div>"
     },
     "metadata": {},
     "execution_count": 33
    }
   ],
   "source": [
    "# 招生\n",
    "type1 = doc.find('.htmldw1E a')\n",
    "tmp = []\n",
    "for a in type1:\n",
    "    href = pq(a).attr('href')\n",
    "    schno = href.strip('common/').strip('.html')\n",
    "    tmp.append({'schno':schno,'type':'common'})\n",
    "# \n",
    "df_type1 = pd.DataFrame(tmp).sort_values('schno')\n",
    "df_type1"
   ]
  },
  {
   "cell_type": "code",
   "execution_count": 34,
   "metadata": {},
   "outputs": [
    {
     "output_type": "execute_result",
     "data": {
      "text/plain": [
       "   schno   type\n",
       "1    001  extra\n",
       "2    002  extra\n",
       "0    003  extra\n",
       "4    004  extra\n",
       "5    005  extra\n",
       "..   ...    ...\n",
       "63   134  extra\n",
       "64   150  extra\n",
       "62   151  extra\n",
       "65   152  extra\n",
       "66   153  extra\n",
       "\n",
       "[67 rows x 2 columns]"
      ],
      "text/html": "<div>\n<style scoped>\n    .dataframe tbody tr th:only-of-type {\n        vertical-align: middle;\n    }\n\n    .dataframe tbody tr th {\n        vertical-align: top;\n    }\n\n    .dataframe thead th {\n        text-align: right;\n    }\n</style>\n<table border=\"1\" class=\"dataframe\">\n  <thead>\n    <tr style=\"text-align: right;\">\n      <th></th>\n      <th>schno</th>\n      <th>type</th>\n    </tr>\n  </thead>\n  <tbody>\n    <tr>\n      <th>1</th>\n      <td>001</td>\n      <td>extra</td>\n    </tr>\n    <tr>\n      <th>2</th>\n      <td>002</td>\n      <td>extra</td>\n    </tr>\n    <tr>\n      <th>0</th>\n      <td>003</td>\n      <td>extra</td>\n    </tr>\n    <tr>\n      <th>4</th>\n      <td>004</td>\n      <td>extra</td>\n    </tr>\n    <tr>\n      <th>5</th>\n      <td>005</td>\n      <td>extra</td>\n    </tr>\n    <tr>\n      <th>...</th>\n      <td>...</td>\n      <td>...</td>\n    </tr>\n    <tr>\n      <th>63</th>\n      <td>134</td>\n      <td>extra</td>\n    </tr>\n    <tr>\n      <th>64</th>\n      <td>150</td>\n      <td>extra</td>\n    </tr>\n    <tr>\n      <th>62</th>\n      <td>151</td>\n      <td>extra</td>\n    </tr>\n    <tr>\n      <th>65</th>\n      <td>152</td>\n      <td>extra</td>\n    </tr>\n    <tr>\n      <th>66</th>\n      <td>153</td>\n      <td>extra</td>\n    </tr>\n  </tbody>\n</table>\n<p>67 rows × 2 columns</p>\n</div>"
     },
     "metadata": {},
     "execution_count": 34
    }
   ],
   "source": [
    "# 外加\n",
    "type2 = doc.find('.htmldw1D a')\n",
    "tmp = []\n",
    "for a in type2:\n",
    "    href = pq(a).attr('href')\n",
    "    schno = href.strip('extra/').strip('.html')\n",
    "    tmp.append({'schno':schno,'type':'extra'})\n",
    "# \n",
    "df_type2 = pd.DataFrame(tmp).sort_values('schno')\n",
    "df_type2"
   ]
  },
  {
   "cell_type": "code",
   "execution_count": 49,
   "metadata": {},
   "outputs": [
    {
     "output_type": "execute_result",
     "data": {
      "text/plain": [
       "   schno   schname    type                                                url\n",
       "0    001    國立臺灣大學  common  https://www.cac.edu.tw/CacLink/apply110/110app...\n",
       "0    001    國立臺灣大學   extra  https://www.cac.edu.tw/CacLink/apply110/110app...\n",
       "2    002  國立臺灣師範大學  common  https://www.cac.edu.tw/CacLink/apply110/110app...\n",
       "2    002  國立臺灣師範大學   extra  https://www.cac.edu.tw/CacLink/apply110/110app...\n",
       "1    003    國立中興大學  common  https://www.cac.edu.tw/CacLink/apply110/110app...\n",
       "..   ...       ...     ...                                                ...\n",
       "66   152     馬偕醫學院  common  https://www.cac.edu.tw/CacLink/apply110/110app...\n",
       "65   152     馬偕醫學院   extra  https://www.cac.edu.tw/CacLink/apply110/110app...\n",
       "68   153    國立金門大學  common  https://www.cac.edu.tw/CacLink/apply110/110app...\n",
       "66   153    國立金門大學   extra  https://www.cac.edu.tw/CacLink/apply110/110app...\n",
       "67   154    臺北基督學院  common  https://www.cac.edu.tw/CacLink/apply110/110app...\n",
       "\n",
       "[136 rows x 4 columns]"
      ],
      "text/html": "<div>\n<style scoped>\n    .dataframe tbody tr th:only-of-type {\n        vertical-align: middle;\n    }\n\n    .dataframe tbody tr th {\n        vertical-align: top;\n    }\n\n    .dataframe thead th {\n        text-align: right;\n    }\n</style>\n<table border=\"1\" class=\"dataframe\">\n  <thead>\n    <tr style=\"text-align: right;\">\n      <th></th>\n      <th>schno</th>\n      <th>schname</th>\n      <th>type</th>\n      <th>url</th>\n    </tr>\n  </thead>\n  <tbody>\n    <tr>\n      <th>0</th>\n      <td>001</td>\n      <td>國立臺灣大學</td>\n      <td>common</td>\n      <td>https://www.cac.edu.tw/CacLink/apply110/110app...</td>\n    </tr>\n    <tr>\n      <th>0</th>\n      <td>001</td>\n      <td>國立臺灣大學</td>\n      <td>extra</td>\n      <td>https://www.cac.edu.tw/CacLink/apply110/110app...</td>\n    </tr>\n    <tr>\n      <th>2</th>\n      <td>002</td>\n      <td>國立臺灣師範大學</td>\n      <td>common</td>\n      <td>https://www.cac.edu.tw/CacLink/apply110/110app...</td>\n    </tr>\n    <tr>\n      <th>2</th>\n      <td>002</td>\n      <td>國立臺灣師範大學</td>\n      <td>extra</td>\n      <td>https://www.cac.edu.tw/CacLink/apply110/110app...</td>\n    </tr>\n    <tr>\n      <th>1</th>\n      <td>003</td>\n      <td>國立中興大學</td>\n      <td>common</td>\n      <td>https://www.cac.edu.tw/CacLink/apply110/110app...</td>\n    </tr>\n    <tr>\n      <th>...</th>\n      <td>...</td>\n      <td>...</td>\n      <td>...</td>\n      <td>...</td>\n    </tr>\n    <tr>\n      <th>66</th>\n      <td>152</td>\n      <td>馬偕醫學院</td>\n      <td>common</td>\n      <td>https://www.cac.edu.tw/CacLink/apply110/110app...</td>\n    </tr>\n    <tr>\n      <th>65</th>\n      <td>152</td>\n      <td>馬偕醫學院</td>\n      <td>extra</td>\n      <td>https://www.cac.edu.tw/CacLink/apply110/110app...</td>\n    </tr>\n    <tr>\n      <th>68</th>\n      <td>153</td>\n      <td>國立金門大學</td>\n      <td>common</td>\n      <td>https://www.cac.edu.tw/CacLink/apply110/110app...</td>\n    </tr>\n    <tr>\n      <th>66</th>\n      <td>153</td>\n      <td>國立金門大學</td>\n      <td>extra</td>\n      <td>https://www.cac.edu.tw/CacLink/apply110/110app...</td>\n    </tr>\n    <tr>\n      <th>67</th>\n      <td>154</td>\n      <td>臺北基督學院</td>\n      <td>common</td>\n      <td>https://www.cac.edu.tw/CacLink/apply110/110app...</td>\n    </tr>\n  </tbody>\n</table>\n<p>136 rows × 4 columns</p>\n</div>"
     },
     "metadata": {},
     "execution_count": 49
    }
   ],
   "source": [
    "tmp = 'https://www.cac.edu.tw/CacLink/apply110/110apply_pgSieve_22sd8rga/html_sieve_110swk5m/ColPost/'\n",
    "# \n",
    "df_sch_type = pd.concat([df_sch.merge(df_type1),df_sch.merge(df_type2)]).sort_values(by=['schno','type'])\n",
    "df_sch_type['url'] = tmp + df_sch_type['type'] + '/'+ df_sch_type['schno']+'.html'\n",
    "df_sch_type"
   ]
  },
  {
   "cell_type": "code",
   "execution_count": 47,
   "metadata": {},
   "outputs": [
    {
     "output_type": "execute_result",
     "data": {
      "text/plain": [
       "array(['https://www.cac.edu.tw/CacLink/apply110/110apply_pgSieve_22sd8rga/html_sieve_110swk5m/ColPost/common/001.html',\n",
       "       'https://www.cac.edu.tw/CacLink/apply110/110apply_pgSieve_22sd8rga/html_sieve_110swk5m/ColPost/extra/001.html'],\n",
       "      dtype=object)"
      ]
     },
     "metadata": {},
     "execution_count": 47
    }
   ],
   "source": [
    "df_sch_type[:2].url.values"
   ]
  },
  {
   "cell_type": "code",
   "execution_count": null,
   "metadata": {},
   "outputs": [],
   "source": []
  }
 ],
 "metadata": {
  "kernelspec": {
   "display_name": "Python 3",
   "language": "python",
   "name": "python3"
  },
  "language_info": {
   "codemirror_mode": {
    "name": "ipython",
    "version": 3
   },
   "file_extension": ".py",
   "mimetype": "text/x-python",
   "name": "python",
   "nbconvert_exporter": "python",
   "pygments_lexer": "ipython3",
   "version": "3.9.2-final"
  }
 },
 "nbformat": 4,
 "nbformat_minor": 4
}