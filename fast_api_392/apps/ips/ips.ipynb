{
 "metadata": {
  "language_info": {
   "codemirror_mode": {
    "name": "ipython",
    "version": 3
   },
   "file_extension": ".py",
   "mimetype": "text/x-python",
   "name": "python",
   "nbconvert_exporter": "python",
   "pygments_lexer": "ipython3",
   "version": "3.9.2-final"
  },
  "orig_nbformat": 2,
  "kernelspec": {
   "name": "python3",
   "display_name": "Python 3.9.2 64-bit ('env392')",
   "metadata": {
    "interpreter": {
     "hash": "87f32b013522c4ca2f2999d6b0c1f26ea599f843cc444fa19a3ee278b2f76974"
    }
   }
  }
 },
 "nbformat": 4,
 "nbformat_minor": 2,
 "cells": [
  {
   "cell_type": "code",
   "execution_count": null,
   "metadata": {},
   "outputs": [],
   "source": [
    "import requests\n",
    "#\n",
    "from .config import headers, url_free\n",
    "from .utils import write_file\n",
    "\n",
    "\n",
    "r = requests.get(url_free, headers=headers, timeout=30)\n",
    "r.encoding = 'utf8'\n",
    "\n",
    "# write_file('ips.html', r.text)\n",
    "print(r.text)\n"
   ]
  }
 ]
}