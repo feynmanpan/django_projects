{
 "cells": [
  {
   "cell_type": "code",
   "execution_count": 1,
   "metadata": {},
   "outputs": [
    {
     "data": {
      "text/plain": [
       "['/home/pan/django_projects/fast_api_392/apps/ips',\n",
       " '/home/pan/anaconda3/envs/fast_env/lib/python39.zip',\n",
       " '/home/pan/anaconda3/envs/fast_env/lib/python3.9',\n",
       " '/home/pan/anaconda3/envs/fast_env/lib/python3.9/lib-dynload',\n",
       " '',\n",
       " '/home/pan/anaconda3/envs/fast_env/lib/python3.9/site-packages',\n",
       " '/home/pan/anaconda3/envs/fast_env/lib/python3.9/site-packages/IPython/extensions',\n",
       " '/home/pan/.ipython',\n",
       " '/home/pan/django_projects/fast_api_392']"
      ]
     },
     "execution_count": 1,
     "metadata": {},
     "output_type": "execute_result"
    }
   ],
   "source": [
    "import sys\n",
    "import os\n",
    "#\n",
    "top = os.path.dirname(os.path.dirname(os.getcwd()))  # mydir = '/home/pan/django_projects/fast_api_392'\n",
    "sys.path.append(top)\n",
    "sys.path"
   ]
  },
  {
   "cell_type": "code",
   "execution_count": 2,
   "metadata": {},
   "outputs": [
    {
     "name": "stdout",
     "output_type": "stream",
     "text": [
      "True 在jupyter\n"
     ]
    }
   ],
   "source": [
    "# %%writefile tasks.py\n",
    "# %load get_bookprice.py\n",
    "# %run get_bookprice.py\n",
    "# -*- coding: utf-8 -*-\n",
    "import asyncio\n",
    "import requests\n",
    "import aiohttp\n",
    "from pyquery import PyQuery as pq\n",
    "import pandas as pd\n",
    "import os\n",
    "import sys\n",
    "from datetime import datetime\n",
    "#\n",
    "from fastapi import Request\n",
    "# 為了在jupyter中試，從apps開始import\n",
    "from apps.ips.config import url_free, cacert, cwd, headers, ips_csv, ips_html\n",
    "from apps.ips.utils import aio_get, write_file\n",
    "##################################################\n",
    "\n",
    "async def get_freeproxy(t, once=True):\n",
    "    while 1:\n",
    "        await asyncio.sleep(t)\n",
    "        #\n",
    "        async with aiohttp.ClientSession(connector=aiohttp.TCPConnector(verify_ssl=cacert)) as session:\n",
    "            rtext = await aio_get(session, url_free)\n",
    "            if rtext is not None:\n",
    "                print('get_freeproxy爬取成功')\n",
    "                now = datetime.today()\n",
    "                elite = []\n",
    "                doc = pq(rtext, parser='html')\n",
    "                trs = doc.find('table.table').eq(0).find('tr')\n",
    "                for tr in trs:\n",
    "                    tds = pq(tr).find('td')\n",
    "                    level = tds.eq(4).text().strip()\n",
    "                    if level != 'elite proxy':\n",
    "                        continue\n",
    "                    tmp = {\n",
    "                        'ip': tds.eq(0).text().strip(),\n",
    "                        'port': tds.eq(1).text().strip(),\n",
    "                        'level': level,\n",
    "                        'now': now,\n",
    "                    }\n",
    "                    elite.append(tmp)\n",
    "                # 寫入檔案\n",
    "                write_file(ips_html, rtext)\n",
    "                pd.DataFrame(elite).to_csv(ips_csv, index=False)\n",
    "        if once:\n",
    "            break\n",
    "#\n",
    "if __name__ == '__main__':\n",
    "    try:\n",
    "        tmp = 'zmqshell' in str(type(get_ipython()))  # 在jupyter\n",
    "        print(tmp, '在jupyter')\n",
    "    except Exception:\n",
    "        loop = asyncio.get_event_loop()\n",
    "        task = loop.create_task(get_freeproxy(1))\n",
    "        loop.run_until_complete(task)"
   ]
  },
  {
   "cell_type": "code",
   "execution_count": 3,
   "metadata": {},
   "outputs": [
    {
     "name": "stdout",
     "output_type": "stream",
     "text": [
      "r.status=200\n",
      "get_freeproxy爬取成功\n"
     ]
    }
   ],
   "source": [
    "await get_freeproxy(1)"
   ]
  },
  {
   "cell_type": "code",
   "execution_count": null,
   "metadata": {},
   "outputs": [],
   "source": []
  }
 ],
 "metadata": {
  "kernelspec": {
   "display_name": "Python 3",
   "language": "python",
   "name": "python3"
  },
  "language_info": {
   "codemirror_mode": {
    "name": "ipython",
    "version": 3
   },
   "file_extension": ".py",
   "mimetype": "text/x-python",
   "name": "python",
   "nbconvert_exporter": "python",
   "pygments_lexer": "ipython3",
   "version": "3.9.2"
  }
 },
 "nbformat": 4,
 "nbformat_minor": 4
}
