{
 "cells": [
  {
   "cell_type": "code",
   "execution_count": 1,
   "metadata": {},
   "outputs": [
    {
     "output_type": "execute_result",
     "data": {
      "text/plain": [
       "['e:\\\\myOneDrive\\\\OneDrive\\\\03_農委會\\\\pan\\\\git\\\\GCP\\\\fast_api_392\\\\apps\\\\ips',\n",
       " 'c:\\\\Users\\\\ATRI\\\\.vscode\\\\extensions\\\\ms-toolsai.jupyter-2021.3.619093157\\\\pythonFiles\\\\.does-not-exist',\n",
       " 'c:\\\\Users\\\\ATRI\\\\.vscode\\\\extensions\\\\ms-toolsai.jupyter-2021.3.619093157\\\\pythonFiles',\n",
       " 'c:\\\\Users\\\\ATRI\\\\.vscode\\\\extensions\\\\ms-toolsai.jupyter-2021.3.619093157\\\\pythonFiles\\\\lib\\\\python',\n",
       " 'C:\\\\Users\\\\ATRI\\\\AppData\\\\Local\\\\Programs\\\\Python\\\\Python39\\\\python39.zip',\n",
       " 'C:\\\\Users\\\\ATRI\\\\AppData\\\\Local\\\\Programs\\\\Python\\\\Python39\\\\DLLs',\n",
       " 'C:\\\\Users\\\\ATRI\\\\AppData\\\\Local\\\\Programs\\\\Python\\\\Python39\\\\lib',\n",
       " 'C:\\\\Users\\\\ATRI\\\\AppData\\\\Local\\\\Programs\\\\Python\\\\Python39',\n",
       " 'e:\\\\myOneDrive\\\\OneDrive\\\\03_農委會\\\\pan\\\\git\\\\GCP\\\\env392',\n",
       " '',\n",
       " 'e:\\\\myOneDrive\\\\OneDrive\\\\03_農委會\\\\pan\\\\git\\\\GCP\\\\env392\\\\lib\\\\site-packages',\n",
       " 'e:\\\\myOneDrive\\\\OneDrive\\\\03_農委會\\\\pan\\\\git\\\\GCP\\\\env392\\\\lib\\\\site-packages\\\\win32',\n",
       " 'e:\\\\myOneDrive\\\\OneDrive\\\\03_農委會\\\\pan\\\\git\\\\GCP\\\\env392\\\\lib\\\\site-packages\\\\win32\\\\lib',\n",
       " 'e:\\\\myOneDrive\\\\OneDrive\\\\03_農委會\\\\pan\\\\git\\\\GCP\\\\env392\\\\lib\\\\site-packages\\\\Pythonwin',\n",
       " 'e:\\\\myOneDrive\\\\OneDrive\\\\03_農委會\\\\pan\\\\git\\\\GCP\\\\env392\\\\lib\\\\site-packages\\\\IPython\\\\extensions',\n",
       " 'C:\\\\Users\\\\ATRI\\\\.ipython',\n",
       " 'e:\\\\myOneDrive\\\\OneDrive\\\\03_農委會\\\\pan\\\\git\\\\GCP\\\\fast_api_392']"
      ]
     },
     "metadata": {},
     "execution_count": 1
    }
   ],
   "source": [
    "import sys\n",
    "import os\n",
    "#\n",
    "top = os.path.dirname(os.path.dirname(os.getcwd()))  # mydir = '/home/pan/django_projects/fast_api_392'\n",
    "sys.path.append(top)\n",
    "sys.path"
   ]
  },
  {
   "cell_type": "code",
   "execution_count": null,
   "metadata": {},
   "outputs": [],
   "source": [
    "# %load get_bookprice.py\n",
    "# %run get_bookprice.py\n",
    "# -*- coding: utf-8 -*-\n",
    "import asyncio\n",
    "import requests\n",
    "import aiohttp\n",
    "from pyquery import PyQuery as pq\n",
    "import pandas as pd\n",
    "import os\n",
    "import sys\n",
    "from datetime import datetime\n",
    "import itertools\n",
    "#\n",
    "from fastapi import Request\n",
    "# 為了在jupyter中試，從apps開始import\n",
    "import apps.ips.config\n",
    "from apps.ips.config import url_free, cacert, ips_csv_path, ips_html_path, dtype, dt_format, ipcols\n",
    "from apps.ips.utils import aio_get, write_file, csv_update\n",
    "###############################################################################\n",
    "\n",
    "\n",
    "async def get_freeproxy(t, once=True):\n",
    "    while 1:\n",
    "        T = (apps.ips.config.ips_cycle and os.path.isfile(ips_csv_path))*t  # 沒有 csv 或 ips_cycle 就馬上爬\n",
    "        await asyncio.sleep(T)\n",
    "        #\n",
    "        async with aiohttp.ClientSession(connector=aiohttp.TCPConnector(verify_ssl=cacert)) as session:\n",
    "            status_code, rtext = await aio_get(session, url_free)\n",
    "            if status_code == 200 and rtext not in ['', None]:\n",
    "                doc = pq(rtext, parser='html')\n",
    "                trs = doc.find('table.table').eq(0).find('tr')\n",
    "                if trs.size():\n",
    "                    print('get_freeproxy爬取成功')\n",
    "                    now = datetime.today().strftime(dt_format)\n",
    "                    elite = []\n",
    "                    for tr in trs:\n",
    "                        tds = pq(tr).find('td')\n",
    "                        level = tds.eq(4).text().strip()\n",
    "                        https = tds.eq(6).text().strip()\n",
    "                        if level != 'elite proxy' or https != 'yes':\n",
    "                            continue\n",
    "                        tmp = {\n",
    "                            'ip': tds.eq(0).text().strip(),\n",
    "                            'port': tds.eq(1).text().strip(),\n",
    "                            'level': level,\n",
    "                            'https': https,\n",
    "                            'now': now,\n",
    "                        }\n",
    "                        elite.append(tmp)\n",
    "                    # 1 儲存每次撈取的原始頁面\n",
    "                    write_file(ips_html_path, rtext)\n",
    "                    # 2 重存csv: 讀取csv檔案，與最新爬的比較\n",
    "                    if os.path.isfile(ips_csv_path):\n",
    "                        df1 = pd.read_csv(ips_csv_path, dtype=dtype)\n",
    "                        df2 = pd.DataFrame(elite).astype(dtype)\n",
    "                        df3 = csv_update(df1, df2)\n",
    "                    else:\n",
    "                        df3 = pd.DataFrame(elite).astype(dtype)\n",
    "                    df3 = df3.sample(frac=1)  # 亂排\n",
    "                    df3.to_csv(ips_csv_path, index=False)\n",
    "                    # 3 更新ips_cycle產生器\n",
    "                    apps.ips.config.ips_cycle = itertools.cycle(df3[ipcols].values.tolist())\n",
    "                else:\n",
    "                    pass\n",
    "        if once:\n",
    "            break\n",
    "\n",
    "#\n",
    "if __name__ == '__main__':\n",
    "    try:\n",
    "        tmp = 'zmqshell' in str(type(get_ipython()))  # 在jupyter\n",
    "        print(tmp, '在jupyter')\n",
    "    except Exception:\n",
    "        loop = asyncio.get_event_loop()\n",
    "        task = loop.create_task(get_freeproxy(1))\n",
    "        loop.run_until_complete(task)\n",
    "else:\n",
    "    if 0:\n",
    "        asyncio.create_task(get_freeproxy(3, False))\n"
   ]
  },
  {
   "cell_type": "code",
   "execution_count": 4,
   "metadata": {
    "tags": []
   },
   "outputs": [
    {
     "output_type": "stream",
     "name": "stdout",
     "text": [
      "T=0\n",
      "status_code=200\n",
      "get_freeproxy爬取成功\n",
      "ips_cycle=<itertools.cycle object at 0x000001A901002C40>\n"
     ]
    }
   ],
   "source": [
    "await get_freeproxy(1)"
   ]
  },
  {
   "cell_type": "code",
   "execution_count": null,
   "metadata": {},
   "outputs": [],
   "source": []
  }
 ],
 "metadata": {
  "kernelspec": {
   "display_name": "Python 3",
   "language": "python",
   "name": "python3"
  },
  "language_info": {
   "codemirror_mode": {
    "name": "ipython",
    "version": 3
   },
   "file_extension": ".py",
   "mimetype": "text/x-python",
   "name": "python",
   "nbconvert_exporter": "python",
   "pygments_lexer": "ipython3",
   "version": "3.9.2-final"
  }
 },
 "nbformat": 4,
 "nbformat_minor": 4
}