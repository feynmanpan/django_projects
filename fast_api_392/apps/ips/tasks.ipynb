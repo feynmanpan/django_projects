{
 "cells": [
  {
   "cell_type": "code",
   "execution_count": null,
   "metadata": {},
   "outputs": [],
   "source": [
    "import sys\n",
    "import os\n",
    "# sys.path.append(top) 把392頂層目錄加到最前面 '/home/pan/django_projects/fast_api_392'\n",
    "top = os.path.dirname(os.path.dirname(os.getcwd()))\n",
    "sys.path.insert(0, top)\n",
    "sys.path"
   ]
  },
  {
   "cell_type": "code",
   "execution_count": null,
   "metadata": {},
   "outputs": [],
   "source": [
    "from config import maintenance_html\n",
    "from apps.ips.config import get_freeproxy_delta\n",
    "import apps.ips.config as ipscfg\n",
    "#\n",
    "print(maintenance_html, get_freeproxy_delta, ipscfg.url_free_us)"
   ]
  },
  {
   "cell_type": "markdown",
   "metadata": {},
   "source": [
    "# get_freeproxy"
   ]
  },
  {
   "cell_type": "code",
   "execution_count": null,
   "metadata": {},
   "outputs": [],
   "source": [
    "# %%writefile tasks.py\n",
    "# -*- coding: utf-8 -*-\n",
    "import asyncio\n",
    "import requests\n",
    "import aiohttp\n",
    "from pyquery import PyQuery as pq\n",
    "import pandas as pd\n",
    "import os\n",
    "import sys\n",
    "from datetime import datetime\n",
    "import itertools\n",
    "#\n",
    "from fastapi import Request\n",
    "# 為了在jupyter中試，從apps開始import\n",
    "import apps.ips.config as ips_cfg\n",
    "from apps.ips.config import url_free, cacert, ips_csv_path, ips_html_path, dtype, dt_format, ipcols\n",
    "from apps.ips.utils import aio_get, write_file, csv_update\n",
    "###############################################################################\n",
    "# 2021/03/24\n",
    "# To Do: 檢查ip有效性，aiohttp使用proxy\n",
    "###############################################################################\n",
    "\n",
    "async def get_freeproxy(t, once=True):\n",
    "    get_freeproxy_cnt = 0\n",
    "    while 1:\n",
    "        T = (ips_cfg.ips_cycle and os.path.isfile(ips_csv_path))*t  # 沒有 csv 或 ips_cycle 就馬上爬\n",
    "        await asyncio.sleep(T)\n",
    "        #\n",
    "        async with aiohttp.ClientSession(connector=aiohttp.TCPConnector(verify_ssl=cacert)) as session:\n",
    "            status_code, rtext = await aio_get(session, url_free)\n",
    "            if status_code == 200 and rtext not in ['', None]:\n",
    "                doc = pq(rtext, parser='html')\n",
    "                trs = doc.find('table.table').eq(0).find('tr')\n",
    "                if trs.size():\n",
    "                    now = datetime.today().strftime(dt_format)\n",
    "                    elite = []\n",
    "                    for tr in trs:\n",
    "                        tds = pq(tr).find('td')\n",
    "                        level = tds.eq(4).text().strip()\n",
    "                        https = tds.eq(6).text().strip()\n",
    "                        if level != 'elite proxy' or https != 'yes':\n",
    "                            continue\n",
    "                        tmp = {\n",
    "                            'ip': tds.eq(0).text().strip(),\n",
    "                            'port': tds.eq(1).text().strip(),\n",
    "                            'level': level,\n",
    "                            'https': https,\n",
    "                            'now': now,\n",
    "                        }\n",
    "                        elite.append(tmp)\n",
    "                    # 1 儲存每次撈取的原始頁面\n",
    "                    write_file(ips_html_path, rtext)\n",
    "                    # 2 重存csv: 讀取csv檔案，與最新爬的比較\n",
    "                    if os.path.isfile(ips_csv_path):\n",
    "                        df1 = pd.read_csv(ips_csv_path, dtype=dtype)\n",
    "                        df2 = pd.DataFrame(elite).astype(dtype)\n",
    "                        df3 = csv_update(df1, df2)\n",
    "                    else:\n",
    "                        df3 = pd.DataFrame(elite).astype(dtype)\n",
    "                    df3 = df3.sample(frac=1)  # 亂排\n",
    "                    df3.to_csv(ips_csv_path, index=False)\n",
    "                    # 3 更新ips_cycle產生器\n",
    "                    ips_cfg.ips_cycle = itertools.cycle(df3[ipcols].values.tolist())\n",
    "                    #\n",
    "                    get_freeproxy_cnt += 1\n",
    "                    print(f'get_freeproxy 第{get_freeproxy_cnt}次更新成功:{now}')\n",
    "                else:\n",
    "                    pass\n",
    "        if once:\n",
    "            break\n",
    "\n",
    "#\n",
    "if __name__ == '__main__':\n",
    "    try:\n",
    "        tmp = 'zmqshell' in str(type(get_ipython()))  # 在jupyter\n",
    "        print(tmp, '在jupyter')\n",
    "    except Exception:\n",
    "        loop = asyncio.get_event_loop()\n",
    "        task = loop.create_task(get_freeproxy(1))\n",
    "        loop.run_until_complete(task)\n",
    "else:\n",
    "    if 0:\n",
    "        asyncio.create_task(get_freeproxy(3, False))"
   ]
  },
  {
   "cell_type": "code",
   "execution_count": null,
   "metadata": {
    "tags": []
   },
   "outputs": [],
   "source": [
    "await get_freeproxy(1)"
   ]
  },
  {
   "cell_type": "markdown",
   "metadata": {},
   "source": [
    "# ips_check"
   ]
  },
  {
   "cell_type": "code",
   "execution_count": 84,
   "metadata": {},
   "outputs": [],
   "source": [
    "import requests\n",
    "import aiohttp\n",
    "import asyncio\n",
    "from pyquery import PyQuery as pq\n",
    "import re\n",
    "from time import time"
   ]
  },
  {
   "cell_type": "code",
   "execution_count": 85,
   "metadata": {},
   "outputs": [],
   "source": [
    "cacert = True\n",
    "url_check1 = \"http://210.240.175.62/NTIIS/IP_test.asp\"\n",
    "url_check2 = \"https://www.whatismyip.com.tw/tw/\"\n",
    "url_check3 = 'http://httpbin.org/get'\n",
    "headers = {\n",
    "    'User-Agent': 'Mozilla/5.0 (Windows NT 10.0; Win64; x64) AppleWebKit/537.36 (KHTML, like Gecko) Chrome/84.0.4147.135 Safari/537.36',\n",
    "}"
   ]
  },
  {
   "cell_type": "code",
   "execution_count": 109,
   "metadata": {},
   "outputs": [
    {
     "name": "stdout",
     "output_type": "stream",
     "text": [
      "isGood= True 0.48256969451904297\n"
     ]
    }
   ],
   "source": [
    "t = 10\n",
    "isGood = False\n",
    "ippt = '161.202.226.194:80'\n",
    "proxy = f\"http://{ippt}\"  # aiohttp只支援http的proxy\n",
    "rtext = ''\n",
    "stime = time()\n",
    "try:\n",
    "    timeout = aiohttp.ClientTimeout(total=t)\n",
    "    async with aiohttp.ClientSession(connector=aiohttp.TCPConnector(ssl=cacert), timeout=timeout) as session:\n",
    "        async with session.get(url_check2, headers=headers, proxy=proxy) as r:\n",
    "            status_code = r.status\n",
    "#             rtext = await r.text(encoding='utf8')\n",
    "            rtext = await r.text()\n",
    "except Exception as err:\n",
    "    print('err=', err)\n",
    "else:\n",
    "    if (status_code == 200) and re.search(ippt.split(\":\")[0], rtext):\n",
    "        isGood = True\n",
    "    else:\n",
    "        print('status_code=', status_code, rtext)\n",
    "finally:\n",
    "    print('isGood=', isGood, time()-stime)"
   ]
  },
  {
   "cell_type": "code",
   "execution_count": 64,
   "metadata": {},
   "outputs": [
    {
     "data": {
      "text/plain": [
       "'3.7.4.post0'"
      ]
     },
     "execution_count": 64,
     "metadata": {},
     "output_type": "execute_result"
    }
   ],
   "source": [
    "rtext\n",
    "aiohttp.__version__"
   ]
  },
  {
   "cell_type": "markdown",
   "metadata": {},
   "source": [
    "# test"
   ]
  },
  {
   "cell_type": "code",
   "execution_count": null,
   "metadata": {},
   "outputs": [],
   "source": [
    "import itertools"
   ]
  },
  {
   "cell_type": "code",
   "execution_count": null,
   "metadata": {},
   "outputs": [],
   "source": [
    "a = itertools.cycle([1, 2])"
   ]
  },
  {
   "cell_type": "code",
   "execution_count": 106,
   "metadata": {},
   "outputs": [
    {
     "data": {
      "text/plain": [
       "False"
      ]
     },
     "execution_count": 106,
     "metadata": {},
     "output_type": "execute_result"
    }
   ],
   "source": [
    "all([1, 0])"
   ]
  },
  {
   "cell_type": "code",
   "execution_count": 107,
   "metadata": {},
   "outputs": [
    {
     "data": {
      "text/plain": [
       "2"
      ]
     },
     "execution_count": 107,
     "metadata": {},
     "output_type": "execute_result"
    }
   ],
   "source": [
    "sum([True, False, True])"
   ]
  },
  {
   "cell_type": "code",
   "execution_count": 122,
   "metadata": {},
   "outputs": [
    {
     "ename": "TypeError",
     "evalue": "'tuple' object does not support item assignment",
     "output_type": "error",
     "traceback": [
      "\u001b[0;31m---------------------------------------------------------------------------\u001b[0m",
      "\u001b[0;31mTypeError\u001b[0m                                 Traceback (most recent call last)",
      "\u001b[0;32m<ipython-input-122-ed02616eca37>\u001b[0m in \u001b[0;36m<module>\u001b[0;34m\u001b[0m\n\u001b[1;32m      1\u001b[0m \u001b[0;32mimport\u001b[0m \u001b[0mrandom\u001b[0m\u001b[0;34m\u001b[0m\u001b[0;34m\u001b[0m\u001b[0m\n\u001b[1;32m      2\u001b[0m \u001b[0mlist\u001b[0m \u001b[0;34m=\u001b[0m \u001b[0;34m(\u001b[0m\u001b[0;34m{\u001b[0m\u001b[0;36m1\u001b[0m\u001b[0;34m:\u001b[0m\u001b[0;36m2\u001b[0m\u001b[0;34m}\u001b[0m\u001b[0;34m,\u001b[0m \u001b[0;34m{\u001b[0m\u001b[0;36m2\u001b[0m\u001b[0;34m:\u001b[0m\u001b[0;36m3\u001b[0m\u001b[0;34m}\u001b[0m\u001b[0;34m)\u001b[0m\u001b[0;34m\u001b[0m\u001b[0;34m\u001b[0m\u001b[0m\n\u001b[0;32m----> 3\u001b[0;31m \u001b[0mrandom\u001b[0m\u001b[0;34m.\u001b[0m\u001b[0mshuffle\u001b[0m\u001b[0;34m(\u001b[0m\u001b[0mlist\u001b[0m\u001b[0;34m)\u001b[0m\u001b[0;34m\u001b[0m\u001b[0;34m\u001b[0m\u001b[0m\n\u001b[0m",
      "\u001b[0;32m~/anaconda3/envs/fast_env/lib/python3.9/random.py\u001b[0m in \u001b[0;36mshuffle\u001b[0;34m(self, x, random)\u001b[0m\n\u001b[1;32m    361\u001b[0m                 \u001b[0;31m# pick an element in x[:i+1] with which to exchange x[i]\u001b[0m\u001b[0;34m\u001b[0m\u001b[0;34m\u001b[0m\u001b[0;34m\u001b[0m\u001b[0m\n\u001b[1;32m    362\u001b[0m                 \u001b[0mj\u001b[0m \u001b[0;34m=\u001b[0m \u001b[0mrandbelow\u001b[0m\u001b[0;34m(\u001b[0m\u001b[0mi\u001b[0m \u001b[0;34m+\u001b[0m \u001b[0;36m1\u001b[0m\u001b[0;34m)\u001b[0m\u001b[0;34m\u001b[0m\u001b[0;34m\u001b[0m\u001b[0m\n\u001b[0;32m--> 363\u001b[0;31m                 \u001b[0mx\u001b[0m\u001b[0;34m[\u001b[0m\u001b[0mi\u001b[0m\u001b[0;34m]\u001b[0m\u001b[0;34m,\u001b[0m \u001b[0mx\u001b[0m\u001b[0;34m[\u001b[0m\u001b[0mj\u001b[0m\u001b[0;34m]\u001b[0m \u001b[0;34m=\u001b[0m \u001b[0mx\u001b[0m\u001b[0;34m[\u001b[0m\u001b[0mj\u001b[0m\u001b[0;34m]\u001b[0m\u001b[0;34m,\u001b[0m \u001b[0mx\u001b[0m\u001b[0;34m[\u001b[0m\u001b[0mi\u001b[0m\u001b[0;34m]\u001b[0m\u001b[0;34m\u001b[0m\u001b[0;34m\u001b[0m\u001b[0m\n\u001b[0m\u001b[1;32m    364\u001b[0m         \u001b[0;32melse\u001b[0m\u001b[0;34m:\u001b[0m\u001b[0;34m\u001b[0m\u001b[0;34m\u001b[0m\u001b[0m\n\u001b[1;32m    365\u001b[0m             _warn('The *random* parameter to shuffle() has been deprecated\\n'\n",
      "\u001b[0;31mTypeError\u001b[0m: 'tuple' object does not support item assignment"
     ]
    }
   ],
   "source": [
    "import random\n",
    "list = ({1: 2}, {2: 3})\n",
    "random.shuffle(list)"
   ]
  },
  {
   "cell_type": "code",
   "execution_count": 121,
   "metadata": {},
   "outputs": [
    {
     "data": {
      "text/plain": [
       "[{2: 3}, {1: 2}]"
      ]
     },
     "execution_count": 121,
     "metadata": {},
     "output_type": "execute_result"
    }
   ],
   "source": [
    "list"
   ]
  },
  {
   "cell_type": "code",
   "execution_count": 123,
   "metadata": {},
   "outputs": [],
   "source": [
    "import pandas as pd"
   ]
  },
  {
   "cell_type": "code",
   "execution_count": 138,
   "metadata": {},
   "outputs": [
    {
     "data": {
      "text/plain": [
       "[['1', 2.0], [1, 3.0], [nan, nan]]"
      ]
     },
     "execution_count": 138,
     "metadata": {},
     "output_type": "execute_result"
    }
   ],
   "source": [
    "tmp = [{'a': \"1\", 'b': 2}, {'a': 1, 'b': 3}, {}]\n",
    "pd.DataFrame(tmp).values.tolist()"
   ]
  },
  {
   "cell_type": "code",
   "execution_count": 130,
   "metadata": {},
   "outputs": [
    {
     "data": {
      "text/plain": [
       "[{'a': 1, 'b': 2}, {'a': 1, 'b': 3}]"
      ]
     },
     "execution_count": 130,
     "metadata": {},
     "output_type": "execute_result"
    }
   ],
   "source": [
    "[d for d in tmp if d]"
   ]
  },
  {
   "cell_type": "code",
   "execution_count": 135,
   "metadata": {},
   "outputs": [
    {
     "ename": "TypeError",
     "evalue": "unsupported operand type(s) for +: 'int' and 'NoneType'",
     "output_type": "error",
     "traceback": [
      "\u001b[0;31m---------------------------------------------------------------------------\u001b[0m",
      "\u001b[0;31mTypeError\u001b[0m                                 Traceback (most recent call last)",
      "\u001b[0;32m<ipython-input-135-3df9c01338f0>\u001b[0m in \u001b[0;36m<module>\u001b[0;34m\u001b[0m\n\u001b[0;32m----> 1\u001b[0;31m \u001b[0msum\u001b[0m\u001b[0;34m(\u001b[0m\u001b[0;34m[\u001b[0m\u001b[0;36m1\u001b[0m\u001b[0;34m,\u001b[0m\u001b[0;32mTrue\u001b[0m\u001b[0;34m,\u001b[0m\u001b[0;32mNone\u001b[0m\u001b[0;34m]\u001b[0m\u001b[0;34m)\u001b[0m\u001b[0;34m\u001b[0m\u001b[0;34m\u001b[0m\u001b[0m\n\u001b[0m",
      "\u001b[0;31mTypeError\u001b[0m: unsupported operand type(s) for +: 'int' and 'NoneType'"
     ]
    }
   ],
   "source": [
    "sum([1, True, None])"
   ]
  },
  {
   "cell_type": "code",
   "execution_count": null,
   "metadata": {},
   "outputs": [],
   "source": []
  }
 ],
 "metadata": {
  "kernelspec": {
   "display_name": "Python 3",
   "language": "python",
   "name": "python3"
  },
  "language_info": {
   "codemirror_mode": {
    "name": "ipython",
    "version": 3
   },
   "file_extension": ".py",
   "mimetype": "text/x-python",
   "name": "python",
   "nbconvert_exporter": "python",
   "pygments_lexer": "ipython3",
   "version": "3.9.2"
  },
  "toc-autonumbering": true
 },
 "nbformat": 4,
 "nbformat_minor": 4
}
