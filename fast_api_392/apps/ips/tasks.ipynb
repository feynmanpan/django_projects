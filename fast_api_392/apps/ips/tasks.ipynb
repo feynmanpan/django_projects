{
 "cells": [
  {
   "cell_type": "code",
   "execution_count": null,
   "metadata": {},
   "outputs": [],
   "source": [
    "import sys\n",
    "import os\n",
    "# sys.path.append(top) 把392頂層目錄加到最前面 '/home/pan/django_projects/fast_api_392'\n",
    "top = os.path.dirname(os.path.dirname(os.getcwd()))\n",
    "sys.path.insert(0, top)\n",
    "sys.path"
   ]
  },
  {
   "cell_type": "code",
   "execution_count": null,
   "metadata": {},
   "outputs": [],
   "source": [
    "from config import maintenance_html\n",
    "from apps.ips.config import get_freeproxy_delta\n",
    "import apps.ips.config as ipscfg\n",
    "#\n",
    "print(maintenance_html, get_freeproxy_delta, ipscfg.url_free_us)"
   ]
  },
  {
   "cell_type": "code",
   "execution_count": 37,
   "metadata": {},
   "outputs": [
    {
     "data": {
      "text/plain": [
       "4"
      ]
     },
     "execution_count": 37,
     "metadata": {},
     "output_type": "execute_result"
    }
   ],
   "source": [
    "import random\n",
    "random.randint(0, 7)"
   ]
  },
  {
   "cell_type": "markdown",
   "metadata": {},
   "source": [
    "# get_freeproxy"
   ]
  },
  {
   "cell_type": "code",
   "execution_count": null,
   "metadata": {},
   "outputs": [],
   "source": [
    "# %%writefile tasks.py\n",
    "# -*- coding: utf-8 -*-\n",
    "import asyncio\n",
    "import requests\n",
    "import aiohttp\n",
    "from pyquery import PyQuery as pq\n",
    "import pandas as pd\n",
    "import os\n",
    "import sys\n",
    "from datetime import datetime\n",
    "import itertools\n",
    "#\n",
    "from fastapi import Request\n",
    "# 為了在jupyter中試，從apps開始import\n",
    "import apps.ips.config as ips_cfg\n",
    "from apps.ips.config import url_free, cacert, ips_csv_path, ips_html_path, dtype, dt_format, ipcols\n",
    "from apps.ips.utils import aio_get, write_file, csv_update\n",
    "###############################################################################\n",
    "# 2021/03/24\n",
    "# To Do: 檢查ip有效性，aiohttp使用proxy\n",
    "###############################################################################\n",
    "\n",
    "async def get_freeproxy(t, once=True):\n",
    "    get_freeproxy_cnt = 0\n",
    "    while 1:\n",
    "        T = (ips_cfg.ips_cycle and os.path.isfile(ips_csv_path))*t  # 沒有 csv 或 ips_cycle 就馬上爬\n",
    "        await asyncio.sleep(T)\n",
    "        #\n",
    "        async with aiohttp.ClientSession(connector=aiohttp.TCPConnector(verify_ssl=cacert)) as session:\n",
    "            status_code, rtext = await aio_get(session, url_free)\n",
    "            if status_code == 200 and rtext not in ['', None]:\n",
    "                doc = pq(rtext, parser='html')\n",
    "                trs = doc.find('table.table').eq(0).find('tr')\n",
    "                if trs.size():\n",
    "                    now = datetime.today().strftime(dt_format)\n",
    "                    elite = []\n",
    "                    for tr in trs:\n",
    "                        tds = pq(tr).find('td')\n",
    "                        level = tds.eq(4).text().strip()\n",
    "                        https = tds.eq(6).text().strip()\n",
    "                        if level != 'elite proxy' or https != 'yes':\n",
    "                            continue\n",
    "                        tmp = {\n",
    "                            'ip': tds.eq(0).text().strip(),\n",
    "                            'port': tds.eq(1).text().strip(),\n",
    "                            'level': level,\n",
    "                            'https': https,\n",
    "                            'now': now,\n",
    "                        }\n",
    "                        elite.append(tmp)\n",
    "                    # 1 儲存每次撈取的原始頁面\n",
    "                    write_file(ips_html_path, rtext)\n",
    "                    # 2 重存csv: 讀取csv檔案，與最新爬的比較\n",
    "                    if os.path.isfile(ips_csv_path):\n",
    "                        df1 = pd.read_csv(ips_csv_path, dtype=dtype)\n",
    "                        df2 = pd.DataFrame(elite).astype(dtype)\n",
    "                        df3 = csv_update(df1, df2)\n",
    "                    else:\n",
    "                        df3 = pd.DataFrame(elite).astype(dtype)\n",
    "                    df3 = df3.sample(frac=1)  # 亂排\n",
    "                    df3.to_csv(ips_csv_path, index=False)\n",
    "                    # 3 更新ips_cycle產生器\n",
    "                    ips_cfg.ips_cycle = itertools.cycle(df3[ipcols].values.tolist())\n",
    "                    #\n",
    "                    get_freeproxy_cnt += 1\n",
    "                    print(f'get_freeproxy 第{get_freeproxy_cnt}次更新成功:{now}')\n",
    "                else:\n",
    "                    pass\n",
    "        if once:\n",
    "            break\n",
    "\n",
    "#\n",
    "if __name__ == '__main__':\n",
    "    try:\n",
    "        tmp = 'zmqshell' in str(type(get_ipython()))  # 在jupyter\n",
    "        print(tmp, '在jupyter')\n",
    "    except Exception:\n",
    "        loop = asyncio.get_event_loop()\n",
    "        task = loop.create_task(get_freeproxy(1))\n",
    "        loop.run_until_complete(task)\n",
    "else:\n",
    "    if 0:\n",
    "        asyncio.create_task(get_freeproxy(3, False))"
   ]
  },
  {
   "cell_type": "code",
   "execution_count": null,
   "metadata": {
    "tags": []
   },
   "outputs": [],
   "source": [
    "await get_freeproxy(1)"
   ]
  },
  {
   "cell_type": "markdown",
   "metadata": {},
   "source": [
    "# ips_check"
   ]
  },
  {
   "cell_type": "code",
   "execution_count": 26,
   "metadata": {},
   "outputs": [],
   "source": [
    "import requests\n",
    "import aiohttp\n",
    "import asyncio\n",
    "from pyquery import PyQuery as pq\n",
    "import re\n",
    "from time import time"
   ]
  },
  {
   "cell_type": "code",
   "execution_count": 27,
   "metadata": {},
   "outputs": [],
   "source": [
    "cacert = True\n",
    "proxy_checkurls = [\n",
    "    \"http://210.240.175.62/NTIIS/IP_test.asp\",\n",
    "    \"https://whatismyipaddress.com/zh-cn/index\",\n",
    "    \"https://httpbin.org/ip\",\n",
    "    \"https://www.whatismyip.com.tw/tw/\",\n",
    "    \"https://www.whatismyip.com/\",\n",
    "    \"https://www.rus.net.tw/myip.php\",\n",
    "    \"https://www.expressvpn.com/what-is-my-ip\",\n",
    "]\n",
    "headers = {\n",
    "    'User-Agent': 'Mozilla/5.0 (Windows NT 10.0; Win64; x64) AppleWebKit/537.36 (KHTML, like Gecko) Chrome/84.0.4147.135 Safari/537.36',\n",
    "}"
   ]
  },
  {
   "cell_type": "code",
   "execution_count": 31,
   "metadata": {},
   "outputs": [
    {
     "name": "stdout",
     "output_type": "stream",
     "text": [
      "isGood= True 0.7342026233673096\n"
     ]
    }
   ],
   "source": [
    "t = 10\n",
    "isGood = False\n",
    "ippt = '165.225.77.47:9443'\n",
    "proxy = f\"http://{ippt}\"  # aiohttp只支援http的proxy\n",
    "rtext = ''\n",
    "stime = time()\n",
    "try:\n",
    "    timeout = aiohttp.ClientTimeout(total=t)\n",
    "    async with aiohttp.ClientSession(connector=aiohttp.TCPConnector(ssl=cacert), timeout=timeout) as session:\n",
    "        async with session.get(proxy_checkurls[0], headers=headers, proxy=proxy) as r:\n",
    "            status_code = r.status\n",
    "#             rtext = await r.text(encoding='utf8')\n",
    "            rtext = await r.text()\n",
    "except Exception as err:\n",
    "    print('err=', err)\n",
    "else:\n",
    "    if (status_code == 200) and re.search(ippt.split(\":\")[0], rtext) is not None:\n",
    "        isGood = True\n",
    "    else:\n",
    "        print('status_code=', status_code, rtext)\n",
    "finally:\n",
    "    print('isGood=', isGood, time()-stime)"
   ]
  },
  {
   "cell_type": "code",
   "execution_count": 22,
   "metadata": {},
   "outputs": [
    {
     "data": {
      "text/plain": [
       "'<!DOCTYPE html>\\n<html lang=\"en-US\">\\n<head>\\n\\n<script>(function(w,d,s,l,i){w[l]=w[l]||[];w[l].push({\\'gtm.start\\':\\n            new Date().getTime(),event:\\'gtm.js\\'});var f=d.getElementsByTagName(s)[0],\\n        j=d.createElement(s),dl=l!=\\'dataLayer\\'?\\'&l=\\'+l:\\'\\';j.async=true;j.src=\\n        \\'https://www.googletagmanager.com/gtm.js?id=\\'+i+dl;f.parentNode.insertBefore(j,f);\\n    })(window,document,\\'script\\',\\'dataLayer\\',\\'GTM-NCCVS2G\\');</script>\\n <meta charset=\"UTF-8\">\\n<meta http-equiv=\"X-UA-Compatible\" content=\"IE=edge\">\\n<meta name=\"viewport\" content=\"width=device-width, initial-scale=1, shrink-to-fit=no\">\\n<meta name=\"mobile-web-app-capable\" content=\"yes\">\\n<meta name=\"apple-mobile-web-app-capable\" content=\"yes\">\\n<meta name=\"apple-mobile-web-app-title\" content=\"What Is My IP?\">\\n<link rel=\"profile\" href=\"https://gmpg.org/xfn/11\">\\n<link rel=\"pingback\" href=\"https://www.whatismyip.com/xmlrpc.php\">\\n<link rel=\"preconnect\" href=\"https://cdn-a.yieldlove.com\" crossorigin=\"use-credentials\" />\\n<link rel=\"preconnect\" href=\"https://www.googletagservices.com\" crossorigin=\"use-credentials\" />\\n<link rel=\"preconnect\" href=\"https://pagead2.googlesyndication.com\" crossorigin=\"use-credentials\" />\\n<link rel=\"preconnect\" href=\"https://www.google-analytics.com\" crossorigin=\"use-credentials\" />\\n<link rel=\"preconnect\" href=\"https://securepubads.g.doubleclick.net\" crossorigin=\"use-credentials\" />\\n<link rel=\"preconnect\" href=\"https://api.yieldlove-ad-serving.net\" crossorigin />\\n<link rel=\"preconnect\" href=\"https://cdn-a.yieldlove.com\" crossorigin />\\n<link rel=\"preconnect\" href=\"https://www.googletagservices.com\" crossorigin />\\n<link rel=\"preconnect\" href=\"https://pagead2.googlesyndication.com\" crossorigin />\\n<link rel=\"preconnect\" href=\"//cdnjs.cloudflare.com\" crossorigin />\\n<link rel=\"preconnect\" href=\"https://securepubads.g.doubleclick.net\" crossorigin />\\n<link rel=\"preconnect\" href=\"//delivery.adrecover.com\" crossorigin />\\n<link rel=\"dns-prefetch\" href=\"https://ipv6.whatismyip.com\" />\\n<link rel=\"dns-prefetch\" href=\"https://cdn-a.yieldlove.com\" />\\n<link rel=\"dns-prefetch\" href=\"https://www.googletagservices.com\" />\\n<link rel=\"dns-prefetch\" href=\"https://pagead2.googlesyndication.com\" />\\n<link rel=\"dns-prefetch\" href=\"//cdnjs.cloudflare.com\" />\\n<link rel=\"dns-prefetch\" href=\"https://www.google-analytics.com\" />\\n<link rel=\"dns-prefetch\" href=\"https://securepubads.g.doubleclick.net\" />\\n<link rel=\"dns-prefetch\" href=\"//delivery.adrecover.com\" />\\n<link rel=\"dns-prefetch\" href=\"https://api.yieldlove-ad-serving.net\" />\\n<link rel=\"alternate\" href=\"https://www.whatismyip.com\" hreflang=\"en\" />\\n<link rel=\"alternate\" href=\"https://www.whatismyip.com\" hreflang=\"en-us\" />\\n<link rel=\"alternate\" href=\"https://www.whatismyip.com/fr/\" hreflang=\"fr\" />\\n<link rel=\"alternate\" href=\"https://www.whatismyip.com/fr/\" hreflang=\"fr-fr\" />\\n<link rel=\"alternate\" href=\"https://www.whatismyip.com/es/\" hreflang=\"es\" />\\n<link rel=\"alternate\" href=\"https://www.whatismyip.com/es/\" hreflang=\"es-mx\" />\\n<link rel=\"alternate\" href=\"https://www.whatismyip.com/de/\" hreflang=\"de\" />\\n<link rel=\"alternate\" href=\"https://www.whatismyip.com/de/\" hreflang=\"de-de\" />\\n<link rel=\"alternate\" href=\"https://www.whatismyip.com/it/\" hreflang=\"it\" />\\n<link rel=\"alternate\" href=\"https://www.whatismyip.com/it/\" hreflang=\"it-it\" />\\n<script type=\\'text/javascript\\'>\\n            var yieldlove_site_id = \"whatismyip.com_1\";\\n        </script>\\n<script type=\\'text/javascript\\' src=\\'//cdn-a.yieldlove.com/yieldlove-bidder.js?whatismyip.com_1\\'></script>\\n<script async=\\'async\\' src=\\'https://securepubads.g.doubleclick.net/tag/js/gpt.js\\'></script>\\n<script async>\\n            var googletag = googletag || {};\\n            googletag.cmd = googletag.cmd || [];\\n        </script>\\n<meta name=\\'robots\\' content=\\'max-image-preview:large\\' />\\n<link rel=\\'preload\\' href=\\'https://www.whatismyip.com/wp-includes/js/jquery/jquery.js\\' as=\\'script\\' />\\n\\n<title>What Is My IP? - Get Your Public IP address details - IPv4 - IPv6</title>\\n<meta name=\"description\" content=\"What Is My IP shows your public IP address details for IPv4 and IPv6. Learn how to hide your IP location and protect your online privacy.\" />\\n<meta name=\"robots\" content=\"index, follow, max-snippet:-1, max-image-preview:large, max-video-preview:-1\" />\\n<link rel=\"canonical\" href=\"https://www.whatismyip.com/\" />\\n<meta property=\"og:locale\" content=\"en_US\" />\\n<meta property=\"og:type\" content=\"website\" />\\n<meta property=\"og:title\" content=\"What Is My IP? - Get Your Public IP address details - IPv4 - IPv6\" />\\n<meta property=\"og:description\" content=\"What Is My IP shows your public IP address details for IPv4 and IPv6. Learn how to hide your IP location and protect your online privacy.\" />\\n<meta property=\"og:url\" content=\"https://www.whatismyip.com/\" />\\n<meta property=\"og:site_name\" content=\"WhatIsMyIP.com®\" />\\n<meta property=\"article:publisher\" content=\"https://www.facebook.com/whatismyip\" />\\n<meta property=\"article:modified_time\" content=\"2021-02-25T22:19:03+00:00\" />\\n<meta name=\"twitter:label1\" content=\"Est. reading time\">\\n<meta name=\"twitter:data1\" content=\"2 minutes\">\\n<script type=\"application/ld+json\" class=\"yoast-schema-graph\">{\"@context\":\"https://schema.org\",\"@graph\":[{\"@type\":\"WebSite\",\"@id\":\"https://www.whatismyip.com/#website\",\"url\":\"https://www.whatismyip.com/\",\"name\":\"WhatIsMyIP.com\\\\u00ae\",\"description\":\"\",\"potentialAction\":[{\"@type\":\"SearchAction\",\"target\":\"https://www.whatismyip.com/?s={search_term_string}\",\"query-input\":\"required name=search_term_string\"}],\"inLanguage\":\"en-US\"},{\"@type\":\"WebPage\",\"@id\":\"https://www.whatismyip.com/#webpage\",\"url\":\"https://www.whatismyip.com/\",\"name\":\"What Is My IP? - Get Your Public IP address details - IPv4 - IPv6\",\"isPartOf\":{\"@id\":\"https://www.whatismyip.com/#website\"},\"datePublished\":\"2017-10-31T13:01:04+00:00\",\"dateModified\":\"2021-02-25T22:19:03+00:00\",\"description\":\"What Is My IP shows your public IP address details for IPv4 and IPv6. Learn how to hide your IP location and protect your online privacy.\",\"inLanguage\":\"en-US\",\"potentialAction\":[{\"@type\":\"ReadAction\",\"target\":[\"https://www.whatismyip.com/\"]}]}]}</script>\\n\\n<link rel=\\'preconnect\\' href=\\'//s.w.org\\' />\\n<link rel=\\'dns-prefetch\\' href=\\'//s.w.org\\' />\\n<link rel=\"alternate\" type=\"application/rss+xml\" title=\"WhatIsMyIP.com® &raquo; Feed\" href=\"https://www.whatismyip.com/feed/\" />\\n<link rel=\"alternate\" type=\"application/rss+xml\" title=\"WhatIsMyIP.com® &raquo; Comments Feed\" href=\"https://www.whatismyip.com/comments/feed/\" />\\n<script type=\"text/javascript\">\\n\\t\\t\\twindow._wpemojiSettings = {\"baseUrl\":\"https:\\\\/\\\\/s.w.org\\\\/images\\\\/core\\\\/emoji\\\\/13.0.1\\\\/72x72\\\\/\",\"ext\":\".png\",\"svgUrl\":\"https:\\\\/\\\\/s.w.org\\\\/images\\\\/core\\\\/emoji\\\\/13.0.1\\\\/svg\\\\/\",\"svgExt\":\".svg\",\"source\":{\"concatemoji\":\"https:\\\\/\\\\/www.whatismyip.com\\\\/wp-includes\\\\/js\\\\/wp-emoji-release.min.js?ver=5.7\"}};\\n\\t\\t\\t!function(e,a,t){var n,r,o,i=a.createElement(\"canvas\"),p=i.getContext&&i.getContext(\"2d\");function s(e,t){var a=String.fromCharCode;p.clearRect(0,0,i.width,i.height),p.fillText(a.apply(this,e),0,0);e=i.toDataURL();return p.clearRect(0,0,i.width,i.height),p.fillText(a.apply(this,t),0,0),e===i.toDataURL()}function c(e){var t=a.createElement(\"script\");t.src=e,t.defer=t.type=\"text/javascript\",a.getElementsByTagName(\"head\")[0].appendChild(t)}for(o=Array(\"flag\",\"emoji\"),t.supports={everything:!0,everythingExceptFlag:!0},r=0;r<o.length;r++)t.supports[o[r]]=function(e){if(!p||!p.fillText)return!1;switch(p.textBaseline=\"top\",p.font=\"600 32px Arial\",e){case\"flag\":return s([127987,65039,8205,9895,65039],[127987,65039,8203,9895,65039])?!1:!s([55356,56826,55356,56819],[55356,56826,8203,55356,56819])&&!s([55356,57332,56128,56423,56128,56418,56128,56421,56128,56430,56128,56423,56128,56447],[55356,57332,8203,56128,56423,8203,56128,56418,8203,56128,56421,8203,56128,56430,8203,56128,56423,8203,56128,56447]);case\"emoji\":return!s([55357,56424,8205,55356,57212],[55357,56424,8203,55356,57212])}return!1}(o[r]),t.supports.everything=t.supports.everything&&t.supports[o[r]],\"flag\"!==o[r]&&(t.supports.everythingExceptFlag=t.supports.everythingExceptFlag&&t.supports[o[r]]);t.supports.everythingExceptFlag=t.supports.everythingExceptFlag&&!t.supports.flag,t.DOMReady=!1,t.readyCallback=function(){t.DOMReady=!0},t.supports.everything||(n=function(){t.readyCallback()},a.addEventListener?(a.addEventListener(\"DOMContentLoaded\",n,!1),e.addEventListener(\"load\",n,!1)):(e.attachEvent(\"onload\",n),a.attachEvent(\"onreadystatechange\",function(){\"complete\"===a.readyState&&t.readyCallback()})),(n=t.source||{}).concatemoji?c(n.concatemoji):n.wpemoji&&n.twemoji&&(c(n.twemoji),c(n.wpemoji)))}(window,document,window._wpemojiSettings);\\n\\t\\t</script>\\n<style type=\"text/css\">\\nimg.wp-smiley,\\nimg.emoji {\\n\\tdisplay: inline !important;\\n\\tborder: none !important;\\n\\tbox-shadow: none !important;\\n\\theight: 1em !important;\\n\\twidth: 1em !important;\\n\\tmargin: 0 .07em !important;\\n\\tvertical-align: -0.1em !important;\\n\\tbackground: none !important;\\n\\tpadding: 0 !important;\\n}\\n</style>\\n<link data-handle=\"wimi-understrap-styles\" rel=\\'stylesheet\\' id=\\'wimi-understrap-styles-css\\' href=\\'https://www.whatismyip.com/wp-content/themes/understrap-wimi/css/wimi-theme.min.css\\' type=\\'text/css\\' media=\\'all\\' />\\n<script data-handle=\"jquery\" type=\\'text/javascript\\' src=\\'https://www.whatismyip.com/wp-includes/js/jquery/jquery.js\\' id=\\'jquery-js\\'></script>\\n<link rel=\"https://api.w.org/\" href=\"https://www.whatismyip.com/wp-json/\" /><link rel=\"alternate\" type=\"application/json\" href=\"https://www.whatismyip.com/wp-json/wp/v2/pages/7\" /><link rel=\"EditURI\" type=\"application/rsd+xml\" title=\"RSD\" href=\"https://www.whatismyip.com/xmlrpc.php?rsd\" />\\n<link rel=\"wlwmanifest\" type=\"application/wlwmanifest+xml\" href=\"https://www.whatismyip.com/wp-includes/wlwmanifest.xml\" />\\n<link rel=\\'shortlink\\' href=\\'https://www.whatismyip.com/\\' />\\n<link rel=\"alternate\" type=\"application/json+oembed\" href=\"https://www.whatismyip.com/wp-json/oembed/1.0/embed?url=https%3A%2F%2Fwww.whatismyip.com%2F\" />\\n<link rel=\"alternate\" type=\"text/xml+oembed\" href=\"https://www.whatismyip.com/wp-json/oembed/1.0/embed?url=https%3A%2F%2Fwww.whatismyip.com%2F&#038;format=xml\" />\\n<meta name=\"mobile-web-app-capable\" content=\"yes\">\\n<meta name=\"apple-mobile-web-app-capable\" content=\"yes\">\\n<meta name=\"apple-mobile-web-app-title\" content=\"WhatIsMyIP.com® - \">\\n<link rel=\"icon\" href=\"https://www.whatismyip.com/wp-content/uploads/2017/11/28021_10151553151387180_884602986_n-150x150.jpg\" sizes=\"32x32\" />\\n<link rel=\"icon\" href=\"https://www.whatismyip.com/wp-content/uploads/2017/11/28021_10151553151387180_884602986_n.jpg\" sizes=\"192x192\" />\\n<link rel=\"apple-touch-icon\" href=\"https://www.whatismyip.com/wp-content/uploads/2017/11/28021_10151553151387180_884602986_n.jpg\" />\\n<meta name=\"msapplication-TileImage\" content=\"https://www.whatismyip.com/wp-content/uploads/2017/11/28021_10151553151387180_884602986_n.jpg\" />\\n<script async data-cfasync=\"false\" type=\"text/javascript\">(function(w, d) { var s = d.createElement(\\'script\\'); s.src = \\'//delivery.adrecover.com/39401/adRecover.js?ts=1565958073207\\'; s.type = \\'text/javascript\\'; s.async = true; (d.getElementsByTagName(\\'head\\')[0] || d.getElementsByTagName(\\'body\\')[0]).appendChild(s); })(window, document);</script>\\n<script data-ad-client=\"ca-pub-9480885465650986\" async src=\"https://pagead2.googlesyndication.com/pagead/js/adsbygoogle.js\"></script>\\n<script>    (function(c,l,a,r,i,t,y){        c[a]=c[a]||function(){(c[a].q=c[a].q||[]).push(arguments)};        t=l.createElement(r);t.async=1;t.src=\"https://www.clarity.ms/tag/\"+i;        y=l.getElementsByTagName(r)[0];y.parentNode.insertBefore(t,y);    })(window, document, \"clarity\", \"script\", \"5jo9x8im8a\");</script>\\n</head>\\n<body class=\"home page-template page-template-page-templates page-template-homepage page-template-page-templateshomepage-php page page-id-7 wp-embed-responsive group-blog\" onload=\"checkIP(\\'https://ipv6.whatismyip.com\\', loadResult)\">\\n\\n<noscript><iframe src=\"https://www.googletagmanager.com/ns.html?id=GTM-NCCVS2G\"\\n                  height=\"0\" width=\"0\" style=\"display:none;visibility:hidden\"></iframe></noscript>\\n\\n<div class=\"hfeed site\" id=\"page\">\\n\\n<div class=\"wrapper-fluid wrapper-navbar\" id=\"wrapper-navbar\">\\n<a class=\"skip-link screen-reader-text sr-only\" href=\"#content\">Skip to content</a>\\n<nav class=\"navbar navbar-dark bg-dark bg-inverse navbar-expand-xl\">\\n<div class=\"container\"><a class=\"navbar-brand\" href=\"/\" title=\"What Is My IP?\">\\n<img class=\"brand mb-1\" src=\"/wp-content/uploads/2017/11/WhatIsMyIP.com_Brand_30.png\" alt=\"What Is My IP Brand\" width=\"30\" height=\"30\">\\nWhatIsMyIP.com\\n</a>\\n<button type=\"button\" class=\"navbar-toggler collapsed\" data-toggle=\"collapse\" data-target=\"#navbar\" aria-expanded=\"false\" aria-controls=\"navbar\"> <span class=\"sr-only\">Toggle navigation</span>\\n&#x2630;</button>\\n<div id=\"navbar\" class=\"navbar-collapse collapse\">\\n<ul class=\"nav navbar-nav\">\\n<li class=\"nav-item\"> <a href=\"/\" class=\"nav-link\" title=\"What\\'s My IP?\">\\n<i class=\"fa fa-user\"></i> What\\'s My IP</a>\\n</li>\\n<li class=\"nav-item\"><a href=\"/internet-speed-test/\" class=\"nav-link\" title=\"Internet Speed Test\">\\n<i class=\"fa fa-clock-o\"></i> Speed Test</a>\\n</li>\\n<li class=\"nav-item\"><a href=\"/ip-address-lookup/\" class=\"nav-link\" title=\"IP Lookup\">\\n<i class=\"fa fa-search\"></i> IP Lookup</a>\\n</li>\\n<li class=\"nav-item\"><a href=\"/how-to-change-your-ip-address/\" class=\"nav-link\" title=\"Change My IP\">\\n<i class=\"fa fa-edit\"></i> Change IP</a>\\n </li>\\n<li class=\"nav-item\"><a href=\"/hide-my-ip-address/\" class=\"nav-link\" title=\"Hide My Ip Address\">\\n<i class=\"fa fa-eye-slash\"></i> Hide IP</a>\\n</li>\\n</ul>\\n<ul class=\"nav navbar-nav ml-auto\">\\n<li class=\"nav-item mt-1\"> <form method=\"get\" id=\"searchform\" action=\"https://www.whatismyip.com/\" role=\"search\">\\n<label class=\"assistive-text d-none d-print-block\" for=\"s\"></label>\\n<div class=\"input-group input-group-sm\">\\n<input class=\"field form-control\" id=\"s\" name=\"s\" type=\"text\" placeholder=\"Search &hellip;\" value=\"\">\\n<span class=\"input-group-btn mr-1\">\\n<button class=\"submit btn btn-primary btn-sm\" id=\"searchsubmit\" name=\"submit\" type=\"submit\" value=\"\">\\n<i class=\"fa fa-search\"></i>\\n</button>\\n</span>\\n</div>\\n</form>\\n</li>\\n<li class=\"nav-item\"><a href=\"https://www.whatismyip.com/sign-up/\" class=\"nav-link\" title=\"Sign Up\"><i class=\"fa fa-external-link-square\"></i> Sign Up</a>\\n</li>\\n<li class=\"nav-item\"><button type=\"button\" data-toggle=\"modal\" data-target=\"#loginModal\" class=\"btn btn-link pl-0 mr-1 mb-1\"><i class=\"fa fa-sign-in\"></i> Login</button>\\n</li>\\n</ul>\\n</div>\\n</div>\\n</nav>\\n<div class=\"modal fade login\" id=\"loginModal\" tabindex=\"-1\" role=\"dialog\" aria-labelledby=\"loginModalTitle\" aria-hidden=\"true\">\\n<div class=\"modal-dialog login animated\" role=\"document\">\\n<div class=\"modal-content\">\\n<div class=\"modal-body\">\\n<button type=\"button\" class=\"close\" data-dismiss=\"modal\" aria-label=\"Close\">\\n<span aria-hidden=\"true\">&times;</span>\\n</button>\\n<h3>Membership Login</h3><div class=\"ws-plugin--s2member-pro-login-widget\">\\n<form method=\"post\" action=\"https://www.whatismyip.com/wp-login.php\" class=\"ws-plugin--s2member-pro-login-widget-form\">\\n<div class=\"ws-plugin--s2member-pro-login-widget-username\">\\n<label for=\"ws-plugin--s2member-pro-login-widget-username\">Username or Email:</label><br />\\n<input type=\"text\" name=\"log\" id=\"ws-plugin--s2member-pro-login-widget-username\" class=\"form-control\" title=\"Username\" />\\n</div>\\n<div class=\"ws-plugin--s2member-pro-login-widget-password\">\\n<label for=\"ws-plugin--s2member-pro-login-widget-password\">Password:</label><br />\\n<input type=\"password\" name=\"pwd\" id=\"ws-plugin--s2member-pro-login-widget-password\" class=\"form-control\" title=\"Password\" />\\n</div>\\n<div class=\"ws-plugin--s2member-pro-login-widget-lost-password\">\\n<a href=\"https://www.whatismyip.com/membership-options/\" tabindex=\"-1\">signup now</a> | <a href=\"https://www.whatismyip.com/wp-login.php?action=lostpassword\" tabindex=\"-1\">forgot password?</a>\\n</div>\\n<div class=\"ws-plugin--s2member-pro-login-widget-remember-me\">\\n<label><input type=\"checkbox\" name=\"rememberme\" value=\"forever\" />Remember Me</label>\\n</div>\\n<div class=\"ws-plugin--s2member-pro-login-widget-submit\">\\n<input type=\"submit\" class=\"btn btn-primary\" value=\"Log Me In\" />\\n</div>\\n</form>\\n<div class=\"ws-plugin--s2member-pro-login-widget-code\">\\n</div>\\n<div style=\"clear:both;\"></div>\\n</div>\\n</div>\\n</div>\\n</div>\\n</div>\\n</div>\\n<div class=\"wrapper pt-0\" id=\"full-width-page-wrapper\">\\n<div class=\"container\" id=\"content\">\\n<div class=\"row\">\\n<div class=\"col-md-12 content-area\" id=\"primary\">\\n<main class=\"site-main\" id=\"main\" role=\"main\">\\n\\n<article class=\"post-7 page type-page status-publish hentry\" id=\"post-7\">\\n<header class=\"entry-header\">\\n</header>\\n<div class=\"container\">\\n<div class=\"row pt-2\">\\n<div class=\"col-md-4 col-lg-4 p-0\">\\n<div class=\"card border-0 mr-0 mb-3\">\\n<div class=\"card-body p-0\">\\n<ul class=\"list-group text-center home-box\">\\n<li class=\"list-group-item py-1 font-weight-bold ip\">\\nMy Public IPv4 is: <br><a id=\"ipv4\" href=\"https://www.whatismyip.com/165.225.77.47/\" title=\"Detailed information about IP address 165.225.77.47\">165.225.77.47</a><button title=\"Copy IPv4\" onclick=\"copyIPv4()\" class=\"ml-1 btn btn-primary btn-sm\"><i class=\"fa fa-files-o\" aria-hidden=\"true\"></i></button></li>\\n<li class=\"list-group-item py-1\"><div id=\"ip-version-check\"></div></li>\\n<li class=\"list-group-item py-1\">My IP Location: Paris, J FR <a href=\"/ip-address-geolocation-incorrect/\" data-toggle=\"tooltip\" target=\"_blank\" rel=\"noopener\" data-placement=\"bottom\" title=\"Is this incorrect?\"><i class=\"fa fa-question-circle\" aria-hidden=\"true\"></i></a></li>\\n<li class=\"list-group-item py-1\">ISP: Zscaler Inc.</li>\\n<li class=\"list-group-item ip-button\">\\n<a class=\"btn btn-light btn-md mx-2 mb-2 px-5\" href=\"https://www.whatismyip.com/my-ip-information/\" title=\"My IP Information\" role=\"button\">My IP Information</a></li>\\n</ul>\\n</div>\\n</div>\\n</div>\\n<div class=\"col-md-12 col-lg-4\">\\n<div class=\"card mb-3 card border-0 mt-1\">\\n<div class=\"card-body p-0\">\\n<div class=\"px-0\" style=\"text-align: center;\">\\n\\n<script type=\\'text/javascript\\'>\\n                                    googletag.cmd.push(function() {\\n                                        if (window.innerWidth >= 768) {\\n                                            googletag.defineSlot(\\'/53015287/whatismyip.com_d_300x250_1\\', [300, 250], \\'div-gpt-ad-1407836145316-0\\').addService(googletag.pubads());\\n                                        }\\n\\n                                        googletag.pubads().enableSingleRequest();\\n                                        googletag.enableServices();\\n                                    });\\n                                </script>\\n<div id=\\'div-gpt-ad-1407836145316-0\\'>\\n<script type=\\'text/javascript\\'>\\n                                        googletag.cmd.push(function() { googletag.display(\\'div-gpt-ad-1407836145316-0\\'); });\\n                                    </script>\\n</div>\\n\\n<script type=\\'text/javascript\\'>\\n                                    googletag.cmd.push(function() {\\n                                        if (window.innerWidth <= 768) {\\n                                            googletag.defineSlot(\\'/53015287/whatismyip.com_m_300x250_1\\', [300, 250], \\'div-gpt-ad-1407836009202-0\\').addService(googletag.pubads());\\n                                        }\\n\\n                                        googletag.pubads().enableSingleRequest();\\n                                        googletag.enableServices();\\n                                    });\\n                                </script>\\n<div id=\\'div-gpt-ad-1407836009202-0\\'>\\n<script type=\\'text/javascript\\'>\\n                                        googletag.cmd.push(function() { googletag.display(\\'div-gpt-ad-1407836009202-0\\'); });\\n                                    </script>\\n</div>\\n</div>\\n</div>\\n</div>\\n</div>\\n<div class=\"col-md-4 order-md-first\">\\n<div class=\"card border-0 mt-0\">\\n<div class=\"card-body text-strong p-0\">\\n<div class=\"btn-group-vertical btn-group-sm\" style=\"width: 100%;\">\\n<a class=\"btn btn-primary btn-sm  mb-1 \" href=\"/ip-address-lookup/\" role=\"button\">IP Address Lookup</a>\\n<a class=\"btn btn-primary btn-sm  mb-1 \" href=\"/dns-lookup/\" role=\"button\">DNS Lookup</a>\\n<a class=\"btn btn-primary btn-sm  mb-1 \" href=\"/how-to-trace-an-email-address/\" role=\"button\">Trace an Email</a>\\n<a class=\"btn btn-primary btn-sm  mb-1 \" href=\"/blacklist-check/\" role=\"button\">IP Blacklist Check</a>\\n<a class=\"btn btn-primary btn-sm  mb-1 \" href=\"/ip-whois-lookup/\" role=\"button\">IP Whois Lookup</a>\\n<a class=\"btn btn-primary btn-sm  mb-1 \" href=\"/port-scanner/\" role=\"button\">Port Scanner</a>\\n<a class=\"btn btn-primary btn-sm  mb-1 \" href=\"/internet-speed-test/\" role=\"button\">Internet Speed Test</a>\\n<a class=\"btn btn-primary btn-sm  mb-1 \" href=\"https://www.whatismyip.com/ip-tools/\" role=\"button\">IP Tools</a>\\n</div>\\n</div>\\n</div>\\n</div>\\n</div>\\n</div>\\n<script>\\n            function checkIP(url, cFunction) {\\n                var xhttp;\\n                xhttp=new XMLHttpRequest();\\n                xhttp.onreadystatechange = function() {\\n                    if (this.readyState == 4 && this.status == 200) {\\n                        cFunction(this);\\n                    }\\n                    else{\\n                        document.getElementById(\"ip-version-check\").innerHTML = \"My Public IPv6 is: Not Detected\";\\n                    }\\n                };\\n                xhttp.open(\"GET\", url, true);\\n                xhttp.timeout = 5000;\\n                xhttp.ontimeout = function(e) {\\n                    document.getElementById(\"ip-version-check\").innerHTML = \"My Public IPv6 is: Not Detected\";\\n                };\\n                xhttp.send();\\n            }\\n            function loadResult(xhttp) {\\n                document.getElementById(\"ip-version-check\").innerHTML =\\n                    \"My Public IPv6 is: <a id=\\'ipv6\\' href=\\'https://www.whatismyip.com/\" + xhttp.responseText + \"/\\' title=\\'Detailed information about IP address \" + xhttp.responseText + \"\\'>\" + xhttp.responseText + \"</a><button title=\\'Copy IPv6\\' onclick=\\'copyIPv6()\\' class=\\'ml-1 btn btn-primary btn-sm\\'><i class=\\'fa fa-files-o\\' aria-hidden=\\'true\\'></i></button>\";\\n            }\\n            function copyIPv4(){\\n                var v4 = document.createRange();\\n                v4.selectNode(document.getElementById(\"ipv4\"));\\n                window.getSelection().removeAllRanges();\\n                window.getSelection().addRange(v4);\\n                document.execCommand(\"copy\");\\n                window.getSelection().removeAllRanges();\\n                alert(\"Copied your ipv4: \" + v4);\\n            }\\n\\n            function copyIPv6(){\\n                var v6 = document.createRange();\\n                v6.selectNode(document.getElementById(\"ipv6\"));\\n                window.getSelection().removeAllRanges();\\n                window.getSelection().addRange(v6);\\n                document.execCommand(\"copy\");\\n                window.getSelection().removeAllRanges();\\n                alert(\"Copied your ipv6: \" + v6);\\n            }\\n        </script>\\n<div class=\"entry-content container\">\\n<div align=\"center\"> \\n<script type=\\'text/javascript\\'>\\n    googletag.cmd.push(function() {\\n        if (window.innerWidth >= 768) {\\n            googletag.defineSlot(\\'/53015287/whatismyip.com_d_728x90_2\\', [728, 90], \\'div-gpt-ad-1407836067168-0\\').addService(googletag.pubads());\\n        }\\n\\n        googletag.pubads().enableSingleRequest();\\n        googletag.enableServices();\\n    });\\n</script>\\n<div id=\\'div-gpt-ad-1407836067168-0\\'>\\n<script type=\\'text/javascript\\'>\\n        googletag.cmd.push(function() { googletag.display(\\'div-gpt-ad-1407836067168-0\\'); });\\n    </script>\\n</div>\\n\\n<script type=\\'text/javascript\\'>\\n    googletag.cmd.push(function() {\\n        if (window.innerWidth <= 768) {\\n            googletag.defineSlot(\\'/53015287/whatismyip.com_m_300x250_2\\', [300, 250], \\'div-gpt-ad-1407836058055-0\\').addService(googletag.pubads());\\n        }\\n\\n        googletag.pubads().enableSingleRequest();\\n        googletag.enableServices();\\n    });\\n</script>\\n<div id=\\'div-gpt-ad-1407836058055-0\\'>\\n<script type=\\'text/javascript\\'>\\n        googletag.cmd.push(function() { googletag.display(\\'div-gpt-ad-1407836058055-0\\'); });\\n    </script>\\n</div>\\n</div>\\n<div class=\"card my-4\">\\n<div class=\"card-body\">\\n<h2 class=\"custom\">What Is My IP?</h2>\\n<p>WhatIsMyIP.com® is the industry leader in providing IP address information. Moreover, we provide <a title=\"IP Address Tools\" href=\"/ip-tools/?iref=c1\" rel=\"noopener\">tools</a> that allow users to perform an Internet Speed Test, Location Lookup, Proxy Detection, Whois Lookup, and more. Extensive <a title=\"How To\" href=\"/how-to/?iref=c1\" rel=\"noopener\">tutorials</a> that show users <a title=\"How to Trace an Email Address\" href=\"/how-to-trace-an-e-mail-address/?iref=c1\" rel=\"noopener\">how to trace an email address</a> are also available. Furthermore, knowing your IP address is crucial for online gaming, using remote desktop connections, connecting to a security camera DVR, and anonymity. If you’ve got questions and can’t find the answer on our site, feel free to post your question in our <a title=\"Q &amp; A\" href=\"/questions/\" rel=\"noopener\">Q &amp; A section</a>.</p>\\n<h2><a title=\"What Is An IP Address?\" href=\"/what-is-an-ip-address/\">What Is An IP Address?</a></h2>\\n<p>This number is an exclusive number assigned to each network connect device such as printers and routers. Furthermore, the assigned IP address identifies each device.\\xa0Therefore, it allows these connected devices the ability to communicate with each other over a computer network. Therefore, no device can be connected to a network without an IP address.</p>\\n<h2><a title=\"What Is An IPv6?\" href=\"/what-is-ipv6/\">What Is IPv6?</a></h2>\\n<p>Internet Protocol version 6 is the replacement for IPv4. First of all, an IPv6 address looks like this 2600:1005:b062:61e4:74d7:f292:802c:fbfd. While an IPv4 address looks like this 75.123.253.255.</p>\\n<h2><a title=\"API\" href=\"/api/\">API</a></h2>\\n<p>Our API gives you access to most of our tools programmatically. To clarify, you must be a <a href=\"https://www.whatismyip.com/membership-options/\">Gold level member to access our API</a>. Most noteworthy, Gold level accounts get 10 API keys. Consequently, each key is allowed 1,440 calls per day (1 per minute) for a total of 14,400 calls per 24 hour period. <a href=\"https://en.wikipedia.org/wiki/API\" rel=\"noopener noreferrer\" target=\"_blank\">API Definition</a>\\n</div>\\n</div>\\n<p></p>\\n</div>\\n<p></p>\\n<div class=\"container tabs\">\\n<ul class=\"nav nav-tabs\">\\n<li class=\"nav-item\"><a class=\"nav-link active\" href=\"#questions\" data-toggle=\"tab\">Questions &amp; Answers</a></li>\\n<li class=\"nav-item\"><a class=\"nav-link\" href=\"#tools\" data-toggle=\"tab\">Tools</a></li>\\n<li class=\"nav-item\"><a class=\"nav-link\" href=\"#howto\" data-toggle=\"tab\">How To</a></li>\\n<li class=\"nav-item\"><a class=\"nav-link\" href=\"#knowledge\" data-toggle=\"tab\">Knowledge Base</a></li>\\n<li class=\"nav-item\"><a class=\"nav-link\" href=\"#resources\" data-toggle=\"tab\">Resources</a></li>\\n<li class=\"nav-item\"><a class=\"nav-link\" href=\"#general\" data-toggle=\"tab\">General</a></li>\\n</ul>\\n<div class=\"tab-content\">\\n<div id=\"questions\" class=\"tab-pane active\">\\n<ul class=\"list-group\">\\n<div class=\"container\">\\n<div class=\"row\">\\n<li class=\"list-group-item col-md-6 col-lg-4\"><a class=\"btn btn btn-outline-primary btn-md btn-block\" title=\"Question &amp; Answers Categories\" role=\"button\" href=\"/questions/\">Questions &amp; Answer Categories</a></li>\\n<li class=\"list-group-item col-md-6 col-lg-4\"><a class=\"btn btn btn-outline-primary btn-md btn-block\" title=\"Change My IP\" role=\"button\" href=\"/questions/category/change-my-ip/\">Change My IP</a></li>\\n<li class=\"list-group-item col-md-6 col-lg-4\"><a class=\"btn btn btn-outline-primary btn-md btn-block\" title=\"DVR\\'s\" role=\"button\" href=\"/questions/category/dvrs/\">DVR\\'s</a></li>\\n<p> <br />\\n<br />\\n</p>\\n<li class=\"list-group-item col-md-6 col-lg-4\"><a class=\"btn btn btn-outline-primary btn-md btn-block\" title=\"Linux Networking\" role=\"button\" href=\"/questions/category/linux-networking/\">Linux Networking</a></li>\\n<li class=\"list-group-item col-md-6 col-lg-4\"><a class=\"btn btn btn-outline-primary btn-md btn-block\" title=\"Port Forwarding\" role=\"button\" href=\"/questions/category/port-forwarding-questions/\">Port Forwarding</a></li>\\n<li class=\"list-group-item col-md-6 col-lg-4\"><a class=\"btn btn btn-outline-primary btn-md btn-block\" title=\"Routher Configuration\" role=\"button\" href=\"/questions/category/router-configuration/\">Router Configuration</a></li>\\n<li class=\"list-group-item col-md-6 col-lg-4\"><a class=\"btn btn btn-outline-primary btn-md btn-block\" title=\"Trace an Email\" role=\"button\" href=\"/questions/category/trace-an-email/\">Trace An Email</a></li>\\n<li class=\"list-group-item col-md-6 col-lg-4\"><a class=\"btn btn btn-outline-primary btn-md btn-block\" title=\"Windows Networking\" role=\"button\" href=\"/questions/category/windows-networking/\">Windows Networking</a></li>\\n</div>\\n<div></div>\\n</div>\\n</ul>\\n</div>\\n<div id=\"tools\" class=\"tab-pane fade\">\\n<ul class=\"list-group\">\\n<div class=\"container\">\\n<div class=\"row\">\\n<li class=\"list-group-item col-md-6 col-lg-4\"><a class=\"btn btn btn-outline-primary btn-md btn-block\" title=\"Internet Speed Test\" role=\"button\" href=\"/internet-speed-test/\">Internet Speed Test</a></li>\\n<p> <br />\\n<br />\\n</p>\\n<li class=\"list-group-item col-md-6 col-lg-4\"><a class=\"btn btn btn-outline-primary btn-md btn-block\" title=\"Server Headers Check\" role=\"button\" href=\"/server-headers-check/\">Server Headers Check</a></li>\\n<li class=\"list-group-item col-md-6 col-lg-4\"><a class=\"btn btn btn-outline-primary btn-md btn-block\" title=\"Email Header Analyzer\" role=\"button\" href=\"/email-header-analyzer/\">Email Header Analyzer</a></li>\\n<li class=\"list-group-item col-md-6 col-lg-4\"><a class=\"btn btn btn-outline-primary btn-md btn-block\" title=\"Blacklist Check\" role=\"button\" href=\"/blacklist-check/\">Blacklist Check</a></li>\\n<li class=\"list-group-item col-md-6 col-lg-4\"><a class=\"btn btn btn-outline-primary btn-md btn-block\" title=\"User Agent Info\" role=\"button\" href=\"/user-agent-info/\">User Agent Info</a></li>\\n<li class=\"list-group-item col-md-6 col-lg-4\"><a class=\"btn btn btn-outline-primary btn-md btn-block\" title=\"DNS Lookup\" role=\"button\" href=\"/dns-lookup/\">DNS Lookup</a></li>\\n<li class=\"list-group-item col-md-6 col-lg-4\"><a class=\"btn btn btn-outline-primary btn-md btn-block\" title=\"Reverse DNS Lookup\" role=\"button\" href=\"/reverse-dns-lookup/\">Reverse DNS Lookup</a></li>\\n<li class=\"list-group-item col-md-6 col-lg-4\"><a class=\"btn btn btn-outline-primary btn-md btn-block\" title=\"Proxy Check\" role=\"button\" href=\"/proxy-check/\">Proxy Check</a></li>\\n<li class=\"list-group-item col-md-6 col-lg-4\"><a class=\"btn btn btn-outline-primary btn-md btn-block\" title=\"Port Scanner\" role=\"button\" href=\"/port-scanner/\">Port Scanner</a></li>\\n<li class=\"list-group-item col-md-6 col-lg-4\"><a class=\"btn btn btn-outline-primary btn-md btn-block\" title=\"Password Strength Test\" role=\"button\" href=\"/password-strength-test/\">Password Strength Test</a></li>\\n</div>\\n<div></div>\\n</div>\\n</ul>\\n</div>\\n<div id=\"howto\" class=\"tab-pane fade\">\\n<ul class=\"list-group\">\\n<div class=\"container\">\\n<div class=\"row\">\\n</p>\\n<li class=\"list-group-item col-md-6 col-lg-4\"><a class=\"btn btn btn-outline-primary btn-md btn-block\" title=\"DVR / Security Cameras\" role=\"button\" href=\"/how-to/dvr-security-cameras/\">DVR / Security Cameras</a></li>\\n<li class=\"list-group-item col-md-6 col-lg-4\"><a class=\"btn btn btn-outline-primary btn-md btn-block\" title=\"Email\" role=\"button\" href=\"/how-to/email/\">Email</a></li>\\n<p> </p>\\n<li class=\"list-group-item col-md-6 col-lg-4\"><a class=\"btn btn btn-outline-primary btn-md btn-block\" title=\"Internet Security\" role=\"button\" href=\"/how-to/internet-security/\">Internet Security</a></li>\\n<li class=\"list-group-item col-md-6 col-lg-4\"><a class=\"btn btn btn-outline-primary btn-md btn-block\" title=\"IP Commands\" role=\"button\" href=\"/how-to/ip-commands/\">IP Commands</a></li>\\n<li class=\"list-group-item col-md-6 col-lg-4\"><a class=\"btn btn btn-outline-primary btn-md btn-block\" title=\"Routers\" role=\"button\" href=\"/how-to/routers/\">Routers</a></li>\\n<li class=\"list-group-item col-md-6 col-lg-4\"><a class=\"btn btn btn-outline-primary btn-md btn-block\" title=\"Malware / Virus\" role=\"button\" href=\"/how-to/malware-virus/\">Malware / Virus</a></li>\\n<li class=\"list-group-item col-md-6 col-lg-4\"><a class=\"btn btn btn-outline-primary btn-md btn-block\" title=\"Online Privacy\" role=\"button\" href=\"/how-to/personal-privacy/\">Online Privacy</a></li>\\n<li class=\"list-group-item col-md-6 col-lg-4\"><a class=\"btn btn btn-outline-primary btn-md btn-block\" title=\"Port Forwarding\" role=\"button\" href=\"/how-to/port-forwarding/\">Port Forwarding</a></li>\\n<li class=\"list-group-item col-md-6 col-lg-4\"><a class=\"btn btn btn-outline-primary btn-md btn-block\" title=\"Wireless Security\" role=\"button\" href=\"/how-to/wireless-security/\">Wireless Security</a></li>\\n</div>\\n<div></div>\\n</div>\\n</ul>\\n</div>\\n<div id=\"knowledge\" class=\"tab-pane fade\">\\n<ul class=\"list-group\">\\n<div class=\"container\">\\n<div class=\"row\">\\n<li class=\"list-group-item col-md-6 col-lg-4\"><a class=\"btn btn btn-outline-primary btn-md btn-block\" title=\"Blacklist\" role=\"button\" href=\"/resources/knowledge-base/blacklist/\">Blacklist</a></li>\\n<li class=\"list-group-item col-md-6 col-lg-4\"><a class=\"btn btn btn-outline-primary btn-md btn-block\" title=\"Definitions\" role=\"button\" href=\"/resources/knowledge-base/definitions/\">Definitions</a></li>\\n<li class=\"list-group-item col-md-6 col-lg-4\"><a class=\"btn btn btn-outline-primary btn-md btn-block\" title=\"Email General\" role=\"button\" href=\"/resources/knowledge-base/email-knowledge-base/\">Email General</a></li>\\n<li class=\"list-group-item col-md-6 col-lg-4\"><a class=\"btn btn btn-outline-primary btn-md btn-block\" title=\"Email Header\" role=\"button\" href=\"/resources/knowledge-base/email-header/\">Email Header</a></li>\\n<li class=\"list-group-item col-md-6 col-lg-4\"><a class=\"btn btn btn-outline-primary btn-md btn-block\" title=\"Internet Safety\" role=\"button\" href=\"/resources/knowledge-base/internet-safety/\">Internet Safety</a></li>\\n<p> </p>\\n<li class=\"list-group-item col-md-6 col-lg-4\"><a class=\"btn btn btn-outline-primary btn-md btn-block\" title=\"Speed Issues\" role=\"button\" href=\"/resources/knowledge-base/speed-issues/\">Speed Issues</a></li>\\n</div>\\n<div></div>\\n</div>\\n</ul>\\n</div>\\n<div id=\"resources\" class=\"tab-pane fade\">\\n<ul class=\"list-group\">\\n<div class=\"container\">\\n<div class=\"row\">\\n<li class=\"list-group-item col-md-6 col-lg-4\"><a class=\"btn btn btn-outline-primary btn-md btn-block\" title=\"ASN\" role=\"button\" href=\"/asn/\">ASN</a></li>\\n<li class=\"list-group-item col-md-6 col-lg-4\"><a class=\"btn btn btn-outline-primary btn-md btn-block\" title=\"IP Widget Script\" role=\"button\" href=\"/ip-widget-script/\">IP Widget Script</a></li>\\n<li class=\"list-group-item col-md-6 col-lg-4\"><a class=\"btn btn btn-outline-primary btn-md btn-block\" title=\"API\" role=\"button\" href=\"/api/\">API</a></li>\\n<li class=\"list-group-item col-md-6 col-lg-4\"><a class=\"btn btn btn-outline-primary btn-md btn-block\" title=\"Contributors\" role=\"button\" href=\"/contributors/\">Contributors</a></li>\\n</div>\\n<div></div>\\n</div>\\n</ul>\\n</div>\\n<div id=\"general\" class=\"tab-pane fade\">\\n<ul class=\"list-group\">\\n<div class=\"container\">\\n<div class=\"row\">\\n<li class=\"list-group-item col-md-6 col-lg-4\"><a class=\"btn btn btn-outline-primary btn-md btn-block\" title=\"ASN\" role=\"button\" href=\"/general/tips/\">Tips</a></li>\\n</div>\\n<div></div>\\n</div>\\n</ul>\\n</div>\\n</div>\\n</div>\\n<div class=\"card my-4\">\\n<div class=\"container\"><sellwild></sellwild></div>\\n<div class=\"card-body\">\\n<a name=\"recent\"></a><p class=\"h6 p-3 mb-2 bg-secondary text-white weight:normal\">Recent Articles</p>\\n<a href=\"https://www.whatismyip.com/a-seniors-guide-to-online-dating/\" class=\"card-link\"><h4 class=\"card-title\">A Senior\\'s Guide to Online Dating</h4></a>\\n<p>One of the most important relationships of life is the relationship we have with a partner. But finding someone can be difficult in the digital age. Have you found yourself wanting to try online dating, but you’re not sure how to do it? Maybe you’re not sure where to start, or perhaps you’re concerned with the risks.</p>\\n<a href=\"https://www.whatismyip.com/ip-geolocation-and-how-to-use-it/\" class=\"card-link\"><h4 class=\"card-title\">IP Geolocation and How To Use It</h4></a>\\n<p>IP address geolocation is the identification of an Internet-connected device’s geographical location and easily found with IP geolocation lookup. While this may sound complicated, it’s rather simple.</p>\\n<a href=\"https://www.whatismyip.com/avoid-charity-scams/\" class=\"card-link\"><h4 class=\"card-title\">Avoid Charity Scams and Keeping Safe</h4></a>\\n<p>Charity fraud schemes, otherwise known as charity scams, are deceptive operations that look for donations or money by claiming to support a good cause. Instead, all donations go straight to the creators of the false charity.\\n</p>\\n<a href=\"https://www.whatismyip.com/online-privacy-checkup/\" class=\"card-link\"><h4 class=\"card-title\">Online Privacy Checkup and Keeping Safe</h4></a>\\n<p>It\\'s no easy task to maintain your online privacy. It’s also hard to know how to stay in control of what you share. While there’s no way to guarantee that your information never gets out, there are many steps you can take to make sure that your accounts and information are as private as possible.</p>\\n<a href=\"https://www.whatismyip.com/what-search-engines-track-about-me/\" class=\"card-link\"><h4 class=\"card-title\">What A Search Engine Tracks About Me</h4></a>\\n<p>It’s no longer a secret that most browsers and search engines on the Internet collect usage information. Auto-correct, location-relevant results and search suggestions are just a few of the things that search engines can improve through gathered user data.</p>\\n<a href=\"https://www.whatismyip.com/shopping-online-for-seniors/\" class=\"card-link\"><h4 class=\"card-title\">Online Shopping for Seniors and the Simple Basics</h4></a>\\n<p>Shopping online is one of the best ways to conveniently get what you need without having to venture into a physical store. If you’re feeling under the weather, don’t have the time to go through your shopping list, or simply want to try a new shopping method, then online is the way to go.</p>\\n<a href=\"https://www.whatismyip.com/social-media-content-ownership-who-owns-what-you-post/\" class=\"card-link\"><h4 class=\"card-title\">Social Media Content Ownership of What You Post</h4></a>\\n<p>When you post on social media, you are not only sharing content with the Internet publicly. You’re also granting certain permissions to the platforms you post on. </p>\\n<a href=\"https://www.whatismyip.com/smartphones-for-seniors/\" class=\"card-link\"><h4 class=\"card-title\">Smartphones for Seniors and Which Are The Best</h4></a>\\n <p>Almost everyone has a cellphone in 2020. According to a Pew Research Study, 96% of Americans are cellphone users, and of that group, 1% own a smartphone.\\xa0</p>\\n<a href=\"https://www.whatismyip.com/hide-ip-address-with-three-secure-ways/\" class=\"card-link\"><h4 class=\"card-title\">Hide IP Address With Three Secure Ways</h4></a>\\n<p>This article explains why you may need to hide IP address while you are online.\\xa0 Your IP address is your online identity - it is what identifies your device or network when you use the Internet. You can think of it as your physical address. Just like a physical address, your IP address tells others how to find you, where to send messages, etc.</p>\\n<a href=\"https://www.whatismyip.com/are-proxies-safe/\" class=\"card-link\"><h4 class=\"card-title\">Are Proxies Safe and What To Know</h4></a>\\n<p>One advantage to online safety and security is the use of proxies.\\xa0 The goal for most people online is to stay secure and anonymous. One option that\\'s touted to provide security and anonymity is the use of proxy servers.\\xa0 \\xa0Proxy servers are quick and (usually) free solutions that hide your IP address while you browse the internet.</p>\\n</div>\\n</div>\\n</div>\\n<footer class=\"entry-footer\">\\n</footer>\\n</article>\\n</main>\\n</div>\\n</div>\\n</div>\\n</div>\\n<div class=\"wrapper\" id=\"wrapper-footer-full\">\\n<div class=\"container\">\\n<div class=\"row\">\\n<div class=\"col-md-12\">\\n<footer class=\"site-footer\" id=\"colophon\">\\n<p class=\"text-center\"> Copyright © 1999-2021 WhatIsMyIP.com® - <a title=\"Privacy Policy\" href=\"/privacy-policy/\">Privacy Policy</a> - <a title=\"Do Not Sell My Info\" href=\"/privacy-policy/#CCPA\">Do Not Sell My Info</a> - <a title=\"Terms & Conditions\" href=\"/terms-and-conditions-of-use/\">Terms & Conditions</a> - <a title=\"Contact Us\" href=\"/contact-us/\">Contact Us</a> - <a href=\"https://www.facebook.com/whatismyip\" title=\"WhatIsMyIP.com on Facebook\" target=\"_blank\" rel=\"noopener\"><i class=\"fa fa-facebook-square fa-2x\" aria-hidden=\"true\"></i></a> <a href=\"https://www.twitter.com/whatismyip\" title=\"WhatIsMyIP.com on Twitter\" target=\"_blank\" rel=\"noopener\"><i class=\"fa fa-twitter fa-2x\" aria-hidden=\"true\"></i></a></p>\\n<p class=\"text-center\">All trademarks and registered trademarks are the property of their respective owners.\\nGet IP Geolocation service from <a title=\"IP2Location\" href=\"https://www.ip2location.com/?rid=722\" target=\"_blank\" rel=\"noopener\">IP2Location.com</a> and <a href=\"https://ipdata.co?ref=whatismyip.com\" target=\"_blank\" rel=\"noopener\" title=\"ipdata.co\">ipdata.co</a>. Anonymous Proxy database from <a title=\"IP2Proxy\" href=\"https://www.ip2proxy.com/?rid=722\" target=\"_blank\" rel=\"noopener\">IP2Proxy</a>.</p>\\n<a title=\"What Is My IP\" href=\"https://www.whatismyip.com\">\\n<img class=\"w-25 mx-auto d-block\" title=\"WhatIsMyIP.com\" src=\"/wp-content/uploads/2018/01/WhatIsMyIP.png\" alt=\"WhatIsMyIP.com\" /></a>\\n<ul class=\"flag-menu\">\\n<li><a class=\"imagelink\" title=\"What Is My IP in English\" href=\"https://www.whatismyip.com/\"><i class=\"sprite sprite-a\"></i></a></li>\\n<li><a class=\"imagelink\" title=\"Cual Es Mi Direccion IP en Español\" href=\"https://www.whatismyip.com/es/\"><i class=\"sprite sprite-b\"></i></a></li>\\n<li><a class=\"imagelink\" title=\"Che cosa è il mio ip in Italiano\" href=\"https://www.whatismyip.com/it/\"><i class=\"sprite sprite-c\"></i></a></li>\\n<li><a class=\"imagelink\" title=\"Quel est mon IP en français\" href=\"https://www.whatismyip.com/fr/\"><i class=\"sprite sprite-d\"></i></a></li>\\n<li><a class=\"imagelink\" title=\"Wie Ist Meine IP in Deutsch\" href=\"https://www.whatismyip.com/de/\"><i class=\"sprite sprite-e\"></i></a></li>\\n</ul>\\n</footer>\\n</div>\\n</div>\\n</div>\\n</div>\\n</div>\\n<script data-handle=\"understrap-scripts\" type=\\'text/javascript\\' src=\\'https://www.whatismyip.com/wp-content/themes/understrap/js/theme.min.js?ver=1.0.0.1616806472\\' id=\\'understrap-scripts-js\\'></script>\\n<script>\\n/* <![CDATA[ */\\nai_front = {\"insertion_before\":\"BEFORE\",\"insertion_after\":\"AFTER\",\"insertion_prepend\":\"PREPEND CONTENT\",\"insertion_append\":\"APPEND CONTENT\",\"insertion_replace_content\":\"REPLACE CONTENT\",\"insertion_replace_element\":\"REPLACE ELEMENT\",\"visible\":\"VISIBLE\",\"hidden\":\"HIDDEN\",\"fallback\":\"FALLBACK\",\"automatically_placed\":\"Automatically placed by AdSense Auto ads code\",\"cancel\":\"Cancel\",\"use\":\"Use\",\"add\":\"Add\",\"parent\":\"Parent\",\"cancel_element_selection\":\"Cancel element selection\",\"select_parent_element\":\"Select parent element\",\"css_selector\":\"CSS selector\",\"use_current_selector\":\"Use current selector\",\"element\":\"ELEMENT\",\"path\":\"PATH\",\"selector\":\"SELECTOR\"};\\n/* ]]> */\\nfunction b2a(a){var b,c=0,l=0,f=\"\",g=[];if(!a)return a;do{var e=a.charCodeAt(c++);var h=a.charCodeAt(c++);var k=a.charCodeAt(c++);var d=e<<16|h<<8|k;e=63&d>>18;h=63&d>>12;k=63&d>>6;d&=63;g[l++]=\"ABCDEFGHIJKLMNOPQRSTUVWXYZabcdefghijklmnopqrstuvwxyz0123456789+/=\".charAt(e)+\"ABCDEFGHIJKLMNOPQRSTUVWXYZabcdefghijklmnopqrstuvwxyz0123456789+/=\".charAt(h)+\"ABCDEFGHIJKLMNOPQRSTUVWXYZabcdefghijklmnopqrstuvwxyz0123456789+/=\".charAt(k)+\"ABCDEFGHIJKLMNOPQRSTUVWXYZabcdefghijklmnopqrstuvwxyz0123456789+/=\".charAt(d)}while(c<\\na.length);return f=g.join(\"\"),b=a.length%3,(b?f.slice(0,b-3):f)+\"===\".slice(b||3)}function a2b(a){var b,c,l,f={},g=0,e=0,h=\"\",k=String.fromCharCode,d=a.length;for(b=0;64>b;b++)f[\"ABCDEFGHIJKLMNOPQRSTUVWXYZabcdefghijklmnopqrstuvwxyz0123456789+/\".charAt(b)]=b;for(c=0;d>c;c++)for(b=f[a.charAt(c)],g=(g<<6)+b,e+=6;8<=e;)((l=255&g>>>(e-=8))||d-2>c)&&(h+=k(l));return h}b64e=function(a){return btoa(encodeURIComponent(a).replace(/%([0-9A-F]{2})/g,function(b,a){return String.fromCharCode(\"0x\"+a)}))};\\nb64d=function(a){return decodeURIComponent(atob(a).split(\"\").map(function(a){return\"%\"+(\"00\"+a.charCodeAt(0).toString(16)).slice(-2)}).join(\"\"))};\\nai_insert=function(a,c,h){var d=-1!=c.indexOf(\":eq\")?jQuery(c):document.querySelectorAll(c);Array.prototype.forEach.call(d,function(b,d){selector_string=b.hasAttribute(\"id\")?\"#\"+b.getAttribute(\"id\"):b.hasAttribute(\"class\")?\".\"+b.getAttribute(\"class\").replace(RegExp(\" \",\"g\"),\".\"):\"\";var e=document.createElement(\"div\");e.innerHTML=h;var f=e.getElementsByClassName(\"ai-selector-counter\")[0];null!=f&&(f.innerText=d+1);f=e.getElementsByClassName(\"ai-debug-name ai-main\")[0];if(null!=f){var k=\"\";\"before\"==\\na?k=ai_front.insertion_before:\"after\"==a?k=ai_front.insertion_after:\"prepend\"==a?k=ai_front.insertion_prepend:\"append\"==a?k=ai_front.insertion_append:\"replace-content\"==a?k=ai_front.insertion_replace_content:\"replace-element\"==a&&(k=ai_front.insertion_replace_element);-1==selector_string.indexOf(\".ai-viewports\")&&(f.innerText=k+\" \"+c+\" (\"+b.tagName.toLowerCase()+selector_string+\")\")}f=document.createRange().createContextualFragment(e.innerHTML);\"before\"==a?b.parentNode.insertBefore(f,b):\"after\"==\\na?b.parentNode.insertBefore(f,b.nextSibling):\"prepend\"==a?b.insertBefore(f,b.firstChild):\"append\"==a?b.insertBefore(f,null):\"replace-content\"==a?b.innerHTML=e.innerHTML:\"replace-element\"==a&&(b.parentNode.insertBefore(f,b),b.parentNode.removeChild(b))})};\\nai_insert_code=function(a){function c(a,b){return null==a?!1:a.classList?a.classList.contains(b):-1<(\" \"+a.className+\" \").indexOf(\" \"+b+\" \")}function h(a,b){null!=a&&(a.classList?a.classList.add(b):a.className+=\" \"+b)}function d(a,b){null!=a&&(a.classList?a.classList.remove(b):a.className=a.className.replace(new RegExp(\"(^|\\\\\\\\b)\"+b.split(\" \").join(\"|\")+\"(\\\\\\\\b|$)\",\"gi\"),\" \"))}if(\"undefined\"!=typeof a){var b=!1,g=c(a,\"no-visibility-check\")?!0:!!(a.offsetWidth||a.offsetHeight||a.getClientRects().length);\\na.getAttribute(\"data-block\");if(g){b=a.getAttribute(\"data-code\");g=a.getAttribute(\"data-insertion\");var e=a.getAttribute(\"data-selector\");if(null!=b)if(null!=g&&null!=e){if(-1!=e.indexOf(\":eq\")?jQuery(e).length:document.querySelectorAll(e).length)ai_insert(g,e,b64d(b)),d(a,\"ai-viewports\")}else b=document.createRange().createContextualFragment(b64d(b)),a.parentNode.insertBefore(b,a.nextSibling),d(a,\"ai-viewports\");b=!0;a=a.getElementsByClassName(\"ai-check-block\");\"undefined\"!=typeof a[0]&&a[0].parentNode.removeChild(a[0])}else g=\\na.previousElementSibling,c(g,\"ai-debug-bar\")&&c(g,\"ai-debug-script\")&&(d(g,\"ai-debug-script\"),h(g,\"ai-debug-viewport-invisible\")),d(a,\"ai-viewports\");return b}};\\nai_insert_list_code=function(a){var c=document.getElementsByClassName(a)[0];if(\"undefined\"!=typeof c){var h=ai_insert_code(c),d=c.closest(\"div.code-block\");d&&(h||d.removeAttribute(\"data-ai\"),d.classList.remove(\"ai-list-block\"),d.style.visibility=\"\",d.classList.contains(\"ai-remove-position\")&&(d.style.position=\"\"));c.classList.remove(a);h&&ai_process_elements()}};\\nai_insert_viewport_code=function(a){var c=document.getElementsByClassName(a)[0];\"undefined\"!=typeof c&&(ai_insert_code(c),c.classList.remove(a),ai_process_elements())};ai_insert_code_by_class=function(a){var c=document.getElementsByClassName(a)[0];\"undefined\"!=typeof c&&(ai_insert_code(c),c.classList.remove(a))};ai_process_elements_active=!1;\\nfunction ai_process_elements(){ai_process_elements_active||setTimeout(function(){ai_process_elements_active=!1;\"function\"==typeof ai_process_rotations&&ai_process_rotations();\"function\"==typeof ai_process_lists&&ai_process_lists(jQuery(\"div.ai-list-data\"));\"function\"==typeof ai_process_ip_addresses&&ai_process_ip_addresses(jQuery(\"div.ai-ip-data\"))},5);ai_process_elements_active=!0}\\nfunction b64e(a){return btoa(encodeURIComponent(a).replace(/%([0-9A-F]{2})/g,function(a,h){return String.fromCharCode(\"0x\"+h)}))}function b64d(a){return decodeURIComponent(atob(a).split(\"\").map(function(a){return\"%\"+(\"00\"+a.charCodeAt(0).toString(16)).slice(-2)}).join(\"\"))};\\njQuery(function(a){function f(a){a=a.match(b);return null!=a&&1<a.length&&\"string\"===typeof a[1]&&0<a[1].length?a[1].toLowerCase():null}function q(a){try{var d=Date.parse(a);isNaN(d)&&(d=null)}catch(n){d=null}return d}Array.prototype.includes||(Array.prototype.includes=function(a){return!!~this.indexOf(a)});var b=/:\\\\/\\\\/(.[^/:]+)/i;ai_process_lists=function(b){b=null==b?a(\"div.ai-list-data\"):b.filter(\".ai-list-data\");if(b.length){b.removeClass(\"ai-list-data\");var d=document.cookie.split(\";\");d.forEach(function(a,\\nc){d[c]=a.trim()});var n=getAllUrlParams(window.location.search);if(null!=n.referrer)var l=n.referrer;else l=document.referrer,\"\"!=l&&(l=f(l));if(\"undefined\"!==typeof MobileDetect)var p=new MobileDetect(window.navigator.userAgent);b.each(function(){var b=a(this).closest(\"div.code-block\"),c=!0,h=a(this).attr(\"referer-list\");if(\"undefined\"!=typeof h){h=b64d(h).split(\",\");var g=a(this).attr(\"referer-list-type\"),e=!1;a.each(h,function(a,b){if(\"\"==b)return!0;if(\"*\"==b.charAt(0))if(\"*\"==\\nb.charAt(b.length-1)){if(b=b.substr(1,b.length-2),-1!=l.indexOf(b))return e=!0,!1}else{if(b=b.substr(1),l.substr(-b.length)==b)return e=!0,!1}else if(\"*\"==b.charAt(b.length-1)){if(b=b.substr(0,b.length-1),0==l.indexOf(b))return e=!0,!1}else if(\"#\"==b){if(\"\"==l)return e=!0,!1}else if(b==l)return e=!0,!1});switch(g){case \"B\":e&&(c=!1);break;case \"W\":e||(c=!1)}}h=a(this).attr(\"client-list\");if(\"undefined\"!=typeof h&&\"undefined\"!==typeof p)switch(h=b64d(h).split(\",\"),g=a(this).attr(\"client-list-type\"),\\ne=!1,a.each(h,function(a,b){if(\"\"==b)return!0;if(p.is(b))return e=!0,!1}),g){case \"B\":e&&(c=!1);break;case \"W\":e||(c=!1)}h=!1;if(c&&(g=a(this).attr(\"parameter-list\"),\"undefined\"!=typeof g)){g=b64d(g).split(\",\");var m=a(this).attr(\"parameter-list-type\");e=!1;a.each(g,function(a,b){if(-1!=b.indexOf(\"=\")){if(-1!=d.indexOf(b))return e=!0,!1}else d.forEach(function(a){a=a.split(\"=\");if(b==a[0])return e=!0,!1})});switch(m){case \"B\":e&&(c=!1);break;case \"W\":e||(c=!1)}!c&&a(this).hasClass(\"ai-list-manual\")?\\n(h=!0,a(this).addClass(\"ai-list-data\")):a(this).removeClass(\"ai-list-manual\")}var k=a(this).prevAll(\".ai-debug-bar.ai-debug-lists\");g=\"\"==l?\"#\":l;k.find(\".ai-debug-name.ai-list-info\").text(g).attr(\"title\",window.navigator.userAgent);k.find(\".ai-debug-name.ai-list-status\").text(c?ai_front.visible:ai_front.hidden);g=!1;if(c){var f=a(this).attr(\"scheduling-start\");k=a(this).attr(\"scheduling-end\");var r=a(this).attr(\"scheduling-days\");if(\"undefined\"!=typeof f&&\"undefined\"!=typeof k&&\"undefined\"!=typeof r){g=\\n!0;var n=parseInt(a(this).attr(\"scheduling-fallback\"));m=parseInt(a(this).attr(\"gmt\"));var t=q(b64d(f))+m;k=q(b64d(k))+m;f=b64d(r).split(\",\");r=a(this).attr(\"scheduling-type\");var u=(new Date).getTime()+m,v=new Date(u);m=v.getDay();0==m?m=6:m--;t=u>=t&&u<k&&f.includes(m.toString());switch(r){case \"B\":t=!t}t||(c=!1);r=v.toISOString().split(\".\")[0].replace(\"T\",\" \");k=a(this).prevAll(\".ai-debug-bar.ai-debug-scheduling\");k.find(\".ai-debug-name.ai-scheduling-info\").text(r+\" \"+m);k.find(\".ai-debug-name.ai-scheduling-status\").text(c?\\nai_front.visible:ai_front.hidden);c||0==n||(k.removeClass(\"ai-debug-scheduling\").addClass(\"ai-debug-fallback\"),k.find(\".ai-debug-name.ai-scheduling-status\").text(ai_front.fallback+\"=\"+n))}}h||(a(this).css({visibility:\"\",position:\"\",width:\"\",height:\"\",\"z-index\":\"\"}),c?(b.css({visibility:\"\"}),b.hasClass(\"ai-remove-position\")&&b.css({position:\"\"}),\"undefined\"!=typeof a(this).data(\"code\")&&(c=b64d(a(this).data(\"code\")),a(this).append(c),ai_process_element(this))):g&&!t&&0!=n?(b.css({visibility:\"\"}),b.hasClass(\"ai-remove-position\")&&\\nb.css({position:\"\"}),a(this).next(\".ai-fallback\").removeClass(\"ai-fallback\"),\"undefined\"!=typeof a(this).data(\"fallback-code\")?(c=b64d(a(this).data(\"fallback-code\")),a(this).append(c),ai_process_element(this)):a(this).hide(),c=b.attr(\"data-ai\"),\"undefined\"!==typeof c&&!1!==c&&(c=a(this).attr(\"fallback-tracking\"),\"undefined\"!==typeof c&&!1!==c&&b.attr(\"data-ai\",c))):(a(this).hide(),b.removeAttr(\"data-ai\").removeClass(\"ai-track\"),b.find(\".ai-debug-block\").length?(b.css({visibility:\"\"}).removeClass(\"ai-close\"),\\nb.hasClass(\"ai-remove-position\")&&b.css({position:\"\"})):b.hide()),a(this).attr(\"data-code\",\"\"),a(this).attr(\"data-fallback-code\",\"\"),b.removeClass(\"ai-list-block\"))})}};a(document).ready(function(a){setTimeout(function(){ai_process_lists()},5)})});\\nfunction ai_process_element(a){setTimeout(function(){\"function\"==typeof ai_process_rotations_in_element&&ai_process_rotations_in_element(a);\"function\"==typeof ai_process_lists&&ai_process_lists(jQuery(\"div.ai-list-data\",a));\"function\"==typeof ai_process_ip_addresses&&ai_process_ip_addresses(jQuery(\"div.ai-ip-data\",a))},5)}\\nfunction getAllUrlParams(a){var f=a?a.split(\"?\")[1]:window.location.search.slice(1);a={};if(f){f=f.split(\"#\")[0];f=f.split(\"&\");for(var q=0;q<f.length;q++){var b=f[q].split(\"=\"),p=void 0,d=b[0].replace(/\\\\[\\\\d*\\\\]/,function(a){p=a.slice(1,-1);return\"\"});b=\"undefined\"===typeof b[1]?\"\":b[1];d=d.toLowerCase();b=b.toLowerCase();a[d]?(\"string\"===typeof a[d]&&(a[d]=[a[d]]),\"undefined\"===typeof p?a[d].push(b):a[d][p]=b):a[d]=b}}return a};\\njQuery(function(b){function m(b,c){c||(c=window.location.href);b=b.replace(/[\\\\[\\\\]]/g,\"\\\\\\\\$&\");var a=(new RegExp(\"[?&]\"+b+\"(=([^&#]*)|&|#|$)\")).exec(c);return a?a[2]?decodeURIComponent(a[2].replace(/\\\\+/g,\" \")):\"\":null}function n(d){d.removeClass(\"ai-ip-data\");var c=!1;if(\"\"!=ai_ip_data){try{var a=JSON.parse(ai_ip_data),h=a[0],p=a[1],g=a[2],k=a[3]}catch(q){return}var l=h+\", \"+p;null!=g&&null!=k&&(l=l+\":\"+g+\":\"+k);null==g&&(g=\"\");null==k&&(k=\"\");null!=a&&d.each(function(){var a=b(this).closest(\"div.code-block\");\\nc=!0;var e=b(this).attr(\"ip-addresses\");if(\"undefined\"!=typeof e){e=e.split(\",\");var d=b(this).attr(\"ip-address-list\"),f=!1;b.each(e,function(b,a){if(\"*\"==a.charAt(0))if(\"*\"==a.charAt(a.length-1)){if(a=a.substr(1,a.length-2),-1!=h.indexOf(a))return f=!0,!1}else{if(a=a.substr(1),h.substr(-a.length)==a)return f=!0,!1}else if(\"*\"==a.charAt(a.length-1)){if(a=a.substr(0,a.length-1),0==h.indexOf(a))return f=!0,!1}else if(\"#\"==a){if(\"\"==h)return f=!0,!1}else if(a==h)return f=!0,!1});switch(d){case \"B\":f&&\\n(c=!1);break;case \"W\":f||(c=!1)}}if(c&&(e=b(this).attr(\"countries\"),\"undefined\"!=typeof e))switch(e=e.split(\",\"),d=b(this).attr(\"country-list\"),f=!1,b.each(e,function(a,b){var c=b.trim().split(\":\");if(null==c[1]||\"\"==g)c[1]=\"\";if(null==c[2]||\"\"==k)c[2]=\"\";var d=c.join(\":\").toUpperCase();c=(p+\":\"+(\"\"==c[1]?\"\":g)+\":\"+(\"\"==c[2]?\"\":k)).toUpperCase();if(d==c)return f=!0,!1}),d){case \"B\":f&&(c=!1);break;case \"W\":f||(c=!1)}b(this).css({visibility:\"\",position:\"\",width:\"\",height:\"\",\"z-index\":\"\"});e=b(this).prev(\".ai-debug-bar\");\\ne.find(\".ai-debug-name.ai-ip-country\").text(l);e.find(\".ai-debug-name.ai-ip-status\").text(c?ai_front.visible:ai_front.hidden);c?(a.css({visibility:\"\"}),a.hasClass(\"ai-remove-position\")&&a.css({position:\"\"}),\"undefined\"!=typeof b(this).data(\"code\")&&(e=b64d(b(this).data(\"code\")),b(this).append(e),b(this).attr(\"data-code\",\"\"),ai_process_element(this))):(b(this).hide(),a.removeAttr(\"data-ai\"),a.find(\".ai-debug-block\")?(a.css({visibility:\"\"}).removeClass(\"ai-close\"),a.hasClass(\"ai-remove-position\")&&\\na.css({position:\"\"})):a.hide());a.removeClass(\"ai-list-block\")})}}ai_process_ip_addresses=function(d){d=null==d?b(\"div.ai-ip-data\"):d.filter(\".ai-ip-data\");if(d.length)if(d.removeClass(\"ai-ip-data\"),\"undefined\"!=typeof ai_ip_data)n(d);else{var c=\"/wp-admin/admin-ajax.php?action=ai_ajax&ip-data=ip-address-country-city&ai_check=f8d97edf23&ver=\"+((new Date).getTime()+\"-\"+Math.round(1E5*Math.random())),a=m(\"ai-debug-ip-address\");null!=a&&(c+=\"&ai-debug-ip-address=\"+a);a=m(\"ai-debug-country\");\\nnull!=a&&(c+=\"&ai-debug-country=\"+a);b.get(c,function(a){ai_ip_data=a;if(\"\"==a){var b=\"Ajax request returned empty data, geo-targeting disabled\";console.error(b);\"undefined\"!=typeof ai_js_errors&&ai_js_errors.push([b,c,0])}else try{JSON.parse(a)}catch(g){b=\"Ajax call returned invalid data, geo-targeting disabled\",console.error(b,a),\"undefined\"!=typeof ai_js_errors&&ai_js_errors.push([b,c,0])}n(d)}).fail(function(a,c,d){b(\"div.ai-ip-data\").each(function(){b(this).css({display:\"none\",visibility:\"\",\\nposition:\"\",width:\"\",height:\"\",\"z-index\":\"\"}).removeClass(\"ai-ip-data\").hide()})})}};b(document).ready(function(b){setTimeout(function(){ai_process_ip_addresses()},5)})});function ai_process_element(b){setTimeout(function(){\"function\"==typeof ai_process_rotations_in_element&&ai_process_rotations_in_element(b);\"function\"==typeof ai_process_lists&&ai_process_lists(jQuery(\"div.ai-list-data\",b));\"function\"==typeof ai_process_ip_addresses&&ai_process_ip_addresses(jQuery(\"div.ai-ip-data\",b))},5)};\\n\\n</script>\\n</body>\\n</html>\\n<script>\\njQuery(function () {\\n  jQuery(\\'[data-toggle=\"tooltip\"]\\').tooltip();\\n});\\n</script>\\n\\n'"
      ]
     },
     "execution_count": 22,
     "metadata": {},
     "output_type": "execute_result"
    }
   ],
   "source": [
    "rtext"
   ]
  },
  {
   "cell_type": "markdown",
   "metadata": {},
   "source": [
    "# test"
   ]
  },
  {
   "cell_type": "code",
   "execution_count": null,
   "metadata": {},
   "outputs": [],
   "source": [
    "import aiohttp\n",
    "headers = {\n",
    "    'User-Agent': 'Mozilla/5.0 (Windows NT 10.0; Win64; x64) AppleWebKit/537.36 (KHTML, like Gecko) Chrome/84.0.4147.135 Safari/537.36',\n",
    "}\n",
    "a = 'https://www.books.com.tw/products/0010810240?sloc=main'\n",
    "p = 'http://124.244.22.9:8080'\n",
    "async with aiohttp.ClientSession(connector=aiohttp.TCPConnector(ssl=True)) as session:\n",
    "    async with session.get(a, headers=headers, proxy=p) as r:\n",
    "        status_code = r.status\n",
    "        rtext = await r.text()\n",
    "        print(status_code)"
   ]
  },
  {
   "cell_type": "code",
   "execution_count": null,
   "metadata": {},
   "outputs": [],
   "source": [
    "[1, 2, 3, 4, 5, 6][3:]"
   ]
  },
  {
   "cell_type": "code",
   "execution_count": null,
   "metadata": {},
   "outputs": [],
   "source": [
    "class A(Sequence):\n",
    "    pass"
   ]
  },
  {
   "cell_type": "code",
   "execution_count": null,
   "metadata": {},
   "outputs": [],
   "source": [
    "A()"
   ]
  },
  {
   "cell_type": "code",
   "execution_count": null,
   "metadata": {},
   "outputs": [],
   "source": [
    "import random\n",
    "list = ({1: 2}, {2: 3})\n",
    "random.shuffle(list)"
   ]
  },
  {
   "cell_type": "code",
   "execution_count": null,
   "metadata": {},
   "outputs": [],
   "source": [
    "list"
   ]
  },
  {
   "cell_type": "code",
   "execution_count": null,
   "metadata": {},
   "outputs": [],
   "source": [
    "import pandas as pd"
   ]
  },
  {
   "cell_type": "code",
   "execution_count": null,
   "metadata": {},
   "outputs": [],
   "source": [
    "tmp = [{'a': \"1\", 'b': 2}, {'a': 1, 'b': 3}, {}]\n",
    "pd.DataFrame(tmp).values.tolist()"
   ]
  },
  {
   "cell_type": "code",
   "execution_count": null,
   "metadata": {},
   "outputs": [],
   "source": [
    "[d for d in tmp if d]"
   ]
  },
  {
   "cell_type": "code",
   "execution_count": null,
   "metadata": {},
   "outputs": [],
   "source": [
    "sum([1, True, None])"
   ]
  },
  {
   "cell_type": "code",
   "execution_count": null,
   "metadata": {},
   "outputs": [],
   "source": [
    "import asyncio\n",
    "t = []\n",
    "#\n",
    "async def A():\n",
    "    await asyncio.sleep(1)\n",
    "    t.append(1)\n",
    "async def B():\n",
    "    await asyncio.sleep(4)\n",
    "    t.append(2)"
   ]
  },
  {
   "cell_type": "code",
   "execution_count": null,
   "metadata": {},
   "outputs": [],
   "source": [
    "t"
   ]
  },
  {
   "cell_type": "code",
   "execution_count": null,
   "metadata": {},
   "outputs": [],
   "source": [
    "tasks = [asyncio.create_task(t()) for t in [A, B]]\n",
    "await asyncio.wait(tasks)"
   ]
  },
  {
   "cell_type": "code",
   "execution_count": null,
   "metadata": {},
   "outputs": [],
   "source": [
    "t"
   ]
  },
  {
   "cell_type": "code",
   "execution_count": null,
   "metadata": {},
   "outputs": [],
   "source": [
    "for a, b in [[1, 2]]:\n",
    "    print(a, b)"
   ]
  },
  {
   "cell_type": "code",
   "execution_count": null,
   "metadata": {},
   "outputs": [],
   "source": [
    "a = input()"
   ]
  },
  {
   "cell_type": "code",
   "execution_count": null,
   "metadata": {},
   "outputs": [],
   "source": [
    "[int(n) for n in list(a)]"
   ]
  },
  {
   "cell_type": "code",
   "execution_count": null,
   "metadata": {},
   "outputs": [],
   "source": [
    "import random"
   ]
  },
  {
   "cell_type": "code",
   "execution_count": null,
   "metadata": {},
   "outputs": [],
   "source": [
    "random.sample([1, 2, 3], 2)"
   ]
  },
  {
   "cell_type": "code",
   "execution_count": null,
   "metadata": {},
   "outputs": [],
   "source": [
    "a = [{1: 2}, {2: 3}, {}]\n",
    "random.shuffle(a)\n",
    "a"
   ]
  },
  {
   "cell_type": "code",
   "execution_count": null,
   "metadata": {},
   "outputs": [],
   "source": [
    "f'{19.12545:.2}'"
   ]
  },
  {
   "cell_type": "code",
   "execution_count": null,
   "metadata": {},
   "outputs": [],
   "source": []
  }
 ],
 "metadata": {
  "kernelspec": {
   "display_name": "Python 3",
   "language": "python",
   "name": "python3"
  },
  "language_info": {
   "codemirror_mode": {
    "name": "ipython",
    "version": 3
   },
   "file_extension": ".py",
   "mimetype": "text/x-python",
   "name": "python",
   "nbconvert_exporter": "python",
   "pygments_lexer": "ipython3",
   "version": "3.9.2"
  },
  "toc-autonumbering": true
 },
 "nbformat": 4,
 "nbformat_minor": 4
}
