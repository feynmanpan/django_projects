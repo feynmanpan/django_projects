{
 "cells": [
  {
   "cell_type": "code",
   "execution_count": null,
   "metadata": {},
   "outputs": [],
   "source": [
    "import sys\n",
    "import os\n",
    "# sys.path.append(top) 把392頂層目錄加到最前面 '/home/pan/django_projects/fast_api_392'\n",
    "top = os.path.dirname(os.path.dirname(os.getcwd()))\n",
    "sys.path.insert(0, top)\n",
    "sys.path"
   ]
  },
  {
   "cell_type": "code",
   "execution_count": null,
   "metadata": {},
   "outputs": [],
   "source": [
    "from config import maintenance_html\n",
    "from apps.ips.config import get_freeproxy_delta\n",
    "import apps.ips.config as ipscfg\n",
    "#\n",
    "print(maintenance_html, get_freeproxy_delta, ipscfg.url_free_us)"
   ]
  },
  {
   "cell_type": "markdown",
   "metadata": {},
   "source": [
    "# get_freeproxy"
   ]
  },
  {
   "cell_type": "code",
   "execution_count": null,
   "metadata": {},
   "outputs": [],
   "source": [
    "# %%writefile tasks.py\n",
    "# -*- coding: utf-8 -*-\n",
    "import asyncio\n",
    "import requests\n",
    "import aiohttp\n",
    "from pyquery import PyQuery as pq\n",
    "import pandas as pd\n",
    "import os\n",
    "import sys\n",
    "from datetime import datetime\n",
    "import itertools\n",
    "#\n",
    "from fastapi import Request\n",
    "# 為了在jupyter中試，從apps開始import\n",
    "import apps.ips.config as ips_cfg\n",
    "from apps.ips.config import url_free, cacert, ips_csv_path, ips_html_path, dtype, dt_format, ipcols\n",
    "from apps.ips.utils import aio_get, write_file, csv_update\n",
    "###############################################################################\n",
    "# 2021/03/24\n",
    "# To Do: 檢查ip有效性，aiohttp使用proxy\n",
    "###############################################################################\n",
    "\n",
    "async def get_freeproxy(t, once=True):\n",
    "    get_freeproxy_cnt = 0\n",
    "    while 1:\n",
    "        T = (ips_cfg.ips_cycle and os.path.isfile(ips_csv_path))*t  # 沒有 csv 或 ips_cycle 就馬上爬\n",
    "        await asyncio.sleep(T)\n",
    "        #\n",
    "        async with aiohttp.ClientSession(connector=aiohttp.TCPConnector(verify_ssl=cacert)) as session:\n",
    "            status_code, rtext = await aio_get(session, url_free)\n",
    "            if status_code == 200 and rtext not in ['', None]:\n",
    "                doc = pq(rtext, parser='html')\n",
    "                trs = doc.find('table.table').eq(0).find('tr')\n",
    "                if trs.size():\n",
    "                    now = datetime.today().strftime(dt_format)\n",
    "                    elite = []\n",
    "                    for tr in trs:\n",
    "                        tds = pq(tr).find('td')\n",
    "                        level = tds.eq(4).text().strip()\n",
    "                        https = tds.eq(6).text().strip()\n",
    "                        if level != 'elite proxy' or https != 'yes':\n",
    "                            continue\n",
    "                        tmp = {\n",
    "                            'ip': tds.eq(0).text().strip(),\n",
    "                            'port': tds.eq(1).text().strip(),\n",
    "                            'level': level,\n",
    "                            'https': https,\n",
    "                            'now': now,\n",
    "                        }\n",
    "                        elite.append(tmp)\n",
    "                    # 1 儲存每次撈取的原始頁面\n",
    "                    write_file(ips_html_path, rtext)\n",
    "                    # 2 重存csv: 讀取csv檔案，與最新爬的比較\n",
    "                    if os.path.isfile(ips_csv_path):\n",
    "                        df1 = pd.read_csv(ips_csv_path, dtype=dtype)\n",
    "                        df2 = pd.DataFrame(elite).astype(dtype)\n",
    "                        df3 = csv_update(df1, df2)\n",
    "                    else:\n",
    "                        df3 = pd.DataFrame(elite).astype(dtype)\n",
    "                    df3 = df3.sample(frac=1)  # 亂排\n",
    "                    df3.to_csv(ips_csv_path, index=False)\n",
    "                    # 3 更新ips_cycle產生器\n",
    "                    ips_cfg.ips_cycle = itertools.cycle(df3[ipcols].values.tolist())\n",
    "                    #\n",
    "                    get_freeproxy_cnt += 1\n",
    "                    print(f'get_freeproxy 第{get_freeproxy_cnt}次更新成功:{now}')\n",
    "                else:\n",
    "                    pass\n",
    "        if once:\n",
    "            break\n",
    "\n",
    "#\n",
    "if __name__ == '__main__':\n",
    "    try:\n",
    "        tmp = 'zmqshell' in str(type(get_ipython()))  # 在jupyter\n",
    "        print(tmp, '在jupyter')\n",
    "    except Exception:\n",
    "        loop = asyncio.get_event_loop()\n",
    "        task = loop.create_task(get_freeproxy(1))\n",
    "        loop.run_until_complete(task)\n",
    "else:\n",
    "    if 0:\n",
    "        asyncio.create_task(get_freeproxy(3, False))"
   ]
  },
  {
   "cell_type": "code",
   "execution_count": null,
   "metadata": {
    "tags": []
   },
   "outputs": [],
   "source": [
    "await get_freeproxy(1)"
   ]
  },
  {
   "cell_type": "markdown",
   "metadata": {},
   "source": [
    "# ips_check"
   ]
  },
  {
   "cell_type": "code",
   "execution_count": null,
   "metadata": {},
   "outputs": [],
   "source": [
    "import requests\n",
    "import aiohttp\n",
    "import asyncio\n",
    "from pyquery import PyQuery as pq\n",
    "import re\n",
    "from time import time"
   ]
  },
  {
   "cell_type": "code",
   "execution_count": null,
   "metadata": {},
   "outputs": [],
   "source": [
    "cacert = True\n",
    "url_check1 = \"http://210.240.175.62/NTIIS/IP_test.asp\"\n",
    "url_check2 = \"https://www.whatismyip.com.tw/tw/\"\n",
    "url_check3 = 'http://httpbin.org/get'\n",
    "headers = {\n",
    "    'User-Agent': 'Mozilla/5.0 (Windows NT 10.0; Win64; x64) AppleWebKit/537.36 (KHTML, like Gecko) Chrome/84.0.4147.135 Safari/537.36',\n",
    "}"
   ]
  },
  {
   "cell_type": "code",
   "execution_count": null,
   "metadata": {},
   "outputs": [],
   "source": [
    "t = 10\n",
    "isGood = False\n",
    "ippt = '161.202.226.194:80'\n",
    "proxy = f\"http://{ippt}\"  # aiohttp只支援http的proxy\n",
    "rtext = ''\n",
    "stime = time()\n",
    "try:\n",
    "    timeout = aiohttp.ClientTimeout(total=t)\n",
    "    async with aiohttp.ClientSession(connector=aiohttp.TCPConnector(ssl=cacert), timeout=timeout) as session:\n",
    "        async with session.get(url_check2, headers=headers, proxy=proxy) as r:\n",
    "            status_code = r.status\n",
    "#             rtext = await r.text(encoding='utf8')\n",
    "            rtext = await r.text()\n",
    "except Exception as err:\n",
    "    print('err=', err)\n",
    "else:\n",
    "    if (status_code == 200) and re.search(ippt.split(\":\")[0], rtext):\n",
    "        isGood = True\n",
    "    else:\n",
    "        print('status_code=', status_code, rtext)\n",
    "finally:\n",
    "    print('isGood=', isGood, time()-stime)"
   ]
  },
  {
   "cell_type": "code",
   "execution_count": null,
   "metadata": {},
   "outputs": [],
   "source": [
    "rtext\n",
    "aiohttp.__version__"
   ]
  },
  {
   "cell_type": "markdown",
   "metadata": {},
   "source": [
    "# test"
   ]
  },
  {
   "cell_type": "code",
   "execution_count": 15,
   "metadata": {},
   "outputs": [
    {
     "name": "stdout",
     "output_type": "stream",
     "text": [
      "200\n"
     ]
    }
   ],
   "source": [
    "import aiohttp\n",
    "headers = {\n",
    "    'User-Agent': 'Mozilla/5.0 (Windows NT 10.0; Win64; x64) AppleWebKit/537.36 (KHTML, like Gecko) Chrome/84.0.4147.135 Safari/537.36',\n",
    "}\n",
    "a = 'https://www.books.com.tw/products/0010810240?sloc=main'\n",
    "p = 'http://13.212.32.171:80'\n",
    "async with aiohttp.ClientSession(connector=aiohttp.TCPConnector(ssl=True)) as session:\n",
    "    async with session.get(a, headers=headers, proxy=p) as r:\n",
    "        status_code = r.status\n",
    "        rtext = await r.text()\n",
    "        print(status_code)"
   ]
  },
  {
   "cell_type": "code",
   "execution_count": 16,
   "metadata": {},
   "outputs": [
    {
     "data": {
      "text/plain": [
       "'<!DOCTYPE HTML PUBLIC \"-//W3C//DTD HTML 4.01//EN\" \"http://www.w3.org/TR/html4/strict.dtd\">\\n<html>\\n<head>\\n<meta http-equiv=\"content-type\" content=\"text/html; charset=utf-8\">\\n<meta http-equiv=\"Content-Language\" content=\"zh-tw\">\\n<title>博客來-貓頭鷹在黃昏飛翔 川上未映子V.S村上春樹訪談集</title>\\n<meta name=\"keywords\" content=\"貓頭鷹在黃昏飛翔 川上未映子V.S村上春樹訪談集\">\\n<meta name=\"description\" content=\"書名：貓頭鷹在黃昏飛翔 川上未映子V.S村上春樹訪談集，原文名稱：みみずくは黄昏に飛びたつ―川上未映子訊く／村上春樹語る，語言：繁體中文，ISBN：9789571376684，頁數：336，出版社：時報出版，作者：川上未映子,村上春樹，出版日期：2019/01/15，類別：文學小說\">\\n<meta http-equiv=\"X-UA-Compatible\" content=\"IE=edge\">\\n<meta property=\"og:site_name\" content=\"博客來\"/>\\n<meta property=\"og:type\" content=\"product\"/>\\n<meta property=\"fb:app_id\" content=\"210743125726405\" />\\n<meta property=\"og:title\" content=\"貓頭鷹在黃昏飛翔 川上未映子V.S村上春樹訪談集\"/>\\n<meta property=\"og:image\" content=\"https://im1.book.com.tw/image/getImage?i=https://www.books.com.tw/img/001/081/02/0010810240.jpg&v=5c24a9aa&w=1146&h=600\"/>\\n<meta property=\"og:image:width\" content=\"1146\">\\n<meta property=\"og:image:height\" content=\"600\">\\n<meta property=\"og:url\" content=\"http://www.books.com.tw/products/0010810240\" />\\n<meta property=\"og:description\" content=\"書名：貓頭鷹在黃昏飛翔 川上未映子V.S村上春樹訪談集，原文名稱：みみずくは黄昏に飛びたつ―川上未映子訊く／村上春樹語る，語言：繁體中文，ISBN：9789571376684，頁數：336，出版社：時報出版，作者：川上未映子,村上春樹，出版日期：2019/01/15，類別：文學小說\"/>\\n<link rel=\"stylesheet\" href=\"/csss/overlay-n.css?v=593f57ff\">\\n<link rel=\"stylesheet\" href=\"//jci.book.com.tw/css/css.css\">\\n<link rel=\"stylesheet\" type=\"text/css\" href=\"//jci.book.com.tw/css/iconfont/icon_01.css\" media=\"all\">\\n<link rel=\"canonical\" href=\"https://www.books.com.tw/products/0010810240\">\\n<script>(function(w,d,s,l,i){w[l]=w[l]||[];w[l].push({\\'gtm.start\\':new Date().getTime(),event:\\'gtm.js\\'});var f=d.getElementsByTagName(s)[0],j=d.createElement(s),dl=l!=\\'dataLayer\\'?\\'&l=\\'+l:\\'\\';j.async=true;j.src=\\'https://www.googletagmanager.com/gtm.js?id=\\'+i+dl;f.parentNode.insertBefore(j,f);})(window,document,\\'script\\',\\'dataLayer\\',\\'GTM-TBZGS7\\');</script><script>dataLayer.push({\"ecommerce\":{\"detail\":{\"products\":[{\"id\":\"0010810240\",\"name\":\"\\\\u8c93\\\\u982d\\\\u9df9\\\\u5728\\\\u9ec3\\\\u660f\\\\u98db\\\\u7fd4 \\\\u5ddd\\\\u4e0a\\\\u672a\\\\u6620\\\\u5b50V.S\\\\u6751\\\\u4e0a\\\\u6625\\\\u6a39\\\\u8a2a\\\\u8ac7\\\\u96c6\",\"price\":300,\"category\":\"001\"}]}}});</script>\\n<script language=\"JavaScript\" src=\"//jci.book.com.tw/jss/jquery/jquery-1.6.4.min.js \"></script>\\n<script language=\"JavaScript\" src=\"/jss/jquery/plugin/jquery.timers-1.2.js?v=593f57ff\"></script>\\n<script language=\"JavaScript\" type=\"text/javascript\" src=\"/jss/web/header/header.js?v=6037227f\"></script>\\n<script language=\"JavaScript\" type=\"text/javascript\" src=\"/jss/web/header/aeil.js?v=5efb07c6\"></script>\\n<script language=\"JavaScript\" type=\"text/javascript\" src=\"/jss/web/adv_log.js?v=5aefea69\"></script>\\n<script language=\"JavaScript\" type=\"text/javascript\" src=\"//jci.book.com.tw/jss/books/jqueryplugin/lazyload/1.9.3/jquery.lazyload.min.js\"></script>\\n<script language=\"JavaScript\" type=\"text/javascript\" src=\"/jss/web/uselazyload.js?v=593f57ff\"></script>\\n<script language=\"JavaScript\" type=\"text/javascript\" src=\"//jci.book.com.tw/jss/books/head.min.js\"></script>\\n<script language=\"JavaScript\" type=\"text/javascript\" src=\"/jss/web/overlay-n.js?v=593f57ff\"></script><script language=\"JavaScript\" type=\"text/javascript\" src=\"/jss/web/switch_page.js?v=5ca2f527\"></script><script language=\"JavaScript\" type=\"text/javascript\" src=\"/jss/web/ajax_product_show.js?v=5efbee4e\"></script><script language=\"JavaScript\" type=\"text/javascript\" src=\"/jss/web/switch_loaded_tab.js?v=5cad4e0c\"></script><script language=\"JavaScript\" type=\"text/javascript\" src=\"/jss/web/share_to_fb.js?v=5f8f909e\"></script><script language=\"JavaScript\" type=\"text/javascript\" src=\"/jss/web/show_more.js?v=593f57ff\"></script><script language=\"JavaScript\" type=\"text/javascript\" src=\"/jss/web/more_on_off.js?v=5d269bcd\"></script>\\n<script type=\"application/ld+json\">{\"@context\":\"http:\\\\/\\\\/schema.org\\\\/\",\"@type\":\"Book\",\"@id\":\"https:\\\\/\\\\/www.books.com.tw\\\\/products\\\\/0010810240\",\"url\":\"https:\\\\/\\\\/www.books.com.tw\\\\/products\\\\/0010810240\",\"name\":\"\\\\u8c93\\\\u982d\\\\u9df9\\\\u5728\\\\u9ec3\\\\u660f\\\\u98db\\\\u7fd4 \\\\u5ddd\\\\u4e0a\\\\u672a\\\\u6620\\\\u5b50V.S\\\\u6751\\\\u4e0a\\\\u6625\\\\u6a39\\\\u8a2a\\\\u8ac7\\\\u96c6\",\"image\":\"https:\\\\/\\\\/im1.book.com.tw\\\\/image\\\\/getImage?i=https:\\\\/\\\\/www.books.com.tw\\\\/img\\\\/001\\\\/081\\\\/02\\\\/0010810240.jpg&v=5c24a9aa&w=1146&h=600\",\"datePublished\":\"2019\\\\/01\\\\/15\",\"inLanguage\":\"\\\\u7e41\\\\u9ad4\\\\u4e2d\\\\u6587\",\"author\":[{\"@type\":\"Person\",\"name\":\"\\\\u5ddd\\\\u4e0a\\\\u672a\\\\u6620\\\\u5b50,\\\\u6751\\\\u4e0a\\\\u6625\\\\u6a39\"}],\"workExample\":{\"workExample\":{\"@type\":\"Book\",\"isbn\":\"9789571376684\",\"bookFormat\":\"http:\\\\/\\\\/schema.org\\\\/Paperback\",\"potentialAction\":{\"@type\":\"ReadAction\",\"target\":{\"@type\":\"EntryPoint\",\"urlTemplate\":\"https:\\\\/\\\\/www.books.com.tw\\\\/products\\\\/0010810240\",\"actionPlatform\":[\"http:\\\\/\\\\/schema.org\\\\/DesktopWebPlatform\",\"http:\\\\/\\\\/schema.org\\\\/MobileWebPlatform\"]}}}},\"publisher\":[{\"@type\":\"Organization\",\"name\":\"\\\\u6642\\\\u5831\\\\u51fa\\\\u7248\"}],\"numberOfPages\":\"336\"}</script>\\n</head>\\n<body class=\"color_books type02\">\\n<script type=\"text/javascript\" src=\"https://www.books.com.tw/webs/header_js/pmenu/html/menu.js?v=310d9d8c8844d84c10590cbc71f501db\"></script>\\n<link rel=\"stylesheet\" type=\"text/css\" href=\"//jci.book.com.tw/css/iconfont/icon_01.css\" media=\"all\">\\n<div class=\"overlay\" id=\"div_language_overlay\" style=\"display:none\" onclick=\"hide_lang_panel();\"></div>\\n<div class=\"pop_win change_language_win\" id=\"div_language_win\" style=\"display:none\">\\n<h3>選擇語言<a href=\"javascript:;\" class=\"btn-close\" onclick=\"hide_lang_panel();\"></a></h3>\\n<div>\\n<ul>\\n<li id=\"header_li_change_lang_en\"><a class=\"btn\" href=\"javascript:;\" onclick=\"change_lang(\\'en\\');\">English</a></li>\\n<li id=\"header_li_change_lang_zh_TW\"><a class=\"btn\" href=\"javascript:;\" onclick=\"change_lang(\\'zh_TW\\');\">繁體中文</a></li>\\n<li id=\"header_li_change_lang_zh_CN\"><a class=\"btn\" href=\"javascript:;\" onclick=\"change_lang(\\'zh_CN\\');\">简体中文</a></li>\\n</ul>\\n</div></div><div class=\"container_24 type04_header clearfix\" id=\"header_id\" data-attr=\"books\">\\n<div class=\"grid_24 clearfix\">\\n<div class=\"header_box1 clearfix\">\\n<h2 class=\"hide\">:::相關網站</h2>\\n<div class=\"website_nav\">\\n<ul><li><a href=\"//www.books.com.tw/?loc=tw_website_001\">博客來</a></li>\\n<li><a href=\"//tickets.books.com.tw/index/?loc=tw_website_003\">售票網</a></li>\\n<li><a href=\"//group.books.com.tw/?loc=tw_website_004\">企業採購</a></li>\\n<li><a href=\"//www.books.com.tw/benefit/?loc=tw_website_005\">福利平台</a></li>\\n<li><a href=\"//www.books.com.tw/web/ovs/?loc=tw_website_006\">海外專館</a></li></ul>\\n</div><div class=\"service_nav clearfix\">\\n<h2 class=\"hide\"><a accesskey=\"U\" href=\"#accesskey_service_nav\" title=\"上方導覽區塊:會員服務|快速功能\" id=\"accesskey_service_nav\">:::會員服務|快速功能</a></h2>\\n<ul>\\n<li class=\"shopping\"><a href=\"https://db.books.com.tw/shopping/cart_list.php?loc=tw_customer_001\"><img class=\"cart\" src=\"/csss/images/shoppingcar.gif\" alt=\"直接結帳\" title=\"直接結帳\"><strong id=\"shopping_cart_num\">0</strong><span class=\"more\" id=\"shopping_cart_more\" style=\"display:none\"></span>結帳</a></li>\\n<li class=\"logout li_label_member_login\" style=\"display:none;\"><strong id=\"member_class\"></strong> 您好&nbsp;(&nbsp;<a href=\"https://cart.books.com.tw/member/logout?loc=customer_004\">登出</a>&nbsp;)</li>\\n<li class=\"logout li_label_member_logout\"><a href=\"javascript:void(0);\" onclick=\"location.href=\\'https://cart.books.com.tw/member/login?loc=customer_003&url=\\' + encodeURIComponent(window.location.href);\">&nbsp;&nbsp;&nbsp;&nbsp;登入&nbsp;&nbsp;&nbsp;&nbsp;</a></li>\\n<li class=\"join li_label_member_logout\"><a href=\"javascript:void(0);\" onclick=\"location.href=\\'https://cart.books.com.tw/member/join_step1/?loc=customer_002&url=\\' + encodeURIComponent(window.location.href);\">加入會員</a></li>\\n<li class=\"pop_tip_box\">\\n<a href=\"https://myaccount.books.com.tw/myaccount/myaccount/index/?loc=tw_customer_004\">購物金<span id=\"shopping_cash_show\"></span></a>\\n<div class=\"pop_tip\" style=\"display:none\">\\n<b class=\"arrow\"></b>\\n<ul><li class=\"first\">購物金&nbsp;<a href=\"https://myaccount.books.com.tw/myaccount/myaccount/getShoppingmoneylist?loc=tw_customer_005\"><strong id=\"shopping_cash\">0</strong></a></li>\\n<li>儲值金&nbsp;<a href=\"https://myaccount.books.com.tw/myaccount/myaccount/getFreemoneylist?loc=tw_customer_006\"><strong id=\"benefit_cash\">0</strong></a></li>\\n<li>E-Coupon&nbsp;<a href=\"https://myaccount.books.com.tw/myaccount/myaccount/getPercentcouponlist?loc=tw_customer_coupon\"><strong id=\"my_ecoupon_count\">0</strong></a>&nbsp;張</li>\\n<li>單品折價券&nbsp;<a href=\"https://myaccount.books.com.tw/myaccount/myaccount/getPercentIcouponlist?loc=tw_customer_icoupon\"><strong id=\"my_icoupon_count\">0</strong></a>&nbsp;張</li></ul>\\n</div></li>\\n<li><a href=\"https://myaccount.books.com.tw/myaccount/myaccount/index/?loc=tw_customer_007\">會員專區</a></li>\\n<li><a href=\"https://viewer-ebook.books.com.tw/viewer/index.html?readlist=all&MemberLogout=true\">電子書櫃</a></li>\\n<li><a href=\"https://www.books.com.tw/web/csservice?loc=tw_customer_chat\">線上客服</a></li>\\n<li onclick=\"show_lang_panel();\"><i class=\"icon-globe\"></i><a href=\"javascript:;\" class=\"modalBtn\" id=\"header_a_lang_title\">繁體</a></li>\\n</ul>\\n</div></div>\\n<div class=\"header_box_pop\">\\n<div class=\"flash_banner_pop\" style=\"background-image:url(https://im2.book.com.tw/image/getImage?i=https://addons.books.com.tw/G/ADbanner/2021/03/breading/breading_950x655_01.jpg&v=605db66b&w=&h=); height:655px; display:none;\">\\n<a class=\"activity\" href=\"https://www.books.com.tw/activity/2021/03/breading/?loc=tbanner_001\" title=\"\" ><span class=\"hide\"></span></a>\\n<a class=\"close\"  href=\"javascript:;\" title=\"關閉廣告\" id=\"close_top_banner\"><span class=\"hide\">關閉廣告</span></a>\\n</div><div class=\"flash_banner\" style=\"background-image:url(https://im2.book.com.tw/image/getImage?i=https://addons.books.com.tw/G/ADbanner/2021/03/breading/breading_950x70_01.jpg&v=605db66b&w=&h=)\">\\n<a class=\"activity\" href=\"https://www.books.com.tw/activity/2021/03/breading/?loc=tbanner_001\" title=\"\" ><span class=\"hide\"></span></a>\\n<a class=\"open\"  href=\"javascript:;\" id=\"open_top_banner\" title=\"展開廣告\"><span class=\"hide\">展開廣告</span></a>\\n<input type=\"hidden\" id=\"tbanner_data\" data-skey =\"0\" data-okey=\"317256\" data-preview =\"\" data-sec =\"8\">\\n</div></div><div class=\"header_box2 clearfix\" style=\"background-image:url(https://im1.book.com.tw/image/getImage?i=https://addons.books.com.tw/G/ADbanner/fashion/a/2021/03/0327_header.jpg&v=605ae69d&w=&h=)\">\\n<div class=\"books_logo\"><a href=\"//www.books.com.tw?loc=tw_logo_001\" title=\"回博客來首頁\"><span>回博客來首頁</span></a></div>\\n<div class=\"bg_banner\"><a href=\"https://www.books.com.tw/activity/fashion/2021/03/b_bath/?loc=banner_001\" title=\"\" target=\"_new\"><span class=\"hide\"></span></a></div>\\n<ul class=\"key_banner\">\\n<li><a href=\"https://www.books.com.tw/web/flagship_0000003614?loc=dbanner_001\"><img src=\"https://im2.book.com.tw/image/getImage?i=https://addons.books.com.tw/G/ADbanner/fashion/muji/2021/MUJI_0327-0328_19065.jpg&v=605d84e4&w=&h=\" ></a></li>\\n<li><a href=\"https://www.books.com.tw/activity/lifestyle/I/2021/03/sunnyhills/?loc=dbanner_002\"><img src=\"https://im1.book.com.tw/image/getImage?i=https://addons.books.com.tw/G/ADbanner/lifestyle/I/2021/03/0327sunny_190.jpg&v=605ad896&w=&h=\" ></a></li>\\n</ul>\\n</div><div class=\"header_box3 clearfix\">\\n<ul class=\"poin_banner\">\\n<li><a href=\"https://activity.books.com.tw/crosscat/show/A00000021878?loc=activity_home_001\"><img src=\"https://im2.book.com.tw/image/getImage?i=https://addons.books.com.tw/G/ADbanner/marketing/2020/10/bun/starbuckss.gif&v=60546828&w=&h=\" ></a></li>\\n<li><a href=\"https://activity.books.com.tw/coupondraw/coupon/?loc=activity_home_002\"><img src=\"https://im1.book.com.tw/image/getImage?i=https://addons.books.com.tw/G/ADbanner/marketing/2020/10/bun/getcoupon.gif&v=60458ed0&w=&h=\" ></a></li>\\n<li><a href=\"https://www.books.com.tw/web/print?loc=activity_home_003\"><img src=\"https://im1.book.com.tw/image/getImage?i=https://addons.books.com.tw/G/ADbanner/marketing/2020/10/bun/print.gif&v=5fd0a6b7&w=&h=\" ></a></li>\\n<li><a href=\"https://www.books.com.tw/web/giftcard/?loc=activity_GC_001\"><img src=\"https://im1.book.com.tw/image/getImage?i=https://addons.books.com.tw/G/ADbanner/marketing/2020/01/twnewyear/giftcard.gif&v=5e250d99&w=&h=\" ></a></li>\\n<li><a href=\"https://activity.books.com.tw/books66/?loc=activity_BK_001\"><img src=\"https://im2.book.com.tw/image/getImage?i=https://addons.books.com.tw/G/ADbanner/2014/08/today66_7825.gif&v=53e1f110&w=&h=\" alt=\"今日66折\"></a></li>\\n<li><a href=\"https://www.books.com.tw/happybuy?loc=activity_NP_001\"><img src=\"https://im2.book.com.tw/image/getImage?i=https://addons.books.com.tw/G/ADbanner/btn_buy.jpg&v=53df0046&w=&h=\" alt=\"天天BUY\"></a></li>\\n</ul>\\n</div><div class=\"header_box4 clearfix\">\\n<div class=\"grid_4 alpha\">\\n<div class=\"books_nav\" id=\"books_nav\">\\n<div><strong class=\"tip\">移動滑鼠展開全站分類</strong></div>\\n<a accesskey=\"L\" href=\"#accesskey_books_nav\" title=\"全站分類選單/旗艦店選單\" id=\"accesskey_books_nav\">:::全站分類</a>\\n<ul class=\"tabs\">\\n<li class=\"first \" id=\"home\"><span></span><div><a href=\"javascript:;\" onclick=\"Hmenu(\\'home\\');\">全站分類</a><b></b></div></li>\\n<li class=\"last\"  id=\"flagship\"><span></span><div><a href=\"javascript:;\" onclick=\"Hmenu(\\'flagship\\');\">旗艦店</a><b></b></div></li>\\n</ul>\\n<div class=\"nav_box\" id=\"home_menu_list\" style=\"display:none\">\\n<ul class=\"menu style01\">\\n<li><h3><a href=\"https://www.books.com.tw/web/ebook/?loc=menu_0_001\">電子書</a>\\n</h3></li><li><h3><a href=\"https://www.books.com.tw/web/books/?loc=menu_1_001\">中文書</a>\\n</h3></li><li><h3><a href=\"https://www.books.com.tw/web/china?loc=menu_2_001\">簡體書</a>\\n‧<a href=\"https://www.books.com.tw/web/fbooks?loc=menu_2_002\">外文書</a>\\n</h3></li><li><h3><a href=\"https://www.books.com.tw/web/magazine?loc=menu_3_001\">雜誌</a>\\n‧<a href=\"https://www.books.com.tw/web/mook?loc=menu_3_002\">MOOK</a>\\n</h3></li><li><h3><a href=\"https://www.books.com.tw/web/cd?loc=menu_4_001\">CD</a>\\n‧<a href=\"https://www.books.com.tw/web/dvd?loc=menu_4_002\">DVD</a>\\n‧<a href=\"https://tickets.books.com.tw/index/?loc=menu_4_003\">售票</a>\\n</h3></li><li><h3><a href=\"https://www.books.com.tw/web/cosmetic?loc=menu_5_001\">保養</a>\\n‧<a href=\"https://www.books.com.tw/web/cosmetic_topm_11?loc=menu_5_002\">洗沐</a>\\n‧<a href=\"https://www.books.com.tw/web/cosmetic_topm_05?loc=menu_5_003\">醫美</a>\\n</h3></li><li><h3><a href=\"https://www.books.com.tw/web/clean?loc=menu_6_001\">日用</a>\\n‧<a href=\"https://www.books.com.tw/web/clean_topm_13?loc=menu_6_002\">清潔</a>\\n‧<a href=\"https://www.books.com.tw/web/clean_topm_12?loc=menu_6_003\">尿布</a>\\n</h3></li><li><h3><a href=\"https://www.books.com.tw/web/fashion/?loc=menu_7_001\">服飾</a>\\n‧<a href=\"https://www.books.com.tw/web/fashion_topm_21?loc=menu_7_002\">機能服</a>\\n‧<a href=\"https://www.books.com.tw/web/fashion_topm_15?loc=menu_7_003\">內衣</a>\\n</h3></li><li><h3><a href=\"https://www.books.com.tw/web/shoes_topm_01?loc=menu_8_001\">鞋</a>\\n‧<a href=\"https://www.books.com.tw/web/shoes?loc=menu_8_002\">包包飾品</a>\\n‧<a href=\"https://www.books.com.tw/web/shoes_topm_05?loc=menu_8_003\">精品</a>\\n</h3></li><li><h3><a href=\"https://www.books.com.tw/web/food?loc=menu_9_001\">美食</a>\\n‧<a href=\"https://www.books.com.tw/web/food_topm_16?loc=menu_9_002\">飲品</a>\\n‧<a href=\"https://www.books.com.tw/web/food_topm_10?loc=menu_9_003\">食材</a>\\n</h3></li><li><h3><a href=\"https://www.books.com.tw/web/health?loc=menu_10_001\">保健</a>\\n‧<a href=\"https://www.books.com.tw/web/health_topm_08?loc=menu_10_002\">纖體</a>\\n‧<a href=\"https://www.books.com.tw/web/health_topm_15?loc=menu_10_003\">醫材</a>\\n</h3></li><li><h3><a href=\"https://www.books.com.tw/web/stationery?loc=menu_11_001\">文具</a>\\n‧<a href=\"https://www.books.com.tw/web/stationery_topm_15?loc=menu_11_002\">動漫</a>\\n‧<a href=\"https://www.books.com.tw/web/sys_midm/stationery/1509?loc=menu_11_003\">公仔</a>\\n</h3></li><li><h3><a href=\"https://www.books.com.tw/web/kitchen?loc=menu_12_001\">餐廚生活</a>\\n‧<a href=\"https://www.books.com.tw/web/design?loc=menu_12_002\">家居雜貨</a>\\n</h3></li><li><h3><a href=\"https://www.books.com.tw/web/mammybaby?loc=menu_13_001\">婦幼</a>\\n‧<a href=\"https://www.books.com.tw/web/outdoors?loc=menu_13_002\">休閒</a>\\n‧<a href=\"https://www.books.com.tw/web/outdoors_topm_02?loc=menu_13_003\">寵物</a>\\n</h3></li><li><h3><a href=\"https://www.books.com.tw/web/3C?loc=menu_14_001\">3C</a>\\n‧<a href=\"https://www.books.com.tw/web/fm?loc=menu_14_002\">家電</a>\\n</h3></li><li><h3><a href=\"https://www.besttour.com.tw/books?utm_source=web&utm_medium=books&loc=act_menu_0_001\">旅遊</a>‧                  <a href=\"https://www.books.com.tw/web/print?loc=act_menu_0_002\">沖印</a>‧                  <a href=\"https://tickets.books.com.tw/index/?loc=act_menu_0_003\">售票</a></h3>\\n</li></ul>\\n<ul class=\"menu style03\">\\n<li ><h3><a href=\"//www.books.com.tw/web/sys_categoryIndex\">看全部商品分類</a></h3></li>\\n</ul>\\n</div><div class=\"nav_box\" id=\"flagship_menu_list\" style=\"display:none\">\\n<ul class=\"menu style01\">\\n<li ><h3><span>依品類</span>\\n</h3></li><li ><h3><span>依字母</span>\\n</h3></li><li ><h3><span>依注音</span>\\n</h3></li></ul>\\n</div></div></div><div class=\"grid_10\">\\n<div class=\"search clearfix\">\\n<h2 class=\"hide\"><a title=\"網站搜尋\" id=\"accesskey_search\" href=\"#accesskey_search\">:::網站搜尋</a></h2>\\n<form action=\"https://search.books.com.tw/search/query/\" name=\"search\" id=\"search\"  method=\"GET\" onsubmit=\"if(typeof go_search == \\'function\\'){go_search();return false;}\">\\n<input type=\"hidden\" name=\"fclick\" id=\"search_fclick\" value=\"0\" data-fkey=\"\">\\n<input type=\"search\" class=\"search_key\" accesskey=\"S\" name=\"key\" id=\"key\" value=\"\" message =\"請輸入關鍵字\" autocomplete=\"off\">\\n<div class=\"search_set\" id=\"search_box\">\\n<div class=\"top_search_tip\">\\n<a href=\"javascript:;\">\\n<span id=\"search_name\">全部</span>\\n<span class=\"icon\" title=\"展開\">展開</span></a>\\n<input type=\"hidden\" name=\"cat\" id=\"cat\" value =\"all\">\\n</div><ul class=\"search_popup\">\\n<li><a href=\"javascript:;\" cat=\"all\" id=\"default_search_key\">全部</a></li>\\n<li><a href=\"javascript:;\" cat=\"BKA\" >圖書</a></li>\\n<li><a href=\"javascript:;\" cat=\"EBA\" >電子書</a></li>\\n<li><a href=\"javascript:;\" cat=\"AVA\" >影音</a></li>\\n<li><a href=\"javascript:;\" cat=\"DPA\" >百貨</a></li>\\n<li><a href=\"javascript:;\" cat=\"MGA\" >雜誌</a></li>\\n<li><a href=\"javascript:;\" cat=\"TKA\" >售票</a></li>\\n<li><a href=\"javascript:;\" cat=\"OVS\" >海外專館</a></li>\\n<li><a href=\"javascript:;\" cat=\"GFC\" >禮物卡</a></li>\\n</ul>\\n</div><button type=\"submit\" title=\"搜尋\" ><span class=\"icon\">搜尋</span></button>\\n</form>\\n<ul id=\"search_words_ul\" style=\"display:none;\"></ul>\\n</div></div><div class=\"grid_10 omega\">\\n<div class=\"hot_key_words clearfix\">\\n<h2>熱門關鍵字</h2>\\n<ul><li><a href=\"https://www.books.com.tw/products/0010887150?loc=hot_001\">張曼娟</a></li>\\n<li><a href=\"https://www.books.com.tw/products/0010869003?loc=hot_002\">錯失恐懼</a></li>\\n<li><a href=\"https://www.books.com.tw/products/0010886960?loc=hot_003\">深夜保健室</a></li>\\n<li><a href=\"https://activity.books.com.tw/crosscat/show/A00000020831?loc=hot_004\">哆啦A夢</a></li>\\n</ul>\\n</div></div></div><div class=\"header_box5 clearfix\">\\n<div class=\"grid_4 alpha\">\\n<div class=\"title\"><h3><a href=\"https://www.books.com.tw/web/books/?loc=subject_main_001\">中文書</a></h3></div>\\n</div><div class=\"grid_20 omega\">\\n<ul class=\"sub_list\"><li><a href=\"https://www.books.com.tw/web/exhibition/?loc=subject_001\">2021國際書展</a></li>\\n<li><a href=\"https://www.books.com.tw/web/books_newbook/?loc=subject_002\">新書</a></li>\\n<li><a href=\"https://www.books.com.tw/web/sys_prebooks/books/?loc=subject_003\">預購</a></li>\\n<li><a href=\"https://www.books.com.tw/web/sys_tdrntb/books/?loc=subject_004\">排行榜</a></li>\\n<li><a href=\"https://www.books.com.tw/web/sys_selbooks/books/?loc=subject_005\">選書</a></li>\\n<li><a href=\"https://www.books.com.tw/web/sys_compub/books/?loc=subject_006\">即將出版</a></li>\\n<li><a href=\"https://www.books.com.tw/web/books_specbook/?loc=subject_007\">特價書</a></li>\\n<li><a href=\"https://www.books.com.tw/web/store_hkbooks/?loc=subject_008\">香港出版</a></li>\\n<li><a href=\"https://www.books.com.tw/web/books_review/?loc=subject_009\">讀者書評</a></li>\\n<li><a href=\"https://www.books.com.tw/web/books_publist/?loc=subject_010\">出版社專區</a></li>\\n<li><a href=\"https://www.books.com.tw/web/sys_sublistb/books/?loc=subject_011\">分類總覽</a></li>\\n</ul>\\n</div></div><div class=\"header_box6 clearfix\">\\n<a href=\"https://activity.books.com.tw/crosscat/show/A00000023143?loc=mood_001\"><img src=\"https://im1.book.com.tw/image/getImage?i=https://addons.books.com.tw/G/ADbanner/2021/03/kidsview_95040.jpg&v=6051c962&w=&h=\" alt=\"兒童節禮物書展\"></a>\\n</div></div></div><ul class=\"container_24 type04_breadcrumb\">\\n<li itemscope itemtype=http://data-vocabulary.org/Breadcrumb><a href=\"https://www.books.com.tw/\" itemprop=\"url\"><span itemprop=\"title\">博客來</span></a></li><li itemscope itemtype=http://data-vocabulary.org/Breadcrumb><a href=\"https://www.books.com.tw/web/books/\" itemprop=\"url\"><span itemprop=\"title\">中文書</span></a></li><li itemscope itemtype=http://data-vocabulary.org/Breadcrumb><a href=\"https://www.books.com.tw/web/books_topm_01/\" itemprop=\"url\"><span itemprop=\"title\">文學小說</span></a></li><li itemscope itemtype=http://data-vocabulary.org/Breadcrumb><a href=\"https://www.books.com.tw/web/books_bmidm_0101/\" itemprop=\"url\"><span itemprop=\"title\">翻譯文學</span></a></li><li itemscope itemtype=http://data-vocabulary.org/Breadcrumb><a href=\"https://www.books.com.tw/web/sys_bbotm/books/010101/\" itemprop=\"url\"><span itemprop=\"title\">日本文學</span></a></li><li class=\"last\" itemscope itemtype=http://data-vocabulary.org/Breadcrumb><span itemprop=\"title\">商品介紹</span></li></ul>\\n<div class=\"container_24 main_wrap clearfix\">\\n<div class=\"grid_24 main_column\">\\n<div class=\"mod type02_p01_wrap clearfix\">\\n<div class=\"grid_9 alpha\">\\n<script type=\"text/javascript\" src=\"//www.books.com.tw/jss/jquery/plugin/tools.js\"></script>\\n<script type=\"text/javascript\" src=\"//www.books.com.tw/jss/jquery/plugin/jqModal_fix.js\"></script>\\n<script type=\"text/javascript\" src=\"//www.books.com.tw/jss/web/img_zoomer.js\"></script>\\n<div class=\"mod cnt_prod_img001 nolazyload_img clearfix\">\\n<div class=\"cnt_mod002 cover_img\" id=\"M201106_0_getTakelook_P00a400020052\">\\n<ul>\\n<span ></span></ul>\\n<ul class=\"looks\" >\\n</ul>\\n<img class=\"cover M201106_0_getTakelook_P00a400020052_image_wrap\" src=\"https://im1.book.com.tw/image/getImage?i=https://www.books.com.tw/img/001/081/02/0010810240.jpg&v=5c24a9aa&w=348&h=348\" alt=\"貓頭鷹在黃昏飛翔 川上未映子V.S村上春樹訪談集\">\\n</div></div><script>\\n$(document).ready(function() {\\r\\n    var opt_module_id = \"M201106_0_getTakelook_P00a400020052\";\\r\\n    var M201106_0_getTakelook_P00a400020052 = new Overlay(opt_module_id);\\r\\n    var M201106_0_getTakelook_P00a400020052zommer = new img_zoomer(opt_module_id);\\r\\n});\\r\\n</script>\\n<div class=\"mod clearfix\">\\n<cite class=\\'type02_p001\\'><a href=\\'#P00a400020053\\' title=\\'主題活動\\' id=\\'\\' ><span class=\\'icon_02\\'>主題活動</span></a></cite>\\n</div><script type=\"text/javascript\">\\n</script></div>\\n<div class=\"grid_10\">\\n<div class=\"mod type02_p002 clearfix\">\\n<h1>貓頭鷹在黃昏飛翔 川上未映子V.S村上春樹訪談集</h1>\\n<h2><a href=\\'https://search.books.com.tw/search/query/cat/all/key/%E3%81%BF%E3%81%BF%E3%81%9A%E3%81%8F%E3%81%AF%E9%BB%84%E6%98%8F%E3%81%AB%E9%A3%9B%E3%81%B3%E3%81%9F%E3%81%A4%E2%80%95%E5%B7%9D%E4%B8%8A%E6%9C%AA%E6%98%A0%E5%AD%90%E8%A8%8A%E3%81%8F%EF%BC%8F%E6%9D%91%E4%B8%8A%E6%98%A5%E6%A8%B9%E8%AA%9E%E3%82%8B\\'>みみずくは黄昏に飛びたつ―川上未映子訊く／村上春樹語る</a></h2>\\n</div><div class=\"type02_p003 clearfix\">\\n<ul><li>\\n<div class=\"trace_box\" id=\"trace_box\" style=\"display:none;\">\\n<span class=\"arrow\"></span>\\n<div class=\"pop_trace\">\\n<div class=\"list_raced\" id=\"edit_traced_area\" style=\"display:none;\">\\n<h4>已追蹤作者：<strong class=\"edit\">[&nbsp;<a href=\"\" id=\"editTrace\">修改</a>&nbsp;]</strong></h4>\\n<ul id=\"list_traced\"></ul>\\n</div><ul class=\"list_trace\" id=\"list_trace\"></ul>\\n<div class=\"trace_btn_wrap\">\\n<a href=\"javascript:saveTrace();\" class=\"type02_btn09\">確定</a>\\n<a href=\"javascript:cancelTrace();\" class=\"type02_btn09\">取消</a>\\n</div></div></div>    作者：            <a href=\"//search.books.com.tw/search/query/key/%E5%B7%9D%E4%B8%8A%E6%9C%AA%E6%98%A0%E5%AD%90/adv_author/1/\">川上未映子</a>,            <a href=\"//search.books.com.tw/search/query/key/%E6%9D%91%E4%B8%8A%E6%98%A5%E6%A8%B9/adv_author/1/\">村上春樹</a>    &nbsp;<a id=\"trace_btn1\" class=\"type02_btn02\" href=\"\"><span><span class=\"trace_txt\">&nbsp;</span></span></a>\\n<a href=\"//www.books.com.tw/activity/2015/06/trace/index.html#author\" title=\"新功能介紹\" target=\"_blank\"><cite class=\"help\">新功能介紹</cite></a></li><li>出版社：<a href=\"https://www.books.com.tw/web/sys_puballb/books/?pubid=ctpubco         \"><span>時報出版</span></a>    &nbsp;<a id=\"trace_btn2\" class=\"type02_btn02\" href=\"\"><span><span class=\"trace_txt\">&nbsp;</span></span></a>\\n<a href=\"//www.books.com.tw/activity/2015/06/trace/index.html#publisher\" title=\"新功能介紹\" target=\"_blank\"><cite class=\"help\">新功能介紹</cite></a></li><li>出版日期：2019/01/15</li><li>語言：繁體中文                                      </li></ul></div>\\n<div id=\"M201105_0_getBkProdInfo_P00a400020084\" style=\"display:none;\"></div>\\n<script type=\"text/javascript\">\\n$(function(){\\r\\n    setFollow(\\'initFollowAjax\\',\\'川上未映子,村上春樹:ctpubco\\'); //class name , author : pubid\\r\\n});\\r\\nfunction setFollow(c,ap){\\r\\n    var opt_module_id = \\'M201105_0_getBkProdInfo_P00a400020084\\'; //模組編碼參數\\r\\n    var opt = new Array(3); //參數資料變數\\r\\n    opt[0] = c; //class name\\r\\n    opt[1] = new Array(3);\\r\\n    opt[1][0] = \\'0010810240:M201105_0_getBkProdInfo_P00a400020084:M201105_047_view\\'; //item : li_id : view\\r\\n    opt[1][1] = ap; //author : pubid\\r\\n    opt[1][2] = window.location.href; //url\\r\\n    opt[2] = \\'M201105_047_view\\' //template\\r\\n    var M201105_0_getBkProdInfo_P00a400020084 = new ajax_product_show(opt_module_id,opt);\\r\\n}\\r\\nfunction saveTrace(){\\r\\n    var author=\\'\\';\\r\\n    $(\\'input[name=\"author\"]:checked\\').each(function(index){\\r\\n         author += ((index===0)?\\'\\':\\',\\') + $(this).val();\\r\\n    });\\r\\n    setFollow(\\'setFollowAuthorAjax\\', author);\\r\\n    $(\\'#trace_box\\').hide();\\r\\n}\\r\\nfunction cancelTrace(){\\r\\n    $(\\'#trace_box\\').hide();\\r\\n}\\r\\n function editTrace(url){\\r\\n    window.open(url, \\'_blank\\');\\r\\n    $(\\'#trace_box\\').hide();\\r\\n}\\r\\n</script>\\n<div class=\"cnt_prod002 clearfix\">\\n<div class=\"mod prd002\">\\n<div class=\"prod_cont_a\">\\n<ul class=\"price\">\\n<li>定價：<em>380</em>元</li>\\n<li>優惠價：<strong><b>79</b></strong>折<strong class=\"price01\"><b>300</b></strong>元</li><li>優惠期限：2021年03月31日止</li></ul>\\n</div></div></div><div class=\"mod cnt_prod001 clearfix\">\\n<ul class=\"prod_li01\">\\n<li class=\"title06\"><em>優惠折扣</em><a href=\"https://activity.books.com.tw/crosscat/show/A00000023103/\">3/27-3/28讀書日限定–全館結帳滿千再9折(部份除外)</a></li>\\n<ul>\\n</div><div class=\"cnt_prod002 clearfix\">\\n<div class=\"mod prd010\">\\n<div class=\"prod_cont_a\">\\n<ul class=\"smoney_cnt\">\\n<li class=\"smoney\"><a href=\\'https://www.books.com.tw/activity/openpoint/about/\\' class=\\'more\\'>【分級買就送】讀書日：分級VIP會員最高送1.5%OPEN POINT(部份除外)</a>&nbsp;\\r\\n</li></ul>\\n</div></div></div><script type=\"text/javascript\">\\n$(document).ready(function(){\\r\\n    var opt_module_id = \"M201105_0_getShoppingMoney_P00a400020041\";//模組編碼參數\\r\\n    var opt = new Array(3);//參數資料變數\\r\\n    opt[1] = new Array();\\r\\n    opt[0] = \"getShoppingMoneyAjax\";//class name\\r\\n    opt[2] = \"M201105_013_view\"//template\\r\\n    opt[1][0]=\\'202103103020034:7:0010810240:0140593701:ctpubco:001\\';\\r\\n    var M201105_0_getShoppingMoney_P00a400020041 = new ajax_product_show(opt_module_id,opt);\\r\\n});\\r\\n</script><div class=\"cnt_prod002 clearfix\" id=\"M201105_0_getProdTransTypeInfo_P00a400020071\">\\n<div class=\"prd_008 clearfix\">\\n<div class=\"prod_cont_b\">\\n<ul class=\\'tag_003 tag_width07 clearfix\\'><li>運送方式：</li><li data-label=\\'taiwan\\' class=\\'here\\'><div class=\\'arrow\\'>臺灣與離島</div></li><li data-label=\\'oversea\\'><div class=\\'arrow\\'>海外</div></li></ul>\\n<div data-area=\"taiwan\" class=\"cnt_mod0006 clearfix\"><ul class=\"info\"><li class=\\'prd007_new_icon1 clearfix\\'><span>可配送點：</span>台灣、蘭嶼、綠島、澎湖、金門、馬祖</li><li class=\\'prd007_new_icon2 clearfix\\'><span>可取貨點：</span>台灣、蘭嶼、綠島、澎湖、金門、馬祖</li></ul></div>\\n<div data-area=\"oversea\" class=\"cnt_mod0006 clearfix\" style=\"display:none;\"><ul class=\"info\"><li class=\\'prd007_new_icon1 clearfix\\'><span>可配送點：</span>全球</li><li class=\\'prd007_new_icon2 clearfix\\'><span>可取貨點：</span>香港、澳門、新加坡、馬來西亞、菲律賓</li></ul></div>\\n</div></div><span class=\"hr_01\"></span>\\n</div><script type=\"text/javascript\">\\n$(document).ready(function(){\\r\\n   var opt_module_id = \"M201105_0_getProdTransTypeInfo_P00a400020071\";//模組編碼參數\\r\\n   var opt_element_id = \"P00a400020071\";  \\r\\n   var M201105_0_getProdTransTypeInfo_P00a400020071 = new switch_loaded_tab(opt_module_id,M201105_045);\\r\\n});\\r\\n</script></div>\\n<div class=\"grid_5 omega\">\\n<div class=\"mod clearfix\" id=\\'M201105_0_getProdCartInfo_P00a400020037\\'>\\n載入中...\\r\\n</div><script language=\"JavaScript\" type=\"text/javascript\" src=\"/jss/web/product.js?v=5f0bd497\"></script>\\n<script type=\"text/javascript\">\\n$(document).ready(function(){               \\r\\n//$(window).load(function(){\\r\\n    getProdShoppingCartBtn();\\r\\n});\\r\\nfunction getProdShoppingCartBtn(){\\r\\n    var opt_module_id = \"M201105_0_getProdCartInfo_P00a400020037\";//模組編碼參數\\r\\n    var opt = new Array(3);//參數資料變數\\r\\n    opt[1] = new Array();\\r\\n    opt[0] = \"getProdCartInfoAjax\";//class name\\r\\n    opt[1][0] = \"0010810240\";//item    \\r\\n    opt[2] = \"M201105_032_view\"//template\\r\\n    var M201105_0_getProdCartInfo_P00a400020037 = new ajax_product_show(opt_module_id,opt);\\r\\n}\\r\\n</script>\\n<div class=\"mod type02_p006 clearfix\">\\n<div class=\"btn\">\\n<a href=\"http://www.books.com.tw/prod_comment/comment_write/0010810240\" class=\"type02_btn02\" title=\"我要寫評鑑\"><span><span>我要寫評鑑</span></span></a>\\n</div></div><div class=\"type02_p014\">\\n<ul class=\"push-list\">\\n<li class=\"title\">分享</li>\\n<li id=\"push_facebook\"><i class=\"svg-logo-fb\" title=\"分享至Facebook\"></i></li>\\n<li id=\"push_line\"><i class=\"svg-logo-line\" title=\"分享至LINE\"></i></li>\\n<li id=\"push_copy\"><i class=\"svg-icon-link\" title=\"複製連結\" data-tooltip=\"已複製\"></i></li>\\n</ul>\\n<div class=\"like-button\">\\n<span>\\n<iframe scrolling=\"no\" frameborder=\"0\" allowtransparency=\"true\" style=\"width:85px; height:20px; vertical-align:middle;\" src=\"https://www.facebook.com/plugins/like.php?href=http%3A%2F%2Fwww.books.com.tw%2Fproducts%2F0010810240&amp;send=false&amp;locale=zh_TW&amp;layout=button_count&amp;width=85&amp;show_faces=false&amp;action=like&amp;colorscheme=light&amp;font=arial&amp;height=20\"></iframe>\\n</span>\\n</div></div><script language=\"JavaScript\">\\n$(document).ready(function(){\\r\\n    var fb = new share_to_fb();\\r\\n})\\r\\n</script>\\n</div></div><ul class=\"mod type02_s007 clearfix\">\\n<li><a href=\"https://www.books.com.tw/web/sys_selbooks/books/?loc=P_0064_001\"><img src=\"https://im1.book.com.tw/image/getImage?i=https://addons.books.com.tw/G/ADbanner/best_choice/2020/best_95040.jpg&v=5ea26442&w=950&h=\" alt=\"博客來選書\"></a></li></ul>\\n<div class=\"mod clearfix\">\\n<div id=\"br_r0vq68ygz\"></div><script>var i=location.pathname.replace(/\\\\/products\\\\//gi,\"\");var v=Math.floor(Math.random()*Math.floor(2));$(\"#br_r0vq68ygz\").load(\"//www.books.com.tw/br/ra/br_r0vq68ygz?i=\"+i+\"&v=\"+v);</script>\\n</div><div class=\"mod clearfix\">\\n<div class=\"grid_19 alpha\">\\n<div class=\"mod_b type02_m057 clearfix\">\\n<a name=\"IntroP00a400020009\">&nbsp;</a>\\n<h3>內容簡介</h3>\\n<div class=\"bd\">\\n<div class=\"content\" style=\"height:auto;\">\\n<div style=\"text-align: center;\"><strong>作家間的頂尖對決<br>\\n村上春樹V.S 川上未映子</strong></div>\\n<br>\\n\\u3000\\u3000《刺殺騎士團長》的誕生祕密、《身為職業小說家》的創作奧義、自身寫作歷程與生命的回顧、對於作品中女性所扮演的角色疑問、關於死亡與名聲的事。<br>\\n<br>\\n\\u3000\\u3000那些你想知道的與你不可不知道的村上春樹。<br>\\n<br>\\n<strong>\\u3000\\u3000就是那一刻。讓我們一同縱身跳入村上春樹先生的井中。<br>\\n\\u3000\\u3000如同希臘智慧女神米涅瓦的貓頭鷹，總在黃昏飛翔。</strong><br>\\n<br>\\n\\u3000\\u3000芥川賞作家川上未映子用同為寫作者與讀者的雙重身分大膽提問，以兼具女性的細膩觀察與資深書迷對文本的熟捻揭開村上春樹前所未有的作品樣貌與創意風景，深度剖析《身為職業小說家》與《刺殺騎士團長》的背後創作祕辛，更大膽提問那些從未曝光的作家思緒脈絡。<br>\\n<br>\\n\\u3000\\u3000為何優秀的打擊樂手，不會敲出最重要的樂音？地下二樓究竟發生了什麼事情？失眠的夜晚，和胖郵差一樣罕有？即便沒有了紙張，人們仍會繼續敘述？<br>\\n<br>\\n\\u3000\\u3000關於人人都想知道，卻又無法詢問的問題。就由芥川賞作家、村上春樹的忠實讀者川上未映子以深刻犀利的提問，引出作家村上春樹意外而真實的面貌。<br>\\n<br>\\n\\xa0\\r\\n</div><div class=\"type02_gradient\" style=\"display:none;\"></div>\\n</div></div><div class=\"mod_b type02_m057 clearfix\">\\n<a name=\"AuthorP00a400020009\">&nbsp;</a>\\n<h3>作者介紹</h3>\\n<div class=\"bd\">\\n<div class=\"content\" style=\"height:auto;\">\\n<strong>作者簡介<br>\\n<br>\\n川上未映子</strong><br>\\n<br>\\n\\u3000\\u30001976年生於大阪府。<br>\\n\\u3000\\u30002007年，首度嘗試的中篇小說《我的牙齒，比率，或世界》（暫譯）入圍第137屆芥川獎決選名單。同年獲得早稻田大學坪?逍遙大賞獎勵賞。<br>\\n\\u3000\\u30002008年，《乳與卵》獲得第138屆芥川獎，也被VOGUE評選為年度女性。<br>\\n\\u3000\\u30002009年詩集《用先端，戳刺，被戳刺，那很好哇》（暫譯）獲第十四屆中原中也獎。<br>\\n\\u3000\\u30002010年，以小說《天堂》（暫譯）榮獲平成二十一年度藝術選獎文部科學大臣賞新人賞與第二十屆紫式部文學獎。<br>\\n\\u3000\\u30002013年，以詩集《水瓶》（暫譯）榮獲第四十三屆高見順獎，並以《說什麼愛的夢》（暫譯）榮獲第四十九屆谷崎潤一郎獎。<br>\\n<br>\\n\\u3000\\u30002016年，以《憧憬》（暫譯）榮獲渡邊淳一文學獎，再以《瑪麗的愛的證明》（暫譯）榮獲Granta Best of Young Japanese Novelists 2016獎項。曾經擔任《早稻田文學增刊女性號》責任編輯。最新力作為短篇集《紫藤與三個女人》（暫譯）。<br>\\n<br>\\n<strong>村上春樹</strong><br>\\n<br>\\n\\u3000\\u30001949年生於日本京都府。早稻田大學戲劇系畢業。<br>\\n\\xa0<br>\\n\\u3000\\u30001979年以《聽風的歌》獲得「群像新人賞」，新穎的文風被譽為日本「八○年代文學旗手」，1987年代表作《挪威的森林》出版（至今暢銷超過千萬冊），奠定村上在日本多年不墜的名聲，除了暢銷，也屢獲「野間文藝賞」、「谷崎潤一郎賞」等文壇肯定，三部曲《發條鳥年代記》更受到「讀賣文學賞」的高度肯定。此外，並獲得桐山獎、卡夫卡獎、耶路撒冷獎和安徒生文學獎。除了暢銷，村上獨特的都市感及寫作風格也成了世界年輕人認同的標誌。<br>\\n\\xa0<br>\\n\\u3000\\u3000作品中譯本至今已有60幾本，包括長篇小說、短篇小說、散文及採訪報導等。<br>\\n\\xa0<br>\\n\\u3000\\u3000長篇小說有《聽風的歌》、《1973年的彈珠玩具》、《尋羊冒險記》、《世界末日與冷酷異境》、《挪威的森林》、《舞‧舞‧舞》、《國境之南、太陽之西》、《發條鳥年代記》三部曲、《人造衛星情人》、《海邊的卡夫卡》、《黑夜之後》、《1Q84 Book1》《1Q84 Book2》、《1Q84 Book3》、《沒有色彩的多崎作和他的巡禮之年》、《刺殺騎士團長》。<br>\\n\\xa0<br>\\n\\u3000\\u3000短篇小說有《開往中國的慢船》、《遇見100%的女孩》、《螢火蟲》、《迴轉木馬的終端》、《麵包店再襲擊》、《電視人》、《夜之蜘蛛猴》、《萊辛頓的幽靈》、《神的孩子都在跳舞》、《東京奇譚集》、《沒有女人的男人們》。<br>\\n\\xa0<br>\\n\\u3000\\u3000紀行文集、海外滯居記、散文、隨筆及其他有《遠方的鼓聲》、《雨天炎天》、《邊境‧近境》、《終於悲哀的外國語》、《尋找漩渦貓的方法》、《雪梨！》、 《如果我們的語言是威士忌》、《象工廠的HAPPY END》、《羊男的聖誕節》、《蘭格漢斯島的午後》、《懷念的一九八○年代》、《日出國的工場》、《爵士群像》、《地下鐵事件》、《約束的場所》、《爵士群像2》、《村上收音機》、《村上朝日堂》系列三本、《給我搖擺，其餘免談》、《關於跑步，我說的其實是……》、《村上春樹雜文集》、《村上收音機2：大蕪菁、難挑的酪梨》、《村上收音機3：喜歡吃沙拉的獅子》、《身為職業小說家》、《你說，寮國到底有什麼？》。<br>\\n<br>\\n<strong>譯者簡介<br>\\n<br>\\n劉子倩</strong><br>\\n<br>\\n\\u3000\\u3000政治大學社會系畢業，日本筑波大學社會學碩士，現為專職譯者。譯有小說、勵志、實用、藝術等多種書籍。<br>\\n<br>\\n\\xa0\\r\\n</div><div class=\"type02_gradient\" style=\"display:none;\"></div>\\n</div></div><div class=\"mod_b type02_m057 clearfix\">\\n<a name=\"CategoryP00a400020009\">&nbsp;</a>\\n<h3>目錄</h3>\\n<div class=\"bd\">\\n<div class=\"content more_off\" id=\"M201105_0_getProdTextInfo_P00a400020009_h2\">\\n        前言 川上未映子<br>\\n<br>\\n<strong>第一章 優秀的打擊樂手，不會敲出最重要的樂音</strong><br>\\n朗讀會的回憶<br>\\n「語氣」的變化<br>\\n文件櫃的存在<br>\\n關於「人稱」<br>\\n登場人物，不被囚禁的靈魂<br>\\n真正的寫實，超越現實<br>\\n讓故事「沉溺」<br>\\n文章的節奏，關於修改<br>\\n村上春樹驚人的「率直」<br>\\n關於中上建次的回憶<br>\\n「頭腦沸騰」的時間<br>\\n追求只有自己能做的事<br>\\n與書本邂逅開始的奇蹟<br>\\n將來想開爵士樂俱樂部<br>\\n<br>\\n<strong>第二章 地下二樓發生的事</strong><br>\\n標題與人稱如何決定<br>\\n「惡」的形式好像改變了<br>\\n去地下的危險<br>\\n因為那是我的洞窟風格<br>\\n我不是藝術家類型<br>\\n為了無計畫寫完小說<br>\\n貓頭鷹和作家的文件櫃<br>\\n引水人最好是三十五、六歲<br>\\n有信用交易、時間支持自己<br>\\n地下一樓的「煩惱室」問題<br>\\n「把渥美清等同阿寅」就傷腦筋了<br>\\n免色先生留下的謎團<br>\\n我的idea和那個無關<br>\\n巫師與小說家的差異<br>\\n想有個正向的結局<br>\\n寫作讓你自身有變化嗎?<br>\\n<br>\\n<strong>第三章 失眠的夜晚，和胖郵差一樣罕有</strong><br>\\n只要不斷改變文章，就無所畏懼<br>\\n《挪威的森林》的夢幻劇本<br>\\n真正尋求的，或許是男性吧<br>\\n寫文章就是認識自我<br>\\n不讓讀者睡覺的不二法門<br>\\n教授生活方式很難，寫作方式亦然<br>\\n文體就是心靈之窗<br>\\n拉著手，把自己帶往某處的存在<br>\\n女性是否過度扮演「性」的角色<br>\\n這樣的女人，從未在書中見過<br>\\n接觸我潛入地下的影子那瞬間<br>\\n<br>\\n<strong>第四章 即便沒有了紙張，人們仍會繼續敘述</strong><br>\\n日記無法保留，數字可以記錄<br>\\n先迅速下筆打草稿即可<br>\\n嶄新的第一人稱世界開始了嗎？<br>\\n以前寫的書，已經太落伍無法重讀<br>\\n就像史普林史汀的自問<br>\\n我只不過是產業中負責生蛋的鵝<br>\\n你認為死了以後會怎樣<br>\\n文字會自己向前走<br>\\n比真正的炸牡蠣更誘人<br>\\n好的故事，在久違的洞窟中相連<br>\\n<br>\\n訪談後記 村上春樹<br>\\n<br>\\n<br>\\n\\xa0\\r\\n</div><div class=\"type02_gradient\" id=\"M201105_0_getProdTextInfo_P00a400020009_g2\" style=\"display:block;\"></div>\\n</div><div class=\"ft\">\\n<span><a href=\"javascript:;\" class=\"M201105_0_getProdTextInfo_P00a400020009 more on\" id=\"M201105_0_getProdTextInfo_P00a400020009_m2\">看更多</a></span>\\n<!--<span><a href=\"javascript:;\" class=\"more off\" >收回</a></span>-->\\n</div></div><div class=\"mod_b type02_m057 clearfix\">\\n<a name=\"PrefaceP00a400020009\">&nbsp;</a>\\n<h3>序</h3>\\n<div class=\"bd\">\\n<div class=\"content more_off\" id=\"M201105_0_getProdTextInfo_P00a400020009_h3\">\\n<strong>前言<br>\\n<br>\\n川上未映子</strong><br>\\n<br>\\n\\u3000\\u3000第一次見到村上先生是在十年前的某個頒獎典禮上。等待上台時，我說：「怎麼辦？我根本沒想好要講甚麼。」村上先生說：「這種時候只要保持笑容就行了。」或許是因此安了心，結果我上台之後滔滔不絕。離開會場後，還被村上先生轉過身來揶揄：「妳這不是很會講嗎？」不禁大笑。<br>\\n<br>\\n\\u3000\\u3000轉眼匆匆多年，我從柴田元幸先生那裡接下採訪村上先生的任務。這次訪談是為了紀念村上先生寫的《身為職業小說家》出版，訪談內容於二○一五年刊載在文藝雜誌《MONKEY》，並收錄於本書的第一章。之後有幸得到各界「內容很有趣」的好評，村上先生似乎也很滿意，後來，我們在福島的文學工作坊見面時，他還主動對我說：「那個訪談不錯。如果能出版成書就好了。」之後到了二○一六年秋天。村上先生寫完長篇小說《刺殺騎士團長》，我終於接到以該書為重心的正式訪談任務。至於訪談內容，全憑我自己做主，可以自由發揮。於是在隆冬時節進行三天訪談，就此有了本書的雛型。<br>\\n<br>\\n\\u3000\\u3000起初我深感「背負著無數讀者的期望」這個重責大任，一邊做準備一邊絞盡腦汁設想各種題目。但是有一天，我忽然醒悟，「想問甚麼，就照想問的方式，直接去問就好了。」（這樣寫很像詩人相田光男的風格）。是的，不用在意任何人，打從十五、六歲就一直閱讀村上作品的我，如今只要把我真正想問的問題問出來即可。毋須從水井上方探頭窺視村上先生的井浮想聯翩，只要直接縱身跳進井中就行了。當然如果可以的話，最好是和村上先生同行。這下子心情頓時輕鬆多了。<br>\\n<br>\\n\\u3000\\u3000我從無採訪他人的經驗，訪談過程中一下子問東一下子問西毫無章法，而且打破砂鍋問到底很是囉唆，但村上先生對我的任何問題都鄭重且詳細地答覆。身為寫作者也身為讀者，我從村上春樹這位作家及其作品中獲益良多，但這次的訪談擁有和那些截然不同的差異與震撼力，讓我大開眼界。<br>\\n<br>\\n\\u3000\\u3000在對話中、校稿過程中、驀然出現的比喻中、乃至玩笑中──處處皆有村上先生魔術筆觸的瞬間，名符其實有了一場神奇體驗。身在如此強大的磁場中雖然每次都會有點緊張，不過，第一次見到村上先生時的印象始終如一，得以度過笑聲不絕、非常愉快的時光。<br>\\n<br>\\n\\u3000\\u3000不知各位讀者會如何閱讀本書，迄今我也還不知道這次訪談對我自己會有甚麼樣的意義。不過，重要的是耐心用時間去醞釀，並且掌握真正的時機。我想村上先生也一直在反覆傳達這點。一如希臘智慧女神米涅瓦的貓頭鷹，故事中的貓頭鷹總在黃昏飛翔，就是那一刻。<br>\\n<br>\\n\\u3000\\u3000不過撇開那個不談──首先，各位若也能陪我一起縱身跳入井中，我會很開心。歡迎來到村上先生的井。<br>\\n<br>\\n\\xa0\\r\\n</div><div class=\"type02_gradient\" id=\"M201105_0_getProdTextInfo_P00a400020009_g3\" style=\"display:block;\"></div>\\n</div><div class=\"ft\">\\n<span><a href=\"javascript:;\" class=\"M201105_0_getProdTextInfo_P00a400020009 more on\" id=\"M201105_0_getProdTextInfo_P00a400020009_m3\">看更多</a></span>\\n<!--<span><a href=\"javascript:;\" class=\"more off\">收回</a></span>-->\\n</div></div><script type=\"text/javascript\">\\n$(document).ready(function(){\\r\\n    var opt_module_id = \"M201105_0_getProdTextInfo_P00a400020009\";//模組編碼參數\\r\\n    var opt_element_id = \"P00a400020009\";\\r\\n    var M201105_0_getProdTextInfo_P00a400020009 = new more_on_off(opt_module_id,opt_element_id);\\r\\n });\\r\\n</script>\\n<div class=\"mod_b type02_m058 clearfix\">\\n<a name=\"P00a400020016\">&nbsp;</a>\\n<h3>詳細資料</h3>\\n<div class=\"bd\">\\n<ul><li>ISBN：9789571376684</li><li>叢書系列：<a href=\\'https://www.books.com.tw/web/sys_puballb/books/?se=%E6%9D%91%E4%B8%8A%E6%98%A5%E6%A8%B9%E4%BD%9C%E5%93%81%E9%9B%86&pubid=ctpubco\\'>村上春樹作品集</a></li><li>規格：平裝                                             / 336頁 / 14.8 x 21 x 1.68 cm / 普通級                                          / 單色印刷                                       / 初版</li><li>出版地：台灣                                            </li></ul>\\n<ul class=\"sort\">\\n<li>本書分類：<a href=\\'https://www.books.com.tw/web/books_topm_01/\\'>文學小說</a>&gt; <a href=\\'https://www.books.com.tw/web/books_bmidm_0101/\\'>翻譯文學</a>&gt; <a href=\\'https://www.books.com.tw/web/sys_bbotm/books/010101/\\'>日本文學</a></li>\\n</ul>\\n</div></div><div class=\"mod type02_m064 clearfix\">\\n<a name=\"P00a400020053\">&nbsp;</a>\\n<h3>主題活動</h3>\\n<ul>\\n<li><a href=\"//activity.books.com.tw/crosscat/show/A00000021960/1\">活著不就是一首對於青春、愛與死亡的追想曲？村上春樹睽違六年的短篇小說集</a></li>\\n</ul>\\n</div><div id=\"br_veqmfy3c\"></div><script>var i=location.pathname.replace(/\\\\/products\\\\//gi,\"\");var v=Math.floor(Math.random()*Math.floor(2));$(\"#br_veqmfy3c\").load(\"//www.books.com.tw/br/ra/br_veqmfy3c?i=\"+i+\"&v=\"+v);</script>\\n<div class=\"mod type02_m065 clearfix\">\\n<h3>最近瀏覽商品</h3><a name=\"P00a400020003\">&nbsp;</a>\\n<div class=\"mod_no clearfix\" id=\"M201101_0_getBrowseItems_P00a400020003\">\\n</div></div><script type=\"text/javascript\">\\n$(document).ready(function(){\\r\\n    var opt_module_id = \"M201101_0_getBrowseItems_P00a400020003\";//模組編碼參數\\r\\n    var opt = new Array(3);//參數資料變數\\r\\n    opt[1] = new Array();\\r\\n    opt[0] = \"getBrowseItemsAjax\";//class name\\r\\n    opt[1][0] = \"M201101_0_getBrowseItems_P00a400020003\";//item\\r\\n    opt[2] = \"M201101_060_view?bnc=8kg5-kiupng1hl8\"//template\\r\\n    var M201101_0_getBrowseItems_P00a400020003 = new ajax_product_show(opt_module_id,opt);\\r\\n});\\r\\n</script>\\n<div class=\"mod_a type02_m098 clearfix\">\\n<h3>相關活動</h3>\\n<ul>\\n<li><a href=\"https://activity.books.com.tw/crosscat/show/A00000022793\"><img src=\"https://im1.book.com.tw/image/getImage?i=https://addons.books.com.tw/G/ADbanner/2021/02/chromance/790250.jpg&v=60361d64&w=790&h=0\" alt=\"這麼多年，我還是只喜歡你，浪漫小說精選3本72折。\"></a></li>\\n</ul></div>\\n<div class=\"mod type02_m066 clearfix\">\\n<a name=\"P00a400020002\">&nbsp;</a>\\n<h3>購物說明</h3>\\n<div class=\"bd\">\\n<p><span style=\"white-space: normal; word-spacing: 0px; text-transform: none; float: none; color: rgb(38,38,38); text-align: justify; font: 13px/22px Arial, Helvetica, sans-serif, 新細明體; display: inline !important; letter-spacing: normal; background-color: rgb(255,255,255); text-indent: 0px; -webkit-text-stroke-width: 0px\">若您具有法人身份為常態性且大量購書者，或有特殊作業需求，建議您可洽詢「<a href=\"http://db.books.com.tw/gpts/qa2010/qaindex_2010.htm\" target=\"_self\">企業採購</a></span><span style=\"white-space: normal; word-spacing: 0px; text-transform: none; float: none; color: rgb(38,38,38); text-align: justify; font: 13px/22px Arial, Helvetica, sans-serif, 新細明體; display: inline !important; letter-spacing: normal; background-color: rgb(255,255,255); text-indent: 0px; -webkit-text-stroke-width: 0px\">」。<span class=\"Apple-converted-space\">&nbsp;</span></span><br style=\"white-space: normal; word-spacing: 0px; text-transform: none; color: rgb(38,38,38); text-align: justify; font: 13px/22px Arial, Helvetica, sans-serif, 新細明體; letter-spacing: normal; background-color: rgb(255,255,255); text-indent: 0px; -webkit-text-stroke-width: 0px\" />\\n<br style=\"white-space: normal; word-spacing: 0px; text-transform: none; color: rgb(38,38,38); text-align: justify; font: 13px/22px Arial, Helvetica, sans-serif, 新細明體; letter-spacing: normal; background-color: rgb(255,255,255); text-indent: 0px; -webkit-text-stroke-width: 0px\" />\\n<font color=\"#000080\" style=\"white-space: normal; word-spacing: 0px; text-transform: none; text-align: justify; font: 13px/22px Arial, Helvetica, sans-serif, 新細明體; letter-spacing: normal; background-color: rgb(255,255,255); text-indent: 0px; -webkit-text-stroke-width: 0px\"><b>退換貨說明</b></font><span style=\"white-space: normal; word-spacing: 0px; text-transform: none; float: none; color: rgb(38,38,38); text-align: justify; font: 13px/22px Arial, Helvetica, sans-serif, 新細明體; display: inline !important; letter-spacing: normal; background-color: rgb(255,255,255); text-indent: 0px; -webkit-text-stroke-width: 0px\"><span class=\"Apple-converted-space\">&nbsp;</span></span><br style=\"white-space: normal; word-spacing: 0px; text-transform: none; color: rgb(38,38,38); text-align: justify; font: 13px/22px Arial, Helvetica, sans-serif, 新細明體; letter-spacing: normal; background-color: rgb(255,255,255); text-indent: 0px; -webkit-text-stroke-width: 0px\" />\\n<br style=\"white-space: normal; word-spacing: 0px; text-transform: none; color: rgb(38,38,38); text-align: justify; font: 13px/22px Arial, Helvetica, sans-serif, 新細明體; letter-spacing: normal; background-color: rgb(255,255,255); text-indent: 0px; -webkit-text-stroke-width: 0px\" />\\n<span style=\"white-space: normal; word-spacing: 0px; text-transform: none; float: none; color: rgb(38,38,38); text-align: justify; font: 13px/22px Arial, Helvetica, sans-serif, 新細明體; display: inline !important; letter-spacing: normal; background-color: rgb(255,255,255); text-indent: 0px; -webkit-text-stroke-width: 0px\">會員所購買的商品均享有到貨十天的猶豫期（含例假日）。退回之商品必須於猶豫期內寄回。<span class=\"Apple-converted-space\">&nbsp;</span></span><br />\\n<br />\\n<b style=\"font-size: 13px; font-family: Arial, Helvetica, sans-serif, 新細明體; font-variant: normal; white-space: normal; word-spacing: 0px; text-transform: none; color: rgb(38,38,38); font-style: normal; text-align: justify; letter-spacing: normal; line-height: 22px; background-color: rgb(255,255,255); text-indent: 0px; -webkit-text-stroke-width: 0px\">辦理退換貨時，商品必須是全新狀態與完整包裝(請注意保持商品本體、配件、贈品、保證書、原廠包裝及所有附隨文件或資料的完整性，切勿缺漏任何配件或損毀原廠外盒)。退回商品無法回復原狀者，恐將影響退貨權益或需負擔部分費用。</b><span style=\"white-space: normal; word-spacing: 0px; text-transform: none; float: none; color: rgb(38,38,38); text-align: justify; font: 13px/22px Arial, Helvetica, sans-serif, 新細明體; display: inline !important; letter-spacing: normal; background-color: rgb(255,255,255); text-indent: 0px; -webkit-text-stroke-width: 0px\"><span class=\"Apple-converted-space\">&nbsp;</span></span><br style=\"white-space: normal; word-spacing: 0px; text-transform: none; color: rgb(38,38,38); text-align: justify; font: 13px/22px Arial, Helvetica, sans-serif, 新細明體; letter-spacing: normal; background-color: rgb(255,255,255); text-indent: 0px; -webkit-text-stroke-width: 0px\" />\\n<br style=\"white-space: normal; word-spacing: 0px; text-transform: none; color: rgb(38,38,38); text-align: justify; font: 13px/22px Arial, Helvetica, sans-serif, 新細明體; letter-spacing: normal; background-color: rgb(255,255,255); text-indent: 0px; -webkit-text-stroke-width: 0px\" />\\n<b style=\"font-size: 13px; font-family: Arial, Helvetica, sans-serif, 新細明體; font-variant: normal; white-space: normal; word-spacing: 0px; text-transform: none; color: rgb(38,38,38); font-style: normal; text-align: justify; letter-spacing: normal; line-height: 22px; background-color: rgb(255,255,255); text-indent: 0px; -webkit-text-stroke-width: 0px\">訂購本商品前請務必詳閱商品<a href=\"https://www.books.com.tw/web/sys_qalist/qa_36_87/0?loc=000_087\" style=\"text-decoration: underline; color: rgb(51,51,51); outline-width: medium; outline-style: none; outline-color: invert\">退換貨原則</a>。</b><span style=\"white-space: normal; word-spacing: 0px; text-transform: none; float: none; color: rgb(38,38,38); text-align: justify; font: 13px/22px Arial, Helvetica, sans-serif, 新細明體; display: inline !important; letter-spacing: normal; background-color: rgb(255,255,255); text-indent: 0px; -webkit-text-stroke-width: 0px\"><span class=\"Apple-converted-space\">&nbsp;</span></span></p>\\n</div></div></div>\\n<div class=\"grid_5 omega\">\\n<div class=\"mod_b type02_m055 clearfix\">\\n<ul>\\n<li><a href=\"https://activity.books.com.tw/crosscat/show/A00000023202?loc=P_0033_001\"><img alt=\"城邦四社聯展\" src=\"https://addons.books.com.tw/G/ADbanner/2021/03/cite_190120.jpg\"></a></li><li><a href=\"https://www.books.com.tw/web/exhibition?loc=P_0033_002\"><img alt=\"國際書展\" src=\"https://addons.books.com.tw/G/ADbanner/2021/01/bookfair2021/190120-1.jpg\"></a></li>\\n</ul>\\n</div><div id=\"br_60nq68yhb\"></div><script>var i=location.pathname.replace(/\\\\/products\\\\//gi,\"\");var v=Math.floor(Math.random()*Math.floor(2));$(\"#br_60nq68yhb\").load(\"//www.books.com.tw/br/ra/br_60nq68yhb?i=\"+i+\"&v=\"+v);</script>\\n<div class=\"mod_b type02_m051 clearfix\">\\n<h3>同類商品新上架</h3>\\n<ul>\\n<li class=\"first\">\\n<em>1.</em><a href=\\'https://www.books.com.tw/products/0010886866?loc=P_0022_001\\'><img class=\\'cover\\' src=\\'https://im1.book.com.tw/image/getImage?i=https://www.books.com.tw/img/001/088/68/0010886866.jpg&v=604c3cfa&w=110&h=110\\' alt=\\'艾迪.弗林系列套書(不能贏的辯護、騙局、騙子律師、第13位陪審員)\\'></a>\\n<p><a  href=\"https://www.books.com.tw/products/0010886866?loc=P_0022_001\">艾迪.弗林系列套書(不能贏的辯護、騙局、騙子律師、第13位陪審員)</a></p>\\n</li><li >\\n<em>2.</em>\\n<p><a  href=\"https://www.books.com.tw/products/0010886319?loc=P_0022_002\">三六六.日日賞讀之二 古典詩詞美麗世界(唐至清代)</a></p>\\n</li><li >\\n<em>3.</em>\\n<p><a  href=\"https://www.books.com.tw/products/0010886677?loc=P_0022_003\">普通讀者：吳爾夫閱讀隨筆集(全新典藏版)</a></p>\\n</li><li >\\n<em>4.</em>\\n<p><a  href=\"https://www.books.com.tw/products/0010886998?loc=P_0022_004\">滯留結界的無辜者</a></p>\\n</li><li >\\n<em>5.</em>\\n<p><a  href=\"https://www.books.com.tw/products/0010887279?loc=P_0022_005\">貓在之地</a></p>\\n</li>\\n</ul>\\n</div><div class=\"mod_b type02_m051 clearfix\">\\n<h3>本類新品熱銷</h3>\\n<ul>\\n<li class=\"first\">\\n<em>1.</em><a href=\\'https://www.books.com.tw/products/0010887083?loc=P_0021_001\\'><img class=\\'cover\\' src=\\'https://im2.book.com.tw/image/getImage?i=https://www.books.com.tw/img/001/088/70/0010887083.jpg&v=605088e6&w=110&h=110\\' alt=\\'十二首歌【特別珍藏．作者簽名．首刷贈品版】\\'></a>\\n<p><a  href=\"https://www.books.com.tw/products/0010887083?loc=P_0021_001\">十二首歌【特別珍藏．作者簽名．首刷贈品版】</a></p>\\n</li><li >\\n<em>2.</em>\\n<p><a  href=\"https://www.books.com.tw/products/0010887416?loc=P_0021_002\">故事許願機：你許一個願，我用一個真實人生故事回答你（博客來獨家限量簽名版）</a></p>\\n</li><li >\\n<em>3.</em>\\n<p><a  href=\"https://www.books.com.tw/products/0010886953?loc=P_0021_003\">64【燦銀親簽版．全球盛讚推崇，橫山秀夫經典鉅作】</a></p>\\n</li><li >\\n<em>4.</em>\\n<p><a  href=\"https://www.books.com.tw/products/0010886694?loc=P_0021_004\">荒涼手記【附贈限量文字轉印貼紙】</a></p>\\n</li><li >\\n<em>5.</em>\\n<p><a  href=\"https://www.books.com.tw/products/0010886958?loc=P_0021_005\">是我未經允許就喜歡了你【限量贈我們的回憶票券收納夾】</a></p>\\n</li>\\n</ul>\\n</div><div class=\"mod_b type02_m051 clearfix\">\\n<h3>本類暢銷榜</h3>\\n<ul>\\n<li class=\"first\">\\n<em>1.</em><a href=\\'https://www.books.com.tw/products/0010881137?loc=P_0020_001\\'><img class=\\'cover\\' src=\\'https://im2.book.com.tw/image/getImage?i=https://www.books.com.tw/img/001/088/11/0010881137.jpg&v=5ff6e2b0&w=110&h=110\\' alt=\\'第一人稱單數（深夜酒吧限定版）\\'></a>\\n<p><a  href=\"https://www.books.com.tw/products/0010881137?loc=P_0020_001\">第一人稱單數（深夜酒吧限定版）</a></p>\\n</li><li >\\n<em>2.</em>\\n<p><a  href=\"https://www.books.com.tw/products/0010884273?loc=P_0020_002\">此生，你我皆短暫燦爛</a></p>\\n</li><li >\\n<em>3.</em>\\n<p><a  href=\"https://www.books.com.tw/products/0010881061?loc=P_0020_003\">第一人稱單數</a></p>\\n</li><li >\\n<em>4.</em>\\n<p><a  href=\"https://www.books.com.tw/products/0010884840?loc=P_0020_004\">哈利波特(4)火盃的考驗【繁體中文版20週年紀念】</a></p>\\n</li><li >\\n<em>5.</em>\\n<p><a  href=\"https://www.books.com.tw/products/0010884077?loc=P_0020_005\">克拉拉與太陽【首刷限量燙色簽名書衣】</a></p>\\n</li>\\n</ul>\\n</div><div class=\"mod_b type02_m052 clearfix\">\\n<h3>訂閱電子報</h3>\\n  想獲得最新商品資訊，請訂閱<a href=\"http://www.books.com.tw/e-page/\">免費電子報</a>\\n</div><div class=\"mod clearfix\">\\n<script type=\\'text/javascript\\'>\\n  var googletag = googletag || {};\\r\\n  googletag.cmd = googletag.cmd || [];\\r\\n  (function() {\\r\\n    var gads = document.createElement(\\'script\\');\\r\\n    gads.async = true;\\r\\n    gads.type = \\'text/javascript\\';\\r\\n    var useSSL = \\'https:\\' == document.location.protocol;\\r\\n    gads.src = (useSSL ? \\'https:\\' : \\'http:\\') +\\r\\n      \\'//www.googletagservices.com/tag/js/gpt.js\\';\\r\\n    var node = document.getElementsByTagName(\\'script\\')[0];\\r\\n    node.parentNode.insertBefore(gads, node);\\r\\n  })();\\r\\n</script>\\n<script type=\\'text/javascript\\'>\\n  googletag.cmd.push(function() {\\r\\n    googletag.defineSlot(\\'/17812066/books_books_D_160x600_right\\', [160, 600], \\'div-gpt-ad-1463731526790-0\\').addService(googletag.pubads());\\r\\n    googletag.pubads().enableSingleRequest();\\r\\n    googletag.pubads().collapseEmptyDivs();\\r\\n    googletag.enableServices();\\r\\n  });\\r\\n</script>\\n<div id=\\'div-gpt-ad-1463731526790-0\\' style=\\'text-align: right\\'>\\n<script type=\\'text/javascript\\'>\\ngoogletag.cmd.push(function() { googletag.display(\\'div-gpt-ad-1463731526790-0\\'); });\\r\\n</script>\\n</div></div></div>\\n</div></div></div><div class=\"container_24 type04_footer clearfix\"><div class=\"grid_24 wrap clearfix\">\\n<div class=\"box_1 clearfix\"><div class=\"item clearfix\">\\n<h4>關於我們</h4><ul>\\n<li><a href=\"//www.books.com.tw/isi/aboutbooks.htm?loc=footer_01_001\">關於博客來</a></li>\\n<li><a href=\"https://www.7-11.com.tw/pcsc/Index.html\">關於PCSC</a></li>\\n<li><a href=\"//www.books.com.tw/services/privacy.htm?loc=footer_01_002\">隱私權政策</a></li>\\n<li><a href=\"//www.books.com.tw/data/qanda/servicepolicy.htm?loc=footer_01_003\">服務條款</a></li>\\n<li><a href=\"https://www.104.com.tw/jobbank/custjob/index.php?r=cust&j=4c4a436e3c5c3e2548423c1d1d1d1d5f2443a363189j99&jobsource=n104bank1\">人才募集</a></li>\\n<li><a href=\"//www.books.com.tw/stakeholder/index?loc=footer_01_004\">利害關係人專區</a></li>\\n</ul>\\n</div><div class=\"item clearfix\">\\n<h4>會員服務</h4>\\n<ul><li><a href=\"javascript:void(0);\" onclick=\"location.href=\\'https://cart.books.com.tw/member/join_step1/?loc=footer_02_001&url=\\' + encodeURIComponent(window.location.href);\">加入會員</a></li>\\n<li><a href=\"//www.books.com.tw/activity/guide/?loc=footer_02_002\">新手上路</a></li>\\n<li><a href=\"//www.books.com.tw/activity/vip/?loc=footer_02_003\">會員分級</a></li>\\n<li><a href=\"//www.books.com.tw/e-page/?loc=footer_02_004\">訂閱電子報</a></li>\\n<li><a href=\"//www.books.com.tw/activity/24hr/24hr.htm?loc=footer_02_005\">24小時隔日取貨</a></li>\\n<li><a href=\"//www.books.com.tw/mobile/?loc=footer_02_006\">行動博客來</a></li>\\n<li class=\"icon_mobile\"><a href=\"javascript:void(0)\" onclick=\"document.cookie=\\'booksstyle=M;path=/;domain=books.com.tw;\\';if(typeof dataLayer !=\\'undefined\\'){dataLayer.push({\\'event\\':\\'SendEvent\\', \\'eventCategory\\':\\'change\\', \\'eventAction\\':\\'dtm\\', \\'eventLabel\\': \\'www\\', \\'eventValue\\':\\'1\\', \\'eventNonInteraction\\':0});}if(encodeURI(window.location.pathname).substring(0,10) == \\'/products/\\' || encodeURI(window.location.pathname).indexOf(\\'/ovs\\') !== -1 || encodeURI(window.location.pathname).indexOf(\\'/sys_ovsbotm\\') !== -1 || encodeURI(window.location.pathname).indexOf(\\'/sys_saletopovs\\') !== -1\\r\\n){location.href=\\'//www.books.com.tw/exep/assp.php/bookland\\' + encodeURI(window.location.pathname+window.location.search) + \\'?loc=footer_02_007\\';}else{location.href=\\'//www.books.com.tw/exep/assp.php/bookland?loc=footer_02_007\\';}\">切換行動版</a></li></ul>\\n</div><div class=\"item clearfix\">\\n<h4>合作提案</h4>\\n<ul><li><a href=\"//group.books.com.tw/?loc=footer_03_001\">企業採購</a></li>\\n<li><a href=\"//www.books.com.tw/benefit/?loc=footer_03_002\">福利平台</a></li>\\n<li><a href=\"//www.books.com.tw/exep/supplier/addsupplier.php?loc=footer_03_003\">加入供應商</a></li>\\n<li><a href=\"//ap.books.com.tw/?loc=footer_03_004\">AP策略聯盟</a></li>\\n<li><a href=\"//www.books.com.tw/marketing/ad.htm?loc=footer_03_005\">異業合作</a></li></ul>\\n</div><div class=\"item clearfix\">\\n<h4>客服中心</h4>\\n<ul><li><a href=\"https://cart.books.com.tw/member/forgot/?loc=footer_04_001\">查詢帳號密碼</a></li>\\n<li><a href=\"//www.books.com.tw/question/inquiry/?loc=footer_04_002\">客服信箱</a></li>\\n<li><a href=\"//www.books.com.tw/web/qa/?loc=footer_04_004\">客服中心Q&amp;A</a></li>\\n<li class=\"icon_service\"><a href=\"//www.books.com.tw/web/csservice?loc=footer_04_005\">線上客服</a></li></ul>\\n</div><div class=\"item clearfix\">\\n<h4>好站連結</h4>\\n<ul><li><a href=\"//okapi.books.com.tw/index.php/?loc=footer_05_001\">OKAPI&nbsp;閱讀生活誌</a></li>\\n<li><a href=\"https://youth.books.com.tw/?loc=footer_05_002\">青春博客來</a></li>\\n<li><a href=\"//tickets.books.com.tw/index/?loc=footer_05_003\">售票網</a></li>\\n<li><a href=\"https://www.youtube.com/user/BooksTW\">博客來Youtube</a></li>\\n<li class=\"icon_facebook\"><a href=\"https://www.facebook.com/bookstw\">博客來粉絲團</a></li></ul>\\n</div><div class=\"payment_trust clearfix\">\\n<h4>得獎認證</h4>\\n<ul><li class=\"logo_7\"><span title=\"天下雜誌2017金牌服務大賞\">天下雜誌2017金牌服務大賞</span></li>\\n<li class=\"logo_8\"><span title=\"2016新世代最嚮往企業\">2016新世代最嚮往企業</span></li>\\n<li class=\"logo_1\"><span title=\"SSL憑證服務\">SSL憑證服務</span></li>\\n<li class=\"logo_2\"><span title=\"數位時代2012年台灣網站100強\">數位時代2012年台灣網站100強</span></li>\\n<li class=\"logo_3\"><span title=\"電子發票推廣標章\">電子發票推廣標章</span></li>\\n<li class=\"logo_6\"><span title=\"dpmark資料隱私保護標章\">dpmark資料隱私保護標章</span></li>\\n<li class=\"logo_5\"><span title=\"數位時代2011台灣電子商務TOP50強\">數位時代2011台灣電子商務TOP50強</span></li>\\n<li class=\"logo_9\"><span title=\"行政院環保署B2C網購包裝減量標章。包裝減量。環保材質。循環包材。\">行政院環保署B2C網購包裝減量標章。包裝減量。環保材質。循環包材。</span></li>\\n</ul>\\n</div></div><div class=\"box_2 clearfix\">\\n<ul class=\"service_message\"><li><p><span>客戶服務專線：02-26535588</span><span>傳真：02-27885008</span><span>服務時間：週一~五 8:00~19:00，週六~日、例假日 9:00~18:00，365天全年無休</span></p></li>\\n<li><p><span>博客來數位科技股份有限公司</span><span>地址：臺灣 115 台北市南港區八德路四段768巷1弄18號B1之1&nbsp;&nbsp;食品業者登錄字號：A-196922355-00000-9</span></p></li>\\n<li><p>Copyright &copy; since 1995 books.com.tw All Rights Reserved.</p></li></ul>\\n</div></div></div></body>\\n</html>'"
      ]
     },
     "execution_count": 16,
     "metadata": {},
     "output_type": "execute_result"
    }
   ],
   "source": [
    "rtext"
   ]
  },
  {
   "cell_type": "code",
   "execution_count": null,
   "metadata": {},
   "outputs": [],
   "source": [
    "class A(Sequence):\n",
    "    pass"
   ]
  },
  {
   "cell_type": "code",
   "execution_count": null,
   "metadata": {},
   "outputs": [],
   "source": [
    "A()"
   ]
  },
  {
   "cell_type": "code",
   "execution_count": null,
   "metadata": {},
   "outputs": [],
   "source": [
    "import random\n",
    "list = ({1: 2}, {2: 3})\n",
    "random.shuffle(list)"
   ]
  },
  {
   "cell_type": "code",
   "execution_count": null,
   "metadata": {},
   "outputs": [],
   "source": [
    "list"
   ]
  },
  {
   "cell_type": "code",
   "execution_count": null,
   "metadata": {},
   "outputs": [],
   "source": [
    "import pandas as pd"
   ]
  },
  {
   "cell_type": "code",
   "execution_count": null,
   "metadata": {},
   "outputs": [],
   "source": [
    "tmp = [{'a': \"1\", 'b': 2}, {'a': 1, 'b': 3}, {}]\n",
    "pd.DataFrame(tmp).values.tolist()"
   ]
  },
  {
   "cell_type": "code",
   "execution_count": null,
   "metadata": {},
   "outputs": [],
   "source": [
    "[d for d in tmp if d]"
   ]
  },
  {
   "cell_type": "code",
   "execution_count": null,
   "metadata": {},
   "outputs": [],
   "source": [
    "sum([1, True, None])"
   ]
  },
  {
   "cell_type": "code",
   "execution_count": null,
   "metadata": {},
   "outputs": [],
   "source": [
    "import asyncio\n",
    "t = []\n",
    "#\n",
    "async def A():\n",
    "    await asyncio.sleep(1)\n",
    "    t.append(1)\n",
    "async def B():\n",
    "    await asyncio.sleep(4)\n",
    "    t.append(2)"
   ]
  },
  {
   "cell_type": "code",
   "execution_count": null,
   "metadata": {},
   "outputs": [],
   "source": [
    "t"
   ]
  },
  {
   "cell_type": "code",
   "execution_count": null,
   "metadata": {},
   "outputs": [],
   "source": [
    "tasks = [asyncio.create_task(t()) for t in [A, B]]\n",
    "await asyncio.wait(tasks)"
   ]
  },
  {
   "cell_type": "code",
   "execution_count": null,
   "metadata": {},
   "outputs": [],
   "source": [
    "t"
   ]
  },
  {
   "cell_type": "code",
   "execution_count": null,
   "metadata": {},
   "outputs": [],
   "source": [
    "for a, b in [[1, 2]]:\n",
    "    print(a, b)"
   ]
  },
  {
   "cell_type": "code",
   "execution_count": null,
   "metadata": {},
   "outputs": [],
   "source": [
    "a = input()"
   ]
  },
  {
   "cell_type": "code",
   "execution_count": null,
   "metadata": {},
   "outputs": [],
   "source": [
    "[int(n) for n in list(a)]"
   ]
  },
  {
   "cell_type": "code",
   "execution_count": null,
   "metadata": {},
   "outputs": [],
   "source": [
    "import random"
   ]
  },
  {
   "cell_type": "code",
   "execution_count": null,
   "metadata": {},
   "outputs": [],
   "source": [
    "from random import randrange\n",
    "print(randrange(10))"
   ]
  },
  {
   "cell_type": "code",
   "execution_count": null,
   "metadata": {},
   "outputs": [],
   "source": [
    "a = [{1: 2}, {2: 3}, {}]\n",
    "random.shuffle(a)\n",
    "a"
   ]
  },
  {
   "cell_type": "code",
   "execution_count": null,
   "metadata": {},
   "outputs": [],
   "source": [
    "f'{19.12545:.2}'"
   ]
  },
  {
   "cell_type": "code",
   "execution_count": null,
   "metadata": {},
   "outputs": [],
   "source": []
  }
 ],
 "metadata": {
  "kernelspec": {
   "display_name": "Python 3",
   "language": "python",
   "name": "python3"
  },
  "language_info": {
   "codemirror_mode": {
    "name": "ipython",
    "version": 3
   },
   "file_extension": ".py",
   "mimetype": "text/x-python",
   "name": "python",
   "nbconvert_exporter": "python",
   "pygments_lexer": "ipython3",
   "version": "3.9.2"
  },
  "toc-autonumbering": true
 },
 "nbformat": 4,
 "nbformat_minor": 4
}
