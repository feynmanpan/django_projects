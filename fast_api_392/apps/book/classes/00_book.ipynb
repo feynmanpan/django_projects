{
 "cells": [
  {
   "cell_type": "code",
   "execution_count": 1,
   "metadata": {},
   "outputs": [],
   "source": [
    "import sys\n",
    "import os\n",
    "# sys.path.append(top) 把392頂層目錄加到最前面 '/home/pan/django_projects/fast_api_392'\n",
    "top = os.path.dirname(os.path.dirname(os.path.dirname(os.getcwd())))\n",
    "sys.path.insert(0, top)\n",
    "# sys.path"
   ]
  },
  {
   "cell_type": "code",
   "execution_count": 2,
   "metadata": {},
   "outputs": [],
   "source": [
    "from apps.book.classes.bbooks import BOOKS"
   ]
  },
  {
   "cell_type": "code",
   "execution_count": 10,
   "metadata": {},
   "outputs": [],
   "source": [
    "init = {'bookid': '0010815762'}\n",
    "book = BOOKS(**init)"
   ]
  },
  {
   "cell_type": "code",
   "execution_count": null,
   "metadata": {},
   "outputs": [],
   "source": [
    "# book.update_errcnt = 0\n",
    "await book.update_info()\n",
    "# book.__dict__"
   ]
  },
  {
   "cell_type": "code",
   "execution_count": null,
   "metadata": {},
   "outputs": [],
   "source": [
    "book.info  # ['err']\n",
    "# # not ''\n",
    "# import apps.ips.config as ipscfg"
   ]
  },
  {
   "cell_type": "code",
   "execution_count": null,
   "metadata": {},
   "outputs": [],
   "source": [
    "ipscfg.ips_cycle"
   ]
  },
  {
   "cell_type": "code",
   "execution_count": null,
   "metadata": {},
   "outputs": [],
   "source": [
    "headers = {\n",
    "    'User-Agent': 'Mozilla/5.0 (Windows NT 10.0; Win64; x64) AppleWebKit/537.36 (KHTML, like Gecko) Chrome/84.0.4147.135 Safari/537.36',\n",
    "}\n",
    "headers2 = {\n",
    "    'User-Agent': 'Mozilla/5.0 (Windows NT 10.0; Win64; x64) AppleWebKit/537.36 (KHTML, like Gecko) Chrome/84.0.4147.135 Safari/537.36',\n",
    "    \"Referer\": \"https://www.books.com.tw/products/0010550825\",\n",
    "\n",
    "}\n",
    "url = 'https://www.books.com.tw/products/0010550825?sloc=main'\n",
    "url2 = 'https://www.books.com.tw/product_show/getCommentAjax/0010550825:1:A:M201101_0_getCommentData_P00a400020068:getCommentAjax:M201101_078_view/M201101_078_view'\n",
    "#\n",
    "connector = aiohttp.TCPConnector(ssl=True)\n",
    "TO = aiohttp.ClientTimeout(total=11)\n",
    "async with aiohttp.ClientSession(connector=connector, timeout=TO) as session:\n",
    "    async with session.get(url, headers=headers) as r:\n",
    "        status = r.status\n",
    "        rtext = await r.text(encoding='utf8')\n",
    "    async with session.get(url2, headers=headers2) as r:\n",
    "        status = r.status\n",
    "        rtext2 = await r.text(encoding='utf8')"
   ]
  },
  {
   "cell_type": "code",
   "execution_count": null,
   "metadata": {},
   "outputs": [],
   "source": [
    "status"
   ]
  },
  {
   "cell_type": "code",
   "execution_count": null,
   "metadata": {},
   "outputs": [],
   "source": [
    "# rtext2\n",
    "a = '123{}'\n",
    "a.format(456)"
   ]
  },
  {
   "cell_type": "code",
   "execution_count": null,
   "metadata": {},
   "outputs": [],
   "source": [
    "class INFO:\n",
    "    cols = [\n",
    "        'store',\n",
    "        'bookid', 'isbn10', 'isbn13',\n",
    "        'title', 'title2',\n",
    "        'author',\n",
    "        'publisher', 'pub_dt', 'lang',\n",
    "        'price_list', 'price_sale',\n",
    "        'spec', 'intro', 'comment',\n",
    "        'url_book', 'url_vdo', 'url_cover',\n",
    "        'err',\n",
    "        'create_dt',\n",
    "    ]\n",
    "    empty = set()\n",
    "\n",
    "    def __init__(self):\n",
    "        self.val = dict(zip(cols, [None]*len(cols)))\n",
    "\n",
    "    def __get__(self, obj, obj_type):\n",
    "        return self.val\n",
    "\n",
    "    def __set__(self, obj, value):\n",
    "        set0 = set(cols)\n",
    "        set1 = set(value.keys())\n",
    "        if (rest := set1-set0) != self.empty:\n",
    "        self.val = value-100"
   ]
  },
  {
   "cell_type": "code",
   "execution_count": null,
   "metadata": {},
   "outputs": [],
   "source": [
    "class BOOKS:\n",
    "    test = TEST()\n",
    "\n",
    "    def __init__(self):\n",
    "        self.test = 10"
   ]
  },
  {
   "cell_type": "code",
   "execution_count": null,
   "metadata": {},
   "outputs": [],
   "source": [
    "b = BOOKS()"
   ]
  },
  {
   "cell_type": "code",
   "execution_count": null,
   "metadata": {},
   "outputs": [],
   "source": [
    "b.test = 90"
   ]
  },
  {
   "cell_type": "code",
   "execution_count": null,
   "metadata": {},
   "outputs": [],
   "source": [
    "b.test"
   ]
  },
  {
   "cell_type": "code",
   "execution_count": null,
   "metadata": {},
   "outputs": [],
   "source": [
    "object.__setattr__(b, 'test', 101)"
   ]
  },
  {
   "cell_type": "code",
   "execution_count": null,
   "metadata": {},
   "outputs": [],
   "source": [
    "object.__getattribute__(b, 'test')"
   ]
  },
  {
   "cell_type": "code",
   "execution_count": null,
   "metadata": {},
   "outputs": [],
   "source": []
  }
 ],
 "metadata": {
  "kernelspec": {
   "display_name": "Python 3",
   "language": "python",
   "name": "python3"
  },
  "language_info": {
   "codemirror_mode": {
    "name": "ipython",
    "version": 3
   },
   "file_extension": ".py",
   "mimetype": "text/x-python",
   "name": "python",
   "nbconvert_exporter": "python",
   "pygments_lexer": "ipython3",
   "version": "3.9.2"
  }
 },
 "nbformat": 4,
 "nbformat_minor": 4
}
