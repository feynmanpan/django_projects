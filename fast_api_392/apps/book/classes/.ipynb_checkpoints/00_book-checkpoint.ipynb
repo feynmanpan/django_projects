{
 "cells": [
  {
   "cell_type": "code",
   "execution_count": 1,
   "metadata": {},
   "outputs": [],
   "source": [
    "import sys\n",
    "import os\n",
    "# sys.path.append(top) 把392頂層目錄加到最前面 '/home/pan/django_projects/fast_api_392'\n",
    "top = os.path.dirname(os.path.dirname(os.path.dirname(os.getcwd())))\n",
    "sys.path.insert(0, top)\n",
    "# sys.path"
   ]
  },
  {
   "cell_type": "code",
   "execution_count": 2,
   "metadata": {},
   "outputs": [
    {
     "name": "stdout",
     "output_type": "stream",
     "text": [
      "True 在jupyter\n"
     ]
    }
   ],
   "source": [
    "# -*- coding: utf-8 -*-\n",
    "import asyncio\n",
    "import requests\n",
    "import aiohttp\n",
    "from pyquery import PyQuery as pq\n",
    "import pandas as pd\n",
    "import os\n",
    "import sys\n",
    "from datetime import datetime\n",
    "import itertools\n",
    "import random\n",
    "from time import time\n",
    "#\n",
    "from fastapi import Request\n",
    "# 為了在jupyter中試，從apps開始import\n",
    "import apps.ips.config as ips_cfg\n",
    "from apps.ips.config import (\n",
    "    url_free_cycle, level_https, cacert,\n",
    "    ips_csv_path, ips_html_path,\n",
    "    dtype, dt_format,\n",
    "    ipcols, get_freeproxy_delta,\n",
    ")\n",
    "from apps.ips.utils import aio_get, write_file, csv_update, CHECK_PROXY\n",
    "###############################################################################\n",
    "###############################################################################\n",
    "\n",
    "\n",
    "async def get_freeproxy(t, once=True):\n",
    "    get_freeproxy_cnt = 0\n",
    "    while 1:\n",
    "        T = (ips_cfg.ips_cycle and os.path.isfile(ips_csv_path))*t  # 沒有 csv 或 ips_cycle 就馬上爬\n",
    "        await asyncio.sleep(T)\n",
    "        stime = time()\n",
    "        #\n",
    "        async with aiohttp.ClientSession(connector=aiohttp.TCPConnector(ssl=cacert)) as session:\n",
    "            status_code, rtext = await aio_get(session, next(url_free_cycle))\n",
    "            if status_code == 200 and rtext not in ['', None]:\n",
    "                doc = pq(rtext, parser='html')\n",
    "                trs = doc.find('table.table').eq(0).find('tr')\n",
    "                if trs.size():\n",
    "                    now = datetime.today().strftime(dt_format)\n",
    "                    elite = []\n",
    "                    for tr in trs:\n",
    "                        tds = pq(tr).find('td')\n",
    "                        level = tds.eq(4).text().strip()\n",
    "                        https = tds.eq(6).text().strip()\n",
    "                        # _________________________________\n",
    "                        if (level, https) not in level_https:\n",
    "                            continue\n",
    "                        # _________________________________\n",
    "                        tmp = {\n",
    "                            'ip': tds.eq(0).text().strip(),\n",
    "                            'port': tds.eq(1).text().strip(),\n",
    "                            'now': now,\n",
    "                            'goodcnt': 0,\n",
    "                        }\n",
    "                        elite.append(tmp)\n",
    "                    # 1 儲存每次撈取的原始頁面 #################################\n",
    "                    write_file(ips_html_path, rtext)\n",
    "                    # 2 重存csv: 讀取csv檔案，與最新爬的比較 #################################\n",
    "                    if os.path.isfile(ips_csv_path):\n",
    "                        df1 = pd.read_csv(ips_csv_path, dtype=dtype)\n",
    "                        df2 = pd.DataFrame(elite).astype(dtype)\n",
    "                        df3 = csv_update(df1, df2)\n",
    "                    else:\n",
    "                        df3 = pd.DataFrame(elite).astype(dtype)\n",
    "                    # 3 檢查代理 #################################\n",
    "                    ippts = df3[ipcols].values.tolist()  # goodcnt不傳進CHECK_PROXY\n",
    "                    print(f'\\n開始檢查proxy:共 {len(ippts)} 個')\n",
    "                    good_proxys = await CHECK_PROXY.get_good_proxys(ippts)\n",
    "                    print(f'結束檢查proxy: {time()-stime}')\n",
    "                    random.shuffle(good_proxys)\n",
    "                    # 4 存 csv #################################\n",
    "                    df3 = pd.DataFrame(good_proxys).astype(dtype)  # df.sample(frac=1)  # 亂排\n",
    "                    df3.to_csv(ips_csv_path, index=False)\n",
    "                    # 5 更新ips_cycle產生器 #################################\n",
    "                    ips_cfg.ips_cycle = itertools.cycle(good_proxys)\n",
    "                    #\n",
    "                    get_freeproxy_cnt += 1\n",
    "                    print(f'get_freeproxy 第{get_freeproxy_cnt}次更新成功:{now}')\n",
    "                    print(f'good_proxys 數量: {len(good_proxys)}\\n')\n",
    "                else:\n",
    "                    pass\n",
    "        if once:\n",
    "            break\n",
    "\n",
    "\n",
    "###############################################################################\n",
    "tasks_list = [\n",
    "    (get_freeproxy, [get_freeproxy_delta, False]),\n",
    "]\n",
    "###############################################################################\n",
    "\n",
    "\n",
    "if __name__ == '__main__':\n",
    "    try:\n",
    "        tmp = 'zmqshell' in str(type(get_ipython()))  # 在jupyter\n",
    "        print(tmp, '在jupyter')\n",
    "    except Exception:\n",
    "        loop = asyncio.get_event_loop()\n",
    "        task = loop.create_task(get_freeproxy(1))\n",
    "        loop.run_until_complete(task)\n",
    "else:\n",
    "    if 0:\n",
    "        asyncio.create_task(get_freeproxy(3, False))"
   ]
  },
  {
   "cell_type": "code",
   "execution_count": 3,
   "metadata": {},
   "outputs": [
    {
     "name": "stdout",
     "output_type": "stream",
     "text": [
      "\n",
      "開始檢查proxy:共 115 個\n",
      "結束檢查proxy: 22.169406175613403\n",
      "get_freeproxy 第1次更新成功:2021-03-31_09:34:49\n",
      "good_proxys 數量: 55\n",
      "\n"
     ]
    }
   ],
   "source": [
    "await get_freeproxy(1, True)"
   ]
  },
  {
   "cell_type": "code",
   "execution_count": 4,
   "metadata": {},
   "outputs": [
    {
     "name": "stdout",
     "output_type": "stream",
     "text": [
      "{'__module__': 'apps.book.classes.bbooks', '__qualname__': 'BOOKS', 'info_default': {'bookid': '0010770978'}, 'url_target_prefix': 'https://www.books.com.tw/products/', '__init__': <function BOOKS.__init__ at 0x7f304a7f5040>, 'update_info': <function BOOKS.update_info at 0x7f304a7f5b80>, 'save_info': <function BOOKS.save_info at 0x7f304a7f5310>, 'author_handle': <function BOOKS.author_handle at 0x7f304a7f51f0>, '__classcell__': <cell at 0x7f307418bb50: empty>}\n"
     ]
    }
   ],
   "source": [
    "from apps.book.classes.bbooks import BOOKS"
   ]
  },
  {
   "cell_type": "code",
   "execution_count": 5,
   "metadata": {},
   "outputs": [],
   "source": [
    "init = {'bookid': '0010556358'}\n",
    "book = BOOKS(**init)"
   ]
  },
  {
   "cell_type": "code",
   "execution_count": 6,
   "metadata": {},
   "outputs": [
    {
     "name": "stdout",
     "output_type": "stream",
     "text": [
      "{'store': 'BOOKS', 'bookid': '0010556358', 'isbn10': None, 'isbn13': '9789573270140', 'title': '大亨小傳', 'title2': 'The Great Gatsby', 'author': '作者：費茲傑羅/原文作者：F. Scott Fitzgerald/譯者：汪芃', 'publisher': None, 'pub_dt': None, 'lang': None, 'price_list': None, 'price_saleprice_list_ebook': None, 'price_sale_ebook': None, 'spec': None, 'intro': None, 'url_book': None, 'url_vdo': None, 'url_cover': None, 'err': None, 'create_dt': '2021-03-31_09:35:15'}\n",
      "3.683809757232666\n"
     ]
    }
   ],
   "source": [
    "await book.update_info()"
   ]
  },
  {
   "cell_type": "code",
   "execution_count": 10,
   "metadata": {},
   "outputs": [
    {
     "data": {
      "text/plain": [
       "7"
      ]
     },
     "execution_count": 10,
     "metadata": {},
     "output_type": "execute_result"
    }
   ],
   "source": [
    "15//2"
   ]
  },
  {
   "cell_type": "code",
   "execution_count": 74,
   "metadata": {},
   "outputs": [],
   "source": [
    "headers = {\n",
    "    'User-Agent': 'Mozilla/5.0 (Windows NT 10.0; Win64; x64) AppleWebKit/537.36 (KHTML, like Gecko) Chrome/84.0.4147.135 Safari/537.36',\n",
    "}\n",
    "headers2 = {\n",
    "    'User-Agent': 'Mozilla/5.0 (Windows NT 10.0; Win64; x64) AppleWebKit/537.36 (KHTML, like Gecko) Chrome/84.0.4147.135 Safari/537.36',\n",
    "    \"Referer\": \"https://www.books.com.tw/products/0010550825\",\n",
    "\n",
    "}\n",
    "url = 'https://www.books.com.tw/products/0010550825?sloc=main'\n",
    "url2 = 'https://www.books.com.tw/product_show/getCommentAjax/0010550825:1:A:M201101_0_getCommentData_P00a400020068:getCommentAjax:M201101_078_view/M201101_078_view'\n",
    "#\n",
    "connector = aiohttp.TCPConnector(ssl=True)\n",
    "TO = aiohttp.ClientTimeout(total=11)\n",
    "async with aiohttp.ClientSession(connector=connector, timeout=TO) as session:\n",
    "    async with session.get(url, headers=headers) as r:\n",
    "        status = r.status\n",
    "        rtext = await r.text(encoding='utf8')\n",
    "    async with session.get(url2, headers=headers2) as r:\n",
    "        status = r.status\n",
    "        rtext2 = await r.text(encoding='utf8')"
   ]
  },
  {
   "cell_type": "code",
   "execution_count": 75,
   "metadata": {},
   "outputs": [
    {
     "data": {
      "text/plain": [
       "200"
      ]
     },
     "execution_count": 75,
     "metadata": {},
     "output_type": "execute_result"
    }
   ],
   "source": [
    "status"
   ]
  },
  {
   "cell_type": "code",
   "execution_count": 84,
   "metadata": {},
   "outputs": [
    {
     "data": {
      "text/plain": [
       "'123_1_/2'"
      ]
     },
     "execution_count": 84,
     "metadata": {},
     "output_type": "execute_result"
    }
   ],
   "source": [
    "# rtext2\n",
    "a = '123{}/{}'\n",
    "a.format(\"_1_\", 2)"
   ]
  },
  {
   "cell_type": "code",
   "execution_count": 85,
   "metadata": {},
   "outputs": [],
   "source": [
    "# https://www.books.com.tw/product_show/getCommentAjax/{}:2:A:M201101_0_getCommentData_P00a400020068:getCommentAjax:M201101_078_view/M201101_078_view\n",
    "# https://www.books.com.tw/product_show/getCommentAjax/{}:1:A:M201101_0_getCommentData_P00a400020068:getCommentAjax:M201101_078_view/M201101_078_view'\n",
    "x = (i for i in range(2))"
   ]
  },
  {
   "cell_type": "code",
   "execution_count": 89,
   "metadata": {},
   "outputs": [],
   "source": [
    "a = '''\n",
    "<script type=\"text/javascript\">\n",
    "    function comment_ref(no,status,url){\n",
    "        var ajax_name = \"getCommentAjax\";\n",
    "        $.ajax({\n",
    "            url: \"//www.books.com.tw/web_show/saveCommentRef\",\n",
    "            data: {no: no,status: status,ajax_name: ajax_name},\n",
    "            type:\"POST\",\n",
    "            dataType:'json',\n",
    "            success: function(msg){\n",
    "                if( msg == true){\n",
    "                    alert(\"我們已經收到您的評價，將於隔日更新訊息\");\n",
    "                }else if( msg =='login_error'){\n",
    "                    document.location.href=\"https://cart.books.com.tw/member/login?url=\"+url;\n",
    "                }else if( msg !=false && msg !=''){\n",
    "                    alert(msg);\n",
    "                }\n",
    "            }\n",
    "        });\n",
    "    }\n",
    "    $(document).ready(function(){\n",
    "        var opt_module_id = \"M201101_0_getCommentData_P00a400020068\";//模組編碼參數\n",
    "        var item = \"0010550825\";\n",
    "        var page = 1;\n",
    "        var type = \"A\";\n",
    "        var ajax_name = \"getCommentAjax\";//class name\n",
    "        var view = \"M201101_078_view\";//template\n",
    "        var opt = new Array(4);//參數資料變數\n",
    "        opt[1] = new Array();\n",
    "        opt[0] = ajax_name;\n",
    "        opt[1][0] = item+\":\"+page+\":\"+type+\":\"+opt_module_id+\":\"+ajax_name+\":\"+view;\n",
    "        opt[2] = view;\n",
    "        opt[3] = type;\n",
    "\n",
    "        $(\".pages_num\"+type).bind(\"click\", function(){\n",
    "            if($(this).html() == '上一頁' || $(this).html() == '下一頁'){\n",
    "                $(\"input[name='page']\").val($(this).attr('name'));\n",
    "                page = $(\"input[name='page']\").val();\n",
    "            }else{\n",
    "                $(\"input[name='page']\").val($(this).html());\n",
    "                page = $(\"input[name='page']\").val();\n",
    "            }\n",
    "            opt[1][0] = item+\":\"+page+\":\"+type+\":\"+opt_module_id+\":\"+ajax_name+\":\"+view;\n",
    "            ajax_product_show(opt_module_id,opt);\n",
    "        });\n",
    "\n",
    "        $(\"#select\"+type).bind(\"change\", function(){\n",
    "            page = $(this).val();\n",
    "            opt[1][0] = item+\":\"+page+\":\"+type+\":\"+opt_module_id+\":\"+ajax_name+\":\"+view;\n",
    "            ajax_product_show(opt_module_id,opt);\n",
    "        });\n",
    "});\n",
    "</script>\n",
    "'''"
   ]
  },
  {
   "cell_type": "code",
   "execution_count": 127,
   "metadata": {},
   "outputs": [
    {
     "data": {
      "text/plain": [
       "'<script type=\"text/javascript\">    function comment_ref(no,status,url){        var ajax_name = \"getCommentAjax\";        $ajax({            url: \"//wwwbookscomtw/web_show/saveCommentRef\",            data: {no: no,status: status,ajax_name: ajax_name},            type:\"POST\",            dataType:\\'json\\',            success: function(msg){                if( msg == true){                    alert(\"我們已經收到您的評價，將於隔日更新訊息\");                }else if( msg ==\\'login_error\\'){                    documentlocationhref=\"https://cartbookscomtw/member/login?url=\"+url;                }else if( msg !=false && msg !=\\'\\'){                    alert(msg);                }            }        });    }    $(document)ready(function(){        var opt_module_id = \"M201101_0_getCommentData_P00a400020068\";//模組編碼參數        var item = \"0010550825\";        var page = 1;        var type = \"A\";        var ajax_name = \"getCommentAjax\";//class name        var view = \"M201101_078_view\";//template        var opt = new Array(4);//參數資料變數        opt[1] = new Array();        opt[0] = ajax_name;        opt[1][0] = item+\":\"+page+\":\"+type+\":\"+opt_module_id+\":\"+ajax_name+\":\"+view;        opt[2] = view;        opt[3] = type;        $(\"pages_num\"+type)bind(\"click\", function(){            if($(this)html() == \\'上一頁\\' || $(this)html() == \\'下一頁\\'){                $(\"input[name=\\'page\\']\")val($(this)attr(\\'name\\'));                page = $(\"input[name=\\'page\\']\")val();            }else{                $(\"input[name=\\'page\\']\")val($(this)html());                page = $(\"input[name=\\'page\\']\")val();            }            opt[1][0] = item+\":\"+page+\":\"+type+\":\"+opt_module_id+\":\"+ajax_name+\":\"+view;            ajax_product_show(opt_module_id,opt);        });        $(\"#select\"+type)bind(\"change\", function(){            page = $(this)val();            opt[1][0] = item+\":\"+page+\":\"+type+\":\"+opt_module_id+\":\"+ajax_name+\":\"+view;            ajax_product_show(opt_module_id,opt);        });});</script>'"
      ]
     },
     "execution_count": 127,
     "metadata": {},
     "output_type": "execute_result"
    }
   ],
   "source": [
    "import re\n",
    "re.sub('[.\\n]', '', a)"
   ]
  },
  {
   "cell_type": "code",
   "execution_count": null,
   "metadata": {},
   "outputs": [],
   "source": []
  }
 ],
 "metadata": {
  "kernelspec": {
   "display_name": "Python 3",
   "language": "python",
   "name": "python3"
  },
  "language_info": {
   "codemirror_mode": {
    "name": "ipython",
    "version": 3
   },
   "file_extension": ".py",
   "mimetype": "text/x-python",
   "name": "python",
   "nbconvert_exporter": "python",
   "pygments_lexer": "ipython3",
   "version": "3.9.2"
  }
 },
 "nbformat": 4,
 "nbformat_minor": 4
}
