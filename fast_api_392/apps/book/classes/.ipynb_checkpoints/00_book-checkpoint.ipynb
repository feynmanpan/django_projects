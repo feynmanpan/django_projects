{
 "cells": [
  {
   "cell_type": "code",
   "execution_count": 1,
   "metadata": {},
   "outputs": [],
   "source": [
    "import sys\n",
    "import os\n",
    "# sys.path.append(top) 把392頂層目錄加到最前面 '/home/pan/django_projects/fast_api_392'\n",
    "top = os.path.dirname(os.path.dirname(os.path.dirname(os.getcwd())))\n",
    "sys.path.insert(0, top)\n",
    "# sys.path"
   ]
  },
  {
   "cell_type": "code",
   "execution_count": 2,
   "metadata": {},
   "outputs": [
    {
     "name": "stdout",
     "output_type": "stream",
     "text": [
      "True 在jupyter\n"
     ]
    }
   ],
   "source": [
    "# -*- coding: utf-8 -*-\n",
    "import asyncio\n",
    "import requests\n",
    "import aiohttp\n",
    "from pyquery import PyQuery as pq\n",
    "import pandas as pd\n",
    "import os\n",
    "import sys\n",
    "from datetime import datetime\n",
    "import itertools\n",
    "import random\n",
    "from time import time\n",
    "#\n",
    "from fastapi import Request\n",
    "# 為了在jupyter中試，從apps開始import\n",
    "import apps.ips.config as ips_cfg\n",
    "from apps.ips.config import (\n",
    "    url_free_cycle, level_https, cacert,\n",
    "    ips_csv_path, ips_html_path,\n",
    "    dtype, dt_format,\n",
    "    ipcols, get_freeproxy_delta,\n",
    ")\n",
    "from apps.ips.utils import aio_get, write_file, csv_update, CHECK_PROXY\n",
    "###############################################################################\n",
    "###############################################################################\n",
    "\n",
    "\n",
    "async def get_freeproxy(t, once=True):\n",
    "    get_freeproxy_cnt = 0\n",
    "    while 1:\n",
    "        T = (ips_cfg.ips_cycle and os.path.isfile(ips_csv_path))*t  # 沒有 csv 或 ips_cycle 就馬上爬\n",
    "        await asyncio.sleep(T)\n",
    "        stime = time()\n",
    "        #\n",
    "        async with aiohttp.ClientSession(connector=aiohttp.TCPConnector(ssl=cacert)) as session:\n",
    "            status_code, rtext = await aio_get(session, next(url_free_cycle))\n",
    "            if status_code == 200 and rtext not in ['', None]:\n",
    "                doc = pq(rtext, parser='html')\n",
    "                trs = doc.find('table.table').eq(0).find('tr')\n",
    "                if trs.size():\n",
    "                    now = datetime.today().strftime(dt_format)\n",
    "                    elite = []\n",
    "                    for tr in trs:\n",
    "                        tds = pq(tr).find('td')\n",
    "                        level = tds.eq(4).text().strip()\n",
    "                        https = tds.eq(6).text().strip()\n",
    "                        # _________________________________\n",
    "                        if (level, https) not in level_https:\n",
    "                            continue\n",
    "                        # _________________________________\n",
    "                        tmp = {\n",
    "                            'ip': tds.eq(0).text().strip(),\n",
    "                            'port': tds.eq(1).text().strip(),\n",
    "                            'now': now,\n",
    "                            'goodcnt': 0,\n",
    "                        }\n",
    "                        elite.append(tmp)\n",
    "                    # 1 儲存每次撈取的原始頁面 #################################\n",
    "                    write_file(ips_html_path, rtext)\n",
    "                    # 2 重存csv: 讀取csv檔案，與最新爬的比較 #################################\n",
    "                    if os.path.isfile(ips_csv_path):\n",
    "                        df1 = pd.read_csv(ips_csv_path, dtype=dtype)\n",
    "                        df2 = pd.DataFrame(elite).astype(dtype)\n",
    "                        df3 = csv_update(df1, df2)\n",
    "                    else:\n",
    "                        df3 = pd.DataFrame(elite).astype(dtype)\n",
    "                    # 3 檢查代理 #################################\n",
    "                    ippts = df3[ipcols].values.tolist()  # goodcnt不傳進CHECK_PROXY\n",
    "                    print(f'\\n開始檢查proxy:共 {len(ippts)} 個')\n",
    "                    good_proxys = await CHECK_PROXY.get_good_proxys(ippts)\n",
    "                    print(f'結束檢查proxy: {time()-stime}')\n",
    "                    random.shuffle(good_proxys)\n",
    "                    # 4 存 csv #################################\n",
    "                    df3 = pd.DataFrame(good_proxys).astype(dtype)  # df.sample(frac=1)  # 亂排\n",
    "                    df3.to_csv(ips_csv_path, index=False)\n",
    "                    # 5 更新ips_cycle產生器 #################################\n",
    "                    ips_cfg.ips_cycle = itertools.cycle(good_proxys)\n",
    "                    #\n",
    "                    get_freeproxy_cnt += 1\n",
    "                    print(f'get_freeproxy 第{get_freeproxy_cnt}次更新成功:{now}')\n",
    "                    print(f'good_proxys 數量: {len(good_proxys)}\\n')\n",
    "                else:\n",
    "                    pass\n",
    "        if once:\n",
    "            break\n",
    "\n",
    "\n",
    "###############################################################################\n",
    "tasks_list = [\n",
    "    (get_freeproxy, [get_freeproxy_delta, False]),\n",
    "]\n",
    "###############################################################################\n",
    "\n",
    "\n",
    "if __name__ == '__main__':\n",
    "    try:\n",
    "        tmp = 'zmqshell' in str(type(get_ipython()))  # 在jupyter\n",
    "        print(tmp, '在jupyter')\n",
    "    except Exception:\n",
    "        loop = asyncio.get_event_loop()\n",
    "        task = loop.create_task(get_freeproxy(1))\n",
    "        loop.run_until_complete(task)\n",
    "else:\n",
    "    if 0:\n",
    "        asyncio.create_task(get_freeproxy(3, False))"
   ]
  },
  {
   "cell_type": "code",
   "execution_count": 3,
   "metadata": {},
   "outputs": [
    {
     "name": "stdout",
     "output_type": "stream",
     "text": [
      "\n",
      "開始檢查proxy:共 111 個\n",
      "結束檢查proxy: 22.18162775039673\n",
      "get_freeproxy 第1次更新成功:2021-03-31_08:42:17\n",
      "good_proxys 數量: 60\n",
      "\n"
     ]
    }
   ],
   "source": [
    "await get_freeproxy(1, True)"
   ]
  },
  {
   "cell_type": "code",
   "execution_count": 4,
   "metadata": {},
   "outputs": [
    {
     "name": "stdout",
     "output_type": "stream",
     "text": [
      "{'__module__': 'apps.book.classes.bbooks', '__qualname__': 'BOOKS', 'info_default': {'bookid': '0010770978'}, 'url_target_prefix': 'https://www.books.com.tw/products/', '__init__': <function BOOKS.__init__ at 0x7f60fedddca0>, 'update_info': <function BOOKS.update_info at 0x7f61280a7b80>, 'save_info': <function BOOKS.save_info at 0x7f61280a78b0>, '__classcell__': <cell at 0x7f612806a1f0: empty>}\n"
     ]
    }
   ],
   "source": [
    "from apps.book.classes.bbooks import BOOKS"
   ]
  },
  {
   "cell_type": "code",
   "execution_count": 5,
   "metadata": {},
   "outputs": [],
   "source": [
    "init = {}\n",
    "book = BOOKS(**init)"
   ]
  },
  {
   "cell_type": "code",
   "execution_count": 11,
   "metadata": {},
   "outputs": [
    {
     "name": "stdout",
     "output_type": "stream",
     "text": [
      "{'store': 'BOOKS', 'bookid': '0010770978', 'isbn10': None, 'isbn13': None, 'title': '刺殺騎士團長 第一部 意念顯現篇(平裝)', 'title2': None, 'author': None, 'publisher': None, 'pub_dt': None, 'lang': None, 'price_list': None, 'price_saleprice_list_ebook': None, 'price_sale_ebook': None, 'spec': None, 'intro': None, 'url_book': None, 'url_vdo': None, 'url_cover': None, 'err': None, 'create_dt': '2021-03-31_08:43:12'}\n"
     ]
    }
   ],
   "source": [
    "# await book.update_info()"
   ]
  },
  {
   "cell_type": "code",
   "execution_count": 10,
   "metadata": {},
   "outputs": [
    {
     "data": {
      "text/plain": [
       "'http://157.245.252.104:8080'"
      ]
     },
     "execution_count": 10,
     "metadata": {},
     "output_type": "execute_result"
    }
   ],
   "source": [
    "book.proxy"
   ]
  },
  {
   "cell_type": "code",
   "execution_count": null,
   "metadata": {},
   "outputs": [],
   "source": []
  }
 ],
 "metadata": {
  "kernelspec": {
   "display_name": "Python 3",
   "language": "python",
   "name": "python3"
  },
  "language_info": {
   "codemirror_mode": {
    "name": "ipython",
    "version": 3
   },
   "file_extension": ".py",
   "mimetype": "text/x-python",
   "name": "python",
   "nbconvert_exporter": "python",
   "pygments_lexer": "ipython3",
   "version": "3.9.2"
  }
 },
 "nbformat": 4,
 "nbformat_minor": 4
}
